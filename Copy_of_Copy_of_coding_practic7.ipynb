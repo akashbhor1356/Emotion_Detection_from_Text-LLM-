{
  "nbformat": 4,
  "nbformat_minor": 0,
  "metadata": {
    "colab": {
      "provenance": [],
      "collapsed_sections": [],
      "include_colab_link": true
    },
    "kernelspec": {
      "name": "python3",
      "display_name": "Python 3"
    },
    "language_info": {
      "name": "python"
    }
  },
  "cells": [
    {
      "cell_type": "markdown",
      "metadata": {
        "id": "view-in-github",
        "colab_type": "text"
      },
      "source": [
        "<a href=\"https://colab.research.google.com/github/sushant8525/Face-emotion-Recognition/blob/main/Copy_of_Copy_of_coding_practic7.ipynb\" target=\"_parent\"><img src=\"https://colab.research.google.com/assets/colab-badge.svg\" alt=\"Open In Colab\"/></a>"
      ]
    },
    {
      "cell_type": "code",
      "source": [
        "#1\n",
        "num=123456\n",
        "# reverse = str(num)[::-1]\n",
        "# print(reverse)\n",
        "\n",
        "reversed_num = 0\n",
        "while (num>0):\n",
        "    digit = num % 10\n",
        "    reversed_num = reversed_num * 10 + digit\n",
        "    num =num//10\n",
        "print(reversed_num)"
      ],
      "metadata": {
        "id": "Tvkfp8CES3IO",
        "colab": {
          "base_uri": "https://localhost:8080/"
        },
        "outputId": "b7c8a33c-6eca-4bb6-a68d-44929d7164f3"
      },
      "execution_count": 174,
      "outputs": [
        {
          "output_type": "stream",
          "name": "stdout",
          "text": [
            "654321\n"
          ]
        }
      ]
    },
    {
      "cell_type": "code",
      "execution_count": 175,
      "metadata": {
        "colab": {
          "base_uri": "https://localhost:8080/"
        },
        "id": "hTPXG2jL7z3P",
        "outputId": "60a2489f-cc67-488e-e30e-014a902eed41"
      },
      "outputs": [
        {
          "output_type": "stream",
          "name": "stdout",
          "text": [
            "True\n",
            "False\n"
          ]
        }
      ],
      "source": [
        "#2\n",
        "\n",
        "def reverse(num):\n",
        "    reversed_num = 0\n",
        "    while (num>0):\n",
        "        digit = num % 10\n",
        "        reversed_num = reversed_num * 10 + digit\n",
        "        num =num//10\n",
        "    return reversed_num \n",
        "    \n",
        "def check_palindrome(num):\n",
        "    rev_num =reverse(num)\n",
        "    if rev_num == num:\n",
        "        print('True')\n",
        "    else:\n",
        "        print('False')\n",
        "\n",
        "\n",
        "num = 121\n",
        "check_palindrome(num)\n",
        "num = 123\n",
        "check_palindrome(num)"
      ]
    },
    {
      "cell_type": "code",
      "source": [
        "#3\n",
        "a = int(input())\n",
        "x = 0\n",
        "y = 0\n",
        "while(a > 0):\n",
        "    n = a % 10\n",
        "    if(n % 2 == 0):\n",
        "        x = x + n\n",
        "    else:\n",
        "        y = y + n\n",
        "    a = a//10\n",
        "print(x, y)"
      ],
      "metadata": {
        "colab": {
          "base_uri": "https://localhost:8080/"
        },
        "id": "lguduDvS82xu",
        "outputId": "61fabe12-cd29-4281-c9ef-6a08e5325b58"
      },
      "execution_count": 176,
      "outputs": [
        {
          "output_type": "stream",
          "name": "stdout",
          "text": [
            "5\n",
            "0 5\n"
          ]
        }
      ]
    },
    {
      "cell_type": "code",
      "source": [
        "#4\n",
        "num=3\n",
        "# outer loop\n",
        "for i in range (65,65+num):\n",
        "    # inner loop\n",
        "    for j in range(65,i+1):\n",
        "        print(chr(i),end=\"\")\n",
        "    print()"
      ],
      "metadata": {
        "colab": {
          "base_uri": "https://localhost:8080/"
        },
        "id": "lgVkWkrN9oyR",
        "outputId": "27e437f4-a425-4cde-ebe3-f0f8ab0f02ad"
      },
      "execution_count": 177,
      "outputs": [
        {
          "output_type": "stream",
          "name": "stdout",
          "text": [
            "A\n",
            "BB\n",
            "CCC\n"
          ]
        }
      ]
    },
    {
      "cell_type": "code",
      "source": [
        "#5\n",
        "num=4\n",
        "# outer loop\n",
        "for i in range (65,65+num):\n",
        "  k=i\n",
        "    # inner loop\n",
        "  for j in range(65,i+1):\n",
        "      print(chr(k),end=\"\")\n",
        "      k+=1\n",
        "  print()"
      ],
      "metadata": {
        "colab": {
          "base_uri": "https://localhost:8080/"
        },
        "id": "cuIZmHJwCSRS",
        "outputId": "938157a5-2a04-4efd-dced-39e8ec3197ba"
      },
      "execution_count": 178,
      "outputs": [
        {
          "output_type": "stream",
          "name": "stdout",
          "text": [
            "A\n",
            "BC\n",
            "CDE\n",
            "DEFG\n"
          ]
        }
      ]
    },
    {
      "cell_type": "code",
      "source": [
        "trr = 'ABCDEFGHI'"
      ],
      "metadata": {
        "id": "fU78wV6hSMPT"
      },
      "execution_count": 179,
      "outputs": []
    },
    {
      "cell_type": "code",
      "source": [
        "#6\n",
        "num = 5\n",
        "bb=list(range(num))\n",
        "bb.reverse()\n",
        "for i in bb:\n",
        "  print(trr[i:num])\n"
      ],
      "metadata": {
        "id": "GJhbr_YnDEuR",
        "colab": {
          "base_uri": "https://localhost:8080/"
        },
        "outputId": "dda12f41-3d9c-4298-f358-039fbbed36b7"
      },
      "execution_count": 180,
      "outputs": [
        {
          "output_type": "stream",
          "name": "stdout",
          "text": [
            "E\n",
            "DE\n",
            "CDE\n",
            "BCDE\n",
            "ABCDE\n"
          ]
        }
      ]
    },
    {
      "cell_type": "code",
      "source": [
        "#7\n",
        "num = 4 \n",
        "for i in range(1,num+1):\n",
        "    print(i*'1')"
      ],
      "metadata": {
        "colab": {
          "base_uri": "https://localhost:8080/"
        },
        "id": "MFD4mGYCU9L4",
        "outputId": "01cc1a6a-e4a3-425e-8537-304fd837d541"
      },
      "execution_count": 181,
      "outputs": [
        {
          "output_type": "stream",
          "name": "stdout",
          "text": [
            "1\n",
            "11\n",
            "111\n",
            "1111\n"
          ]
        }
      ]
    },
    {
      "cell_type": "code",
      "source": [
        "#8\n",
        "num = 4\n",
        "for i in range(num-1):\n",
        "  if i==0:\n",
        "    print(1)\n",
        "  print(str(i+1)+(i)*str(0)+str(i+1))"
      ],
      "metadata": {
        "colab": {
          "base_uri": "https://localhost:8080/"
        },
        "id": "HruugK8hVCa9",
        "outputId": "b9aeada7-cbe9-47e2-cddd-09066477a63c"
      },
      "execution_count": 182,
      "outputs": [
        {
          "output_type": "stream",
          "name": "stdout",
          "text": [
            "1\n",
            "11\n",
            "202\n",
            "3003\n"
          ]
        }
      ]
    },
    {
      "cell_type": "code",
      "source": [
        "#9\n",
        "num = 4\n",
        "for i in range(num-1):\n",
        "  if i==0:\n",
        "    print(1)\n",
        "  print(str(1)+(i)*str(2)+str(1))"
      ],
      "metadata": {
        "colab": {
          "base_uri": "https://localhost:8080/"
        },
        "id": "vgH6qYY6VDP7",
        "outputId": "4f38228b-5e2f-4c53-efd5-4c912c1f20cd"
      },
      "execution_count": 183,
      "outputs": [
        {
          "output_type": "stream",
          "name": "stdout",
          "text": [
            "1\n",
            "11\n",
            "121\n",
            "1221\n"
          ]
        }
      ]
    },
    {
      "cell_type": "code",
      "source": [
        "#10\n",
        "num = 4\n",
        "var=list(range(num+1))\n",
        "var.reverse()\n",
        "text='123456789'\n",
        "for i in var:\n",
        "  print(text[0:i])"
      ],
      "metadata": {
        "colab": {
          "base_uri": "https://localhost:8080/"
        },
        "id": "c3CgHyD1VDR8",
        "outputId": "3889bfb9-431f-4c09-feb5-f84c01cca7ac"
      },
      "execution_count": 184,
      "outputs": [
        {
          "output_type": "stream",
          "name": "stdout",
          "text": [
            "1234\n",
            "123\n",
            "12\n",
            "1\n",
            "\n"
          ]
        }
      ]
    },
    {
      "cell_type": "code",
      "source": [
        "#11\n",
        "num = 4\n",
        "strr='12345'\n",
        "for i in range(num):\n",
        "  print(strr[i::-1])"
      ],
      "metadata": {
        "colab": {
          "base_uri": "https://localhost:8080/"
        },
        "id": "MvH9Jgf9VDUR",
        "outputId": "94334e01-b59b-4b51-ff07-3a20d623d4a8"
      },
      "execution_count": 185,
      "outputs": [
        {
          "output_type": "stream",
          "name": "stdout",
          "text": [
            "1\n",
            "21\n",
            "321\n",
            "4321\n"
          ]
        }
      ]
    },
    {
      "cell_type": "code",
      "source": [
        "#12\n",
        "num = 4 \n",
        "for i in range(num):\n",
        "    print(4*'4')"
      ],
      "metadata": {
        "colab": {
          "base_uri": "https://localhost:8080/"
        },
        "id": "jYBuyr-xVDWw",
        "outputId": "73f036be-e515-4634-c2a7-4ce076cf3278"
      },
      "execution_count": 186,
      "outputs": [
        {
          "output_type": "stream",
          "name": "stdout",
          "text": [
            "4444\n",
            "4444\n",
            "4444\n",
            "4444\n"
          ]
        }
      ]
    },
    {
      "cell_type": "code",
      "source": [
        "#13\n",
        "num = 4\n",
        "#outer loop\n",
        "for i in range(1,num+1):\n",
        "    #inner loop\n",
        "    for j in range(1,i+1):\n",
        "        print(i,end=\"\")\n",
        "    print()"
      ],
      "metadata": {
        "colab": {
          "base_uri": "https://localhost:8080/"
        },
        "id": "PBBSFSxQVDZG",
        "outputId": "9077666d-a24e-40d1-8a6a-1fa84f1aeb94"
      },
      "execution_count": 187,
      "outputs": [
        {
          "output_type": "stream",
          "name": "stdout",
          "text": [
            "1\n",
            "22\n",
            "333\n",
            "4444\n"
          ]
        }
      ]
    },
    {
      "cell_type": "code",
      "source": [
        "#14\n",
        "num = 4\n",
        "#outer loop\n",
        "for i in range(65,65+num):\n",
        "    #inner loop\n",
        "    for j in range(65,i+1):\n",
        "        print(chr(j),end=\"\")\n",
        "    print()"
      ],
      "metadata": {
        "colab": {
          "base_uri": "https://localhost:8080/"
        },
        "id": "C1aPQnDdVDco",
        "outputId": "ce33420d-497f-4fc4-d8c7-fe3a22e7dd2d"
      },
      "execution_count": 188,
      "outputs": [
        {
          "output_type": "stream",
          "name": "stdout",
          "text": [
            "A\n",
            "AB\n",
            "ABC\n",
            "ABCD\n"
          ]
        }
      ]
    },
    {
      "cell_type": "code",
      "source": [
        "#15\n",
        "num = 4\n",
        "for i in range(4):\n",
        "    print('ABCD')"
      ],
      "metadata": {
        "colab": {
          "base_uri": "https://localhost:8080/"
        },
        "id": "FyW_UsqMcaKt",
        "outputId": "77503b92-d275-40c5-eaa2-0fac7aba3fb0"
      },
      "execution_count": 189,
      "outputs": [
        {
          "output_type": "stream",
          "name": "stdout",
          "text": [
            "ABCD\n",
            "ABCD\n",
            "ABCD\n",
            "ABCD\n"
          ]
        }
      ]
    },
    {
      "cell_type": "code",
      "source": [
        "#16\n",
        "num = 4 \n",
        "text='ABCDEFGHIKLMNOPQRSTUVWXYZ'\n",
        "for i in range(num):\n",
        "  print(text[i:num+i])"
      ],
      "metadata": {
        "colab": {
          "base_uri": "https://localhost:8080/"
        },
        "id": "6ptHuVEScaND",
        "outputId": "107e4a6e-a455-48d4-f6d3-5fd80b667641"
      },
      "execution_count": 190,
      "outputs": [
        {
          "output_type": "stream",
          "name": "stdout",
          "text": [
            "ABCD\n",
            "BCDE\n",
            "CDEF\n",
            "DEFG\n"
          ]
        }
      ]
    },
    {
      "cell_type": "code",
      "source": [
        "#17\n",
        "num = 4 \n",
        "for i in range(1,num+1):\n",
        "    print(4*str(i))"
      ],
      "metadata": {
        "colab": {
          "base_uri": "https://localhost:8080/"
        },
        "id": "JBV5N0tdcaPQ",
        "outputId": "709ea001-6813-4c34-98b5-6f7b328aa018"
      },
      "execution_count": 191,
      "outputs": [
        {
          "output_type": "stream",
          "name": "stdout",
          "text": [
            "1111\n",
            "2222\n",
            "3333\n",
            "4444\n"
          ]
        }
      ]
    },
    {
      "cell_type": "code",
      "source": [
        "#18\n",
        "num = 4 \n",
        "for i in range(1,num+1):\n",
        "    print('4321')"
      ],
      "metadata": {
        "colab": {
          "base_uri": "https://localhost:8080/"
        },
        "id": "bmy18fqkcaR3",
        "outputId": "c0428943-3927-4dfc-a74c-a2c4ddfca30b"
      },
      "execution_count": 192,
      "outputs": [
        {
          "output_type": "stream",
          "name": "stdout",
          "text": [
            "4321\n",
            "4321\n",
            "4321\n",
            "4321\n"
          ]
        }
      ]
    },
    {
      "cell_type": "code",
      "source": [
        "#19\n",
        "num = 4 \n",
        "text='01234567890'\n",
        "for i in range(1,num+1):\n",
        "  print(text[i:i+i])\n"
      ],
      "metadata": {
        "colab": {
          "base_uri": "https://localhost:8080/"
        },
        "id": "Kn49dFPZcaUU",
        "outputId": "61d216df-6501-413e-af3f-4fffe1ca81c0"
      },
      "execution_count": 193,
      "outputs": [
        {
          "output_type": "stream",
          "name": "stdout",
          "text": [
            "1\n",
            "23\n",
            "345\n",
            "4567\n"
          ]
        }
      ]
    },
    {
      "cell_type": "code",
      "source": [
        "#20\n",
        "num = 4 \n",
        "text_list=['1','2','3','4','5','6','7','8','9','10']\n",
        "k=0\n",
        "#outer loop\n",
        "for i in range(num):\n",
        "    # inner loop \n",
        "    for j in range(0,i+1):\n",
        "        char = text_list[k]\n",
        "        print(char,end=\"\")\n",
        "        k += 1\n",
        "    print()"
      ],
      "metadata": {
        "colab": {
          "base_uri": "https://localhost:8080/"
        },
        "id": "zZkm1dlpcaWN",
        "outputId": "b33b3fad-40af-4735-8474-468133835d1d"
      },
      "execution_count": 194,
      "outputs": [
        {
          "output_type": "stream",
          "name": "stdout",
          "text": [
            "1\n",
            "23\n",
            "456\n",
            "78910\n"
          ]
        }
      ]
    },
    {
      "cell_type": "code",
      "source": [
        "#21\n",
        "n=5\n",
        "for i in range(1,n+1):\n",
        "  num=1\n",
        "  for j in range(n,0,-1):\n",
        "    if j>i:\n",
        "      print(\" \", end=\"\")\n",
        "    else:\n",
        "      print(num, end=\"\")\n",
        "      num=num+1\n",
        "  print(\"\")"
      ],
      "metadata": {
        "colab": {
          "base_uri": "https://localhost:8080/"
        },
        "id": "FG6qSY5_caYb",
        "outputId": "b708044e-755b-4ee7-f148-8a5ce0424302"
      },
      "execution_count": 195,
      "outputs": [
        {
          "output_type": "stream",
          "name": "stdout",
          "text": [
            "    1\n",
            "   12\n",
            "  123\n",
            " 1234\n",
            "12345\n"
          ]
        }
      ]
    },
    {
      "cell_type": "code",
      "source": [
        "#22\n",
        "num=4\n",
        "num=list(range(num+1))\n",
        "num.reverse()\n",
        "for i in num:\n",
        "  if i ==0:\n",
        "    print()\n",
        "  elif i==1:\n",
        "    print(1)\n",
        "  else:\n",
        "    print(str(i)+str(i)*(i-2)+str(i))"
      ],
      "metadata": {
        "colab": {
          "base_uri": "https://localhost:8080/"
        },
        "id": "Eh2rKXx4caa7",
        "outputId": "a1d45384-5ae4-49d6-95e8-002f47e677ec"
      },
      "execution_count": 196,
      "outputs": [
        {
          "output_type": "stream",
          "name": "stdout",
          "text": [
            "4444\n",
            "333\n",
            "22\n",
            "1\n",
            "\n"
          ]
        }
      ]
    },
    {
      "cell_type": "code",
      "source": [
        "#23\n",
        "n = 5\n",
        "\n",
        "# printing pyramid\n",
        "for i in range(n):\n",
        "   for j in range(n-i-1):\n",
        "      # print spaces\n",
        "      print(\"\", end=\" \")\n",
        "   for j in range(2*i+1):\n",
        "      # print stars\n",
        "      print(\"*\", end=\"\")\n",
        "   print()\n",
        "\n",
        "# printing downward pyramid\n",
        "for i in range(n-1):\n",
        "   for j in range(i+1):\n",
        "      # print spaces\n",
        "      print(\"\", end=\" \")\n",
        "   for j in range(2*(n-i-1)-1):\n",
        "      # print stars\n",
        "      print(\"*\", end=\"\")\n",
        "   print()"
      ],
      "metadata": {
        "colab": {
          "base_uri": "https://localhost:8080/"
        },
        "id": "VVvTsRLGcacX",
        "outputId": "c1a2dbb0-11bb-492c-d64b-3e1777bd3325"
      },
      "execution_count": 197,
      "outputs": [
        {
          "output_type": "stream",
          "name": "stdout",
          "text": [
            "    *\n",
            "   ***\n",
            "  *****\n",
            " *******\n",
            "*********\n",
            " *******\n",
            "  *****\n",
            "   ***\n",
            "    *\n"
          ]
        }
      ]
    },
    {
      "cell_type": "code",
      "source": [
        "#24\n",
        "n=5\n",
        "k = 0\n",
        "count=0\n",
        "count1=0\n",
        "\n",
        "for i in range(1, n+1):\n",
        "    for j in range(1, (n-i)+1):\n",
        "        print(\" \", end=\"\")\n",
        "        count+=1\n",
        "    \n",
        "    while k!=((2*i)-1):\n",
        "        if count<=n-1:\n",
        "            print(i+k, end=\"\")\n",
        "            count+=1\n",
        "        else:\n",
        "            count1+=1\n",
        "            print(i+k-(2*count1), end=\"\")\n",
        "        k += 1\n",
        "    \n",
        "    count1 = count = k = 0\n",
        "    print()\n"
      ],
      "metadata": {
        "colab": {
          "base_uri": "https://localhost:8080/"
        },
        "id": "X5_n_cYB3G1L",
        "outputId": "dc8d4dab-b83d-4f9f-81d1-4d3d76c3e613"
      },
      "execution_count": 198,
      "outputs": [
        {
          "output_type": "stream",
          "name": "stdout",
          "text": [
            "    1\n",
            "   232\n",
            "  34543\n",
            " 4567654\n",
            "567898765\n"
          ]
        }
      ]
    },
    {
      "cell_type": "code",
      "source": [
        "#25\n",
        "n=5\n",
        "for i in range(n):\n",
        "    for k in range(1,n-i):\n",
        "        print(end=\" \")\n",
        "    for j in range(1,i+2):\n",
        "        print(\"*\", end=\"\")\n",
        "    for l in range(i,0,-1):\n",
        "        print(\"*\", end=\"\")\n",
        "    print()"
      ],
      "metadata": {
        "colab": {
          "base_uri": "https://localhost:8080/"
        },
        "id": "fiBYpaml3G3k",
        "outputId": "f8858ac3-1d6d-4dcd-b314-13c3f309c819"
      },
      "execution_count": 199,
      "outputs": [
        {
          "output_type": "stream",
          "name": "stdout",
          "text": [
            "    *\n",
            "   ***\n",
            "  *****\n",
            " *******\n",
            "*********\n"
          ]
        }
      ]
    },
    {
      "cell_type": "code",
      "source": [
        "#26\n",
        "n=5\n",
        "for i in range(n):\n",
        "    count = 0\n",
        "    for k in range(1,n-i):\n",
        "        print(end=\" \")\n",
        "    for j in range(i+1):\n",
        "        count = count + 1\n",
        "    num = count\n",
        "    for j in range(i+1):\n",
        "        print(num, end=\"\")\n",
        "        num = num - 1\n",
        "    for l in range(2,i+2):\n",
        "        print(l, end=\"\")\n",
        "    print()"
      ],
      "metadata": {
        "colab": {
          "base_uri": "https://localhost:8080/"
        },
        "id": "GUenCaXM3G6C",
        "outputId": "3297d40f-1dd1-4f1f-de85-d495aa0bc181"
      },
      "execution_count": 200,
      "outputs": [
        {
          "output_type": "stream",
          "name": "stdout",
          "text": [
            "    1\n",
            "   212\n",
            "  32123\n",
            " 4321234\n",
            "543212345\n"
          ]
        }
      ]
    },
    {
      "cell_type": "code",
      "source": [
        "#27\n",
        "n= 5\n",
        "for i in range(0,int(n/2)+1):\n",
        "  for a2 in range(i,0,-1):\n",
        "    print(\" \", end = \"\")\n",
        "  for j in range(0, i + 1):\n",
        "    if j>=0:\n",
        "      print(\"*\", end=' ')\n",
        "  print(\"\")\n",
        "\n",
        "for i in range(int(n/2)+1, 0, -1):\n",
        "    for a2 in range(i-1,1,-1):\n",
        "        print(\" \", end='')\n",
        "    for j in range(i,1,-1):\n",
        "      if j>=0:\n",
        "        print(\"*\", end=' ')\n",
        "    print(\"\")"
      ],
      "metadata": {
        "colab": {
          "base_uri": "https://localhost:8080/"
        },
        "id": "N3SQOcF93G8h",
        "outputId": "1eb8dd6b-3cf3-4e53-ae37-11e6a110a933"
      },
      "execution_count": 201,
      "outputs": [
        {
          "output_type": "stream",
          "name": "stdout",
          "text": [
            "* \n",
            " * * \n",
            "  * * * \n",
            " * * \n",
            "* \n",
            "\n"
          ]
        }
      ]
    },
    {
      "cell_type": "code",
      "source": [
        "#28\n",
        "row=3\n",
        "col=3\n",
        "arr1 = [[1, 2, 3], [4, 5, 6],[7, 8, 9]]\n",
        "arrray=[]\n",
        "\n",
        "for i in range(0,row):\n",
        "  for k in range(col-1,i-1,-1):\n",
        "    arrray.append(arr1[i])\n",
        "for rows in arrray:\n",
        "  for columns in rows:\n",
        "    print(columns,end=\" \")\n",
        "  print()"
      ],
      "metadata": {
        "colab": {
          "base_uri": "https://localhost:8080/"
        },
        "id": "JzWqmXBc3G-m",
        "outputId": "2d993122-20e4-403a-f4aa-0616aa96839b"
      },
      "execution_count": 202,
      "outputs": [
        {
          "output_type": "stream",
          "name": "stdout",
          "text": [
            "1 2 3 \n",
            "1 2 3 \n",
            "1 2 3 \n",
            "4 5 6 \n",
            "4 5 6 \n",
            "7 8 9 \n"
          ]
        }
      ]
    },
    {
      "cell_type": "code",
      "source": [
        "#29\n",
        "n=5\n",
        "for i in range(1,n+1):\n",
        "  for j in range(n,0,-1):      \n",
        "      if i==j:\n",
        "        print('*',end=\"\")\n",
        "      else:\n",
        "        print(str(j),end=\"\")\n",
        "  print(\"\")"
      ],
      "metadata": {
        "colab": {
          "base_uri": "https://localhost:8080/"
        },
        "id": "VLs4NEpn3HBB",
        "outputId": "0b78c220-7fc5-4755-c6c1-86cb561d1034"
      },
      "execution_count": 203,
      "outputs": [
        {
          "output_type": "stream",
          "name": "stdout",
          "text": [
            "5432*\n",
            "543*1\n",
            "54*21\n",
            "5*321\n",
            "*4321\n"
          ]
        }
      ]
    },
    {
      "cell_type": "code",
      "source": [
        "#30\n",
        "n=3\n",
        "def zero_stars_pattern(n):\n",
        "  for i in range(n+1,1,-1):\n",
        "    for j in range(n+1,0,-1):      \n",
        "        if i==j:\n",
        "          print('*',end=\"\")\n",
        "        elif j==1:\n",
        "          print('*',end=\"\")\n",
        "        else:\n",
        "          print(j*0,end=\"\")\n",
        "    # print(\"\")\n",
        "    for k in range(2,n+2):      \n",
        "        if i==k:\n",
        "          print('*',end=\"\")\n",
        "        else:\n",
        "          print(i*0,end=\"\")\n",
        "    print(\"\")\n",
        "    \n",
        "for n in range(3,5+1): \n",
        "  zero_stars_pattern(n)"
      ],
      "metadata": {
        "colab": {
          "base_uri": "https://localhost:8080/"
        },
        "id": "Yy2mjDQL3HDW",
        "outputId": "d3ec1fd4-d692-4d1d-9fdb-1736419c97d9"
      },
      "execution_count": 204,
      "outputs": [
        {
          "output_type": "stream",
          "name": "stdout",
          "text": [
            "*00*00*\n",
            "0*0*0*0\n",
            "00***00\n",
            "*000*000*\n",
            "0*00*00*0\n",
            "00*0*0*00\n",
            "000***000\n",
            "*0000*0000*\n",
            "0*000*000*0\n",
            "00*00*00*00\n",
            "000*0*0*000\n",
            "0000***0000\n"
          ]
        }
      ]
    },
    {
      "cell_type": "code",
      "source": [
        "#31\n",
        "n=5\n",
        "for i in range(n,0,-1):\n",
        "  for j in range(1,n+1):\n",
        "    if j<i:\n",
        "      print(\" \",end=\"\")\n",
        "    else:\n",
        "      print(\"*\",end=\"\")\n",
        "  print(\"\")"
      ],
      "metadata": {
        "colab": {
          "base_uri": "https://localhost:8080/"
        },
        "id": "hOc8wDJY3HFz",
        "outputId": "bdce7ff7-8251-44a4-8b55-6178d9537c13"
      },
      "execution_count": 205,
      "outputs": [
        {
          "output_type": "stream",
          "name": "stdout",
          "text": [
            "    *\n",
            "   **\n",
            "  ***\n",
            " ****\n",
            "*****\n"
          ]
        }
      ]
    },
    {
      "cell_type": "code",
      "source": [
        "#32\n",
        "n=5\n",
        "for i in range(n):\n",
        "    for k in range(1,n-i):\n",
        "        print(end=\" \")\n",
        "    for j in range(1,i+2):\n",
        "        print(j, end=\"\")\n",
        "    for l in range(i,0,-1):\n",
        "        print(l, end=\"\")\n",
        "    print()"
      ],
      "metadata": {
        "colab": {
          "base_uri": "https://localhost:8080/"
        },
        "id": "iYBFPwCy3HIY",
        "outputId": "130889eb-e71b-4932-cb77-54fca6ae4d03"
      },
      "execution_count": 206,
      "outputs": [
        {
          "output_type": "stream",
          "name": "stdout",
          "text": [
            "    1\n",
            "   121\n",
            "  12321\n",
            " 1234321\n",
            "123454321\n"
          ]
        }
      ]
    },
    {
      "cell_type": "code",
      "source": [
        "#33\n",
        "n=5\n",
        "for i in range(1,n+1):\n",
        "  for j in range(1,i+1):\n",
        "    print(j,end=\"\")\n",
        "  for k in range(n,i,-1):\n",
        "    print(\" \",end=\"\")\n",
        "  for k in range(n,i,-1):\n",
        "    print(\" \",end=\"\")\n",
        "  for j in range(i,0,-1):\n",
        "    print(j,end=\"\")\n",
        "  print()"
      ],
      "metadata": {
        "colab": {
          "base_uri": "https://localhost:8080/"
        },
        "id": "Bh7onv683HK7",
        "outputId": "ed173388-2f79-4c2f-dc04-42db025f7378"
      },
      "execution_count": 207,
      "outputs": [
        {
          "output_type": "stream",
          "name": "stdout",
          "text": [
            "1        1\n",
            "12      21\n",
            "123    321\n",
            "1234  4321\n",
            "1234554321\n"
          ]
        }
      ]
    },
    {
      "cell_type": "code",
      "source": [
        "#34\n",
        "\n",
        "\n",
        "n=4\n",
        "for i in range(1,n+1):\n",
        "  for j in range(n,0,-1):\n",
        "    if j>i:\n",
        "      print(\" \", end=\"\")\n",
        "    else:\n",
        "      print(j, end=\"\")\n",
        "  print(\"\")"
      ],
      "metadata": {
        "colab": {
          "base_uri": "https://localhost:8080/"
        },
        "id": "_W00cK9Icafl",
        "outputId": "d19de984-6dba-4dab-87e0-6e410f6fdb5e"
      },
      "execution_count": 208,
      "outputs": [
        {
          "output_type": "stream",
          "name": "stdout",
          "text": [
            "   1\n",
            "  21\n",
            " 321\n",
            "4321\n"
          ]
        }
      ]
    },
    {
      "cell_type": "code",
      "source": [
        "#35\n",
        "n=5\n",
        "lst=[1,0,1,0,1,0,1,0]\n",
        "for i in lst:\n",
        "  if i>=0:\n",
        "    print(str(i)*n)\n",
        "    n=n-1"
      ],
      "metadata": {
        "colab": {
          "base_uri": "https://localhost:8080/"
        },
        "id": "ZE7iskCtFM3y",
        "outputId": "3eb4ee27-2f59-4af7-cb6f-172df375fb06"
      },
      "execution_count": 209,
      "outputs": [
        {
          "output_type": "stream",
          "name": "stdout",
          "text": [
            "11111\n",
            "0000\n",
            "111\n",
            "00\n",
            "1\n",
            "\n",
            "\n",
            "\n"
          ]
        }
      ]
    },
    {
      "cell_type": "code",
      "source": [
        "#36\n",
        "n=5\n",
        "for i in range(n):\n",
        "  for j in range(i):\n",
        "    print(\" \",end=\"\")\n",
        "  for k in range(i+1,n+1):\n",
        "    print(k,end=\"\")\n",
        "  print(\"\")\n",
        "for i in range(n-1,0,-1):\n",
        "  for m in range(i-1):\n",
        "    print(\" \",end=\"\")\n",
        "  for l in range(i,n+1):\n",
        "    print(l,end=\"\")\n",
        "  print(\"\")  "
      ],
      "metadata": {
        "colab": {
          "base_uri": "https://localhost:8080/"
        },
        "id": "A-zIAUeWFM6e",
        "outputId": "fa30c7f1-93aa-4acf-b5e2-d91716e41796"
      },
      "execution_count": 210,
      "outputs": [
        {
          "output_type": "stream",
          "name": "stdout",
          "text": [
            "12345\n",
            " 2345\n",
            "  345\n",
            "   45\n",
            "    5\n",
            "   45\n",
            "  345\n",
            " 2345\n",
            "12345\n"
          ]
        }
      ]
    },
    {
      "cell_type": "code",
      "source": [
        "#37\n",
        "n=5\n",
        "m=1\n",
        "\n",
        "for i in range(1,n+1):\n",
        "  for j in range(m,m+n):\n",
        "    print(j,end=\" \")\n",
        "  print()\n",
        "  if i==((n+1)//2):\n",
        "    if (n%2)!=0:\n",
        "      m=n*(n-2)+1\n",
        "    else:\n",
        "      m=n*(n-1)+1\n",
        "  elif i>((n+1)//2):\n",
        "    m=m-2*n\n",
        "  else :\n",
        "    m=m+2*n"
      ],
      "metadata": {
        "colab": {
          "base_uri": "https://localhost:8080/"
        },
        "id": "5eXJCwggFM8-",
        "outputId": "1e6aeb9b-5a26-44ad-9f41-e31c1ce7210d"
      },
      "execution_count": 211,
      "outputs": [
        {
          "output_type": "stream",
          "name": "stdout",
          "text": [
            "1 2 3 4 5 \n",
            "11 12 13 14 15 \n",
            "21 22 23 24 25 \n",
            "16 17 18 19 20 \n",
            "6 7 8 9 10 \n"
          ]
        }
      ]
    },
    {
      "cell_type": "code",
      "source": [
        "#38\n",
        "def printPattern(n):\n",
        " \n",
        "    arraySize = n * 2 - 1;\n",
        "    result = [[0 for x in range(arraySize)]\n",
        "                 for y in range(arraySize)];\n",
        "         \n",
        "    # Fill the values\n",
        "    for i in range(arraySize):\n",
        "        for j in range(arraySize):\n",
        "            if(abs(i - (arraySize // 2)) >\n",
        "               abs(j - (arraySize // 2))):\n",
        "                result[i][j] = abs(i - (arraySize // 2)) + 1;\n",
        "            else:\n",
        "                result[i][j] = abs(j - (arraySize // 2)) + 1;\n",
        "             \n",
        "    # Print the array\n",
        "    for i in range(arraySize):\n",
        "        for j in range(arraySize):\n",
        "            print(result[i][j], end = \"\");\n",
        "        print(\"\");\n",
        "\n",
        "n=5\n",
        "printPattern(5)"
      ],
      "metadata": {
        "colab": {
          "base_uri": "https://localhost:8080/"
        },
        "id": "aLSQdvpfFM_b",
        "outputId": "20f2e173-6b56-458d-ecf8-0f7051650cb1"
      },
      "execution_count": 212,
      "outputs": [
        {
          "output_type": "stream",
          "name": "stdout",
          "text": [
            "555555555\n",
            "544444445\n",
            "543333345\n",
            "543222345\n",
            "543212345\n",
            "543222345\n",
            "543333345\n",
            "544444445\n",
            "555555555\n"
          ]
        }
      ]
    },
    {
      "cell_type": "code",
      "source": [
        "#39\n",
        "n=5\n",
        "for i in range(1,n):\n",
        "  for j in range(1,i+1):\n",
        "    if j==1 :\n",
        "      print(\"*\",end=\"\")\n",
        "    elif j==(i):\n",
        "      print(\"*\",end=\"\")\n",
        "    else :\n",
        "      print(\" \",end=\"\")\n",
        "  print(\"\")\n",
        "print(\"*\"*n,end=\"\")\n"
      ],
      "metadata": {
        "colab": {
          "base_uri": "https://localhost:8080/"
        },
        "id": "HaqFMBtYFNB0",
        "outputId": "2846b461-ce7c-4485-f5f2-07aa5ec5ab5a"
      },
      "execution_count": 213,
      "outputs": [
        {
          "output_type": "stream",
          "name": "stdout",
          "text": [
            "*\n",
            "**\n",
            "* *\n",
            "*  *\n",
            "*****"
          ]
        }
      ]
    },
    {
      "cell_type": "code",
      "source": [
        "#40\n",
        "n=5\n",
        "\n",
        "for i in range(n-1):\n",
        "    for k in range(1,n-i):\n",
        "        print(end=\" \")\n",
        "    for j in range(i,i+1):\n",
        "        print(\"*\", end=\"\")\n",
        "    for k in range(1,i+1):\n",
        "        print(\" \",end=\"\")\n",
        "    \n",
        "\n",
        "    for k in range(1,i):\n",
        "        print(\" \",end=\"\")\n",
        "    for l in range(i-1,i):\n",
        "      if i!=0:\n",
        "        print(\"*\", end=\"\")\n",
        "    print(\"\")\n",
        "print(\"*\"*((n*2)-1))"
      ],
      "metadata": {
        "colab": {
          "base_uri": "https://localhost:8080/"
        },
        "id": "h_5V4cnuFNEa",
        "outputId": "846c81ad-b0b8-4dcd-ee6c-bdb569a22b50"
      },
      "execution_count": 214,
      "outputs": [
        {
          "output_type": "stream",
          "name": "stdout",
          "text": [
            "    *\n",
            "   * *\n",
            "  *   *\n",
            " *     *\n",
            "*********\n"
          ]
        }
      ]
    },
    {
      "cell_type": "code",
      "source": [
        "#41\n",
        "n=5\n",
        "for i in range(n):\n",
        "  for j in range(i):\n",
        "    print(\" \",end=\"\")\n",
        "  for k in range(n,i,-1):\n",
        "    print(\"*\",end=\"\")\n",
        "  for k in range(n-1,i,-1):\n",
        "    print(\"*\",end=\"\")\n",
        "  print(\"\")"
      ],
      "metadata": {
        "colab": {
          "base_uri": "https://localhost:8080/"
        },
        "id": "N290n1o0FNHF",
        "outputId": "c97f4c2b-d700-4d2a-9688-a85eafe58290"
      },
      "execution_count": 215,
      "outputs": [
        {
          "output_type": "stream",
          "name": "stdout",
          "text": [
            "*********\n",
            " *******\n",
            "  *****\n",
            "   ***\n",
            "    *\n"
          ]
        }
      ]
    },
    {
      "cell_type": "code",
      "source": [
        "#42\n",
        "n = 5\n",
        "for i in range(1,n+1): #from row 1 to 5\n",
        "    for j in range(n-i):\n",
        "        print(\" \", end = \"\")\n",
        "    for k in range((i*2)-1):\n",
        "      if k==0 or k== ((i*2)-2):\n",
        "        print(\"*\",end=\"\")\n",
        "      else:\n",
        "        print(\" \", end = \"\")\n",
        "    print()\n",
        "\n",
        "for i in range(n + 1, n + 5): #from row 6 to 9\n",
        "    for j in range(i - n):\n",
        "        print(\" \", end = \"\")\n",
        "    for k in range((n+5 - i)*2 - 1):\n",
        "      if k==0 or k==((n+5 - i)*2 - 2):\n",
        "        print(\"*\", end = \"\")\n",
        "      else:\n",
        "        print(\" \", end = \"\")\n",
        "\n",
        "    print()\n"
      ],
      "metadata": {
        "colab": {
          "base_uri": "https://localhost:8080/"
        },
        "id": "keET66RMFNJT",
        "outputId": "301dfddb-eb97-4578-cf1b-b20e28bb15d8"
      },
      "execution_count": 216,
      "outputs": [
        {
          "output_type": "stream",
          "name": "stdout",
          "text": [
            "    *\n",
            "   * *\n",
            "  *   *\n",
            " *     *\n",
            "*       *\n",
            " *     *\n",
            "  *   *\n",
            "   * *\n",
            "    *\n"
          ]
        }
      ]
    },
    {
      "cell_type": "code",
      "source": [
        "#43\n",
        "rows = 5\n",
        "for i in range(rows, 0, -1):\n",
        "  for j in range(rows, i, -1):\n",
        "    print(' ',end=\"\")\n",
        "  for j in range(1, i + i):\n",
        "    print(\"*\", end=\"\")\n",
        "  print(\"\")\n",
        "\n",
        "for i in range(1,rows):\n",
        "  for j in range(rows-1,i,-1):\n",
        "    print(' ',end=\"\")\n",
        "  for k in range(i+i+2,1,-1):\n",
        "    print(\"*\",end=\"\")\n",
        "  print(\"\")"
      ],
      "metadata": {
        "colab": {
          "base_uri": "https://localhost:8080/"
        },
        "id": "cdth-AuuFNL2",
        "outputId": "fbee2f2c-c43b-4ff7-909f-8465c8295660"
      },
      "execution_count": 217,
      "outputs": [
        {
          "output_type": "stream",
          "name": "stdout",
          "text": [
            "*********\n",
            " *******\n",
            "  *****\n",
            "   ***\n",
            "    *\n",
            "   ***\n",
            "  *****\n",
            " *******\n",
            "*********\n"
          ]
        }
      ]
    },
    {
      "cell_type": "code",
      "source": [
        "#44\n",
        "rows = 5\n",
        "i = 1\n",
        "while i <= rows:\n",
        "    j = i\n",
        "    while j < rows:\n",
        "        # display space\n",
        "        print(' ', end='')\n",
        "        j += 1\n",
        "    k = 1\n",
        "    while k <= i:\n",
        "        print('*', end='')\n",
        "        k += 1\n",
        "    print()\n",
        "    i += 1\n",
        "\n",
        "i = rows\n",
        "while i >= 1:\n",
        "    j = i\n",
        "    while j <= rows:\n",
        "        print(' ', end='')\n",
        "        j += 1\n",
        "    k = 1\n",
        "    while k < i:\n",
        "        print('*', end='')\n",
        "        k += 1\n",
        "    print('')\n",
        "    i -= 1"
      ],
      "metadata": {
        "colab": {
          "base_uri": "https://localhost:8080/"
        },
        "id": "3pwYOR2WFNOa",
        "outputId": "41fd98fa-9d95-4d46-a885-dcfb37e87e5b"
      },
      "execution_count": 218,
      "outputs": [
        {
          "output_type": "stream",
          "name": "stdout",
          "text": [
            "    *\n",
            "   **\n",
            "  ***\n",
            " ****\n",
            "*****\n",
            " ****\n",
            "  ***\n",
            "   **\n",
            "    *\n",
            "     \n"
          ]
        }
      ]
    },
    {
      "cell_type": "code",
      "source": [
        "#45\n",
        "n=5\n",
        "for i in range(1,n+1):\n",
        "  for j in range(1,n-i+1):\n",
        "    print(end=' ')\n",
        "  for k in range(1,(2*i)):\n",
        "    print(k,end=\"\")\n",
        "  print()\n",
        "\n",
        "for i in range(n-1,0,-1):\n",
        "  for j in range(1,(n-i+1)):\n",
        "    print(end=' ')\n",
        "  for k in range(1,(2*i)):\n",
        "    print(k,end=\"\")\n",
        "  print()"
      ],
      "metadata": {
        "colab": {
          "base_uri": "https://localhost:8080/"
        },
        "id": "-kBjUC9pFNRC",
        "outputId": "78d74432-13e5-4875-fb2c-2c0c2a6a1902"
      },
      "execution_count": 219,
      "outputs": [
        {
          "output_type": "stream",
          "name": "stdout",
          "text": [
            "    1\n",
            "   123\n",
            "  12345\n",
            " 1234567\n",
            "123456789\n",
            " 1234567\n",
            "  12345\n",
            "   123\n",
            "    1\n"
          ]
        }
      ]
    },
    {
      "cell_type": "code",
      "source": [
        "#46\n",
        "n=5\n",
        "trr='ABCDEFGHIKLMNOPQRSTUVWXYZ'\n",
        "for i in range(1,n+1):\n",
        "  for j in range(n+1,i,-1):\n",
        "    print(\" \",end=\"\")\n",
        "  print(trr[0:(i*2)-1])"
      ],
      "metadata": {
        "colab": {
          "base_uri": "https://localhost:8080/"
        },
        "id": "GZn-Eai7FNTr",
        "outputId": "ff203ad5-dae9-496e-88c8-9c6b761323ed"
      },
      "execution_count": 220,
      "outputs": [
        {
          "output_type": "stream",
          "name": "stdout",
          "text": [
            "     A\n",
            "    ABC\n",
            "   ABCDE\n",
            "  ABCDEFG\n",
            " ABCDEFGHI\n"
          ]
        }
      ]
    },
    {
      "cell_type": "code",
      "source": [
        "#47\n",
        "n = 5\n",
        "alpha = 65\n",
        "num = 0\n",
        "\n",
        "for i in range(n):\n",
        "    for j in range(n - i - 1):\n",
        "        print(\" \", end=\"\")\n",
        "    for k in range(2 * i + 1):\n",
        "        if i == 0 or i == n - 1:\n",
        "            print(chr(alpha + num), end=\"\")\n",
        "            num += 1\n",
        "        else:\n",
        "            if k == 0 or k == 2 * i:\n",
        "                print(chr(alpha + num), end=\"\")\n",
        "                num += 1\n",
        "            else:\n",
        "                print(\" \", end=\"\")\n",
        "    print()"
      ],
      "metadata": {
        "colab": {
          "base_uri": "https://localhost:8080/"
        },
        "id": "HYtuXXqHFNWI",
        "outputId": "5cd244d8-ac34-4faa-cda6-f3c43194aaa3"
      },
      "execution_count": 221,
      "outputs": [
        {
          "output_type": "stream",
          "name": "stdout",
          "text": [
            "    A\n",
            "   B C\n",
            "  D   E\n",
            " F     G\n",
            "HIJKLMNOP\n"
          ]
        }
      ]
    },
    {
      "cell_type": "code",
      "source": [
        "#48\n",
        "n = 5\n",
        "for a1 in range(1,n+1): #from row 1 to 5\n",
        "    for a2 in range(n-a1):\n",
        "        print(\" \", end = \"\")\n",
        "    for a3 in range((a1*2)-1):\n",
        "      if a3==0:\n",
        "        print(\"1\",end=\"\")\n",
        "      elif a3== ((a1*2)-2):\n",
        "        print(\"2\",end=\"\")\n",
        "      else:\n",
        "        print(\" \", end = \"\")\n",
        "    print()\n",
        "\n",
        "for a1 in range(n + 1, n + 5): #from row 6 to 9\n",
        "    for a2 in range(a1 - n):\n",
        "        print(\" \", end = \"\")\n",
        "    for a3 in range((n+5 - a1)*2 - 1):\n",
        "      if a3==0:\n",
        "        print(\"1\", end = \"\")\n",
        "      elif a3==((n+5 - a1)*2 - 2):\n",
        "        print(\"2\",end=\"\")\n",
        "      else:\n",
        "        print(\" \", end = \"\")\n",
        "\n",
        "    print()"
      ],
      "metadata": {
        "colab": {
          "base_uri": "https://localhost:8080/"
        },
        "id": "FYPOFz82FNYj",
        "outputId": "c9546ff1-38d7-4f03-f575-1d90a4bc0cb7"
      },
      "execution_count": 222,
      "outputs": [
        {
          "output_type": "stream",
          "name": "stdout",
          "text": [
            "    1\n",
            "   1 2\n",
            "  1   2\n",
            " 1     2\n",
            "1       2\n",
            " 1     2\n",
            "  1   2\n",
            "   1 2\n",
            "    1\n"
          ]
        }
      ]
    },
    {
      "cell_type": "code",
      "source": [
        "#49\n",
        "n=5\n",
        "for i in range(1,n+1):\n",
        "    for j in range(1,n+1):\n",
        "        if i==j or i+j==n+1:\n",
        "            print('*', end='')\n",
        "        else:\n",
        "            print(' ', end='')\n",
        "    print()\n"
      ],
      "metadata": {
        "colab": {
          "base_uri": "https://localhost:8080/"
        },
        "id": "Vn1YvrD6FNbA",
        "outputId": "0c548cdf-78db-4690-98cd-9ccbd5b62fe2"
      },
      "execution_count": 223,
      "outputs": [
        {
          "output_type": "stream",
          "name": "stdout",
          "text": [
            "*   *\n",
            " * * \n",
            "  *  \n",
            " * * \n",
            "*   *\n"
          ]
        }
      ]
    },
    {
      "cell_type": "code",
      "source": [
        "#50\n",
        "# heart pattern \n",
        "n = 6\n",
        "\n",
        "# upper part of the heart\n",
        "for i in range(n//2, n, 2):\n",
        "    # print first spaces\n",
        "    for j in range(1, n-i ,2):\n",
        "        print(\" \", end=\"\")\n",
        "    # print first stars\n",
        "    for j in range(1, i+1, 1):\n",
        "        print(\"*\", end=\"\")\n",
        "    # print second spaces\n",
        "    for j in range(1, n-i+1, 1):\n",
        "        print(\" \", end=\"\")\n",
        "    # print second stars\n",
        "    for j in range(1, i+1, 1):\n",
        "        print(\"*\", end=\"\")\n",
        "    print()\n",
        "\n",
        "# lower part\n",
        "for i in range(n,0,-1):\n",
        "    for j in range(i, n, 1):\n",
        "        print(\" \", end=\"\")\n",
        "    for j in range(1, i*2, 1):\n",
        "        print(\"*\", end=\"\")\n",
        "    print()\n"
      ],
      "metadata": {
        "colab": {
          "base_uri": "https://localhost:8080/"
        },
        "id": "JjOBJohBFNdl",
        "outputId": "5855fefc-3312-44e0-e592-45c65fb752d1"
      },
      "execution_count": 224,
      "outputs": [
        {
          "output_type": "stream",
          "name": "stdout",
          "text": [
            " ***   ***\n",
            "***** *****\n",
            "***********\n",
            " *********\n",
            "  *******\n",
            "   *****\n",
            "    ***\n",
            "     *\n"
          ]
        }
      ]
    },
    {
      "cell_type": "code",
      "source": [
        "#50\n",
        "# heart pattern \n",
        "n = 6\n",
        "\n",
        "# upper part of the heart\n",
        "for i in range(n//2, n, 2):\n",
        "    # print first spaces\n",
        "    for j in range(1, n-i ,2):\n",
        "        print(\" \", end=\"\")\n",
        "    # print first stars\n",
        "    for j in range(1, i+1, 1):\n",
        "        print(\"*\", end=\"\")\n",
        "    # print second spaces\n",
        "    for j in range(1, n-i+1, 1):\n",
        "        print(\" \", end=\"\")\n",
        "    # print second stars\n",
        "    for j in range(1, i+1, 1):\n",
        "        print(\"*\", end=\"\")\n",
        "    print()\n",
        "\n",
        "# lower part\n",
        "for i in range(n,0,-1):\n",
        "    for j in range(i, n, 1):\n",
        "        print(\" \", end=\"\")\n",
        "    for j in range(1, i*2, 1):\n",
        "        print(\"*\", end=\"\")\n",
        "    print()\n"
      ],
      "metadata": {
        "id": "wcMJwKWVFNhL",
        "colab": {
          "base_uri": "https://localhost:8080/"
        },
        "outputId": "2775c696-0ba9-4dca-ea35-3b31203c55f8"
      },
      "execution_count": 225,
      "outputs": [
        {
          "output_type": "stream",
          "name": "stdout",
          "text": [
            " ***   ***\n",
            "***** *****\n",
            "***********\n",
            " *********\n",
            "  *******\n",
            "   *****\n",
            "    ***\n",
            "     *\n"
          ]
        }
      ]
    },
    {
      "cell_type": "code",
      "source": [
        "#50\n",
        "# heart pattern \n",
        "n = 6\n",
        "\n",
        "# upper part of the heart\n",
        "for i in range(n//2, n, 2):\n",
        "    # print first spaces\n",
        "    for j in range(1, n-i ,2):\n",
        "        print(\" \", end=\"\")\n",
        "    # print first stars\n",
        "    for j in range(1, i+1, 1):\n",
        "        print(\"*\", end=\"\")\n",
        "    # print second spaces\n",
        "    for j in range(1, n-i+1, 1):\n",
        "        print(\" \", end=\"\")\n",
        "    # print second stars\n",
        "    for j in range(1, i+1, 1):\n",
        "        print(\"*\", end=\"\")\n",
        "    print()\n",
        "\n",
        "# lower part\n",
        "for i in range(n,0,-1):\n",
        "    for j in range(i, n, 1):\n",
        "        print(\" \", end=\"\")\n",
        "    for j in range(1, i*2, 1):\n",
        "        print(\"*\", end=\"\")\n",
        "    print()\n"
      ],
      "metadata": {
        "colab": {
          "base_uri": "https://localhost:8080/"
        },
        "id": "H8orjUaNjVO4",
        "outputId": "2a8e315c-5708-4a30-f8b8-10ff66a29984"
      },
      "execution_count": 226,
      "outputs": [
        {
          "output_type": "stream",
          "name": "stdout",
          "text": [
            " ***   ***\n",
            "***** *****\n",
            "***********\n",
            " *********\n",
            "  *******\n",
            "   *****\n",
            "    ***\n",
            "     *\n"
          ]
        }
      ]
    },
    {
      "cell_type": "code",
      "source": [
        "#50\n",
        "# heart pattern \n",
        "n = 6\n",
        "\n",
        "# upper part of the heart\n",
        "for i in range(n//2, n, 2):\n",
        "    # print first spaces\n",
        "    for j in range(1, n-i ,2):\n",
        "        print(\" \", end=\"\")\n",
        "    # print first stars\n",
        "    for j in range(1, i+1, 1):\n",
        "        print(\"*\", end=\"\")\n",
        "    # print second spaces\n",
        "    for j in range(1, n-i+1, 1):\n",
        "        print(\" \", end=\"\")\n",
        "    # print second stars\n",
        "    for j in range(1, i+1, 1):\n",
        "        print(\"*\", end=\"\")\n",
        "    print()\n",
        "\n",
        "# lower part\n",
        "for i in range(n,0,-1):\n",
        "    for j in range(i, n, 1):\n",
        "        print(\" \", end=\"\")\n",
        "    for j in range(1, i*2, 1):\n",
        "        print(\"*\", end=\"\")\n",
        "    print()\n"
      ],
      "metadata": {
        "colab": {
          "base_uri": "https://localhost:8080/"
        },
        "id": "nkLG1TarjWER",
        "outputId": "c25f4f76-ceb1-42ca-d9bf-a37065abaf57"
      },
      "execution_count": 227,
      "outputs": [
        {
          "output_type": "stream",
          "name": "stdout",
          "text": [
            " ***   ***\n",
            "***** *****\n",
            "***********\n",
            " *********\n",
            "  *******\n",
            "   *****\n",
            "    ***\n",
            "     *\n"
          ]
        }
      ]
    },
    {
      "cell_type": "code",
      "source": [
        "#50\n",
        "# heart pattern \n",
        "n = 6\n",
        "\n",
        "# upper part of the heart\n",
        "for i in range(n//2, n, 2):\n",
        "    # print first spaces\n",
        "    for j in range(1, n-i ,2):\n",
        "        print(\" \", end=\"\")\n",
        "    # print first stars\n",
        "    for j in range(1, i+1, 1):\n",
        "        print(\"*\", end=\"\")\n",
        "    # print second spaces\n",
        "    for j in range(1, n-i+1, 1):\n",
        "        print(\" \", end=\"\")\n",
        "    # print second stars\n",
        "    for j in range(1, i+1, 1):\n",
        "        print(\"*\", end=\"\")\n",
        "    print()\n",
        "\n",
        "# lower part\n",
        "for i in range(n,0,-1):\n",
        "    for j in range(i, n, 1):\n",
        "        print(\" \", end=\"\")\n",
        "    for j in range(1, i*2, 1):\n",
        "        print(\"*\", end=\"\")\n",
        "    print()\n",
        "\n"
      ],
      "metadata": {
        "colab": {
          "base_uri": "https://localhost:8080/"
        },
        "id": "ShDal9X0jXFG",
        "outputId": "50e74100-647a-48c8-d323-d5bba9e09af6"
      },
      "execution_count": 228,
      "outputs": [
        {
          "output_type": "stream",
          "name": "stdout",
          "text": [
            " ***   ***\n",
            "***** *****\n",
            "***********\n",
            " *********\n",
            "  *******\n",
            "   *****\n",
            "    ***\n",
            "     *\n"
          ]
        }
      ]
    },
    {
      "cell_type": "code",
      "source": [
        "#50\n",
        "# heart pattern \n",
        "n = 6\n",
        "\n",
        "# upper part of the heart\n",
        "for i in range(n//2, n, 2):\n",
        "    # print first spaces\n",
        "    for j in range(1, n-i ,2):\n",
        "        print(\" \", end=\"\")\n",
        "    # print first stars\n",
        "    for j in range(1, i+1, 1):\n",
        "        print(\"*\", end=\"\")\n",
        "    # print second spaces\n",
        "    for j in range(1, n-i+1, 1):\n",
        "        print(\" \", end=\"\")\n",
        "    # print second stars\n",
        "    for j in range(1, i+1, 1):\n",
        "        print(\"*\", end=\"\")\n",
        "    print()\n",
        "\n",
        "# lower part\n",
        "for i in range(n,0,-1):\n",
        "    for j in range(i, n, 1):\n",
        "        print(\" \", end=\"\")\n",
        "    for j in range(1, i*2, 1):\n",
        "        print(\"*\", end=\"\")\n",
        "    print()\n"
      ],
      "metadata": {
        "colab": {
          "base_uri": "https://localhost:8080/"
        },
        "id": "ltcbV28rj5A0",
        "outputId": "0c831185-9c15-42bb-94fc-6de48e97b88e"
      },
      "execution_count": 229,
      "outputs": [
        {
          "output_type": "stream",
          "name": "stdout",
          "text": [
            " ***   ***\n",
            "***** *****\n",
            "***********\n",
            " *********\n",
            "  *******\n",
            "   *****\n",
            "    ***\n",
            "     *\n"
          ]
        }
      ]
    },
    {
      "cell_type": "code",
      "source": [
        "#50\n",
        "# heart pattern \n",
        "n = 6\n",
        "\n",
        "# upper part of the heart\n",
        "for i in range(n//2, n, 2):\n",
        "    # print first spaces\n",
        "    for j in range(1, n-i ,2):\n",
        "        print(\" \", end=\"\")\n",
        "    # print first stars\n",
        "    for j in range(1, i+1, 1):\n",
        "        print(\"*\", end=\"\")\n",
        "    # print second spaces\n",
        "    for j in range(1, n-i+1, 1):\n",
        "        print(\" \", end=\"\")\n",
        "    # print second stars\n",
        "    for j in range(1, i+1, 1):\n",
        "        print(\"*\", end=\"\")\n",
        "    print()\n",
        "\n",
        "# lower part\n",
        "for i in range(n,0,-1):\n",
        "    for j in range(i, n, 1):\n",
        "        print(\" \", end=\"\")\n",
        "    for j in range(1, i*2, 1):\n",
        "        print(\"*\", end=\"\")\n",
        "    print()\n"
      ],
      "metadata": {
        "colab": {
          "base_uri": "https://localhost:8080/"
        },
        "id": "bYHzaF3mj69W",
        "outputId": "5f339ecd-bc84-459e-e182-4306ed295185"
      },
      "execution_count": 230,
      "outputs": [
        {
          "output_type": "stream",
          "name": "stdout",
          "text": [
            " ***   ***\n",
            "***** *****\n",
            "***********\n",
            " *********\n",
            "  *******\n",
            "   *****\n",
            "    ***\n",
            "     *\n"
          ]
        }
      ]
    },
    {
      "cell_type": "code",
      "source": [
        "#50\n",
        "# heart pattern \n",
        "n = 6\n",
        "\n",
        "# upper part of the heart\n",
        "for i in range(n//2, n, 2):\n",
        "    # print first spaces\n",
        "    for j in range(1, n-i ,2):\n",
        "        print(\" \", end=\"\")\n",
        "    # print first stars\n",
        "    for j in range(1, i+1, 1):\n",
        "        print(\"*\", end=\"\")\n",
        "    # print second spaces\n",
        "    for j in range(1, n-i+1, 1):\n",
        "        print(\" \", end=\"\")\n",
        "    # print second stars\n",
        "    for j in range(1, i+1, 1):\n",
        "        print(\"*\", end=\"\")\n",
        "    print()\n",
        "\n",
        "# lower part\n",
        "for i in range(n,0,-1):\n",
        "    for j in range(i, n, 1):\n",
        "        print(\" \", end=\"\")\n",
        "    for j in range(1, i*2, 1):\n",
        "        print(\"*\", end=\"\")\n",
        "    print()\n"
      ],
      "metadata": {
        "colab": {
          "base_uri": "https://localhost:8080/"
        },
        "id": "Ju874mO_j7Sk",
        "outputId": "6b88b691-a96e-41c7-cd00-76d271014747"
      },
      "execution_count": 231,
      "outputs": [
        {
          "output_type": "stream",
          "name": "stdout",
          "text": [
            " ***   ***\n",
            "***** *****\n",
            "***********\n",
            " *********\n",
            "  *******\n",
            "   *****\n",
            "    ***\n",
            "     *\n"
          ]
        }
      ]
    },
    {
      "cell_type": "code",
      "source": [
        "#50\n",
        "# heart pattern \n",
        "n = 6\n",
        "\n",
        "# upper part of the heart\n",
        "for i in range(n//2, n, 2):\n",
        "    # print first spaces\n",
        "    for j in range(1, n-i ,2):\n",
        "        print(\" \", end=\"\")\n",
        "    # print first stars\n",
        "    for j in range(1, i+1, 1):\n",
        "        print(\"*\", end=\"\")\n",
        "    # print second spaces\n",
        "    for j in range(1, n-i+1, 1):\n",
        "        print(\" \", end=\"\")\n",
        "    # print second stars\n",
        "    for j in range(1, i+1, 1):\n",
        "        print(\"*\", end=\"\")\n",
        "    print()\n",
        "\n",
        "# lower part\n",
        "for i in range(n,0,-1):\n",
        "    for j in range(i, n, 1):\n",
        "        print(\" \", end=\"\")\n",
        "    for j in range(1, i*2, 1):\n",
        "        print(\"*\", end=\"\")\n",
        "    print()\n"
      ],
      "metadata": {
        "colab": {
          "base_uri": "https://localhost:8080/"
        },
        "id": "laR-QFMij7sf",
        "outputId": "18967ec6-b4e8-4b1c-f0f1-0321269a511f"
      },
      "execution_count": 232,
      "outputs": [
        {
          "output_type": "stream",
          "name": "stdout",
          "text": [
            " ***   ***\n",
            "***** *****\n",
            "***********\n",
            " *********\n",
            "  *******\n",
            "   *****\n",
            "    ***\n",
            "     *\n"
          ]
        }
      ]
    },
    {
      "cell_type": "code",
      "source": [
        "#50\n",
        "# heart pattern \n",
        "n = 6\n",
        "\n",
        "# upper part of the heart\n",
        "for i in range(n//2, n, 2):\n",
        "    # print first spaces\n",
        "    for j in range(1, n-i ,2):\n",
        "        print(\" \", end=\"\")\n",
        "    # print first stars\n",
        "    for j in range(1, i+1, 1):\n",
        "        print(\"*\", end=\"\")\n",
        "    # print second spaces\n",
        "    for j in range(1, n-i+1, 1):\n",
        "        print(\" \", end=\"\")\n",
        "    # print second stars\n",
        "    for j in range(1, i+1, 1):\n",
        "        print(\"*\", end=\"\")\n",
        "    print()\n",
        "\n",
        "# lower part\n",
        "for i in range(n,0,-1):\n",
        "    for j in range(i, n, 1):\n",
        "        print(\" \", end=\"\")\n",
        "    for j in range(1, i*2, 1):\n",
        "        print(\"*\", end=\"\")\n",
        "    print()\n"
      ],
      "metadata": {
        "colab": {
          "base_uri": "https://localhost:8080/"
        },
        "id": "mLFaOYELj7_G",
        "outputId": "620f4224-4092-41dd-ef57-985a1dd134f2"
      },
      "execution_count": 233,
      "outputs": [
        {
          "output_type": "stream",
          "name": "stdout",
          "text": [
            " ***   ***\n",
            "***** *****\n",
            "***********\n",
            " *********\n",
            "  *******\n",
            "   *****\n",
            "    ***\n",
            "     *\n"
          ]
        }
      ]
    },
    {
      "cell_type": "code",
      "source": [
        "#50\n",
        "# heart pattern \n",
        "n = 6\n",
        "\n",
        "# upper part of the heart\n",
        "for i in range(n//2, n, 2):\n",
        "    # print first spaces\n",
        "    for j in range(1, n-i ,2):\n",
        "        print(\" \", end=\"\")\n",
        "    # print first stars\n",
        "    for j in range(1, i+1, 1):\n",
        "        print(\"*\", end=\"\")\n",
        "    # print second spaces\n",
        "    for j in range(1, n-i+1, 1):\n",
        "        print(\" \", end=\"\")\n",
        "    # print second stars\n",
        "    for j in range(1, i+1, 1):\n",
        "        print(\"*\", end=\"\")\n",
        "    print()\n",
        "\n",
        "# lower part\n",
        "for i in range(n,0,-1):\n",
        "    for j in range(i, n, 1):\n",
        "        print(\" \", end=\"\")\n",
        "    for j in range(1, i*2, 1):\n",
        "        print(\"*\", end=\"\")\n",
        "    print()\n"
      ],
      "metadata": {
        "colab": {
          "base_uri": "https://localhost:8080/"
        },
        "id": "WNqMmQYfj8UI",
        "outputId": "fb82b887-ae59-4737-96ad-71a0f97364e4"
      },
      "execution_count": 234,
      "outputs": [
        {
          "output_type": "stream",
          "name": "stdout",
          "text": [
            " ***   ***\n",
            "***** *****\n",
            "***********\n",
            " *********\n",
            "  *******\n",
            "   *****\n",
            "    ***\n",
            "     *\n"
          ]
        }
      ]
    },
    {
      "cell_type": "code",
      "source": [
        "#50\n",
        "# heart pattern \n",
        "n = 6\n",
        "\n",
        "# upper part of the heart\n",
        "for i in range(n//2, n, 2):\n",
        "    # print first spaces\n",
        "    for j in range(1, n-i ,2):\n",
        "        print(\" \", end=\"\")\n",
        "    # print first stars\n",
        "    for j in range(1, i+1, 1):\n",
        "        print(\"*\", end=\"\")\n",
        "    # print second spaces\n",
        "    for j in range(1, n-i+1, 1):\n",
        "        print(\" \", end=\"\")\n",
        "    # print second stars\n",
        "    for j in range(1, i+1, 1):\n",
        "        print(\"*\", end=\"\")\n",
        "    print()\n",
        "\n",
        "# lower part\n",
        "for i in range(n,0,-1):\n",
        "    for j in range(i, n, 1):\n",
        "        print(\" \", end=\"\")\n",
        "    for j in range(1, i*2, 1):\n",
        "        print(\"*\", end=\"\")\n",
        "    print()\n"
      ],
      "metadata": {
        "colab": {
          "base_uri": "https://localhost:8080/"
        },
        "id": "cZLwq3M3j9l5",
        "outputId": "0a1b8a6b-f937-42ec-ddef-6e37f7ad9a70"
      },
      "execution_count": 235,
      "outputs": [
        {
          "output_type": "stream",
          "name": "stdout",
          "text": [
            " ***   ***\n",
            "***** *****\n",
            "***********\n",
            " *********\n",
            "  *******\n",
            "   *****\n",
            "    ***\n",
            "     *\n"
          ]
        }
      ]
    },
    {
      "cell_type": "code",
      "source": [
        "#50\n",
        "# heart pattern \n",
        "n = 6\n",
        "\n",
        "# upper part of the heart\n",
        "for i in range(n//2, n, 2):\n",
        "    # print first spaces\n",
        "    for j in range(1, n-i ,2):\n",
        "        print(\" \", end=\"\")\n",
        "    # print first stars\n",
        "    for j in range(1, i+1, 1):\n",
        "        print(\"*\", end=\"\")\n",
        "    # print second spaces\n",
        "    for j in range(1, n-i+1, 1):\n",
        "        print(\" \", end=\"\")\n",
        "    # print second stars\n",
        "    for j in range(1, i+1, 1):\n",
        "        print(\"*\", end=\"\")\n",
        "    print()\n",
        "\n",
        "# lower part\n",
        "for i in range(n,0,-1):\n",
        "    for j in range(i, n, 1):\n",
        "        print(\" \", end=\"\")\n",
        "    for j in range(1, i*2, 1):\n",
        "        print(\"*\", end=\"\")\n",
        "    print()\n"
      ],
      "metadata": {
        "colab": {
          "base_uri": "https://localhost:8080/"
        },
        "id": "JIg1UuAij94Q",
        "outputId": "f8a4c105-7fed-47cf-ecfa-8bd3b7f6fe2a"
      },
      "execution_count": 236,
      "outputs": [
        {
          "output_type": "stream",
          "name": "stdout",
          "text": [
            " ***   ***\n",
            "***** *****\n",
            "***********\n",
            " *********\n",
            "  *******\n",
            "   *****\n",
            "    ***\n",
            "     *\n"
          ]
        }
      ]
    },
    {
      "cell_type": "code",
      "source": [
        "#50\n",
        "# heart pattern \n",
        "n = 6\n",
        "\n",
        "# upper part of the heart\n",
        "for i in range(n//2, n, 2):\n",
        "    # print first spaces\n",
        "    for j in range(1, n-i ,2):\n",
        "        print(\" \", end=\"\")\n",
        "    # print first stars\n",
        "    for j in range(1, i+1, 1):\n",
        "        print(\"*\", end=\"\")\n",
        "    # print second spaces\n",
        "    for j in range(1, n-i+1, 1):\n",
        "        print(\" \", end=\"\")\n",
        "    # print second stars\n",
        "    for j in range(1, i+1, 1):\n",
        "        print(\"*\", end=\"\")\n",
        "    print()\n",
        "\n",
        "# lower part\n",
        "for i in range(n,0,-1):\n",
        "    for j in range(i, n, 1):\n",
        "        print(\" \", end=\"\")\n",
        "    for j in range(1, i*2, 1):\n",
        "        print(\"*\", end=\"\")\n",
        "    print()\n"
      ],
      "metadata": {
        "colab": {
          "base_uri": "https://localhost:8080/"
        },
        "id": "uwXS21M4j-MT",
        "outputId": "04c1f5f0-145c-43eb-ade5-0ea5ae138e07"
      },
      "execution_count": 237,
      "outputs": [
        {
          "output_type": "stream",
          "name": "stdout",
          "text": [
            " ***   ***\n",
            "***** *****\n",
            "***********\n",
            " *********\n",
            "  *******\n",
            "   *****\n",
            "    ***\n",
            "     *\n"
          ]
        }
      ]
    },
    {
      "cell_type": "code",
      "source": [
        "#50\n",
        "# heart pattern \n",
        "n = 6\n",
        "\n",
        "# upper part of the heart\n",
        "for i in range(n//2, n, 2):\n",
        "    # print first spaces\n",
        "    for j in range(1, n-i ,2):\n",
        "        print(\" \", end=\"\")\n",
        "    # print first stars\n",
        "    for j in range(1, i+1, 1):\n",
        "        print(\"*\", end=\"\")\n",
        "    # print second spaces\n",
        "    for j in range(1, n-i+1, 1):\n",
        "        print(\" \", end=\"\")\n",
        "    # print second stars\n",
        "    for j in range(1, i+1, 1):\n",
        "        print(\"*\", end=\"\")\n",
        "    print()\n",
        "\n",
        "# lower part\n",
        "for i in range(n,0,-1):\n",
        "    for j in range(i, n, 1):\n",
        "        print(\" \", end=\"\")\n",
        "    for j in range(1, i*2, 1):\n",
        "        print(\"*\", end=\"\")\n",
        "    print()\n"
      ],
      "metadata": {
        "colab": {
          "base_uri": "https://localhost:8080/"
        },
        "id": "7oY2fSmlj-e0",
        "outputId": "b0fed558-8a57-43eb-8e1a-36990f63337a"
      },
      "execution_count": 238,
      "outputs": [
        {
          "output_type": "stream",
          "name": "stdout",
          "text": [
            " ***   ***\n",
            "***** *****\n",
            "***********\n",
            " *********\n",
            "  *******\n",
            "   *****\n",
            "    ***\n",
            "     *\n"
          ]
        }
      ]
    },
    {
      "cell_type": "code",
      "source": [
        "#50\n",
        "# heart pattern \n",
        "n = 6\n",
        "\n",
        "# upper part of the heart\n",
        "for i in range(n//2, n, 2):\n",
        "    # print first spaces\n",
        "    for j in range(1, n-i ,2):\n",
        "        print(\" \", end=\"\")\n",
        "    # print first stars\n",
        "    for j in range(1, i+1, 1):\n",
        "        print(\"*\", end=\"\")\n",
        "    # print second spaces\n",
        "    for j in range(1, n-i+1, 1):\n",
        "        print(\" \", end=\"\")\n",
        "    # print second stars\n",
        "    for j in range(1, i+1, 1):\n",
        "        print(\"*\", end=\"\")\n",
        "    print()\n",
        "\n",
        "# lower part\n",
        "for i in range(n,0,-1):\n",
        "    for j in range(i, n, 1):\n",
        "        print(\" \", end=\"\")\n",
        "    for j in range(1, i*2, 1):\n",
        "        print(\"*\", end=\"\")\n",
        "    print()\n"
      ],
      "metadata": {
        "colab": {
          "base_uri": "https://localhost:8080/"
        },
        "id": "ZmXHqMUZj-0c",
        "outputId": "e7301361-fe66-48e8-fe36-117e28aca5b5"
      },
      "execution_count": 239,
      "outputs": [
        {
          "output_type": "stream",
          "name": "stdout",
          "text": [
            " ***   ***\n",
            "***** *****\n",
            "***********\n",
            " *********\n",
            "  *******\n",
            "   *****\n",
            "    ***\n",
            "     *\n"
          ]
        }
      ]
    },
    {
      "cell_type": "code",
      "source": [
        "#50\n",
        "# heart pattern \n",
        "n = 6\n",
        "\n",
        "# upper part of the heart\n",
        "for i in range(n//2, n, 2):\n",
        "    # print first spaces\n",
        "    for j in range(1, n-i ,2):\n",
        "        print(\" \", end=\"\")\n",
        "    # print first stars\n",
        "    for j in range(1, i+1, 1):\n",
        "        print(\"*\", end=\"\")\n",
        "    # print second spaces\n",
        "    for j in range(1, n-i+1, 1):\n",
        "        print(\" \", end=\"\")\n",
        "    # print second stars\n",
        "    for j in range(1, i+1, 1):\n",
        "        print(\"*\", end=\"\")\n",
        "    print()\n",
        "\n",
        "# lower part\n",
        "for i in range(n,0,-1):\n",
        "    for j in range(i, n, 1):\n",
        "        print(\" \", end=\"\")\n",
        "    for j in range(1, i*2, 1):\n",
        "        print(\"*\", end=\"\")\n",
        "    print()\n"
      ],
      "metadata": {
        "colab": {
          "base_uri": "https://localhost:8080/"
        },
        "id": "Zuo7R4rukBuQ",
        "outputId": "e704c4d4-850d-4a4e-9feb-841fc08a8924"
      },
      "execution_count": 240,
      "outputs": [
        {
          "output_type": "stream",
          "name": "stdout",
          "text": [
            " ***   ***\n",
            "***** *****\n",
            "***********\n",
            " *********\n",
            "  *******\n",
            "   *****\n",
            "    ***\n",
            "     *\n"
          ]
        }
      ]
    },
    {
      "cell_type": "code",
      "source": [
        "#50\n",
        "# heart pattern \n",
        "n = 6\n",
        "\n",
        "# upper part of the heart\n",
        "for i in range(n//2, n, 2):\n",
        "    # print first spaces\n",
        "    for j in range(1, n-i ,2):\n",
        "        print(\" \", end=\"\")\n",
        "    # print first stars\n",
        "    for j in range(1, i+1, 1):\n",
        "        print(\"*\", end=\"\")\n",
        "    # print second spaces\n",
        "    for j in range(1, n-i+1, 1):\n",
        "        print(\" \", end=\"\")\n",
        "    # print second stars\n",
        "    for j in range(1, i+1, 1):\n",
        "        print(\"*\", end=\"\")\n",
        "    print()\n",
        "\n",
        "# lower part\n",
        "for i in range(n,0,-1):\n",
        "    for j in range(i, n, 1):\n",
        "        print(\" \", end=\"\")\n",
        "    for j in range(1, i*2, 1):\n",
        "        print(\"*\", end=\"\")\n",
        "    print()\n"
      ],
      "metadata": {
        "colab": {
          "base_uri": "https://localhost:8080/"
        },
        "id": "R-KjMbUHkCu0",
        "outputId": "1de2dbc5-2231-4782-c79b-d220cfb3ca76"
      },
      "execution_count": 241,
      "outputs": [
        {
          "output_type": "stream",
          "name": "stdout",
          "text": [
            " ***   ***\n",
            "***** *****\n",
            "***********\n",
            " *********\n",
            "  *******\n",
            "   *****\n",
            "    ***\n",
            "     *\n"
          ]
        }
      ]
    },
    {
      "cell_type": "code",
      "source": [
        "#50\n",
        "# heart pattern \n",
        "n = 6\n",
        "\n",
        "# upper part of the heart\n",
        "for i in range(n//2, n, 2):\n",
        "    # print first spaces\n",
        "    for j in range(1, n-i ,2):\n",
        "        print(\" \", end=\"\")\n",
        "    # print first stars\n",
        "    for j in range(1, i+1, 1):\n",
        "        print(\"*\", end=\"\")\n",
        "    # print second spaces\n",
        "    for j in range(1, n-i+1, 1):\n",
        "        print(\" \", end=\"\")\n",
        "    # print second stars\n",
        "    for j in range(1, i+1, 1):\n",
        "        print(\"*\", end=\"\")\n",
        "    print()\n",
        "\n",
        "# lower part\n",
        "for i in range(n,0,-1):\n",
        "    for j in range(i, n, 1):\n",
        "        print(\" \", end=\"\")\n",
        "    for j in range(1, i*2, 1):\n",
        "        print(\"*\", end=\"\")\n",
        "    print()\n"
      ],
      "metadata": {
        "colab": {
          "base_uri": "https://localhost:8080/"
        },
        "id": "0Bk1gNHVkDGs",
        "outputId": "60636521-2efa-42eb-d2bd-d6e05e6a1474"
      },
      "execution_count": 242,
      "outputs": [
        {
          "output_type": "stream",
          "name": "stdout",
          "text": [
            " ***   ***\n",
            "***** *****\n",
            "***********\n",
            " *********\n",
            "  *******\n",
            "   *****\n",
            "    ***\n",
            "     *\n"
          ]
        }
      ]
    },
    {
      "cell_type": "code",
      "source": [
        "#50\n",
        "# heart pattern \n",
        "n = 6\n",
        "\n",
        "# upper part of the heart\n",
        "for i in range(n//2, n, 2):\n",
        "    # print first spaces\n",
        "    for j in range(1, n-i ,2):\n",
        "        print(\" \", end=\"\")\n",
        "    # print first stars\n",
        "    for j in range(1, i+1, 1):\n",
        "        print(\"*\", end=\"\")\n",
        "    # print second spaces\n",
        "    for j in range(1, n-i+1, 1):\n",
        "        print(\" \", end=\"\")\n",
        "    # print second stars\n",
        "    for j in range(1, i+1, 1):\n",
        "        print(\"*\", end=\"\")\n",
        "    print()\n",
        "\n",
        "# lower part\n",
        "for i in range(n,0,-1):\n",
        "    for j in range(i, n, 1):\n",
        "        print(\" \", end=\"\")\n",
        "    for j in range(1, i*2, 1):\n",
        "        print(\"*\", end=\"\")\n",
        "    print()\n"
      ],
      "metadata": {
        "colab": {
          "base_uri": "https://localhost:8080/"
        },
        "id": "jlw3Y6omkE42",
        "outputId": "0e4bd367-ad35-4d4d-f71f-5439013f6ac2"
      },
      "execution_count": 243,
      "outputs": [
        {
          "output_type": "stream",
          "name": "stdout",
          "text": [
            " ***   ***\n",
            "***** *****\n",
            "***********\n",
            " *********\n",
            "  *******\n",
            "   *****\n",
            "    ***\n",
            "     *\n"
          ]
        }
      ]
    },
    {
      "cell_type": "code",
      "source": [
        "#50\n",
        "# heart pattern \n",
        "n = 6\n",
        "\n",
        "# upper part of the heart\n",
        "for i in range(n//2, n, 2):\n",
        "    # print first spaces\n",
        "    for j in range(1, n-i ,2):\n",
        "        print(\" \", end=\"\")\n",
        "    # print first stars\n",
        "    for j in range(1, i+1, 1):\n",
        "        print(\"*\", end=\"\")\n",
        "    # print second spaces\n",
        "    for j in range(1, n-i+1, 1):\n",
        "        print(\" \", end=\"\")\n",
        "    # print second stars\n",
        "    for j in range(1, i+1, 1):\n",
        "        print(\"*\", end=\"\")\n",
        "    print()\n",
        "\n",
        "# lower part\n",
        "for i in range(n,0,-1):\n",
        "    for j in range(i, n, 1):\n",
        "        print(\" \", end=\"\")\n",
        "    for j in range(1, i*2, 1):\n",
        "        print(\"*\", end=\"\")\n",
        "    print()\n"
      ],
      "metadata": {
        "colab": {
          "base_uri": "https://localhost:8080/"
        },
        "id": "hT34O770kLar",
        "outputId": "a1ed61b7-19a6-4ffb-9fe0-1dd2817e030e"
      },
      "execution_count": 244,
      "outputs": [
        {
          "output_type": "stream",
          "name": "stdout",
          "text": [
            " ***   ***\n",
            "***** *****\n",
            "***********\n",
            " *********\n",
            "  *******\n",
            "   *****\n",
            "    ***\n",
            "     *\n"
          ]
        }
      ]
    },
    {
      "cell_type": "code",
      "source": [
        "#50\n",
        "# heart pattern \n",
        "n = 6\n",
        "\n",
        "# upper part of the heart\n",
        "for i in range(n//2, n, 2):\n",
        "    # print first spaces\n",
        "    for j in range(1, n-i ,2):\n",
        "        print(\" \", end=\"\")\n",
        "    # print first stars\n",
        "    for j in range(1, i+1, 1):\n",
        "        print(\"*\", end=\"\")\n",
        "    # print second spaces\n",
        "    for j in range(1, n-i+1, 1):\n",
        "        print(\" \", end=\"\")\n",
        "    # print second stars\n",
        "    for j in range(1, i+1, 1):\n",
        "        print(\"*\", end=\"\")\n",
        "    print()\n",
        "\n",
        "# lower part\n",
        "for i in range(n,0,-1):\n",
        "    for j in range(i, n, 1):\n",
        "        print(\" \", end=\"\")\n",
        "    for j in range(1, i*2, 1):\n",
        "        print(\"*\", end=\"\")\n",
        "    print()\n"
      ],
      "metadata": {
        "colab": {
          "base_uri": "https://localhost:8080/"
        },
        "id": "a8f9kWiokLtA",
        "outputId": "d587489b-b530-4502-b99f-3021dc0fcae6"
      },
      "execution_count": 245,
      "outputs": [
        {
          "output_type": "stream",
          "name": "stdout",
          "text": [
            " ***   ***\n",
            "***** *****\n",
            "***********\n",
            " *********\n",
            "  *******\n",
            "   *****\n",
            "    ***\n",
            "     *\n"
          ]
        }
      ]
    },
    {
      "cell_type": "code",
      "source": [
        "#50\n",
        "# heart pattern \n",
        "n = 6\n",
        "\n",
        "# upper part of the heart\n",
        "for i in range(n//2, n, 2):\n",
        "    # print first spaces\n",
        "    for j in range(1, n-i ,2):\n",
        "        print(\" \", end=\"\")\n",
        "    # print first stars\n",
        "    for j in range(1, i+1, 1):\n",
        "        print(\"*\", end=\"\")\n",
        "    # print second spaces\n",
        "    for j in range(1, n-i+1, 1):\n",
        "        print(\" \", end=\"\")\n",
        "    # print second stars\n",
        "    for j in range(1, i+1, 1):\n",
        "        print(\"*\", end=\"\")\n",
        "    print()\n",
        "\n",
        "# lower part\n",
        "for i in range(n,0,-1):\n",
        "    for j in range(i, n, 1):\n",
        "        print(\" \", end=\"\")\n",
        "    for j in range(1, i*2, 1):\n",
        "        print(\"*\", end=\"\")\n",
        "    print()\n"
      ],
      "metadata": {
        "colab": {
          "base_uri": "https://localhost:8080/"
        },
        "id": "aXLNdzAIkMLI",
        "outputId": "e7e14028-0d8f-426a-b8bd-5f736b576240"
      },
      "execution_count": 246,
      "outputs": [
        {
          "output_type": "stream",
          "name": "stdout",
          "text": [
            " ***   ***\n",
            "***** *****\n",
            "***********\n",
            " *********\n",
            "  *******\n",
            "   *****\n",
            "    ***\n",
            "     *\n"
          ]
        }
      ]
    },
    {
      "cell_type": "code",
      "source": [
        "#50\n",
        "# heart pattern \n",
        "n = 6\n",
        "\n",
        "# upper part of the heart\n",
        "for i in range(n//2, n, 2):\n",
        "    # print first spaces\n",
        "    for j in range(1, n-i ,2):\n",
        "        print(\" \", end=\"\")\n",
        "    # print first stars\n",
        "    for j in range(1, i+1, 1):\n",
        "        print(\"*\", end=\"\")\n",
        "    # print second spaces\n",
        "    for j in range(1, n-i+1, 1):\n",
        "        print(\" \", end=\"\")\n",
        "    # print second stars\n",
        "    for j in range(1, i+1, 1):\n",
        "        print(\"*\", end=\"\")\n",
        "    print()\n",
        "\n",
        "# lower part\n",
        "for i in range(n,0,-1):\n",
        "    for j in range(i, n, 1):\n",
        "        print(\" \", end=\"\")\n",
        "    for j in range(1, i*2, 1):\n",
        "        print(\"*\", end=\"\")\n",
        "    print()\n"
      ],
      "metadata": {
        "colab": {
          "base_uri": "https://localhost:8080/"
        },
        "id": "bHgjiHACkSdT",
        "outputId": "642ec2cb-b124-4f36-bc1e-65fefc4dde2e"
      },
      "execution_count": 247,
      "outputs": [
        {
          "output_type": "stream",
          "name": "stdout",
          "text": [
            " ***   ***\n",
            "***** *****\n",
            "***********\n",
            " *********\n",
            "  *******\n",
            "   *****\n",
            "    ***\n",
            "     *\n"
          ]
        }
      ]
    },
    {
      "cell_type": "code",
      "source": [
        "#50\n",
        "# heart pattern \n",
        "n = 6\n",
        "\n",
        "# upper part of the heart\n",
        "for i in range(n//2, n, 2):\n",
        "    # print first spaces\n",
        "    for j in range(1, n-i ,2):\n",
        "        print(\" \", end=\"\")\n",
        "    # print first stars\n",
        "    for j in range(1, i+1, 1):\n",
        "        print(\"*\", end=\"\")\n",
        "    # print second spaces\n",
        "    for j in range(1, n-i+1, 1):\n",
        "        print(\" \", end=\"\")\n",
        "    # print second stars\n",
        "    for j in range(1, i+1, 1):\n",
        "        print(\"*\", end=\"\")\n",
        "    print()\n",
        "\n",
        "# lower part\n",
        "for i in range(n,0,-1):\n",
        "    for j in range(i, n, 1):\n",
        "        print(\" \", end=\"\")\n",
        "    for j in range(1, i*2, 1):\n",
        "        print(\"*\", end=\"\")\n",
        "    print()\n"
      ],
      "metadata": {
        "colab": {
          "base_uri": "https://localhost:8080/"
        },
        "id": "vS1akFsXkSy-",
        "outputId": "b8ec70bd-a604-4276-b579-d7ee9161f1e4"
      },
      "execution_count": 248,
      "outputs": [
        {
          "output_type": "stream",
          "name": "stdout",
          "text": [
            " ***   ***\n",
            "***** *****\n",
            "***********\n",
            " *********\n",
            "  *******\n",
            "   *****\n",
            "    ***\n",
            "     *\n"
          ]
        }
      ]
    },
    {
      "cell_type": "code",
      "source": [
        "#50\n",
        "# heart pattern \n",
        "n = 6\n",
        "\n",
        "# upper part of the heart\n",
        "for i in range(n//2, n, 2):\n",
        "    # print first spaces\n",
        "    for j in range(1, n-i ,2):\n",
        "        print(\" \", end=\"\")\n",
        "    # print first stars\n",
        "    for j in range(1, i+1, 1):\n",
        "        print(\"*\", end=\"\")\n",
        "    # print second spaces\n",
        "    for j in range(1, n-i+1, 1):\n",
        "        print(\" \", end=\"\")\n",
        "    # print second stars\n",
        "    for j in range(1, i+1, 1):\n",
        "        print(\"*\", end=\"\")\n",
        "    print()\n",
        "\n",
        "# lower part\n",
        "for i in range(n,0,-1):\n",
        "    for j in range(i, n, 1):\n",
        "        print(\" \", end=\"\")\n",
        "    for j in range(1, i*2, 1):\n",
        "        print(\"*\", end=\"\")\n",
        "    print()\n"
      ],
      "metadata": {
        "colab": {
          "base_uri": "https://localhost:8080/"
        },
        "id": "uQGER-WNkTB9",
        "outputId": "10346790-30c9-4e40-813e-483c5e26e77d"
      },
      "execution_count": 249,
      "outputs": [
        {
          "output_type": "stream",
          "name": "stdout",
          "text": [
            " ***   ***\n",
            "***** *****\n",
            "***********\n",
            " *********\n",
            "  *******\n",
            "   *****\n",
            "    ***\n",
            "     *\n"
          ]
        }
      ]
    },
    {
      "cell_type": "code",
      "source": [
        "#50\n",
        "# heart pattern \n",
        "n = 6\n",
        "\n",
        "# upper part of the heart\n",
        "for i in range(n//2, n, 2):\n",
        "    # print first spaces\n",
        "    for j in range(1, n-i ,2):\n",
        "        print(\" \", end=\"\")\n",
        "    # print first stars\n",
        "    for j in range(1, i+1, 1):\n",
        "        print(\"*\", end=\"\")\n",
        "    # print second spaces\n",
        "    for j in range(1, n-i+1, 1):\n",
        "        print(\" \", end=\"\")\n",
        "    # print second stars\n",
        "    for j in range(1, i+1, 1):\n",
        "        print(\"*\", end=\"\")\n",
        "    print()\n",
        "\n",
        "# lower part\n",
        "for i in range(n,0,-1):\n",
        "    for j in range(i, n, 1):\n",
        "        print(\" \", end=\"\")\n",
        "    for j in range(1, i*2, 1):\n",
        "        print(\"*\", end=\"\")\n",
        "    print()\n"
      ],
      "metadata": {
        "colab": {
          "base_uri": "https://localhost:8080/"
        },
        "id": "X4-tEEndkTS3",
        "outputId": "3177309e-ad17-4452-a8c2-b568ad6ad0da"
      },
      "execution_count": 250,
      "outputs": [
        {
          "output_type": "stream",
          "name": "stdout",
          "text": [
            " ***   ***\n",
            "***** *****\n",
            "***********\n",
            " *********\n",
            "  *******\n",
            "   *****\n",
            "    ***\n",
            "     *\n"
          ]
        }
      ]
    },
    {
      "cell_type": "code",
      "source": [
        "#50\n",
        "# heart pattern \n",
        "n = 6\n",
        "\n",
        "# upper part of the heart\n",
        "for i in range(n//2, n, 2):\n",
        "    # print first spaces\n",
        "    for j in range(1, n-i ,2):\n",
        "        print(\" \", end=\"\")\n",
        "    # print first stars\n",
        "    for j in range(1, i+1, 1):\n",
        "        print(\"*\", end=\"\")\n",
        "    # print second spaces\n",
        "    for j in range(1, n-i+1, 1):\n",
        "        print(\" \", end=\"\")\n",
        "    # print second stars\n",
        "    for j in range(1, i+1, 1):\n",
        "        print(\"*\", end=\"\")\n",
        "    print()\n",
        "\n",
        "# lower part\n",
        "for i in range(n,0,-1):\n",
        "    for j in range(i, n, 1):\n",
        "        print(\" \", end=\"\")\n",
        "    for j in range(1, i*2, 1):\n",
        "        print(\"*\", end=\"\")\n",
        "    print()\n"
      ],
      "metadata": {
        "colab": {
          "base_uri": "https://localhost:8080/"
        },
        "id": "Ae9vKW68kTjJ",
        "outputId": "e5916927-42f1-4e9b-a855-e3e30a5d268f"
      },
      "execution_count": 251,
      "outputs": [
        {
          "output_type": "stream",
          "name": "stdout",
          "text": [
            " ***   ***\n",
            "***** *****\n",
            "***********\n",
            " *********\n",
            "  *******\n",
            "   *****\n",
            "    ***\n",
            "     *\n"
          ]
        }
      ]
    },
    {
      "cell_type": "code",
      "source": [
        "#50\n",
        "# heart pattern \n",
        "n = 6\n",
        "\n",
        "# upper part of the heart\n",
        "for i in range(n//2, n, 2):\n",
        "    # print first spaces\n",
        "    for j in range(1, n-i ,2):\n",
        "        print(\" \", end=\"\")\n",
        "    # print first stars\n",
        "    for j in range(1, i+1, 1):\n",
        "        print(\"*\", end=\"\")\n",
        "    # print second spaces\n",
        "    for j in range(1, n-i+1, 1):\n",
        "        print(\" \", end=\"\")\n",
        "    # print second stars\n",
        "    for j in range(1, i+1, 1):\n",
        "        print(\"*\", end=\"\")\n",
        "    print()\n",
        "\n",
        "# lower part\n",
        "for i in range(n,0,-1):\n",
        "    for j in range(i, n, 1):\n",
        "        print(\" \", end=\"\")\n",
        "    for j in range(1, i*2, 1):\n",
        "        print(\"*\", end=\"\")\n",
        "    print()\n"
      ],
      "metadata": {
        "colab": {
          "base_uri": "https://localhost:8080/"
        },
        "id": "fse3f2PKkUAG",
        "outputId": "c71263f2-83b4-49e0-edc2-bae78b80f805"
      },
      "execution_count": 252,
      "outputs": [
        {
          "output_type": "stream",
          "name": "stdout",
          "text": [
            " ***   ***\n",
            "***** *****\n",
            "***********\n",
            " *********\n",
            "  *******\n",
            "   *****\n",
            "    ***\n",
            "     *\n"
          ]
        }
      ]
    },
    {
      "cell_type": "code",
      "source": [
        "#50\n",
        "# heart pattern \n",
        "n = 6\n",
        "\n",
        "# upper part of the heart\n",
        "for i in range(n//2, n, 2):\n",
        "    # print first spaces\n",
        "    for j in range(1, n-i ,2):\n",
        "        print(\" \", end=\"\")\n",
        "    # print first stars\n",
        "    for j in range(1, i+1, 1):\n",
        "        print(\"*\", end=\"\")\n",
        "    # print second spaces\n",
        "    for j in range(1, n-i+1, 1):\n",
        "        print(\" \", end=\"\")\n",
        "    # print second stars\n",
        "    for j in range(1, i+1, 1):\n",
        "        print(\"*\", end=\"\")\n",
        "    print()\n",
        "\n",
        "# lower part\n",
        "for i in range(n,0,-1):\n",
        "    for j in range(i, n, 1):\n",
        "        print(\" \", end=\"\")\n",
        "    for j in range(1, i*2, 1):\n",
        "        print(\"*\", end=\"\")\n",
        "    print()\n"
      ],
      "metadata": {
        "colab": {
          "base_uri": "https://localhost:8080/"
        },
        "id": "fNZrRN8okUSu",
        "outputId": "5d7f78d5-1ce5-4ef4-dc4a-b28ee9539983"
      },
      "execution_count": 253,
      "outputs": [
        {
          "output_type": "stream",
          "name": "stdout",
          "text": [
            " ***   ***\n",
            "***** *****\n",
            "***********\n",
            " *********\n",
            "  *******\n",
            "   *****\n",
            "    ***\n",
            "     *\n"
          ]
        }
      ]
    },
    {
      "cell_type": "code",
      "source": [
        "#50\n",
        "# heart pattern \n",
        "n = 6\n",
        "\n",
        "# upper part of the heart\n",
        "for i in range(n//2, n, 2):\n",
        "    # print first spaces\n",
        "    for j in range(1, n-i ,2):\n",
        "        print(\" \", end=\"\")\n",
        "    # print first stars\n",
        "    for j in range(1, i+1, 1):\n",
        "        print(\"*\", end=\"\")\n",
        "    # print second spaces\n",
        "    for j in range(1, n-i+1, 1):\n",
        "        print(\" \", end=\"\")\n",
        "    # print second stars\n",
        "    for j in range(1, i+1, 1):\n",
        "        print(\"*\", end=\"\")\n",
        "    print()\n",
        "\n",
        "# lower part\n",
        "for i in range(n,0,-1):\n",
        "    for j in range(i, n, 1):\n",
        "        print(\" \", end=\"\")\n",
        "    for j in range(1, i*2, 1):\n",
        "        print(\"*\", end=\"\")\n",
        "    print()\n"
      ],
      "metadata": {
        "colab": {
          "base_uri": "https://localhost:8080/"
        },
        "id": "38M-8_lokUlG",
        "outputId": "21365bbb-7dde-4bfa-d513-038ab74ce396"
      },
      "execution_count": 254,
      "outputs": [
        {
          "output_type": "stream",
          "name": "stdout",
          "text": [
            " ***   ***\n",
            "***** *****\n",
            "***********\n",
            " *********\n",
            "  *******\n",
            "   *****\n",
            "    ***\n",
            "     *\n"
          ]
        }
      ]
    },
    {
      "cell_type": "code",
      "source": [
        "#50\n",
        "# heart pattern \n",
        "n = 6\n",
        "\n",
        "# upper part of the heart\n",
        "for i in range(n//2, n, 2):\n",
        "    # print first spaces\n",
        "    for j in range(1, n-i ,2):\n",
        "        print(\" \", end=\"\")\n",
        "    # print first stars\n",
        "    for j in range(1, i+1, 1):\n",
        "        print(\"*\", end=\"\")\n",
        "    # print second spaces\n",
        "    for j in range(1, n-i+1, 1):\n",
        "        print(\" \", end=\"\")\n",
        "    # print second stars\n",
        "    for j in range(1, i+1, 1):\n",
        "        print(\"*\", end=\"\")\n",
        "    print()\n",
        "\n",
        "# lower part\n",
        "for i in range(n,0,-1):\n",
        "    for j in range(i, n, 1):\n",
        "        print(\" \", end=\"\")\n",
        "    for j in range(1, i*2, 1):\n",
        "        print(\"*\", end=\"\")\n",
        "    print()\n"
      ],
      "metadata": {
        "colab": {
          "base_uri": "https://localhost:8080/"
        },
        "id": "qBWBLcxjkiFM",
        "outputId": "638b0dbd-1aca-474e-b4c4-a372aa5de903"
      },
      "execution_count": 255,
      "outputs": [
        {
          "output_type": "stream",
          "name": "stdout",
          "text": [
            " ***   ***\n",
            "***** *****\n",
            "***********\n",
            " *********\n",
            "  *******\n",
            "   *****\n",
            "    ***\n",
            "     *\n"
          ]
        }
      ]
    },
    {
      "cell_type": "code",
      "source": [
        "#50\n",
        "# heart pattern \n",
        "n = 6\n",
        "\n",
        "# upper part of the heart\n",
        "for i in range(n//2, n, 2):\n",
        "    # print first spaces\n",
        "    for j in range(1, n-i ,2):\n",
        "        print(\" \", end=\"\")\n",
        "    # print first stars\n",
        "    for j in range(1, i+1, 1):\n",
        "        print(\"*\", end=\"\")\n",
        "    # print second spaces\n",
        "    for j in range(1, n-i+1, 1):\n",
        "        print(\" \", end=\"\")\n",
        "    # print second stars\n",
        "    for j in range(1, i+1, 1):\n",
        "        print(\"*\", end=\"\")\n",
        "    print()\n",
        "\n",
        "# lower part\n",
        "for i in range(n,0,-1):\n",
        "    for j in range(i, n, 1):\n",
        "        print(\" \", end=\"\")\n",
        "    for j in range(1, i*2, 1):\n",
        "        print(\"*\", end=\"\")\n",
        "    print()\n"
      ],
      "metadata": {
        "colab": {
          "base_uri": "https://localhost:8080/"
        },
        "id": "zW5sGoa-kiaM",
        "outputId": "ab71a862-d29e-4842-e484-408fcb2f53a7"
      },
      "execution_count": 256,
      "outputs": [
        {
          "output_type": "stream",
          "name": "stdout",
          "text": [
            " ***   ***\n",
            "***** *****\n",
            "***********\n",
            " *********\n",
            "  *******\n",
            "   *****\n",
            "    ***\n",
            "     *\n"
          ]
        }
      ]
    },
    {
      "cell_type": "code",
      "source": [
        "#50\n",
        "# heart pattern \n",
        "n = 6\n",
        "\n",
        "# upper part of the heart\n",
        "for i in range(n//2, n, 2):\n",
        "    # print first spaces\n",
        "    for j in range(1, n-i ,2):\n",
        "        print(\" \", end=\"\")\n",
        "    # print first stars\n",
        "    for j in range(1, i+1, 1):\n",
        "        print(\"*\", end=\"\")\n",
        "    # print second spaces\n",
        "    for j in range(1, n-i+1, 1):\n",
        "        print(\" \", end=\"\")\n",
        "    # print second stars\n",
        "    for j in range(1, i+1, 1):\n",
        "        print(\"*\", end=\"\")\n",
        "    print()\n",
        "\n",
        "# lower part\n",
        "for i in range(n,0,-1):\n",
        "    for j in range(i, n, 1):\n",
        "        print(\" \", end=\"\")\n",
        "    for j in range(1, i*2, 1):\n",
        "        print(\"*\", end=\"\")\n",
        "    print()\n"
      ],
      "metadata": {
        "colab": {
          "base_uri": "https://localhost:8080/"
        },
        "id": "VkvThOq7koOK",
        "outputId": "01eb9733-1823-4dcf-c651-2f435137cc4d"
      },
      "execution_count": 257,
      "outputs": [
        {
          "output_type": "stream",
          "name": "stdout",
          "text": [
            " ***   ***\n",
            "***** *****\n",
            "***********\n",
            " *********\n",
            "  *******\n",
            "   *****\n",
            "    ***\n",
            "     *\n"
          ]
        }
      ]
    },
    {
      "cell_type": "code",
      "source": [
        "#50\n",
        "# heart pattern \n",
        "n = 6\n",
        "\n",
        "# upper part of the heart\n",
        "for i in range(n//2, n, 2):\n",
        "    # print first spaces\n",
        "    for j in range(1, n-i ,2):\n",
        "        print(\" \", end=\"\")\n",
        "    # print first stars\n",
        "    for j in range(1, i+1, 1):\n",
        "        print(\"*\", end=\"\")\n",
        "    # print second spaces\n",
        "    for j in range(1, n-i+1, 1):\n",
        "        print(\" \", end=\"\")\n",
        "    # print second stars\n",
        "    for j in range(1, i+1, 1):\n",
        "        print(\"*\", end=\"\")\n",
        "    print()\n",
        "\n",
        "# lower part\n",
        "for i in range(n,0,-1):\n",
        "    for j in range(i, n, 1):\n",
        "        print(\" \", end=\"\")\n",
        "    for j in range(1, i*2, 1):\n",
        "        print(\"*\", end=\"\")\n",
        "    print()\n"
      ],
      "metadata": {
        "colab": {
          "base_uri": "https://localhost:8080/"
        },
        "id": "U0F5aIwPkog0",
        "outputId": "9952a81e-b9f2-4443-f217-e2a9fe239867"
      },
      "execution_count": 258,
      "outputs": [
        {
          "output_type": "stream",
          "name": "stdout",
          "text": [
            " ***   ***\n",
            "***** *****\n",
            "***********\n",
            " *********\n",
            "  *******\n",
            "   *****\n",
            "    ***\n",
            "     *\n"
          ]
        }
      ]
    },
    {
      "cell_type": "code",
      "source": [
        "#50\n",
        "# heart pattern \n",
        "n = 6\n",
        "\n",
        "# upper part of the heart\n",
        "for i in range(n//2, n, 2):\n",
        "    # print first spaces\n",
        "    for j in range(1, n-i ,2):\n",
        "        print(\" \", end=\"\")\n",
        "    # print first stars\n",
        "    for j in range(1, i+1, 1):\n",
        "        print(\"*\", end=\"\")\n",
        "    # print second spaces\n",
        "    for j in range(1, n-i+1, 1):\n",
        "        print(\" \", end=\"\")\n",
        "    # print second stars\n",
        "    for j in range(1, i+1, 1):\n",
        "        print(\"*\", end=\"\")\n",
        "    print()\n",
        "\n",
        "# lower part\n",
        "for i in range(n,0,-1):\n",
        "    for j in range(i, n, 1):\n",
        "        print(\" \", end=\"\")\n",
        "    for j in range(1, i*2, 1):\n",
        "        print(\"*\", end=\"\")\n",
        "    print()\n"
      ],
      "metadata": {
        "colab": {
          "base_uri": "https://localhost:8080/"
        },
        "id": "dJl7CJw-kozg",
        "outputId": "a48d566b-d30d-436b-ed36-3d52d779b246"
      },
      "execution_count": 259,
      "outputs": [
        {
          "output_type": "stream",
          "name": "stdout",
          "text": [
            " ***   ***\n",
            "***** *****\n",
            "***********\n",
            " *********\n",
            "  *******\n",
            "   *****\n",
            "    ***\n",
            "     *\n"
          ]
        }
      ]
    },
    {
      "cell_type": "code",
      "source": [
        "#50\n",
        "# heart pattern \n",
        "n = 6\n",
        "\n",
        "# upper part of the heart\n",
        "for i in range(n//2, n, 2):\n",
        "    # print first spaces\n",
        "    for j in range(1, n-i ,2):\n",
        "        print(\" \", end=\"\")\n",
        "    # print first stars\n",
        "    for j in range(1, i+1, 1):\n",
        "        print(\"*\", end=\"\")\n",
        "    # print second spaces\n",
        "    for j in range(1, n-i+1, 1):\n",
        "        print(\" \", end=\"\")\n",
        "    # print second stars\n",
        "    for j in range(1, i+1, 1):\n",
        "        print(\"*\", end=\"\")\n",
        "    print()\n",
        "\n",
        "# lower part\n",
        "for i in range(n,0,-1):\n",
        "    for j in range(i, n, 1):\n",
        "        print(\" \", end=\"\")\n",
        "    for j in range(1, i*2, 1):\n",
        "        print(\"*\", end=\"\")\n",
        "    print()\n"
      ],
      "metadata": {
        "colab": {
          "base_uri": "https://localhost:8080/"
        },
        "id": "BLNMsHr6kpDK",
        "outputId": "d6112e36-026b-4224-a755-4695dfab7e3d"
      },
      "execution_count": 260,
      "outputs": [
        {
          "output_type": "stream",
          "name": "stdout",
          "text": [
            " ***   ***\n",
            "***** *****\n",
            "***********\n",
            " *********\n",
            "  *******\n",
            "   *****\n",
            "    ***\n",
            "     *\n"
          ]
        }
      ]
    },
    {
      "cell_type": "code",
      "source": [
        "#50\n",
        "# heart pattern \n",
        "n = 6\n",
        "\n",
        "# upper part of the heart\n",
        "for i in range(n//2, n, 2):\n",
        "    # print first spaces\n",
        "    for j in range(1, n-i ,2):\n",
        "        print(\" \", end=\"\")\n",
        "    # print first stars\n",
        "    for j in range(1, i+1, 1):\n",
        "        print(\"*\", end=\"\")\n",
        "    # print second spaces\n",
        "    for j in range(1, n-i+1, 1):\n",
        "        print(\" \", end=\"\")\n",
        "    # print second stars\n",
        "    for j in range(1, i+1, 1):\n",
        "        print(\"*\", end=\"\")\n",
        "    print()\n",
        "\n",
        "# lower part\n",
        "for i in range(n,0,-1):\n",
        "    for j in range(i, n, 1):\n",
        "        print(\" \", end=\"\")\n",
        "    for j in range(1, i*2, 1):\n",
        "        print(\"*\", end=\"\")\n",
        "    print()\n"
      ],
      "metadata": {
        "colab": {
          "base_uri": "https://localhost:8080/"
        },
        "id": "dLkQp5VhkpUF",
        "outputId": "b08beebd-f75f-43e6-9026-d7a8bb09f64b"
      },
      "execution_count": 261,
      "outputs": [
        {
          "output_type": "stream",
          "name": "stdout",
          "text": [
            " ***   ***\n",
            "***** *****\n",
            "***********\n",
            " *********\n",
            "  *******\n",
            "   *****\n",
            "    ***\n",
            "     *\n"
          ]
        }
      ]
    },
    {
      "cell_type": "code",
      "source": [
        "#50\n",
        "# heart pattern \n",
        "n = 6\n",
        "\n",
        "# upper part of the heart\n",
        "for i in range(n//2, n, 2):\n",
        "    # print first spaces\n",
        "    for j in range(1, n-i ,2):\n",
        "        print(\" \", end=\"\")\n",
        "    # print first stars\n",
        "    for j in range(1, i+1, 1):\n",
        "        print(\"*\", end=\"\")\n",
        "    # print second spaces\n",
        "    for j in range(1, n-i+1, 1):\n",
        "        print(\" \", end=\"\")\n",
        "    # print second stars\n",
        "    for j in range(1, i+1, 1):\n",
        "        print(\"*\", end=\"\")\n",
        "    print()\n",
        "\n",
        "# lower part\n",
        "for i in range(n,0,-1):\n",
        "    for j in range(i, n, 1):\n",
        "        print(\" \", end=\"\")\n",
        "    for j in range(1, i*2, 1):\n",
        "        print(\"*\", end=\"\")\n",
        "    print()\n"
      ],
      "metadata": {
        "colab": {
          "base_uri": "https://localhost:8080/"
        },
        "id": "HUUqtFGykpk-",
        "outputId": "63b06b5c-d6cc-4aa9-bc6d-318da56b2fe6"
      },
      "execution_count": 262,
      "outputs": [
        {
          "output_type": "stream",
          "name": "stdout",
          "text": [
            " ***   ***\n",
            "***** *****\n",
            "***********\n",
            " *********\n",
            "  *******\n",
            "   *****\n",
            "    ***\n",
            "     *\n"
          ]
        }
      ]
    },
    {
      "cell_type": "code",
      "source": [
        "#50\n",
        "# heart pattern \n",
        "n = 6\n",
        "\n",
        "# upper part of the heart\n",
        "for i in range(n//2, n, 2):\n",
        "    # print first spaces\n",
        "    for j in range(1, n-i ,2):\n",
        "        print(\" \", end=\"\")\n",
        "    # print first stars\n",
        "    for j in range(1, i+1, 1):\n",
        "        print(\"*\", end=\"\")\n",
        "    # print second spaces\n",
        "    for j in range(1, n-i+1, 1):\n",
        "        print(\" \", end=\"\")\n",
        "    # print second stars\n",
        "    for j in range(1, i+1, 1):\n",
        "        print(\"*\", end=\"\")\n",
        "    print()\n",
        "\n",
        "# lower part\n",
        "for i in range(n,0,-1):\n",
        "    for j in range(i, n, 1):\n",
        "        print(\" \", end=\"\")\n",
        "    for j in range(1, i*2, 1):\n",
        "        print(\"*\", end=\"\")\n",
        "    print()\n"
      ],
      "metadata": {
        "colab": {
          "base_uri": "https://localhost:8080/"
        },
        "id": "4W9mEPktkp2p",
        "outputId": "b5854438-3b96-4a29-d7db-b1705b153da5"
      },
      "execution_count": 263,
      "outputs": [
        {
          "output_type": "stream",
          "name": "stdout",
          "text": [
            " ***   ***\n",
            "***** *****\n",
            "***********\n",
            " *********\n",
            "  *******\n",
            "   *****\n",
            "    ***\n",
            "     *\n"
          ]
        }
      ]
    },
    {
      "cell_type": "code",
      "source": [
        "#50\n",
        "# heart pattern \n",
        "n = 6\n",
        "\n",
        "# upper part of the heart\n",
        "for i in range(n//2, n, 2):\n",
        "    # print first spaces\n",
        "    for j in range(1, n-i ,2):\n",
        "        print(\" \", end=\"\")\n",
        "    # print first stars\n",
        "    for j in range(1, i+1, 1):\n",
        "        print(\"*\", end=\"\")\n",
        "    # print second spaces\n",
        "    for j in range(1, n-i+1, 1):\n",
        "        print(\" \", end=\"\")\n",
        "    # print second stars\n",
        "    for j in range(1, i+1, 1):\n",
        "        print(\"*\", end=\"\")\n",
        "    print()\n",
        "\n",
        "# lower part\n",
        "for i in range(n,0,-1):\n",
        "    for j in range(i, n, 1):\n",
        "        print(\" \", end=\"\")\n",
        "    for j in range(1, i*2, 1):\n",
        "        print(\"*\", end=\"\")\n",
        "    print()\n"
      ],
      "metadata": {
        "colab": {
          "base_uri": "https://localhost:8080/"
        },
        "id": "CLdNqbsmkqHc",
        "outputId": "39dd235e-e8b4-44e3-986e-db4c91216ef3"
      },
      "execution_count": 264,
      "outputs": [
        {
          "output_type": "stream",
          "name": "stdout",
          "text": [
            " ***   ***\n",
            "***** *****\n",
            "***********\n",
            " *********\n",
            "  *******\n",
            "   *****\n",
            "    ***\n",
            "     *\n"
          ]
        }
      ]
    },
    {
      "cell_type": "code",
      "source": [
        "#50\n",
        "# heart pattern \n",
        "n = 6\n",
        "\n",
        "# upper part of the heart\n",
        "for i in range(n//2, n, 2):\n",
        "    # print first spaces\n",
        "    for j in range(1, n-i ,2):\n",
        "        print(\" \", end=\"\")\n",
        "    # print first stars\n",
        "    for j in range(1, i+1, 1):\n",
        "        print(\"*\", end=\"\")\n",
        "    # print second spaces\n",
        "    for j in range(1, n-i+1, 1):\n",
        "        print(\" \", end=\"\")\n",
        "    # print second stars\n",
        "    for j in range(1, i+1, 1):\n",
        "        print(\"*\", end=\"\")\n",
        "    print()\n",
        "\n",
        "# lower part\n",
        "for i in range(n,0,-1):\n",
        "    for j in range(i, n, 1):\n",
        "        print(\" \", end=\"\")\n",
        "    for j in range(1, i*2, 1):\n",
        "        print(\"*\", end=\"\")\n",
        "    print()\n"
      ],
      "metadata": {
        "colab": {
          "base_uri": "https://localhost:8080/"
        },
        "id": "gFYxzE88kqjF",
        "outputId": "522421da-f716-4e21-8ba3-a192f9e836f4"
      },
      "execution_count": 265,
      "outputs": [
        {
          "output_type": "stream",
          "name": "stdout",
          "text": [
            " ***   ***\n",
            "***** *****\n",
            "***********\n",
            " *********\n",
            "  *******\n",
            "   *****\n",
            "    ***\n",
            "     *\n"
          ]
        }
      ]
    },
    {
      "cell_type": "code",
      "source": [
        "#50\n",
        "# heart pattern \n",
        "n = 6\n",
        "\n",
        "# upper part of the heart\n",
        "for i in range(n//2, n, 2):\n",
        "    # print first spaces\n",
        "    for j in range(1, n-i ,2):\n",
        "        print(\" \", end=\"\")\n",
        "    # print first stars\n",
        "    for j in range(1, i+1, 1):\n",
        "        print(\"*\", end=\"\")\n",
        "    # print second spaces\n",
        "    for j in range(1, n-i+1, 1):\n",
        "        print(\" \", end=\"\")\n",
        "    # print second stars\n",
        "    for j in range(1, i+1, 1):\n",
        "        print(\"*\", end=\"\")\n",
        "    print()\n",
        "\n",
        "# lower part\n",
        "for i in range(n,0,-1):\n",
        "    for j in range(i, n, 1):\n",
        "        print(\" \", end=\"\")\n",
        "    for j in range(1, i*2, 1):\n",
        "        print(\"*\", end=\"\")\n",
        "    print()\n"
      ],
      "metadata": {
        "colab": {
          "base_uri": "https://localhost:8080/"
        },
        "id": "F_jFi1BYkq3D",
        "outputId": "c0ea84e3-b2b5-46a0-b98b-9e2820ed6abe"
      },
      "execution_count": 266,
      "outputs": [
        {
          "output_type": "stream",
          "name": "stdout",
          "text": [
            " ***   ***\n",
            "***** *****\n",
            "***********\n",
            " *********\n",
            "  *******\n",
            "   *****\n",
            "    ***\n",
            "     *\n"
          ]
        }
      ]
    },
    {
      "cell_type": "code",
      "source": [
        "#50\n",
        "# heart pattern \n",
        "n = 6\n",
        "\n",
        "# upper part of the heart\n",
        "for i in range(n//2, n, 2):\n",
        "    # print first spaces\n",
        "    for j in range(1, n-i ,2):\n",
        "        print(\" \", end=\"\")\n",
        "    # print first stars\n",
        "    for j in range(1, i+1, 1):\n",
        "        print(\"*\", end=\"\")\n",
        "    # print second spaces\n",
        "    for j in range(1, n-i+1, 1):\n",
        "        print(\" \", end=\"\")\n",
        "    # print second stars\n",
        "    for j in range(1, i+1, 1):\n",
        "        print(\"*\", end=\"\")\n",
        "    print()\n",
        "\n",
        "# lower part\n",
        "for i in range(n,0,-1):\n",
        "    for j in range(i, n, 1):\n",
        "        print(\" \", end=\"\")\n",
        "    for j in range(1, i*2, 1):\n",
        "        print(\"*\", end=\"\")\n",
        "    print()\n"
      ],
      "metadata": {
        "colab": {
          "base_uri": "https://localhost:8080/"
        },
        "id": "H05UhkYJkttK",
        "outputId": "458ca7b9-2abf-4c63-f82e-49bc28b6a50a"
      },
      "execution_count": 267,
      "outputs": [
        {
          "output_type": "stream",
          "name": "stdout",
          "text": [
            " ***   ***\n",
            "***** *****\n",
            "***********\n",
            " *********\n",
            "  *******\n",
            "   *****\n",
            "    ***\n",
            "     *\n"
          ]
        }
      ]
    },
    {
      "cell_type": "code",
      "source": [
        "#50\n",
        "# heart pattern \n",
        "n = 6\n",
        "\n",
        "# upper part of the heart\n",
        "for i in range(n//2, n, 2):\n",
        "    # print first spaces\n",
        "    for j in range(1, n-i ,2):\n",
        "        print(\" \", end=\"\")\n",
        "    # print first stars\n",
        "    for j in range(1, i+1, 1):\n",
        "        print(\"*\", end=\"\")\n",
        "    # print second spaces\n",
        "    for j in range(1, n-i+1, 1):\n",
        "        print(\" \", end=\"\")\n",
        "    # print second stars\n",
        "    for j in range(1, i+1, 1):\n",
        "        print(\"*\", end=\"\")\n",
        "    print()\n",
        "\n",
        "# lower part\n",
        "for i in range(n,0,-1):\n",
        "    for j in range(i, n, 1):\n",
        "        print(\" \", end=\"\")\n",
        "    for j in range(1, i*2, 1):\n",
        "        print(\"*\", end=\"\")\n",
        "    print()\n"
      ],
      "metadata": {
        "colab": {
          "base_uri": "https://localhost:8080/"
        },
        "id": "GluGurTqkt90",
        "outputId": "aff76456-c2c6-4389-f4ae-b88fe8372483"
      },
      "execution_count": 268,
      "outputs": [
        {
          "output_type": "stream",
          "name": "stdout",
          "text": [
            " ***   ***\n",
            "***** *****\n",
            "***********\n",
            " *********\n",
            "  *******\n",
            "   *****\n",
            "    ***\n",
            "     *\n"
          ]
        }
      ]
    },
    {
      "cell_type": "code",
      "source": [
        "#50\n",
        "# heart pattern \n",
        "n = 6\n",
        "\n",
        "# upper part of the heart\n",
        "for i in range(n//2, n, 2):\n",
        "    # print first spaces\n",
        "    for j in range(1, n-i ,2):\n",
        "        print(\" \", end=\"\")\n",
        "    # print first stars\n",
        "    for j in range(1, i+1, 1):\n",
        "        print(\"*\", end=\"\")\n",
        "    # print second spaces\n",
        "    for j in range(1, n-i+1, 1):\n",
        "        print(\" \", end=\"\")\n",
        "    # print second stars\n",
        "    for j in range(1, i+1, 1):\n",
        "        print(\"*\", end=\"\")\n",
        "    print()\n",
        "\n",
        "# lower part\n",
        "for i in range(n,0,-1):\n",
        "    for j in range(i, n, 1):\n",
        "        print(\" \", end=\"\")\n",
        "    for j in range(1, i*2, 1):\n",
        "        print(\"*\", end=\"\")\n",
        "    print()\n"
      ],
      "metadata": {
        "colab": {
          "base_uri": "https://localhost:8080/"
        },
        "id": "PiTPJfZFkuM0",
        "outputId": "23d883ac-6ecc-41bd-f72a-301e13a0a1b4"
      },
      "execution_count": 269,
      "outputs": [
        {
          "output_type": "stream",
          "name": "stdout",
          "text": [
            " ***   ***\n",
            "***** *****\n",
            "***********\n",
            " *********\n",
            "  *******\n",
            "   *****\n",
            "    ***\n",
            "     *\n"
          ]
        }
      ]
    },
    {
      "cell_type": "code",
      "source": [
        "#50\n",
        "# heart pattern \n",
        "n = 6\n",
        "\n",
        "# upper part of the heart\n",
        "for i in range(n//2, n, 2):\n",
        "    # print first spaces\n",
        "    for j in range(1, n-i ,2):\n",
        "        print(\" \", end=\"\")\n",
        "    # print first stars\n",
        "    for j in range(1, i+1, 1):\n",
        "        print(\"*\", end=\"\")\n",
        "    # print second spaces\n",
        "    for j in range(1, n-i+1, 1):\n",
        "        print(\" \", end=\"\")\n",
        "    # print second stars\n",
        "    for j in range(1, i+1, 1):\n",
        "        print(\"*\", end=\"\")\n",
        "    print()\n",
        "\n",
        "# lower part\n",
        "for i in range(n,0,-1):\n",
        "    for j in range(i, n, 1):\n",
        "        print(\" \", end=\"\")\n",
        "    for j in range(1, i*2, 1):\n",
        "        print(\"*\", end=\"\")\n",
        "    print()\n"
      ],
      "metadata": {
        "colab": {
          "base_uri": "https://localhost:8080/"
        },
        "id": "mk6D-Si2kuda",
        "outputId": "506ed13f-e747-4bf0-c4d4-393214362065"
      },
      "execution_count": 270,
      "outputs": [
        {
          "output_type": "stream",
          "name": "stdout",
          "text": [
            " ***   ***\n",
            "***** *****\n",
            "***********\n",
            " *********\n",
            "  *******\n",
            "   *****\n",
            "    ***\n",
            "     *\n"
          ]
        }
      ]
    },
    {
      "cell_type": "code",
      "source": [
        "#50\n",
        "# heart pattern \n",
        "n = 6\n",
        "\n",
        "# upper part of the heart\n",
        "for i in range(n//2, n, 2):\n",
        "    # print first spaces\n",
        "    for j in range(1, n-i ,2):\n",
        "        print(\" \", end=\"\")\n",
        "    # print first stars\n",
        "    for j in range(1, i+1, 1):\n",
        "        print(\"*\", end=\"\")\n",
        "    # print second spaces\n",
        "    for j in range(1, n-i+1, 1):\n",
        "        print(\" \", end=\"\")\n",
        "    # print second stars\n",
        "    for j in range(1, i+1, 1):\n",
        "        print(\"*\", end=\"\")\n",
        "    print()\n",
        "\n",
        "# lower part\n",
        "for i in range(n,0,-1):\n",
        "    for j in range(i, n, 1):\n",
        "        print(\" \", end=\"\")\n",
        "    for j in range(1, i*2, 1):\n",
        "        print(\"*\", end=\"\")\n",
        "    print()\n"
      ],
      "metadata": {
        "colab": {
          "base_uri": "https://localhost:8080/"
        },
        "id": "CiHYhmFGkuty",
        "outputId": "f2bb8a18-7161-409d-c344-4edbfab46190"
      },
      "execution_count": 271,
      "outputs": [
        {
          "output_type": "stream",
          "name": "stdout",
          "text": [
            " ***   ***\n",
            "***** *****\n",
            "***********\n",
            " *********\n",
            "  *******\n",
            "   *****\n",
            "    ***\n",
            "     *\n"
          ]
        }
      ]
    },
    {
      "cell_type": "code",
      "source": [
        "#50\n",
        "# heart pattern \n",
        "n = 6\n",
        "\n",
        "# upper part of the heart\n",
        "for i in range(n//2, n, 2):\n",
        "    # print first spaces\n",
        "    for j in range(1, n-i ,2):\n",
        "        print(\" \", end=\"\")\n",
        "    # print first stars\n",
        "    for j in range(1, i+1, 1):\n",
        "        print(\"*\", end=\"\")\n",
        "    # print second spaces\n",
        "    for j in range(1, n-i+1, 1):\n",
        "        print(\" \", end=\"\")\n",
        "    # print second stars\n",
        "    for j in range(1, i+1, 1):\n",
        "        print(\"*\", end=\"\")\n",
        "    print()\n",
        "\n",
        "# lower part\n",
        "for i in range(n,0,-1):\n",
        "    for j in range(i, n, 1):\n",
        "        print(\" \", end=\"\")\n",
        "    for j in range(1, i*2, 1):\n",
        "        print(\"*\", end=\"\")\n",
        "    print()\n"
      ],
      "metadata": {
        "colab": {
          "base_uri": "https://localhost:8080/"
        },
        "id": "OjC-cfMHkvA9",
        "outputId": "d02ad3fa-68c7-4e24-d04b-150b2a70f085"
      },
      "execution_count": 272,
      "outputs": [
        {
          "output_type": "stream",
          "name": "stdout",
          "text": [
            " ***   ***\n",
            "***** *****\n",
            "***********\n",
            " *********\n",
            "  *******\n",
            "   *****\n",
            "    ***\n",
            "     *\n"
          ]
        }
      ]
    },
    {
      "cell_type": "code",
      "source": [
        "#50\n",
        "# heart pattern \n",
        "n = 6\n",
        "\n",
        "# upper part of the heart\n",
        "for i in range(n//2, n, 2):\n",
        "    # print first spaces\n",
        "    for j in range(1, n-i ,2):\n",
        "        print(\" \", end=\"\")\n",
        "    # print first stars\n",
        "    for j in range(1, i+1, 1):\n",
        "        print(\"*\", end=\"\")\n",
        "    # print second spaces\n",
        "    for j in range(1, n-i+1, 1):\n",
        "        print(\" \", end=\"\")\n",
        "    # print second stars\n",
        "    for j in range(1, i+1, 1):\n",
        "        print(\"*\", end=\"\")\n",
        "    print()\n",
        "\n",
        "# lower part\n",
        "for i in range(n,0,-1):\n",
        "    for j in range(i, n, 1):\n",
        "        print(\" \", end=\"\")\n",
        "    for j in range(1, i*2, 1):\n",
        "        print(\"*\", end=\"\")\n",
        "    print()\n"
      ],
      "metadata": {
        "colab": {
          "base_uri": "https://localhost:8080/"
        },
        "id": "TwbOvDUQkvTQ",
        "outputId": "1442dec9-7367-4fa9-c56e-ec43fbd13010"
      },
      "execution_count": 273,
      "outputs": [
        {
          "output_type": "stream",
          "name": "stdout",
          "text": [
            " ***   ***\n",
            "***** *****\n",
            "***********\n",
            " *********\n",
            "  *******\n",
            "   *****\n",
            "    ***\n",
            "     *\n"
          ]
        }
      ]
    },
    {
      "cell_type": "code",
      "source": [
        "#50\n",
        "# heart pattern \n",
        "n = 6\n",
        "\n",
        "# upper part of the heart\n",
        "for i in range(n//2, n, 2):\n",
        "    # print first spaces\n",
        "    for j in range(1, n-i ,2):\n",
        "        print(\" \", end=\"\")\n",
        "    # print first stars\n",
        "    for j in range(1, i+1, 1):\n",
        "        print(\"*\", end=\"\")\n",
        "    # print second spaces\n",
        "    for j in range(1, n-i+1, 1):\n",
        "        print(\" \", end=\"\")\n",
        "    # print second stars\n",
        "    for j in range(1, i+1, 1):\n",
        "        print(\"*\", end=\"\")\n",
        "    print()\n",
        "\n",
        "# lower part\n",
        "for i in range(n,0,-1):\n",
        "    for j in range(i, n, 1):\n",
        "        print(\" \", end=\"\")\n",
        "    for j in range(1, i*2, 1):\n",
        "        print(\"*\", end=\"\")\n",
        "    print()\n"
      ],
      "metadata": {
        "colab": {
          "base_uri": "https://localhost:8080/"
        },
        "id": "GH0JlsQokvkO",
        "outputId": "79d31d97-aeff-4ae2-a9e6-9c7d492b2555"
      },
      "execution_count": 274,
      "outputs": [
        {
          "output_type": "stream",
          "name": "stdout",
          "text": [
            " ***   ***\n",
            "***** *****\n",
            "***********\n",
            " *********\n",
            "  *******\n",
            "   *****\n",
            "    ***\n",
            "     *\n"
          ]
        }
      ]
    },
    {
      "cell_type": "code",
      "source": [
        "#50\n",
        "# heart pattern \n",
        "n = 6\n",
        "\n",
        "# upper part of the heart\n",
        "for i in range(n//2, n, 2):\n",
        "    # print first spaces\n",
        "    for j in range(1, n-i ,2):\n",
        "        print(\" \", end=\"\")\n",
        "    # print first stars\n",
        "    for j in range(1, i+1, 1):\n",
        "        print(\"*\", end=\"\")\n",
        "    # print second spaces\n",
        "    for j in range(1, n-i+1, 1):\n",
        "        print(\" \", end=\"\")\n",
        "    # print second stars\n",
        "    for j in range(1, i+1, 1):\n",
        "        print(\"*\", end=\"\")\n",
        "    print()\n",
        "\n",
        "# lower part\n",
        "for i in range(n,0,-1):\n",
        "    for j in range(i, n, 1):\n",
        "        print(\" \", end=\"\")\n",
        "    for j in range(1, i*2, 1):\n",
        "        print(\"*\", end=\"\")\n",
        "    print()\n"
      ],
      "metadata": {
        "colab": {
          "base_uri": "https://localhost:8080/"
        },
        "id": "ju19qBm9kv1o",
        "outputId": "5031213d-7683-4a58-e59e-2f748e72d80f"
      },
      "execution_count": 275,
      "outputs": [
        {
          "output_type": "stream",
          "name": "stdout",
          "text": [
            " ***   ***\n",
            "***** *****\n",
            "***********\n",
            " *********\n",
            "  *******\n",
            "   *****\n",
            "    ***\n",
            "     *\n"
          ]
        }
      ]
    },
    {
      "cell_type": "code",
      "source": [
        "#50\n",
        "# heart pattern \n",
        "n = 6\n",
        "\n",
        "# upper part of the heart\n",
        "for i in range(n//2, n, 2):\n",
        "    # print first spaces\n",
        "    for j in range(1, n-i ,2):\n",
        "        print(\" \", end=\"\")\n",
        "    # print first stars\n",
        "    for j in range(1, i+1, 1):\n",
        "        print(\"*\", end=\"\")\n",
        "    # print second spaces\n",
        "    for j in range(1, n-i+1, 1):\n",
        "        print(\" \", end=\"\")\n",
        "    # print second stars\n",
        "    for j in range(1, i+1, 1):\n",
        "        print(\"*\", end=\"\")\n",
        "    print()\n",
        "\n",
        "# lower part\n",
        "for i in range(n,0,-1):\n",
        "    for j in range(i, n, 1):\n",
        "        print(\" \", end=\"\")\n",
        "    for j in range(1, i*2, 1):\n",
        "        print(\"*\", end=\"\")\n",
        "    print()\n"
      ],
      "metadata": {
        "colab": {
          "base_uri": "https://localhost:8080/"
        },
        "id": "RjOB6zwxkwIr",
        "outputId": "64628e88-9fef-4a56-bfed-74f23ced645c"
      },
      "execution_count": 276,
      "outputs": [
        {
          "output_type": "stream",
          "name": "stdout",
          "text": [
            " ***   ***\n",
            "***** *****\n",
            "***********\n",
            " *********\n",
            "  *******\n",
            "   *****\n",
            "    ***\n",
            "     *\n"
          ]
        }
      ]
    },
    {
      "cell_type": "code",
      "source": [
        "#50\n",
        "# heart pattern \n",
        "n = 6\n",
        "\n",
        "# upper part of the heart\n",
        "for i in range(n//2, n, 2):\n",
        "    # print first spaces\n",
        "    for j in range(1, n-i ,2):\n",
        "        print(\" \", end=\"\")\n",
        "    # print first stars\n",
        "    for j in range(1, i+1, 1):\n",
        "        print(\"*\", end=\"\")\n",
        "    # print second spaces\n",
        "    for j in range(1, n-i+1, 1):\n",
        "        print(\" \", end=\"\")\n",
        "    # print second stars\n",
        "    for j in range(1, i+1, 1):\n",
        "        print(\"*\", end=\"\")\n",
        "    print()\n",
        "\n",
        "# lower part\n",
        "for i in range(n,0,-1):\n",
        "    for j in range(i, n, 1):\n",
        "        print(\" \", end=\"\")\n",
        "    for j in range(1, i*2, 1):\n",
        "        print(\"*\", end=\"\")\n",
        "    print()\n"
      ],
      "metadata": {
        "colab": {
          "base_uri": "https://localhost:8080/"
        },
        "id": "90p9c2bmkwXk",
        "outputId": "d1ea9160-823b-45d9-9f2e-e5a5c6f5bad1"
      },
      "execution_count": 277,
      "outputs": [
        {
          "output_type": "stream",
          "name": "stdout",
          "text": [
            " ***   ***\n",
            "***** *****\n",
            "***********\n",
            " *********\n",
            "  *******\n",
            "   *****\n",
            "    ***\n",
            "     *\n"
          ]
        }
      ]
    },
    {
      "cell_type": "code",
      "source": [
        "#50\n",
        "# heart pattern \n",
        "n = 6\n",
        "\n",
        "# upper part of the heart\n",
        "for i in range(n//2, n, 2):\n",
        "    # print first spaces\n",
        "    for j in range(1, n-i ,2):\n",
        "        print(\" \", end=\"\")\n",
        "    # print first stars\n",
        "    for j in range(1, i+1, 1):\n",
        "        print(\"*\", end=\"\")\n",
        "    # print second spaces\n",
        "    for j in range(1, n-i+1, 1):\n",
        "        print(\" \", end=\"\")\n",
        "    # print second stars\n",
        "    for j in range(1, i+1, 1):\n",
        "        print(\"*\", end=\"\")\n",
        "    print()\n",
        "\n",
        "# lower part\n",
        "for i in range(n,0,-1):\n",
        "    for j in range(i, n, 1):\n",
        "        print(\" \", end=\"\")\n",
        "    for j in range(1, i*2, 1):\n",
        "        print(\"*\", end=\"\")\n",
        "    print()\n"
      ],
      "metadata": {
        "colab": {
          "base_uri": "https://localhost:8080/"
        },
        "id": "SM5ethUekwqj",
        "outputId": "5ffb3020-c516-453b-98a4-f6614cf26337"
      },
      "execution_count": 278,
      "outputs": [
        {
          "output_type": "stream",
          "name": "stdout",
          "text": [
            " ***   ***\n",
            "***** *****\n",
            "***********\n",
            " *********\n",
            "  *******\n",
            "   *****\n",
            "    ***\n",
            "     *\n"
          ]
        }
      ]
    },
    {
      "cell_type": "code",
      "source": [
        "#50\n",
        "# heart pattern \n",
        "n = 6\n",
        "\n",
        "# upper part of the heart\n",
        "for i in range(n//2, n, 2):\n",
        "    # print first spaces\n",
        "    for j in range(1, n-i ,2):\n",
        "        print(\" \", end=\"\")\n",
        "    # print first stars\n",
        "    for j in range(1, i+1, 1):\n",
        "        print(\"*\", end=\"\")\n",
        "    # print second spaces\n",
        "    for j in range(1, n-i+1, 1):\n",
        "        print(\" \", end=\"\")\n",
        "    # print second stars\n",
        "    for j in range(1, i+1, 1):\n",
        "        print(\"*\", end=\"\")\n",
        "    print()\n",
        "\n",
        "# lower part\n",
        "for i in range(n,0,-1):\n",
        "    for j in range(i, n, 1):\n",
        "        print(\" \", end=\"\")\n",
        "    for j in range(1, i*2, 1):\n",
        "        print(\"*\", end=\"\")\n",
        "    print()\n"
      ],
      "metadata": {
        "colab": {
          "base_uri": "https://localhost:8080/"
        },
        "id": "V8PYRXppkw9h",
        "outputId": "7520fb09-31cf-4498-cc2c-b6f03b920171"
      },
      "execution_count": 279,
      "outputs": [
        {
          "output_type": "stream",
          "name": "stdout",
          "text": [
            " ***   ***\n",
            "***** *****\n",
            "***********\n",
            " *********\n",
            "  *******\n",
            "   *****\n",
            "    ***\n",
            "     *\n"
          ]
        }
      ]
    },
    {
      "cell_type": "code",
      "source": [
        "#50\n",
        "# heart pattern \n",
        "n = 6\n",
        "\n",
        "# upper part of the heart\n",
        "for i in range(n//2, n, 2):\n",
        "    # print first spaces\n",
        "    for j in range(1, n-i ,2):\n",
        "        print(\" \", end=\"\")\n",
        "    # print first stars\n",
        "    for j in range(1, i+1, 1):\n",
        "        print(\"*\", end=\"\")\n",
        "    # print second spaces\n",
        "    for j in range(1, n-i+1, 1):\n",
        "        print(\" \", end=\"\")\n",
        "    # print second stars\n",
        "    for j in range(1, i+1, 1):\n",
        "        print(\"*\", end=\"\")\n",
        "    print()\n",
        "\n",
        "# lower part\n",
        "for i in range(n,0,-1):\n",
        "    for j in range(i, n, 1):\n",
        "        print(\" \", end=\"\")\n",
        "    for j in range(1, i*2, 1):\n",
        "        print(\"*\", end=\"\")\n",
        "    print()\n"
      ],
      "metadata": {
        "colab": {
          "base_uri": "https://localhost:8080/"
        },
        "id": "HTDrEnjBkxNw",
        "outputId": "5cae175a-ea2d-483c-c19c-c2feecdee354"
      },
      "execution_count": 280,
      "outputs": [
        {
          "output_type": "stream",
          "name": "stdout",
          "text": [
            " ***   ***\n",
            "***** *****\n",
            "***********\n",
            " *********\n",
            "  *******\n",
            "   *****\n",
            "    ***\n",
            "     *\n"
          ]
        }
      ]
    },
    {
      "cell_type": "code",
      "source": [
        "#50\n",
        "# heart pattern \n",
        "n = 6\n",
        "\n",
        "# upper part of the heart\n",
        "for i in range(n//2, n, 2):\n",
        "    # print first spaces\n",
        "    for j in range(1, n-i ,2):\n",
        "        print(\" \", end=\"\")\n",
        "    # print first stars\n",
        "    for j in range(1, i+1, 1):\n",
        "        print(\"*\", end=\"\")\n",
        "    # print second spaces\n",
        "    for j in range(1, n-i+1, 1):\n",
        "        print(\" \", end=\"\")\n",
        "    # print second stars\n",
        "    for j in range(1, i+1, 1):\n",
        "        print(\"*\", end=\"\")\n",
        "    print()\n",
        "\n",
        "# lower part\n",
        "for i in range(n,0,-1):\n",
        "    for j in range(i, n, 1):\n",
        "        print(\" \", end=\"\")\n",
        "    for j in range(1, i*2, 1):\n",
        "        print(\"*\", end=\"\")\n",
        "    print()\n"
      ],
      "metadata": {
        "colab": {
          "base_uri": "https://localhost:8080/"
        },
        "id": "L3yoM1c5kyLT",
        "outputId": "3e525ccc-f186-4ad1-8daa-616146997c71"
      },
      "execution_count": 281,
      "outputs": [
        {
          "output_type": "stream",
          "name": "stdout",
          "text": [
            " ***   ***\n",
            "***** *****\n",
            "***********\n",
            " *********\n",
            "  *******\n",
            "   *****\n",
            "    ***\n",
            "     *\n"
          ]
        }
      ]
    },
    {
      "cell_type": "code",
      "source": [
        "#50\n",
        "# heart pattern \n",
        "n = 6\n",
        "\n",
        "# upper part of the heart\n",
        "for i in range(n//2, n, 2):\n",
        "    # print first spaces\n",
        "    for j in range(1, n-i ,2):\n",
        "        print(\" \", end=\"\")\n",
        "    # print first stars\n",
        "    for j in range(1, i+1, 1):\n",
        "        print(\"*\", end=\"\")\n",
        "    # print second spaces\n",
        "    for j in range(1, n-i+1, 1):\n",
        "        print(\" \", end=\"\")\n",
        "    # print second stars\n",
        "    for j in range(1, i+1, 1):\n",
        "        print(\"*\", end=\"\")\n",
        "    print()\n",
        "\n",
        "# lower part\n",
        "for i in range(n,0,-1):\n",
        "    for j in range(i, n, 1):\n",
        "        print(\" \", end=\"\")\n",
        "    for j in range(1, i*2, 1):\n",
        "        print(\"*\", end=\"\")\n",
        "    print()\n"
      ],
      "metadata": {
        "colab": {
          "base_uri": "https://localhost:8080/"
        },
        "id": "hOFEBKTLkya-",
        "outputId": "b1f3a219-48bf-4a42-a9a0-d1f9cf0c6737"
      },
      "execution_count": 282,
      "outputs": [
        {
          "output_type": "stream",
          "name": "stdout",
          "text": [
            " ***   ***\n",
            "***** *****\n",
            "***********\n",
            " *********\n",
            "  *******\n",
            "   *****\n",
            "    ***\n",
            "     *\n"
          ]
        }
      ]
    },
    {
      "cell_type": "code",
      "source": [
        "#50\n",
        "# heart pattern \n",
        "n = 6\n",
        "\n",
        "# upper part of the heart\n",
        "for i in range(n//2, n, 2):\n",
        "    # print first spaces\n",
        "    for j in range(1, n-i ,2):\n",
        "        print(\" \", end=\"\")\n",
        "    # print first stars\n",
        "    for j in range(1, i+1, 1):\n",
        "        print(\"*\", end=\"\")\n",
        "    # print second spaces\n",
        "    for j in range(1, n-i+1, 1):\n",
        "        print(\" \", end=\"\")\n",
        "    # print second stars\n",
        "    for j in range(1, i+1, 1):\n",
        "        print(\"*\", end=\"\")\n",
        "    print()\n",
        "\n",
        "# lower part\n",
        "for i in range(n,0,-1):\n",
        "    for j in range(i, n, 1):\n",
        "        print(\" \", end=\"\")\n",
        "    for j in range(1, i*2, 1):\n",
        "        print(\"*\", end=\"\")\n",
        "    print()\n"
      ],
      "metadata": {
        "colab": {
          "base_uri": "https://localhost:8080/"
        },
        "id": "BS65aBrXkypV",
        "outputId": "46ee5652-9aa0-4885-9745-c71477fd832e"
      },
      "execution_count": 283,
      "outputs": [
        {
          "output_type": "stream",
          "name": "stdout",
          "text": [
            " ***   ***\n",
            "***** *****\n",
            "***********\n",
            " *********\n",
            "  *******\n",
            "   *****\n",
            "    ***\n",
            "     *\n"
          ]
        }
      ]
    },
    {
      "cell_type": "code",
      "source": [
        "#50\n",
        "# heart pattern \n",
        "n = 6\n",
        "\n",
        "# upper part of the heart\n",
        "for i in range(n//2, n, 2):\n",
        "    # print first spaces\n",
        "    for j in range(1, n-i ,2):\n",
        "        print(\" \", end=\"\")\n",
        "    # print first stars\n",
        "    for j in range(1, i+1, 1):\n",
        "        print(\"*\", end=\"\")\n",
        "    # print second spaces\n",
        "    for j in range(1, n-i+1, 1):\n",
        "        print(\" \", end=\"\")\n",
        "    # print second stars\n",
        "    for j in range(1, i+1, 1):\n",
        "        print(\"*\", end=\"\")\n",
        "    print()\n",
        "\n",
        "# lower part\n",
        "for i in range(n,0,-1):\n",
        "    for j in range(i, n, 1):\n",
        "        print(\" \", end=\"\")\n",
        "    for j in range(1, i*2, 1):\n",
        "        print(\"*\", end=\"\")\n",
        "    print()\n"
      ],
      "metadata": {
        "colab": {
          "base_uri": "https://localhost:8080/"
        },
        "id": "0gyYiXbHky5m",
        "outputId": "ceb7cf4f-182a-4a9a-8a9d-59e601978371"
      },
      "execution_count": 284,
      "outputs": [
        {
          "output_type": "stream",
          "name": "stdout",
          "text": [
            " ***   ***\n",
            "***** *****\n",
            "***********\n",
            " *********\n",
            "  *******\n",
            "   *****\n",
            "    ***\n",
            "     *\n"
          ]
        }
      ]
    },
    {
      "cell_type": "code",
      "source": [
        "#50\n",
        "# heart pattern \n",
        "n = 6\n",
        "\n",
        "# upper part of the heart\n",
        "for i in range(n//2, n, 2):\n",
        "    # print first spaces\n",
        "    for j in range(1, n-i ,2):\n",
        "        print(\" \", end=\"\")\n",
        "    # print first stars\n",
        "    for j in range(1, i+1, 1):\n",
        "        print(\"*\", end=\"\")\n",
        "    # print second spaces\n",
        "    for j in range(1, n-i+1, 1):\n",
        "        print(\" \", end=\"\")\n",
        "    # print second stars\n",
        "    for j in range(1, i+1, 1):\n",
        "        print(\"*\", end=\"\")\n",
        "    print()\n",
        "\n",
        "# lower part\n",
        "for i in range(n,0,-1):\n",
        "    for j in range(i, n, 1):\n",
        "        print(\" \", end=\"\")\n",
        "    for j in range(1, i*2, 1):\n",
        "        print(\"*\", end=\"\")\n",
        "    print()\n"
      ],
      "metadata": {
        "colab": {
          "base_uri": "https://localhost:8080/"
        },
        "id": "d7jPawbhkzLS",
        "outputId": "87b8aebc-dc20-4e22-a9d1-b3790b59e2b4"
      },
      "execution_count": 285,
      "outputs": [
        {
          "output_type": "stream",
          "name": "stdout",
          "text": [
            " ***   ***\n",
            "***** *****\n",
            "***********\n",
            " *********\n",
            "  *******\n",
            "   *****\n",
            "    ***\n",
            "     *\n"
          ]
        }
      ]
    },
    {
      "cell_type": "code",
      "source": [
        "#50\n",
        "# heart pattern \n",
        "n = 6\n",
        "\n",
        "# upper part of the heart\n",
        "for i in range(n//2, n, 2):\n",
        "    # print first spaces\n",
        "    for j in range(1, n-i ,2):\n",
        "        print(\" \", end=\"\")\n",
        "    # print first stars\n",
        "    for j in range(1, i+1, 1):\n",
        "        print(\"*\", end=\"\")\n",
        "    # print second spaces\n",
        "    for j in range(1, n-i+1, 1):\n",
        "        print(\" \", end=\"\")\n",
        "    # print second stars\n",
        "    for j in range(1, i+1, 1):\n",
        "        print(\"*\", end=\"\")\n",
        "    print()\n",
        "\n",
        "# lower part\n",
        "for i in range(n,0,-1):\n",
        "    for j in range(i, n, 1):\n",
        "        print(\" \", end=\"\")\n",
        "    for j in range(1, i*2, 1):\n",
        "        print(\"*\", end=\"\")\n",
        "    print()\n"
      ],
      "metadata": {
        "colab": {
          "base_uri": "https://localhost:8080/"
        },
        "id": "PCa5WHH_k0cs",
        "outputId": "1625fbec-3c7a-4e91-a8c6-58d4d953d707"
      },
      "execution_count": 286,
      "outputs": [
        {
          "output_type": "stream",
          "name": "stdout",
          "text": [
            " ***   ***\n",
            "***** *****\n",
            "***********\n",
            " *********\n",
            "  *******\n",
            "   *****\n",
            "    ***\n",
            "     *\n"
          ]
        }
      ]
    },
    {
      "cell_type": "code",
      "source": [
        "#50\n",
        "# heart pattern \n",
        "n = 6\n",
        "\n",
        "# upper part of the heart\n",
        "for i in range(n//2, n, 2):\n",
        "    # print first spaces\n",
        "    for j in range(1, n-i ,2):\n",
        "        print(\" \", end=\"\")\n",
        "    # print first stars\n",
        "    for j in range(1, i+1, 1):\n",
        "        print(\"*\", end=\"\")\n",
        "    # print second spaces\n",
        "    for j in range(1, n-i+1, 1):\n",
        "        print(\" \", end=\"\")\n",
        "    # print second stars\n",
        "    for j in range(1, i+1, 1):\n",
        "        print(\"*\", end=\"\")\n",
        "    print()\n",
        "\n",
        "# lower part\n",
        "for i in range(n,0,-1):\n",
        "    for j in range(i, n, 1):\n",
        "        print(\" \", end=\"\")\n",
        "    for j in range(1, i*2, 1):\n",
        "        print(\"*\", end=\"\")\n",
        "    print()\n"
      ],
      "metadata": {
        "colab": {
          "base_uri": "https://localhost:8080/"
        },
        "id": "BKfo1C_1k1Vv",
        "outputId": "eb2ab3df-ffe6-4b13-9944-783b9dc36639"
      },
      "execution_count": 287,
      "outputs": [
        {
          "output_type": "stream",
          "name": "stdout",
          "text": [
            " ***   ***\n",
            "***** *****\n",
            "***********\n",
            " *********\n",
            "  *******\n",
            "   *****\n",
            "    ***\n",
            "     *\n"
          ]
        }
      ]
    },
    {
      "cell_type": "code",
      "source": [
        "#50\n",
        "# heart pattern \n",
        "n = 6\n",
        "\n",
        "# upper part of the heart\n",
        "for i in range(n//2, n, 2):\n",
        "    # print first spaces\n",
        "    for j in range(1, n-i ,2):\n",
        "        print(\" \", end=\"\")\n",
        "    # print first stars\n",
        "    for j in range(1, i+1, 1):\n",
        "        print(\"*\", end=\"\")\n",
        "    # print second spaces\n",
        "    for j in range(1, n-i+1, 1):\n",
        "        print(\" \", end=\"\")\n",
        "    # print second stars\n",
        "    for j in range(1, i+1, 1):\n",
        "        print(\"*\", end=\"\")\n",
        "    print()\n",
        "\n",
        "# lower part\n",
        "for i in range(n,0,-1):\n",
        "    for j in range(i, n, 1):\n",
        "        print(\" \", end=\"\")\n",
        "    for j in range(1, i*2, 1):\n",
        "        print(\"*\", end=\"\")\n",
        "    print()\n"
      ],
      "metadata": {
        "colab": {
          "base_uri": "https://localhost:8080/"
        },
        "id": "0pVy_bVQk1vB",
        "outputId": "a884b926-759c-4c26-ad6d-fefd3565aca1"
      },
      "execution_count": 288,
      "outputs": [
        {
          "output_type": "stream",
          "name": "stdout",
          "text": [
            " ***   ***\n",
            "***** *****\n",
            "***********\n",
            " *********\n",
            "  *******\n",
            "   *****\n",
            "    ***\n",
            "     *\n"
          ]
        }
      ]
    },
    {
      "cell_type": "code",
      "source": [
        "#50\n",
        "# heart pattern \n",
        "n = 6\n",
        "\n",
        "# upper part of the heart\n",
        "for i in range(n//2, n, 2):\n",
        "    # print first spaces\n",
        "    for j in range(1, n-i ,2):\n",
        "        print(\" \", end=\"\")\n",
        "    # print first stars\n",
        "    for j in range(1, i+1, 1):\n",
        "        print(\"*\", end=\"\")\n",
        "    # print second spaces\n",
        "    for j in range(1, n-i+1, 1):\n",
        "        print(\" \", end=\"\")\n",
        "    # print second stars\n",
        "    for j in range(1, i+1, 1):\n",
        "        print(\"*\", end=\"\")\n",
        "    print()\n",
        "\n",
        "# lower part\n",
        "for i in range(n,0,-1):\n",
        "    for j in range(i, n, 1):\n",
        "        print(\" \", end=\"\")\n",
        "    for j in range(1, i*2, 1):\n",
        "        print(\"*\", end=\"\")\n",
        "    print()\n"
      ],
      "metadata": {
        "colab": {
          "base_uri": "https://localhost:8080/"
        },
        "id": "7T9TW2dok1_8",
        "outputId": "f3fa7eb4-ef88-4048-b5a6-ee1fb63ce314"
      },
      "execution_count": 289,
      "outputs": [
        {
          "output_type": "stream",
          "name": "stdout",
          "text": [
            " ***   ***\n",
            "***** *****\n",
            "***********\n",
            " *********\n",
            "  *******\n",
            "   *****\n",
            "    ***\n",
            "     *\n"
          ]
        }
      ]
    },
    {
      "cell_type": "code",
      "source": [
        "#50\n",
        "# heart pattern \n",
        "n = 6\n",
        "\n",
        "# upper part of the heart\n",
        "for i in range(n//2, n, 2):\n",
        "    # print first spaces\n",
        "    for j in range(1, n-i ,2):\n",
        "        print(\" \", end=\"\")\n",
        "    # print first stars\n",
        "    for j in range(1, i+1, 1):\n",
        "        print(\"*\", end=\"\")\n",
        "    # print second spaces\n",
        "    for j in range(1, n-i+1, 1):\n",
        "        print(\" \", end=\"\")\n",
        "    # print second stars\n",
        "    for j in range(1, i+1, 1):\n",
        "        print(\"*\", end=\"\")\n",
        "    print()\n",
        "\n",
        "# lower part\n",
        "for i in range(n,0,-1):\n",
        "    for j in range(i, n, 1):\n",
        "        print(\" \", end=\"\")\n",
        "    for j in range(1, i*2, 1):\n",
        "        print(\"*\", end=\"\")\n",
        "    print()\n"
      ],
      "metadata": {
        "colab": {
          "base_uri": "https://localhost:8080/"
        },
        "id": "KU3ZK8ozk2QQ",
        "outputId": "3a6530b2-0eb3-4d45-bb7c-0618694cd5a4"
      },
      "execution_count": 290,
      "outputs": [
        {
          "output_type": "stream",
          "name": "stdout",
          "text": [
            " ***   ***\n",
            "***** *****\n",
            "***********\n",
            " *********\n",
            "  *******\n",
            "   *****\n",
            "    ***\n",
            "     *\n"
          ]
        }
      ]
    },
    {
      "cell_type": "code",
      "source": [
        "#50\n",
        "# heart pattern \n",
        "n = 6\n",
        "\n",
        "# upper part of the heart\n",
        "for i in range(n//2, n, 2):\n",
        "    # print first spaces\n",
        "    for j in range(1, n-i ,2):\n",
        "        print(\" \", end=\"\")\n",
        "    # print first stars\n",
        "    for j in range(1, i+1, 1):\n",
        "        print(\"*\", end=\"\")\n",
        "    # print second spaces\n",
        "    for j in range(1, n-i+1, 1):\n",
        "        print(\" \", end=\"\")\n",
        "    # print second stars\n",
        "    for j in range(1, i+1, 1):\n",
        "        print(\"*\", end=\"\")\n",
        "    print()\n",
        "\n",
        "# lower part\n",
        "for i in range(n,0,-1):\n",
        "    for j in range(i, n, 1):\n",
        "        print(\" \", end=\"\")\n",
        "    for j in range(1, i*2, 1):\n",
        "        print(\"*\", end=\"\")\n",
        "    print()\n"
      ],
      "metadata": {
        "colab": {
          "base_uri": "https://localhost:8080/"
        },
        "id": "X2ubw_BKk2gM",
        "outputId": "f201ca99-39ef-4b68-ee87-0d778b2b457b"
      },
      "execution_count": 291,
      "outputs": [
        {
          "output_type": "stream",
          "name": "stdout",
          "text": [
            " ***   ***\n",
            "***** *****\n",
            "***********\n",
            " *********\n",
            "  *******\n",
            "   *****\n",
            "    ***\n",
            "     *\n"
          ]
        }
      ]
    },
    {
      "cell_type": "code",
      "source": [
        "#50\n",
        "# heart pattern \n",
        "n = 6\n",
        "\n",
        "# upper part of the heart\n",
        "for i in range(n//2, n, 2):\n",
        "    # print first spaces\n",
        "    for j in range(1, n-i ,2):\n",
        "        print(\" \", end=\"\")\n",
        "    # print first stars\n",
        "    for j in range(1, i+1, 1):\n",
        "        print(\"*\", end=\"\")\n",
        "    # print second spaces\n",
        "    for j in range(1, n-i+1, 1):\n",
        "        print(\" \", end=\"\")\n",
        "    # print second stars\n",
        "    for j in range(1, i+1, 1):\n",
        "        print(\"*\", end=\"\")\n",
        "    print()\n",
        "\n",
        "# lower part\n",
        "for i in range(n,0,-1):\n",
        "    for j in range(i, n, 1):\n",
        "        print(\" \", end=\"\")\n",
        "    for j in range(1, i*2, 1):\n",
        "        print(\"*\", end=\"\")\n",
        "    print()\n"
      ],
      "metadata": {
        "colab": {
          "base_uri": "https://localhost:8080/"
        },
        "id": "KX7kcSK6k2w6",
        "outputId": "872882d9-55ce-4156-c429-6b05aebd67fb"
      },
      "execution_count": 292,
      "outputs": [
        {
          "output_type": "stream",
          "name": "stdout",
          "text": [
            " ***   ***\n",
            "***** *****\n",
            "***********\n",
            " *********\n",
            "  *******\n",
            "   *****\n",
            "    ***\n",
            "     *\n"
          ]
        }
      ]
    },
    {
      "cell_type": "code",
      "source": [
        "#50\n",
        "# heart pattern \n",
        "n = 6\n",
        "\n",
        "# upper part of the heart\n",
        "for i in range(n//2, n, 2):\n",
        "    # print first spaces\n",
        "    for j in range(1, n-i ,2):\n",
        "        print(\" \", end=\"\")\n",
        "    # print first stars\n",
        "    for j in range(1, i+1, 1):\n",
        "        print(\"*\", end=\"\")\n",
        "    # print second spaces\n",
        "    for j in range(1, n-i+1, 1):\n",
        "        print(\" \", end=\"\")\n",
        "    # print second stars\n",
        "    for j in range(1, i+1, 1):\n",
        "        print(\"*\", end=\"\")\n",
        "    print()\n",
        "\n",
        "# lower part\n",
        "for i in range(n,0,-1):\n",
        "    for j in range(i, n, 1):\n",
        "        print(\" \", end=\"\")\n",
        "    for j in range(1, i*2, 1):\n",
        "        print(\"*\", end=\"\")\n",
        "    print()\n"
      ],
      "metadata": {
        "colab": {
          "base_uri": "https://localhost:8080/"
        },
        "id": "skKG76Q9k3AZ",
        "outputId": "82c9e8ba-7685-40d3-e7d4-efcab2a4662d"
      },
      "execution_count": 293,
      "outputs": [
        {
          "output_type": "stream",
          "name": "stdout",
          "text": [
            " ***   ***\n",
            "***** *****\n",
            "***********\n",
            " *********\n",
            "  *******\n",
            "   *****\n",
            "    ***\n",
            "     *\n"
          ]
        }
      ]
    },
    {
      "cell_type": "code",
      "source": [
        "#50\n",
        "# heart pattern \n",
        "n = 6\n",
        "\n",
        "# upper part of the heart\n",
        "for i in range(n//2, n, 2):\n",
        "    # print first spaces\n",
        "    for j in range(1, n-i ,2):\n",
        "        print(\" \", end=\"\")\n",
        "    # print first stars\n",
        "    for j in range(1, i+1, 1):\n",
        "        print(\"*\", end=\"\")\n",
        "    # print second spaces\n",
        "    for j in range(1, n-i+1, 1):\n",
        "        print(\" \", end=\"\")\n",
        "    # print second stars\n",
        "    for j in range(1, i+1, 1):\n",
        "        print(\"*\", end=\"\")\n",
        "    print()\n",
        "\n",
        "# lower part\n",
        "for i in range(n,0,-1):\n",
        "    for j in range(i, n, 1):\n",
        "        print(\" \", end=\"\")\n",
        "    for j in range(1, i*2, 1):\n",
        "        print(\"*\", end=\"\")\n",
        "    print()\n"
      ],
      "metadata": {
        "colab": {
          "base_uri": "https://localhost:8080/"
        },
        "id": "-rE7Ijwwk3RB",
        "outputId": "b0b21909-c5d9-4347-bd0e-0ca6e71e8e0f"
      },
      "execution_count": 294,
      "outputs": [
        {
          "output_type": "stream",
          "name": "stdout",
          "text": [
            " ***   ***\n",
            "***** *****\n",
            "***********\n",
            " *********\n",
            "  *******\n",
            "   *****\n",
            "    ***\n",
            "     *\n"
          ]
        }
      ]
    },
    {
      "cell_type": "code",
      "source": [
        "#50\n",
        "# heart pattern \n",
        "n = 6\n",
        "\n",
        "# upper part of the heart\n",
        "for i in range(n//2, n, 2):\n",
        "    # print first spaces\n",
        "    for j in range(1, n-i ,2):\n",
        "        print(\" \", end=\"\")\n",
        "    # print first stars\n",
        "    for j in range(1, i+1, 1):\n",
        "        print(\"*\", end=\"\")\n",
        "    # print second spaces\n",
        "    for j in range(1, n-i+1, 1):\n",
        "        print(\" \", end=\"\")\n",
        "    # print second stars\n",
        "    for j in range(1, i+1, 1):\n",
        "        print(\"*\", end=\"\")\n",
        "    print()\n",
        "\n",
        "# lower part\n",
        "for i in range(n,0,-1):\n",
        "    for j in range(i, n, 1):\n",
        "        print(\" \", end=\"\")\n",
        "    for j in range(1, i*2, 1):\n",
        "        print(\"*\", end=\"\")\n",
        "    print()\n"
      ],
      "metadata": {
        "colab": {
          "base_uri": "https://localhost:8080/"
        },
        "id": "DDZ5PEL0k3hS",
        "outputId": "5dfee4f5-cae0-44e0-b89f-73bf0a01a811"
      },
      "execution_count": 295,
      "outputs": [
        {
          "output_type": "stream",
          "name": "stdout",
          "text": [
            " ***   ***\n",
            "***** *****\n",
            "***********\n",
            " *********\n",
            "  *******\n",
            "   *****\n",
            "    ***\n",
            "     *\n"
          ]
        }
      ]
    },
    {
      "cell_type": "code",
      "source": [
        "#50\n",
        "# heart pattern \n",
        "n = 6\n",
        "\n",
        "# upper part of the heart\n",
        "for i in range(n//2, n, 2):\n",
        "    # print first spaces\n",
        "    for j in range(1, n-i ,2):\n",
        "        print(\" \", end=\"\")\n",
        "    # print first stars\n",
        "    for j in range(1, i+1, 1):\n",
        "        print(\"*\", end=\"\")\n",
        "    # print second spaces\n",
        "    for j in range(1, n-i+1, 1):\n",
        "        print(\" \", end=\"\")\n",
        "    # print second stars\n",
        "    for j in range(1, i+1, 1):\n",
        "        print(\"*\", end=\"\")\n",
        "    print()\n",
        "\n",
        "# lower part\n",
        "for i in range(n,0,-1):\n",
        "    for j in range(i, n, 1):\n",
        "        print(\" \", end=\"\")\n",
        "    for j in range(1, i*2, 1):\n",
        "        print(\"*\", end=\"\")\n",
        "    print()\n"
      ],
      "metadata": {
        "colab": {
          "base_uri": "https://localhost:8080/"
        },
        "id": "cozsH6Ftk3xn",
        "outputId": "78faa7f8-9f11-4268-bbfb-1f1da4e90145"
      },
      "execution_count": 296,
      "outputs": [
        {
          "output_type": "stream",
          "name": "stdout",
          "text": [
            " ***   ***\n",
            "***** *****\n",
            "***********\n",
            " *********\n",
            "  *******\n",
            "   *****\n",
            "    ***\n",
            "     *\n"
          ]
        }
      ]
    },
    {
      "cell_type": "code",
      "source": [
        "#50\n",
        "# heart pattern \n",
        "n = 6\n",
        "\n",
        "# upper part of the heart\n",
        "for i in range(n//2, n, 2):\n",
        "    # print first spaces\n",
        "    for j in range(1, n-i ,2):\n",
        "        print(\" \", end=\"\")\n",
        "    # print first stars\n",
        "    for j in range(1, i+1, 1):\n",
        "        print(\"*\", end=\"\")\n",
        "    # print second spaces\n",
        "    for j in range(1, n-i+1, 1):\n",
        "        print(\" \", end=\"\")\n",
        "    # print second stars\n",
        "    for j in range(1, i+1, 1):\n",
        "        print(\"*\", end=\"\")\n",
        "    print()\n",
        "\n",
        "# lower part\n",
        "for i in range(n,0,-1):\n",
        "    for j in range(i, n, 1):\n",
        "        print(\" \", end=\"\")\n",
        "    for j in range(1, i*2, 1):\n",
        "        print(\"*\", end=\"\")\n",
        "    print()\n"
      ],
      "metadata": {
        "colab": {
          "base_uri": "https://localhost:8080/"
        },
        "id": "PyQAsEHDk4A-",
        "outputId": "1e0e3fd5-79ef-4fb3-b8f5-f2064f72a2a4"
      },
      "execution_count": 297,
      "outputs": [
        {
          "output_type": "stream",
          "name": "stdout",
          "text": [
            " ***   ***\n",
            "***** *****\n",
            "***********\n",
            " *********\n",
            "  *******\n",
            "   *****\n",
            "    ***\n",
            "     *\n"
          ]
        }
      ]
    },
    {
      "cell_type": "code",
      "source": [
        "#50\n",
        "# heart pattern \n",
        "n = 6\n",
        "\n",
        "# upper part of the heart\n",
        "for i in range(n//2, n, 2):\n",
        "    # print first spaces\n",
        "    for j in range(1, n-i ,2):\n",
        "        print(\" \", end=\"\")\n",
        "    # print first stars\n",
        "    for j in range(1, i+1, 1):\n",
        "        print(\"*\", end=\"\")\n",
        "    # print second spaces\n",
        "    for j in range(1, n-i+1, 1):\n",
        "        print(\" \", end=\"\")\n",
        "    # print second stars\n",
        "    for j in range(1, i+1, 1):\n",
        "        print(\"*\", end=\"\")\n",
        "    print()\n",
        "\n",
        "# lower part\n",
        "for i in range(n,0,-1):\n",
        "    for j in range(i, n, 1):\n",
        "        print(\" \", end=\"\")\n",
        "    for j in range(1, i*2, 1):\n",
        "        print(\"*\", end=\"\")\n",
        "    print()\n"
      ],
      "metadata": {
        "colab": {
          "base_uri": "https://localhost:8080/"
        },
        "id": "Fwv-ZX1Bk4QT",
        "outputId": "e975ac83-d4a5-4966-a696-9299df09cf3b"
      },
      "execution_count": 298,
      "outputs": [
        {
          "output_type": "stream",
          "name": "stdout",
          "text": [
            " ***   ***\n",
            "***** *****\n",
            "***********\n",
            " *********\n",
            "  *******\n",
            "   *****\n",
            "    ***\n",
            "     *\n"
          ]
        }
      ]
    },
    {
      "cell_type": "code",
      "source": [
        "#50\n",
        "# heart pattern \n",
        "n = 6\n",
        "\n",
        "# upper part of the heart\n",
        "for i in range(n//2, n, 2):\n",
        "    # print first spaces\n",
        "    for j in range(1, n-i ,2):\n",
        "        print(\" \", end=\"\")\n",
        "    # print first stars\n",
        "    for j in range(1, i+1, 1):\n",
        "        print(\"*\", end=\"\")\n",
        "    # print second spaces\n",
        "    for j in range(1, n-i+1, 1):\n",
        "        print(\" \", end=\"\")\n",
        "    # print second stars\n",
        "    for j in range(1, i+1, 1):\n",
        "        print(\"*\", end=\"\")\n",
        "    print()\n",
        "\n",
        "# lower part\n",
        "for i in range(n,0,-1):\n",
        "    for j in range(i, n, 1):\n",
        "        print(\" \", end=\"\")\n",
        "    for j in range(1, i*2, 1):\n",
        "        print(\"*\", end=\"\")\n",
        "    print()\n"
      ],
      "metadata": {
        "colab": {
          "base_uri": "https://localhost:8080/"
        },
        "id": "saSNFUzSk4le",
        "outputId": "cd39c097-7a71-44d6-fb02-a5b27dfd324a"
      },
      "execution_count": 299,
      "outputs": [
        {
          "output_type": "stream",
          "name": "stdout",
          "text": [
            " ***   ***\n",
            "***** *****\n",
            "***********\n",
            " *********\n",
            "  *******\n",
            "   *****\n",
            "    ***\n",
            "     *\n"
          ]
        }
      ]
    },
    {
      "cell_type": "code",
      "source": [
        "#50\n",
        "# heart pattern \n",
        "n = 6\n",
        "\n",
        "# upper part of the heart\n",
        "for i in range(n//2, n, 2):\n",
        "    # print first spaces\n",
        "    for j in range(1, n-i ,2):\n",
        "        print(\" \", end=\"\")\n",
        "    # print first stars\n",
        "    for j in range(1, i+1, 1):\n",
        "        print(\"*\", end=\"\")\n",
        "    # print second spaces\n",
        "    for j in range(1, n-i+1, 1):\n",
        "        print(\" \", end=\"\")\n",
        "    # print second stars\n",
        "    for j in range(1, i+1, 1):\n",
        "        print(\"*\", end=\"\")\n",
        "    print()\n",
        "\n",
        "# lower part\n",
        "for i in range(n,0,-1):\n",
        "    for j in range(i, n, 1):\n",
        "        print(\" \", end=\"\")\n",
        "    for j in range(1, i*2, 1):\n",
        "        print(\"*\", end=\"\")\n",
        "    print()\n"
      ],
      "metadata": {
        "colab": {
          "base_uri": "https://localhost:8080/"
        },
        "id": "fJGzgQX6k42Y",
        "outputId": "b5eda5a3-f454-47a3-bc50-b0fb9aac2c5f"
      },
      "execution_count": 300,
      "outputs": [
        {
          "output_type": "stream",
          "name": "stdout",
          "text": [
            " ***   ***\n",
            "***** *****\n",
            "***********\n",
            " *********\n",
            "  *******\n",
            "   *****\n",
            "    ***\n",
            "     *\n"
          ]
        }
      ]
    },
    {
      "cell_type": "code",
      "source": [
        "#50\n",
        "# heart pattern \n",
        "n = 6\n",
        "\n",
        "# upper part of the heart\n",
        "for i in range(n//2, n, 2):\n",
        "    # print first spaces\n",
        "    for j in range(1, n-i ,2):\n",
        "        print(\" \", end=\"\")\n",
        "    # print first stars\n",
        "    for j in range(1, i+1, 1):\n",
        "        print(\"*\", end=\"\")\n",
        "    # print second spaces\n",
        "    for j in range(1, n-i+1, 1):\n",
        "        print(\" \", end=\"\")\n",
        "    # print second stars\n",
        "    for j in range(1, i+1, 1):\n",
        "        print(\"*\", end=\"\")\n",
        "    print()\n",
        "\n",
        "# lower part\n",
        "for i in range(n,0,-1):\n",
        "    for j in range(i, n, 1):\n",
        "        print(\" \", end=\"\")\n",
        "    for j in range(1, i*2, 1):\n",
        "        print(\"*\", end=\"\")\n",
        "    print()\n"
      ],
      "metadata": {
        "colab": {
          "base_uri": "https://localhost:8080/"
        },
        "id": "d9inih4Dk5ji",
        "outputId": "aeca804a-b2b7-4635-fb29-9d4d9c3cb2cf"
      },
      "execution_count": 301,
      "outputs": [
        {
          "output_type": "stream",
          "name": "stdout",
          "text": [
            " ***   ***\n",
            "***** *****\n",
            "***********\n",
            " *********\n",
            "  *******\n",
            "   *****\n",
            "    ***\n",
            "     *\n"
          ]
        }
      ]
    },
    {
      "cell_type": "code",
      "source": [
        "#50\n",
        "# heart pattern \n",
        "n = 6\n",
        "\n",
        "# upper part of the heart\n",
        "for i in range(n//2, n, 2):\n",
        "    # print first spaces\n",
        "    for j in range(1, n-i ,2):\n",
        "        print(\" \", end=\"\")\n",
        "    # print first stars\n",
        "    for j in range(1, i+1, 1):\n",
        "        print(\"*\", end=\"\")\n",
        "    # print second spaces\n",
        "    for j in range(1, n-i+1, 1):\n",
        "        print(\" \", end=\"\")\n",
        "    # print second stars\n",
        "    for j in range(1, i+1, 1):\n",
        "        print(\"*\", end=\"\")\n",
        "    print()\n",
        "\n",
        "# lower part\n",
        "for i in range(n,0,-1):\n",
        "    for j in range(i, n, 1):\n",
        "        print(\" \", end=\"\")\n",
        "    for j in range(1, i*2, 1):\n",
        "        print(\"*\", end=\"\")\n",
        "    print()\n"
      ],
      "metadata": {
        "colab": {
          "base_uri": "https://localhost:8080/"
        },
        "id": "eWPeuc3tk5zp",
        "outputId": "87ae53e3-9c6e-44ca-a467-f54835185d8f"
      },
      "execution_count": 302,
      "outputs": [
        {
          "output_type": "stream",
          "name": "stdout",
          "text": [
            " ***   ***\n",
            "***** *****\n",
            "***********\n",
            " *********\n",
            "  *******\n",
            "   *****\n",
            "    ***\n",
            "     *\n"
          ]
        }
      ]
    },
    {
      "cell_type": "code",
      "source": [
        "#50\n",
        "# heart pattern \n",
        "n = 6\n",
        "\n",
        "# upper part of the heart\n",
        "for i in range(n//2, n, 2):\n",
        "    # print first spaces\n",
        "    for j in range(1, n-i ,2):\n",
        "        print(\" \", end=\"\")\n",
        "    # print first stars\n",
        "    for j in range(1, i+1, 1):\n",
        "        print(\"*\", end=\"\")\n",
        "    # print second spaces\n",
        "    for j in range(1, n-i+1, 1):\n",
        "        print(\" \", end=\"\")\n",
        "    # print second stars\n",
        "    for j in range(1, i+1, 1):\n",
        "        print(\"*\", end=\"\")\n",
        "    print()\n",
        "\n",
        "# lower part\n",
        "for i in range(n,0,-1):\n",
        "    for j in range(i, n, 1):\n",
        "        print(\" \", end=\"\")\n",
        "    for j in range(1, i*2, 1):\n",
        "        print(\"*\", end=\"\")\n",
        "    print()\n"
      ],
      "metadata": {
        "colab": {
          "base_uri": "https://localhost:8080/"
        },
        "id": "aeD4dJCpk6EE",
        "outputId": "6e6c7d1d-382f-4530-8436-7ff772f2a017"
      },
      "execution_count": 303,
      "outputs": [
        {
          "output_type": "stream",
          "name": "stdout",
          "text": [
            " ***   ***\n",
            "***** *****\n",
            "***********\n",
            " *********\n",
            "  *******\n",
            "   *****\n",
            "    ***\n",
            "     *\n"
          ]
        }
      ]
    },
    {
      "cell_type": "code",
      "source": [
        "#50\n",
        "# heart pattern \n",
        "n = 6\n",
        "\n",
        "# upper part of the heart\n",
        "for i in range(n//2, n, 2):\n",
        "    # print first spaces\n",
        "    for j in range(1, n-i ,2):\n",
        "        print(\" \", end=\"\")\n",
        "    # print first stars\n",
        "    for j in range(1, i+1, 1):\n",
        "        print(\"*\", end=\"\")\n",
        "    # print second spaces\n",
        "    for j in range(1, n-i+1, 1):\n",
        "        print(\" \", end=\"\")\n",
        "    # print second stars\n",
        "    for j in range(1, i+1, 1):\n",
        "        print(\"*\", end=\"\")\n",
        "    print()\n",
        "\n",
        "# lower part\n",
        "for i in range(n,0,-1):\n",
        "    for j in range(i, n, 1):\n",
        "        print(\" \", end=\"\")\n",
        "    for j in range(1, i*2, 1):\n",
        "        print(\"*\", end=\"\")\n",
        "    print()\n"
      ],
      "metadata": {
        "colab": {
          "base_uri": "https://localhost:8080/"
        },
        "id": "0m6B1Ygxk6UM",
        "outputId": "a266f450-3a11-490c-8c64-3e81fcc269f4"
      },
      "execution_count": 304,
      "outputs": [
        {
          "output_type": "stream",
          "name": "stdout",
          "text": [
            " ***   ***\n",
            "***** *****\n",
            "***********\n",
            " *********\n",
            "  *******\n",
            "   *****\n",
            "    ***\n",
            "     *\n"
          ]
        }
      ]
    },
    {
      "cell_type": "code",
      "source": [
        "#50\n",
        "# heart pattern \n",
        "n = 6\n",
        "\n",
        "# upper part of the heart\n",
        "for i in range(n//2, n, 2):\n",
        "    # print first spaces\n",
        "    for j in range(1, n-i ,2):\n",
        "        print(\" \", end=\"\")\n",
        "    # print first stars\n",
        "    for j in range(1, i+1, 1):\n",
        "        print(\"*\", end=\"\")\n",
        "    # print second spaces\n",
        "    for j in range(1, n-i+1, 1):\n",
        "        print(\" \", end=\"\")\n",
        "    # print second stars\n",
        "    for j in range(1, i+1, 1):\n",
        "        print(\"*\", end=\"\")\n",
        "    print()\n",
        "\n",
        "# lower part\n",
        "for i in range(n,0,-1):\n",
        "    for j in range(i, n, 1):\n",
        "        print(\" \", end=\"\")\n",
        "    for j in range(1, i*2, 1):\n",
        "        print(\"*\", end=\"\")\n",
        "    print()\n"
      ],
      "metadata": {
        "colab": {
          "base_uri": "https://localhost:8080/"
        },
        "id": "GrALKdVxk6j3",
        "outputId": "070d9f06-b904-40a5-882c-071456c8f657"
      },
      "execution_count": 305,
      "outputs": [
        {
          "output_type": "stream",
          "name": "stdout",
          "text": [
            " ***   ***\n",
            "***** *****\n",
            "***********\n",
            " *********\n",
            "  *******\n",
            "   *****\n",
            "    ***\n",
            "     *\n"
          ]
        }
      ]
    },
    {
      "cell_type": "code",
      "source": [
        "#50\n",
        "# heart pattern \n",
        "n = 6\n",
        "\n",
        "# upper part of the heart\n",
        "for i in range(n//2, n, 2):\n",
        "    # print first spaces\n",
        "    for j in range(1, n-i ,2):\n",
        "        print(\" \", end=\"\")\n",
        "    # print first stars\n",
        "    for j in range(1, i+1, 1):\n",
        "        print(\"*\", end=\"\")\n",
        "    # print second spaces\n",
        "    for j in range(1, n-i+1, 1):\n",
        "        print(\" \", end=\"\")\n",
        "    # print second stars\n",
        "    for j in range(1, i+1, 1):\n",
        "        print(\"*\", end=\"\")\n",
        "    print()\n",
        "\n",
        "# lower part\n",
        "for i in range(n,0,-1):\n",
        "    for j in range(i, n, 1):\n",
        "        print(\" \", end=\"\")\n",
        "    for j in range(1, i*2, 1):\n",
        "        print(\"*\", end=\"\")\n",
        "    print()\n"
      ],
      "metadata": {
        "colab": {
          "base_uri": "https://localhost:8080/"
        },
        "id": "MEbLRrRImB8e",
        "outputId": "ce93835e-725a-491a-f9a3-58018608ded8"
      },
      "execution_count": 306,
      "outputs": [
        {
          "output_type": "stream",
          "name": "stdout",
          "text": [
            " ***   ***\n",
            "***** *****\n",
            "***********\n",
            " *********\n",
            "  *******\n",
            "   *****\n",
            "    ***\n",
            "     *\n"
          ]
        }
      ]
    },
    {
      "cell_type": "code",
      "source": [
        "#50\n",
        "# heart pattern \n",
        "n = 6\n",
        "\n",
        "# upper part of the heart\n",
        "for i in range(n//2, n, 2):\n",
        "    # print first spaces\n",
        "    for j in range(1, n-i ,2):\n",
        "        print(\" \", end=\"\")\n",
        "    # print first stars\n",
        "    for j in range(1, i+1, 1):\n",
        "        print(\"*\", end=\"\")\n",
        "    # print second spaces\n",
        "    for j in range(1, n-i+1, 1):\n",
        "        print(\" \", end=\"\")\n",
        "    # print second stars\n",
        "    for j in range(1, i+1, 1):\n",
        "        print(\"*\", end=\"\")\n",
        "    print()\n",
        "\n",
        "# lower part\n",
        "for i in range(n,0,-1):\n",
        "    for j in range(i, n, 1):\n",
        "        print(\" \", end=\"\")\n",
        "    for j in range(1, i*2, 1):\n",
        "        print(\"*\", end=\"\")\n",
        "    print()\n"
      ],
      "metadata": {
        "colab": {
          "base_uri": "https://localhost:8080/"
        },
        "id": "WM9cREucmCLy",
        "outputId": "1469f48e-574e-4252-cbc0-cdec49352652"
      },
      "execution_count": 307,
      "outputs": [
        {
          "output_type": "stream",
          "name": "stdout",
          "text": [
            " ***   ***\n",
            "***** *****\n",
            "***********\n",
            " *********\n",
            "  *******\n",
            "   *****\n",
            "    ***\n",
            "     *\n"
          ]
        }
      ]
    },
    {
      "cell_type": "code",
      "source": [
        "#50\n",
        "# heart pattern \n",
        "n = 6\n",
        "\n",
        "# upper part of the heart\n",
        "for i in range(n//2, n, 2):\n",
        "    # print first spaces\n",
        "    for j in range(1, n-i ,2):\n",
        "        print(\" \", end=\"\")\n",
        "    # print first stars\n",
        "    for j in range(1, i+1, 1):\n",
        "        print(\"*\", end=\"\")\n",
        "    # print second spaces\n",
        "    for j in range(1, n-i+1, 1):\n",
        "        print(\" \", end=\"\")\n",
        "    # print second stars\n",
        "    for j in range(1, i+1, 1):\n",
        "        print(\"*\", end=\"\")\n",
        "    print()\n",
        "\n",
        "# lower part\n",
        "for i in range(n,0,-1):\n",
        "    for j in range(i, n, 1):\n",
        "        print(\" \", end=\"\")\n",
        "    for j in range(1, i*2, 1):\n",
        "        print(\"*\", end=\"\")\n",
        "    print()\n"
      ],
      "metadata": {
        "colab": {
          "base_uri": "https://localhost:8080/"
        },
        "id": "CgSkjwhDmGY9",
        "outputId": "10e4b362-3bd0-4642-849b-a7b7775cf135"
      },
      "execution_count": 308,
      "outputs": [
        {
          "output_type": "stream",
          "name": "stdout",
          "text": [
            " ***   ***\n",
            "***** *****\n",
            "***********\n",
            " *********\n",
            "  *******\n",
            "   *****\n",
            "    ***\n",
            "     *\n"
          ]
        }
      ]
    },
    {
      "cell_type": "code",
      "source": [
        "#50\n",
        "# heart pattern \n",
        "n = 6\n",
        "\n",
        "# upper part of the heart\n",
        "for i in range(n//2, n, 2):\n",
        "    # print first spaces\n",
        "    for j in range(1, n-i ,2):\n",
        "        print(\" \", end=\"\")\n",
        "    # print first stars\n",
        "    for j in range(1, i+1, 1):\n",
        "        print(\"*\", end=\"\")\n",
        "    # print second spaces\n",
        "    for j in range(1, n-i+1, 1):\n",
        "        print(\" \", end=\"\")\n",
        "    # print second stars\n",
        "    for j in range(1, i+1, 1):\n",
        "        print(\"*\", end=\"\")\n",
        "    print()\n",
        "\n",
        "# lower part\n",
        "for i in range(n,0,-1):\n",
        "    for j in range(i, n, 1):\n",
        "        print(\" \", end=\"\")\n",
        "    for j in range(1, i*2, 1):\n",
        "        print(\"*\", end=\"\")\n",
        "    print()\n"
      ],
      "metadata": {
        "colab": {
          "base_uri": "https://localhost:8080/"
        },
        "id": "DFabQeh7mGti",
        "outputId": "f7ff8b89-1ef4-4823-915b-b99140f0cb92"
      },
      "execution_count": 309,
      "outputs": [
        {
          "output_type": "stream",
          "name": "stdout",
          "text": [
            " ***   ***\n",
            "***** *****\n",
            "***********\n",
            " *********\n",
            "  *******\n",
            "   *****\n",
            "    ***\n",
            "     *\n"
          ]
        }
      ]
    },
    {
      "cell_type": "code",
      "source": [
        "#50\n",
        "# heart pattern \n",
        "n = 6\n",
        "\n",
        "# upper part of the heart\n",
        "for i in range(n//2, n, 2):\n",
        "    # print first spaces\n",
        "    for j in range(1, n-i ,2):\n",
        "        print(\" \", end=\"\")\n",
        "    # print first stars\n",
        "    for j in range(1, i+1, 1):\n",
        "        print(\"*\", end=\"\")\n",
        "    # print second spaces\n",
        "    for j in range(1, n-i+1, 1):\n",
        "        print(\" \", end=\"\")\n",
        "    # print second stars\n",
        "    for j in range(1, i+1, 1):\n",
        "        print(\"*\", end=\"\")\n",
        "    print()\n",
        "\n",
        "# lower part\n",
        "for i in range(n,0,-1):\n",
        "    for j in range(i, n, 1):\n",
        "        print(\" \", end=\"\")\n",
        "    for j in range(1, i*2, 1):\n",
        "        print(\"*\", end=\"\")\n",
        "    print()\n"
      ],
      "metadata": {
        "colab": {
          "base_uri": "https://localhost:8080/"
        },
        "id": "35VyecCDmLEC",
        "outputId": "1cbd26a3-f3ae-433f-af20-f54fb0a129ca"
      },
      "execution_count": 310,
      "outputs": [
        {
          "output_type": "stream",
          "name": "stdout",
          "text": [
            " ***   ***\n",
            "***** *****\n",
            "***********\n",
            " *********\n",
            "  *******\n",
            "   *****\n",
            "    ***\n",
            "     *\n"
          ]
        }
      ]
    },
    {
      "cell_type": "code",
      "source": [
        "#50\n",
        "# heart pattern \n",
        "n = 6\n",
        "\n",
        "# upper part of the heart\n",
        "for i in range(n//2, n, 2):\n",
        "    # print first spaces\n",
        "    for j in range(1, n-i ,2):\n",
        "        print(\" \", end=\"\")\n",
        "    # print first stars\n",
        "    for j in range(1, i+1, 1):\n",
        "        print(\"*\", end=\"\")\n",
        "    # print second spaces\n",
        "    for j in range(1, n-i+1, 1):\n",
        "        print(\" \", end=\"\")\n",
        "    # print second stars\n",
        "    for j in range(1, i+1, 1):\n",
        "        print(\"*\", end=\"\")\n",
        "    print()\n",
        "\n",
        "# lower part\n",
        "for i in range(n,0,-1):\n",
        "    for j in range(i, n, 1):\n",
        "        print(\" \", end=\"\")\n",
        "    for j in range(1, i*2, 1):\n",
        "        print(\"*\", end=\"\")\n",
        "    print()\n"
      ],
      "metadata": {
        "colab": {
          "base_uri": "https://localhost:8080/"
        },
        "id": "WVV_ieqMmLRf",
        "outputId": "24d1c692-554e-4135-d4cb-06cf4323f315"
      },
      "execution_count": 311,
      "outputs": [
        {
          "output_type": "stream",
          "name": "stdout",
          "text": [
            " ***   ***\n",
            "***** *****\n",
            "***********\n",
            " *********\n",
            "  *******\n",
            "   *****\n",
            "    ***\n",
            "     *\n"
          ]
        }
      ]
    },
    {
      "cell_type": "code",
      "source": [
        "#50\n",
        "# heart pattern \n",
        "n = 6\n",
        "\n",
        "# upper part of the heart\n",
        "for i in range(n//2, n, 2):\n",
        "    # print first spaces\n",
        "    for j in range(1, n-i ,2):\n",
        "        print(\" \", end=\"\")\n",
        "    # print first stars\n",
        "    for j in range(1, i+1, 1):\n",
        "        print(\"*\", end=\"\")\n",
        "    # print second spaces\n",
        "    for j in range(1, n-i+1, 1):\n",
        "        print(\" \", end=\"\")\n",
        "    # print second stars\n",
        "    for j in range(1, i+1, 1):\n",
        "        print(\"*\", end=\"\")\n",
        "    print()\n",
        "\n",
        "# lower part\n",
        "for i in range(n,0,-1):\n",
        "    for j in range(i, n, 1):\n",
        "        print(\" \", end=\"\")\n",
        "    for j in range(1, i*2, 1):\n",
        "        print(\"*\", end=\"\")\n",
        "    print()\n"
      ],
      "metadata": {
        "colab": {
          "base_uri": "https://localhost:8080/"
        },
        "id": "lAZdxF13mLfm",
        "outputId": "7db22e74-05eb-47d3-ff81-9057e7702364"
      },
      "execution_count": 312,
      "outputs": [
        {
          "output_type": "stream",
          "name": "stdout",
          "text": [
            " ***   ***\n",
            "***** *****\n",
            "***********\n",
            " *********\n",
            "  *******\n",
            "   *****\n",
            "    ***\n",
            "     *\n"
          ]
        }
      ]
    },
    {
      "cell_type": "code",
      "source": [
        "#50\n",
        "# heart pattern \n",
        "n = 6\n",
        "\n",
        "# upper part of the heart\n",
        "for i in range(n//2, n, 2):\n",
        "    # print first spaces\n",
        "    for j in range(1, n-i ,2):\n",
        "        print(\" \", end=\"\")\n",
        "    # print first stars\n",
        "    for j in range(1, i+1, 1):\n",
        "        print(\"*\", end=\"\")\n",
        "    # print second spaces\n",
        "    for j in range(1, n-i+1, 1):\n",
        "        print(\" \", end=\"\")\n",
        "    # print second stars\n",
        "    for j in range(1, i+1, 1):\n",
        "        print(\"*\", end=\"\")\n",
        "    print()\n",
        "\n",
        "# lower part\n",
        "for i in range(n,0,-1):\n",
        "    for j in range(i, n, 1):\n",
        "        print(\" \", end=\"\")\n",
        "    for j in range(1, i*2, 1):\n",
        "        print(\"*\", end=\"\")\n",
        "    print()\n"
      ],
      "metadata": {
        "colab": {
          "base_uri": "https://localhost:8080/"
        },
        "id": "7jnPat9ImLvP",
        "outputId": "ccff5e62-7f9f-4278-fa3b-e1204c8ef4a4"
      },
      "execution_count": 313,
      "outputs": [
        {
          "output_type": "stream",
          "name": "stdout",
          "text": [
            " ***   ***\n",
            "***** *****\n",
            "***********\n",
            " *********\n",
            "  *******\n",
            "   *****\n",
            "    ***\n",
            "     *\n"
          ]
        }
      ]
    },
    {
      "cell_type": "code",
      "source": [
        "#50\n",
        "# heart pattern \n",
        "n = 6\n",
        "\n",
        "# upper part of the heart\n",
        "for i in range(n//2, n, 2):\n",
        "    # print first spaces\n",
        "    for j in range(1, n-i ,2):\n",
        "        print(\" \", end=\"\")\n",
        "    # print first stars\n",
        "    for j in range(1, i+1, 1):\n",
        "        print(\"*\", end=\"\")\n",
        "    # print second spaces\n",
        "    for j in range(1, n-i+1, 1):\n",
        "        print(\" \", end=\"\")\n",
        "    # print second stars\n",
        "    for j in range(1, i+1, 1):\n",
        "        print(\"*\", end=\"\")\n",
        "    print()\n",
        "\n",
        "# lower part\n",
        "for i in range(n,0,-1):\n",
        "    for j in range(i, n, 1):\n",
        "        print(\" \", end=\"\")\n",
        "    for j in range(1, i*2, 1):\n",
        "        print(\"*\", end=\"\")\n",
        "    print()\n"
      ],
      "metadata": {
        "colab": {
          "base_uri": "https://localhost:8080/"
        },
        "id": "h8sRz6qkmPrC",
        "outputId": "c6585e40-2406-4c53-d04d-7d3e1a324a9a"
      },
      "execution_count": 314,
      "outputs": [
        {
          "output_type": "stream",
          "name": "stdout",
          "text": [
            " ***   ***\n",
            "***** *****\n",
            "***********\n",
            " *********\n",
            "  *******\n",
            "   *****\n",
            "    ***\n",
            "     *\n"
          ]
        }
      ]
    },
    {
      "cell_type": "code",
      "source": [
        "#50\n",
        "# heart pattern \n",
        "n = 6\n",
        "\n",
        "# upper part of the heart\n",
        "for i in range(n//2, n, 2):\n",
        "    # print first spaces\n",
        "    for j in range(1, n-i ,2):\n",
        "        print(\" \", end=\"\")\n",
        "    # print first stars\n",
        "    for j in range(1, i+1, 1):\n",
        "        print(\"*\", end=\"\")\n",
        "    # print second spaces\n",
        "    for j in range(1, n-i+1, 1):\n",
        "        print(\" \", end=\"\")\n",
        "    # print second stars\n",
        "    for j in range(1, i+1, 1):\n",
        "        print(\"*\", end=\"\")\n",
        "    print()\n",
        "\n",
        "# lower part\n",
        "for i in range(n,0,-1):\n",
        "    for j in range(i, n, 1):\n",
        "        print(\" \", end=\"\")\n",
        "    for j in range(1, i*2, 1):\n",
        "        print(\"*\", end=\"\")\n",
        "    print()\n"
      ],
      "metadata": {
        "colab": {
          "base_uri": "https://localhost:8080/"
        },
        "id": "NeAt2Y28mP4U",
        "outputId": "6234446d-e9a3-4167-83ee-7f62cf741e2f"
      },
      "execution_count": 315,
      "outputs": [
        {
          "output_type": "stream",
          "name": "stdout",
          "text": [
            " ***   ***\n",
            "***** *****\n",
            "***********\n",
            " *********\n",
            "  *******\n",
            "   *****\n",
            "    ***\n",
            "     *\n"
          ]
        }
      ]
    },
    {
      "cell_type": "code",
      "source": [
        "#50\n",
        "# heart pattern \n",
        "n = 6\n",
        "\n",
        "# upper part of the heart\n",
        "for i in range(n//2, n, 2):\n",
        "    # print first spaces\n",
        "    for j in range(1, n-i ,2):\n",
        "        print(\" \", end=\"\")\n",
        "    # print first stars\n",
        "    for j in range(1, i+1, 1):\n",
        "        print(\"*\", end=\"\")\n",
        "    # print second spaces\n",
        "    for j in range(1, n-i+1, 1):\n",
        "        print(\" \", end=\"\")\n",
        "    # print second stars\n",
        "    for j in range(1, i+1, 1):\n",
        "        print(\"*\", end=\"\")\n",
        "    print()\n",
        "\n",
        "# lower part\n",
        "for i in range(n,0,-1):\n",
        "    for j in range(i, n, 1):\n",
        "        print(\" \", end=\"\")\n",
        "    for j in range(1, i*2, 1):\n",
        "        print(\"*\", end=\"\")\n",
        "    print()\n"
      ],
      "metadata": {
        "colab": {
          "base_uri": "https://localhost:8080/"
        },
        "id": "7OnaCyYQmQFc",
        "outputId": "50f13444-4bea-45e6-e767-c848f636d86c"
      },
      "execution_count": 316,
      "outputs": [
        {
          "output_type": "stream",
          "name": "stdout",
          "text": [
            " ***   ***\n",
            "***** *****\n",
            "***********\n",
            " *********\n",
            "  *******\n",
            "   *****\n",
            "    ***\n",
            "     *\n"
          ]
        }
      ]
    },
    {
      "cell_type": "code",
      "source": [
        "#50\n",
        "# heart pattern \n",
        "n = 6\n",
        "\n",
        "# upper part of the heart\n",
        "for i in range(n//2, n, 2):\n",
        "    # print first spaces\n",
        "    for j in range(1, n-i ,2):\n",
        "        print(\" \", end=\"\")\n",
        "    # print first stars\n",
        "    for j in range(1, i+1, 1):\n",
        "        print(\"*\", end=\"\")\n",
        "    # print second spaces\n",
        "    for j in range(1, n-i+1, 1):\n",
        "        print(\" \", end=\"\")\n",
        "    # print second stars\n",
        "    for j in range(1, i+1, 1):\n",
        "        print(\"*\", end=\"\")\n",
        "    print()\n",
        "\n",
        "# lower part\n",
        "for i in range(n,0,-1):\n",
        "    for j in range(i, n, 1):\n",
        "        print(\" \", end=\"\")\n",
        "    for j in range(1, i*2, 1):\n",
        "        print(\"*\", end=\"\")\n",
        "    print()\n"
      ],
      "metadata": {
        "colab": {
          "base_uri": "https://localhost:8080/"
        },
        "id": "-xjaM9IUmQTb",
        "outputId": "779a7449-890f-48ec-9d5d-076731e2416b"
      },
      "execution_count": 317,
      "outputs": [
        {
          "output_type": "stream",
          "name": "stdout",
          "text": [
            " ***   ***\n",
            "***** *****\n",
            "***********\n",
            " *********\n",
            "  *******\n",
            "   *****\n",
            "    ***\n",
            "     *\n"
          ]
        }
      ]
    },
    {
      "cell_type": "code",
      "source": [
        "#50\n",
        "# heart pattern \n",
        "n = 6\n",
        "\n",
        "# upper part of the heart\n",
        "for i in range(n//2, n, 2):\n",
        "    # print first spaces\n",
        "    for j in range(1, n-i ,2):\n",
        "        print(\" \", end=\"\")\n",
        "    # print first stars\n",
        "    for j in range(1, i+1, 1):\n",
        "        print(\"*\", end=\"\")\n",
        "    # print second spaces\n",
        "    for j in range(1, n-i+1, 1):\n",
        "        print(\" \", end=\"\")\n",
        "    # print second stars\n",
        "    for j in range(1, i+1, 1):\n",
        "        print(\"*\", end=\"\")\n",
        "    print()\n",
        "\n",
        "# lower part\n",
        "for i in range(n,0,-1):\n",
        "    for j in range(i, n, 1):\n",
        "        print(\" \", end=\"\")\n",
        "    for j in range(1, i*2, 1):\n",
        "        print(\"*\", end=\"\")\n",
        "    print()\n"
      ],
      "metadata": {
        "colab": {
          "base_uri": "https://localhost:8080/"
        },
        "id": "KZmazM7smQni",
        "outputId": "8ee890ce-f48a-42cc-b4e0-36c5d1932104"
      },
      "execution_count": 318,
      "outputs": [
        {
          "output_type": "stream",
          "name": "stdout",
          "text": [
            " ***   ***\n",
            "***** *****\n",
            "***********\n",
            " *********\n",
            "  *******\n",
            "   *****\n",
            "    ***\n",
            "     *\n"
          ]
        }
      ]
    },
    {
      "cell_type": "code",
      "source": [
        "#50\n",
        "# heart pattern \n",
        "n = 6\n",
        "\n",
        "# upper part of the heart\n",
        "for i in range(n//2, n, 2):\n",
        "    # print first spaces\n",
        "    for j in range(1, n-i ,2):\n",
        "        print(\" \", end=\"\")\n",
        "    # print first stars\n",
        "    for j in range(1, i+1, 1):\n",
        "        print(\"*\", end=\"\")\n",
        "    # print second spaces\n",
        "    for j in range(1, n-i+1, 1):\n",
        "        print(\" \", end=\"\")\n",
        "    # print second stars\n",
        "    for j in range(1, i+1, 1):\n",
        "        print(\"*\", end=\"\")\n",
        "    print()\n",
        "\n",
        "# lower part\n",
        "for i in range(n,0,-1):\n",
        "    for j in range(i, n, 1):\n",
        "        print(\" \", end=\"\")\n",
        "    for j in range(1, i*2, 1):\n",
        "        print(\"*\", end=\"\")\n",
        "    print()\n"
      ],
      "metadata": {
        "colab": {
          "base_uri": "https://localhost:8080/"
        },
        "id": "isx7Dn86mQ44",
        "outputId": "4ddb025d-2ba0-4aec-cdfa-0856a74ea2bd"
      },
      "execution_count": 319,
      "outputs": [
        {
          "output_type": "stream",
          "name": "stdout",
          "text": [
            " ***   ***\n",
            "***** *****\n",
            "***********\n",
            " *********\n",
            "  *******\n",
            "   *****\n",
            "    ***\n",
            "     *\n"
          ]
        }
      ]
    },
    {
      "cell_type": "code",
      "source": [
        "#50\n",
        "# heart pattern \n",
        "n = 6\n",
        "\n",
        "# upper part of the heart\n",
        "for i in range(n//2, n, 2):\n",
        "    # print first spaces\n",
        "    for j in range(1, n-i ,2):\n",
        "        print(\" \", end=\"\")\n",
        "    # print first stars\n",
        "    for j in range(1, i+1, 1):\n",
        "        print(\"*\", end=\"\")\n",
        "    # print second spaces\n",
        "    for j in range(1, n-i+1, 1):\n",
        "        print(\" \", end=\"\")\n",
        "    # print second stars\n",
        "    for j in range(1, i+1, 1):\n",
        "        print(\"*\", end=\"\")\n",
        "    print()\n",
        "\n",
        "# lower part\n",
        "for i in range(n,0,-1):\n",
        "    for j in range(i, n, 1):\n",
        "        print(\" \", end=\"\")\n",
        "    for j in range(1, i*2, 1):\n",
        "        print(\"*\", end=\"\")\n",
        "    print()\n"
      ],
      "metadata": {
        "colab": {
          "base_uri": "https://localhost:8080/"
        },
        "id": "evouzidmmYTa",
        "outputId": "44bec8f3-37a2-4ae7-f439-cfeaf3f5467f"
      },
      "execution_count": 320,
      "outputs": [
        {
          "output_type": "stream",
          "name": "stdout",
          "text": [
            " ***   ***\n",
            "***** *****\n",
            "***********\n",
            " *********\n",
            "  *******\n",
            "   *****\n",
            "    ***\n",
            "     *\n"
          ]
        }
      ]
    },
    {
      "cell_type": "code",
      "source": [
        "#50\n",
        "# heart pattern \n",
        "n = 6\n",
        "\n",
        "# upper part of the heart\n",
        "for i in range(n//2, n, 2):\n",
        "    # print first spaces\n",
        "    for j in range(1, n-i ,2):\n",
        "        print(\" \", end=\"\")\n",
        "    # print first stars\n",
        "    for j in range(1, i+1, 1):\n",
        "        print(\"*\", end=\"\")\n",
        "    # print second spaces\n",
        "    for j in range(1, n-i+1, 1):\n",
        "        print(\" \", end=\"\")\n",
        "    # print second stars\n",
        "    for j in range(1, i+1, 1):\n",
        "        print(\"*\", end=\"\")\n",
        "    print()\n",
        "\n",
        "# lower part\n",
        "for i in range(n,0,-1):\n",
        "    for j in range(i, n, 1):\n",
        "        print(\" \", end=\"\")\n",
        "    for j in range(1, i*2, 1):\n",
        "        print(\"*\", end=\"\")\n",
        "    print()\n"
      ],
      "metadata": {
        "colab": {
          "base_uri": "https://localhost:8080/"
        },
        "id": "ycArSqe2mYg3",
        "outputId": "cd987f64-7dcd-42e2-c364-8fe646d8818e"
      },
      "execution_count": 321,
      "outputs": [
        {
          "output_type": "stream",
          "name": "stdout",
          "text": [
            " ***   ***\n",
            "***** *****\n",
            "***********\n",
            " *********\n",
            "  *******\n",
            "   *****\n",
            "    ***\n",
            "     *\n"
          ]
        }
      ]
    },
    {
      "cell_type": "code",
      "source": [
        "#50\n",
        "# heart pattern \n",
        "n = 6\n",
        "\n",
        "# upper part of the heart\n",
        "for i in range(n//2, n, 2):\n",
        "    # print first spaces\n",
        "    for j in range(1, n-i ,2):\n",
        "        print(\" \", end=\"\")\n",
        "    # print first stars\n",
        "    for j in range(1, i+1, 1):\n",
        "        print(\"*\", end=\"\")\n",
        "    # print second spaces\n",
        "    for j in range(1, n-i+1, 1):\n",
        "        print(\" \", end=\"\")\n",
        "    # print second stars\n",
        "    for j in range(1, i+1, 1):\n",
        "        print(\"*\", end=\"\")\n",
        "    print()\n",
        "\n",
        "# lower part\n",
        "for i in range(n,0,-1):\n",
        "    for j in range(i, n, 1):\n",
        "        print(\" \", end=\"\")\n",
        "    for j in range(1, i*2, 1):\n",
        "        print(\"*\", end=\"\")\n",
        "    print()\n"
      ],
      "metadata": {
        "colab": {
          "base_uri": "https://localhost:8080/"
        },
        "id": "VEpJbOnHmYt_",
        "outputId": "485f3fe8-3397-4dd6-e217-421bd203eee8"
      },
      "execution_count": 322,
      "outputs": [
        {
          "output_type": "stream",
          "name": "stdout",
          "text": [
            " ***   ***\n",
            "***** *****\n",
            "***********\n",
            " *********\n",
            "  *******\n",
            "   *****\n",
            "    ***\n",
            "     *\n"
          ]
        }
      ]
    },
    {
      "cell_type": "code",
      "source": [
        "#50\n",
        "# heart pattern \n",
        "n = 6\n",
        "\n",
        "# upper part of the heart\n",
        "for i in range(n//2, n, 2):\n",
        "    # print first spaces\n",
        "    for j in range(1, n-i ,2):\n",
        "        print(\" \", end=\"\")\n",
        "    # print first stars\n",
        "    for j in range(1, i+1, 1):\n",
        "        print(\"*\", end=\"\")\n",
        "    # print second spaces\n",
        "    for j in range(1, n-i+1, 1):\n",
        "        print(\" \", end=\"\")\n",
        "    # print second stars\n",
        "    for j in range(1, i+1, 1):\n",
        "        print(\"*\", end=\"\")\n",
        "    print()\n",
        "\n",
        "# lower part\n",
        "for i in range(n,0,-1):\n",
        "    for j in range(i, n, 1):\n",
        "        print(\" \", end=\"\")\n",
        "    for j in range(1, i*2, 1):\n",
        "        print(\"*\", end=\"\")\n",
        "    print()\n"
      ],
      "metadata": {
        "colab": {
          "base_uri": "https://localhost:8080/"
        },
        "id": "RNrucVpqmY73",
        "outputId": "26112a0f-192c-4814-bbcc-cc607e2565de"
      },
      "execution_count": 323,
      "outputs": [
        {
          "output_type": "stream",
          "name": "stdout",
          "text": [
            " ***   ***\n",
            "***** *****\n",
            "***********\n",
            " *********\n",
            "  *******\n",
            "   *****\n",
            "    ***\n",
            "     *\n"
          ]
        }
      ]
    },
    {
      "cell_type": "code",
      "source": [
        "#50\n",
        "# heart pattern \n",
        "n = 6\n",
        "\n",
        "# upper part of the heart\n",
        "for i in range(n//2, n, 2):\n",
        "    # print first spaces\n",
        "    for j in range(1, n-i ,2):\n",
        "        print(\" \", end=\"\")\n",
        "    # print first stars\n",
        "    for j in range(1, i+1, 1):\n",
        "        print(\"*\", end=\"\")\n",
        "    # print second spaces\n",
        "    for j in range(1, n-i+1, 1):\n",
        "        print(\" \", end=\"\")\n",
        "    # print second stars\n",
        "    for j in range(1, i+1, 1):\n",
        "        print(\"*\", end=\"\")\n",
        "    print()\n",
        "\n",
        "# lower part\n",
        "for i in range(n,0,-1):\n",
        "    for j in range(i, n, 1):\n",
        "        print(\" \", end=\"\")\n",
        "    for j in range(1, i*2, 1):\n",
        "        print(\"*\", end=\"\")\n",
        "    print()\n"
      ],
      "metadata": {
        "colab": {
          "base_uri": "https://localhost:8080/"
        },
        "id": "j2Ciz5ZLmZI2",
        "outputId": "8d917d52-1d64-4631-d475-4d1d4f2f81a8"
      },
      "execution_count": 324,
      "outputs": [
        {
          "output_type": "stream",
          "name": "stdout",
          "text": [
            " ***   ***\n",
            "***** *****\n",
            "***********\n",
            " *********\n",
            "  *******\n",
            "   *****\n",
            "    ***\n",
            "     *\n"
          ]
        }
      ]
    },
    {
      "cell_type": "code",
      "source": [
        "#50\n",
        "# heart pattern \n",
        "n = 6\n",
        "\n",
        "# upper part of the heart\n",
        "for i in range(n//2, n, 2):\n",
        "    # print first spaces\n",
        "    for j in range(1, n-i ,2):\n",
        "        print(\" \", end=\"\")\n",
        "    # print first stars\n",
        "    for j in range(1, i+1, 1):\n",
        "        print(\"*\", end=\"\")\n",
        "    # print second spaces\n",
        "    for j in range(1, n-i+1, 1):\n",
        "        print(\" \", end=\"\")\n",
        "    # print second stars\n",
        "    for j in range(1, i+1, 1):\n",
        "        print(\"*\", end=\"\")\n",
        "    print()\n",
        "\n",
        "# lower part\n",
        "for i in range(n,0,-1):\n",
        "    for j in range(i, n, 1):\n",
        "        print(\" \", end=\"\")\n",
        "    for j in range(1, i*2, 1):\n",
        "        print(\"*\", end=\"\")\n",
        "    print()\n"
      ],
      "metadata": {
        "colab": {
          "base_uri": "https://localhost:8080/"
        },
        "id": "IfpapE9kmaCv",
        "outputId": "d1aa4545-74f1-4416-de51-eb2274a24b5f"
      },
      "execution_count": 325,
      "outputs": [
        {
          "output_type": "stream",
          "name": "stdout",
          "text": [
            " ***   ***\n",
            "***** *****\n",
            "***********\n",
            " *********\n",
            "  *******\n",
            "   *****\n",
            "    ***\n",
            "     *\n"
          ]
        }
      ]
    },
    {
      "cell_type": "code",
      "source": [
        "#50\n",
        "# heart pattern \n",
        "n = 6\n",
        "\n",
        "# upper part of the heart\n",
        "for i in range(n//2, n, 2):\n",
        "    # print first spaces\n",
        "    for j in range(1, n-i ,2):\n",
        "        print(\" \", end=\"\")\n",
        "    # print first stars\n",
        "    for j in range(1, i+1, 1):\n",
        "        print(\"*\", end=\"\")\n",
        "    # print second spaces\n",
        "    for j in range(1, n-i+1, 1):\n",
        "        print(\" \", end=\"\")\n",
        "    # print second stars\n",
        "    for j in range(1, i+1, 1):\n",
        "        print(\"*\", end=\"\")\n",
        "    print()\n",
        "\n",
        "# lower part\n",
        "for i in range(n,0,-1):\n",
        "    for j in range(i, n, 1):\n",
        "        print(\" \", end=\"\")\n",
        "    for j in range(1, i*2, 1):\n",
        "        print(\"*\", end=\"\")\n",
        "    print()\n"
      ],
      "metadata": {
        "colab": {
          "base_uri": "https://localhost:8080/"
        },
        "id": "glMcTBInmaQo",
        "outputId": "6f2b620e-5d0b-4a24-fdb3-8d2e0e77a477"
      },
      "execution_count": 326,
      "outputs": [
        {
          "output_type": "stream",
          "name": "stdout",
          "text": [
            " ***   ***\n",
            "***** *****\n",
            "***********\n",
            " *********\n",
            "  *******\n",
            "   *****\n",
            "    ***\n",
            "     *\n"
          ]
        }
      ]
    },
    {
      "cell_type": "code",
      "source": [
        "#50\n",
        "# heart pattern \n",
        "n = 6\n",
        "\n",
        "# upper part of the heart\n",
        "for i in range(n//2, n, 2):\n",
        "    # print first spaces\n",
        "    for j in range(1, n-i ,2):\n",
        "        print(\" \", end=\"\")\n",
        "    # print first stars\n",
        "    for j in range(1, i+1, 1):\n",
        "        print(\"*\", end=\"\")\n",
        "    # print second spaces\n",
        "    for j in range(1, n-i+1, 1):\n",
        "        print(\" \", end=\"\")\n",
        "    # print second stars\n",
        "    for j in range(1, i+1, 1):\n",
        "        print(\"*\", end=\"\")\n",
        "    print()\n",
        "\n",
        "# lower part\n",
        "for i in range(n,0,-1):\n",
        "    for j in range(i, n, 1):\n",
        "        print(\" \", end=\"\")\n",
        "    for j in range(1, i*2, 1):\n",
        "        print(\"*\", end=\"\")\n",
        "    print()\n"
      ],
      "metadata": {
        "colab": {
          "base_uri": "https://localhost:8080/"
        },
        "id": "4Mcd0aVdmafB",
        "outputId": "daebd4c4-e643-4733-8cb1-1c47baba4622"
      },
      "execution_count": 327,
      "outputs": [
        {
          "output_type": "stream",
          "name": "stdout",
          "text": [
            " ***   ***\n",
            "***** *****\n",
            "***********\n",
            " *********\n",
            "  *******\n",
            "   *****\n",
            "    ***\n",
            "     *\n"
          ]
        }
      ]
    },
    {
      "cell_type": "code",
      "source": [
        "#50\n",
        "# heart pattern \n",
        "n = 6\n",
        "\n",
        "# upper part of the heart\n",
        "for i in range(n//2, n, 2):\n",
        "    # print first spaces\n",
        "    for j in range(1, n-i ,2):\n",
        "        print(\" \", end=\"\")\n",
        "    # print first stars\n",
        "    for j in range(1, i+1, 1):\n",
        "        print(\"*\", end=\"\")\n",
        "    # print second spaces\n",
        "    for j in range(1, n-i+1, 1):\n",
        "        print(\" \", end=\"\")\n",
        "    # print second stars\n",
        "    for j in range(1, i+1, 1):\n",
        "        print(\"*\", end=\"\")\n",
        "    print()\n",
        "\n",
        "# lower part\n",
        "for i in range(n,0,-1):\n",
        "    for j in range(i, n, 1):\n",
        "        print(\" \", end=\"\")\n",
        "    for j in range(1, i*2, 1):\n",
        "        print(\"*\", end=\"\")\n",
        "    print()\n"
      ],
      "metadata": {
        "colab": {
          "base_uri": "https://localhost:8080/"
        },
        "id": "i2YpFSU8mbt3",
        "outputId": "1bf19613-25b3-47c4-87ef-430bb54296c5"
      },
      "execution_count": 328,
      "outputs": [
        {
          "output_type": "stream",
          "name": "stdout",
          "text": [
            " ***   ***\n",
            "***** *****\n",
            "***********\n",
            " *********\n",
            "  *******\n",
            "   *****\n",
            "    ***\n",
            "     *\n"
          ]
        }
      ]
    },
    {
      "cell_type": "code",
      "source": [
        "#50\n",
        "# heart pattern \n",
        "n = 6\n",
        "\n",
        "# upper part of the heart\n",
        "for i in range(n//2, n, 2):\n",
        "    # print first spaces\n",
        "    for j in range(1, n-i ,2):\n",
        "        print(\" \", end=\"\")\n",
        "    # print first stars\n",
        "    for j in range(1, i+1, 1):\n",
        "        print(\"*\", end=\"\")\n",
        "    # print second spaces\n",
        "    for j in range(1, n-i+1, 1):\n",
        "        print(\" \", end=\"\")\n",
        "    # print second stars\n",
        "    for j in range(1, i+1, 1):\n",
        "        print(\"*\", end=\"\")\n",
        "    print()\n",
        "\n",
        "# lower part\n",
        "for i in range(n,0,-1):\n",
        "    for j in range(i, n, 1):\n",
        "        print(\" \", end=\"\")\n",
        "    for j in range(1, i*2, 1):\n",
        "        print(\"*\", end=\"\")\n",
        "    print()\n"
      ],
      "metadata": {
        "colab": {
          "base_uri": "https://localhost:8080/"
        },
        "id": "rvuTn11xmb-H",
        "outputId": "591e517b-6005-43dc-89f9-7f5eed41086f"
      },
      "execution_count": 329,
      "outputs": [
        {
          "output_type": "stream",
          "name": "stdout",
          "text": [
            " ***   ***\n",
            "***** *****\n",
            "***********\n",
            " *********\n",
            "  *******\n",
            "   *****\n",
            "    ***\n",
            "     *\n"
          ]
        }
      ]
    },
    {
      "cell_type": "code",
      "source": [
        "#50\n",
        "# heart pattern \n",
        "n = 6\n",
        "\n",
        "# upper part of the heart\n",
        "for i in range(n//2, n, 2):\n",
        "    # print first spaces\n",
        "    for j in range(1, n-i ,2):\n",
        "        print(\" \", end=\"\")\n",
        "    # print first stars\n",
        "    for j in range(1, i+1, 1):\n",
        "        print(\"*\", end=\"\")\n",
        "    # print second spaces\n",
        "    for j in range(1, n-i+1, 1):\n",
        "        print(\" \", end=\"\")\n",
        "    # print second stars\n",
        "    for j in range(1, i+1, 1):\n",
        "        print(\"*\", end=\"\")\n",
        "    print()\n",
        "\n",
        "# lower part\n",
        "for i in range(n,0,-1):\n",
        "    for j in range(i, n, 1):\n",
        "        print(\" \", end=\"\")\n",
        "    for j in range(1, i*2, 1):\n",
        "        print(\"*\", end=\"\")\n",
        "    print()\n"
      ],
      "metadata": {
        "colab": {
          "base_uri": "https://localhost:8080/"
        },
        "id": "PH0PIHcXmgKj",
        "outputId": "5bf46325-2ea1-431a-e7dd-a451c88f848a"
      },
      "execution_count": 330,
      "outputs": [
        {
          "output_type": "stream",
          "name": "stdout",
          "text": [
            " ***   ***\n",
            "***** *****\n",
            "***********\n",
            " *********\n",
            "  *******\n",
            "   *****\n",
            "    ***\n",
            "     *\n"
          ]
        }
      ]
    },
    {
      "cell_type": "code",
      "source": [
        "#50\n",
        "# heart pattern \n",
        "n = 6\n",
        "\n",
        "# upper part of the heart\n",
        "for i in range(n//2, n, 2):\n",
        "    # print first spaces\n",
        "    for j in range(1, n-i ,2):\n",
        "        print(\" \", end=\"\")\n",
        "    # print first stars\n",
        "    for j in range(1, i+1, 1):\n",
        "        print(\"*\", end=\"\")\n",
        "    # print second spaces\n",
        "    for j in range(1, n-i+1, 1):\n",
        "        print(\" \", end=\"\")\n",
        "    # print second stars\n",
        "    for j in range(1, i+1, 1):\n",
        "        print(\"*\", end=\"\")\n",
        "    print()\n",
        "\n",
        "# lower part\n",
        "for i in range(n,0,-1):\n",
        "    for j in range(i, n, 1):\n",
        "        print(\" \", end=\"\")\n",
        "    for j in range(1, i*2, 1):\n",
        "        print(\"*\", end=\"\")\n",
        "    print()\n"
      ],
      "metadata": {
        "colab": {
          "base_uri": "https://localhost:8080/"
        },
        "id": "seu1va7TmgYy",
        "outputId": "95a3eb49-1d87-417e-afe9-3231affdfba0"
      },
      "execution_count": 331,
      "outputs": [
        {
          "output_type": "stream",
          "name": "stdout",
          "text": [
            " ***   ***\n",
            "***** *****\n",
            "***********\n",
            " *********\n",
            "  *******\n",
            "   *****\n",
            "    ***\n",
            "     *\n"
          ]
        }
      ]
    },
    {
      "cell_type": "code",
      "source": [
        "#50\n",
        "# heart pattern \n",
        "n = 6\n",
        "\n",
        "# upper part of the heart\n",
        "for i in range(n//2, n, 2):\n",
        "    # print first spaces\n",
        "    for j in range(1, n-i ,2):\n",
        "        print(\" \", end=\"\")\n",
        "    # print first stars\n",
        "    for j in range(1, i+1, 1):\n",
        "        print(\"*\", end=\"\")\n",
        "    # print second spaces\n",
        "    for j in range(1, n-i+1, 1):\n",
        "        print(\" \", end=\"\")\n",
        "    # print second stars\n",
        "    for j in range(1, i+1, 1):\n",
        "        print(\"*\", end=\"\")\n",
        "    print()\n",
        "\n",
        "# lower part\n",
        "for i in range(n,0,-1):\n",
        "    for j in range(i, n, 1):\n",
        "        print(\" \", end=\"\")\n",
        "    for j in range(1, i*2, 1):\n",
        "        print(\"*\", end=\"\")\n",
        "    print()\n"
      ],
      "metadata": {
        "colab": {
          "base_uri": "https://localhost:8080/"
        },
        "id": "ODsz5dM9mgnr",
        "outputId": "87b25de1-146c-4720-fe1b-4ddc84299144"
      },
      "execution_count": 332,
      "outputs": [
        {
          "output_type": "stream",
          "name": "stdout",
          "text": [
            " ***   ***\n",
            "***** *****\n",
            "***********\n",
            " *********\n",
            "  *******\n",
            "   *****\n",
            "    ***\n",
            "     *\n"
          ]
        }
      ]
    },
    {
      "cell_type": "code",
      "source": [
        "#50\n",
        "# heart pattern \n",
        "n = 6\n",
        "\n",
        "# upper part of the heart\n",
        "for i in range(n//2, n, 2):\n",
        "    # print first spaces\n",
        "    for j in range(1, n-i ,2):\n",
        "        print(\" \", end=\"\")\n",
        "    # print first stars\n",
        "    for j in range(1, i+1, 1):\n",
        "        print(\"*\", end=\"\")\n",
        "    # print second spaces\n",
        "    for j in range(1, n-i+1, 1):\n",
        "        print(\" \", end=\"\")\n",
        "    # print second stars\n",
        "    for j in range(1, i+1, 1):\n",
        "        print(\"*\", end=\"\")\n",
        "    print()\n",
        "\n",
        "# lower part\n",
        "for i in range(n,0,-1):\n",
        "    for j in range(i, n, 1):\n",
        "        print(\" \", end=\"\")\n",
        "    for j in range(1, i*2, 1):\n",
        "        print(\"*\", end=\"\")\n",
        "    print()\n"
      ],
      "metadata": {
        "colab": {
          "base_uri": "https://localhost:8080/"
        },
        "id": "g0VGGqLLmg3U",
        "outputId": "51f1b60f-6d03-46e4-b9fd-d073992af7ec"
      },
      "execution_count": 333,
      "outputs": [
        {
          "output_type": "stream",
          "name": "stdout",
          "text": [
            " ***   ***\n",
            "***** *****\n",
            "***********\n",
            " *********\n",
            "  *******\n",
            "   *****\n",
            "    ***\n",
            "     *\n"
          ]
        }
      ]
    },
    {
      "cell_type": "code",
      "source": [
        "#50\n",
        "# heart pattern \n",
        "n = 6\n",
        "\n",
        "# upper part of the heart\n",
        "for i in range(n//2, n, 2):\n",
        "    # print first spaces\n",
        "    for j in range(1, n-i ,2):\n",
        "        print(\" \", end=\"\")\n",
        "    # print first stars\n",
        "    for j in range(1, i+1, 1):\n",
        "        print(\"*\", end=\"\")\n",
        "    # print second spaces\n",
        "    for j in range(1, n-i+1, 1):\n",
        "        print(\" \", end=\"\")\n",
        "    # print second stars\n",
        "    for j in range(1, i+1, 1):\n",
        "        print(\"*\", end=\"\")\n",
        "    print()\n",
        "\n",
        "# lower part\n",
        "for i in range(n,0,-1):\n",
        "    for j in range(i, n, 1):\n",
        "        print(\" \", end=\"\")\n",
        "    for j in range(1, i*2, 1):\n",
        "        print(\"*\", end=\"\")\n",
        "    print()\n"
      ],
      "metadata": {
        "colab": {
          "base_uri": "https://localhost:8080/"
        },
        "id": "041l9sAImhHb",
        "outputId": "0e960a5e-ba73-4793-cd37-94792282e545"
      },
      "execution_count": 334,
      "outputs": [
        {
          "output_type": "stream",
          "name": "stdout",
          "text": [
            " ***   ***\n",
            "***** *****\n",
            "***********\n",
            " *********\n",
            "  *******\n",
            "   *****\n",
            "    ***\n",
            "     *\n"
          ]
        }
      ]
    },
    {
      "cell_type": "code",
      "source": [
        "#50\n",
        "# heart pattern \n",
        "n = 6\n",
        "\n",
        "# upper part of the heart\n",
        "for i in range(n//2, n, 2):\n",
        "    # print first spaces\n",
        "    for j in range(1, n-i ,2):\n",
        "        print(\" \", end=\"\")\n",
        "    # print first stars\n",
        "    for j in range(1, i+1, 1):\n",
        "        print(\"*\", end=\"\")\n",
        "    # print second spaces\n",
        "    for j in range(1, n-i+1, 1):\n",
        "        print(\" \", end=\"\")\n",
        "    # print second stars\n",
        "    for j in range(1, i+1, 1):\n",
        "        print(\"*\", end=\"\")\n",
        "    print()\n",
        "\n",
        "# lower part\n",
        "for i in range(n,0,-1):\n",
        "    for j in range(i, n, 1):\n",
        "        print(\" \", end=\"\")\n",
        "    for j in range(1, i*2, 1):\n",
        "        print(\"*\", end=\"\")\n",
        "    print()\n"
      ],
      "metadata": {
        "colab": {
          "base_uri": "https://localhost:8080/"
        },
        "id": "5BiQuUCxmhWI",
        "outputId": "a6051a86-21e9-49cf-8d4f-129312698ccf"
      },
      "execution_count": 335,
      "outputs": [
        {
          "output_type": "stream",
          "name": "stdout",
          "text": [
            " ***   ***\n",
            "***** *****\n",
            "***********\n",
            " *********\n",
            "  *******\n",
            "   *****\n",
            "    ***\n",
            "     *\n"
          ]
        }
      ]
    },
    {
      "cell_type": "code",
      "source": [
        "#50\n",
        "# heart pattern \n",
        "n = 6\n",
        "\n",
        "# upper part of the heart\n",
        "for i in range(n//2, n, 2):\n",
        "    # print first spaces\n",
        "    for j in range(1, n-i ,2):\n",
        "        print(\" \", end=\"\")\n",
        "    # print first stars\n",
        "    for j in range(1, i+1, 1):\n",
        "        print(\"*\", end=\"\")\n",
        "    # print second spaces\n",
        "    for j in range(1, n-i+1, 1):\n",
        "        print(\" \", end=\"\")\n",
        "    # print second stars\n",
        "    for j in range(1, i+1, 1):\n",
        "        print(\"*\", end=\"\")\n",
        "    print()\n",
        "\n",
        "# lower part\n",
        "for i in range(n,0,-1):\n",
        "    for j in range(i, n, 1):\n",
        "        print(\" \", end=\"\")\n",
        "    for j in range(1, i*2, 1):\n",
        "        print(\"*\", end=\"\")\n",
        "    print()\n"
      ],
      "metadata": {
        "colab": {
          "base_uri": "https://localhost:8080/"
        },
        "id": "mnk40NdFmhlT",
        "outputId": "02f24bc3-d849-416d-ebab-4d3d7236a324"
      },
      "execution_count": 336,
      "outputs": [
        {
          "output_type": "stream",
          "name": "stdout",
          "text": [
            " ***   ***\n",
            "***** *****\n",
            "***********\n",
            " *********\n",
            "  *******\n",
            "   *****\n",
            "    ***\n",
            "     *\n"
          ]
        }
      ]
    },
    {
      "cell_type": "code",
      "source": [
        "#50\n",
        "# heart pattern \n",
        "n = 6\n",
        "\n",
        "# upper part of the heart\n",
        "for i in range(n//2, n, 2):\n",
        "    # print first spaces\n",
        "    for j in range(1, n-i ,2):\n",
        "        print(\" \", end=\"\")\n",
        "    # print first stars\n",
        "    for j in range(1, i+1, 1):\n",
        "        print(\"*\", end=\"\")\n",
        "    # print second spaces\n",
        "    for j in range(1, n-i+1, 1):\n",
        "        print(\" \", end=\"\")\n",
        "    # print second stars\n",
        "    for j in range(1, i+1, 1):\n",
        "        print(\"*\", end=\"\")\n",
        "    print()\n",
        "\n",
        "# lower part\n",
        "for i in range(n,0,-1):\n",
        "    for j in range(i, n, 1):\n",
        "        print(\" \", end=\"\")\n",
        "    for j in range(1, i*2, 1):\n",
        "        print(\"*\", end=\"\")\n",
        "    print()\n"
      ],
      "metadata": {
        "colab": {
          "base_uri": "https://localhost:8080/"
        },
        "id": "u8zWcK_DouFZ",
        "outputId": "4f105d46-9ea1-40ff-914f-f32dbd2af3e0"
      },
      "execution_count": 337,
      "outputs": [
        {
          "output_type": "stream",
          "name": "stdout",
          "text": [
            " ***   ***\n",
            "***** *****\n",
            "***********\n",
            " *********\n",
            "  *******\n",
            "   *****\n",
            "    ***\n",
            "     *\n"
          ]
        }
      ]
    },
    {
      "cell_type": "code",
      "source": [
        "#50\n",
        "# heart pattern \n",
        "n = 6\n",
        "\n",
        "# upper part of the heart\n",
        "for i in range(n//2, n, 2):\n",
        "    # print first spaces\n",
        "    for j in range(1, n-i ,2):\n",
        "        print(\" \", end=\"\")\n",
        "    # print first stars\n",
        "    for j in range(1, i+1, 1):\n",
        "        print(\"*\", end=\"\")\n",
        "    # print second spaces\n",
        "    for j in range(1, n-i+1, 1):\n",
        "        print(\" \", end=\"\")\n",
        "    # print second stars\n",
        "    for j in range(1, i+1, 1):\n",
        "        print(\"*\", end=\"\")\n",
        "    print()\n",
        "\n",
        "# lower part\n",
        "for i in range(n,0,-1):\n",
        "    for j in range(i, n, 1):\n",
        "        print(\" \", end=\"\")\n",
        "    for j in range(1, i*2, 1):\n",
        "        print(\"*\", end=\"\")\n",
        "    print()\n"
      ],
      "metadata": {
        "colab": {
          "base_uri": "https://localhost:8080/"
        },
        "id": "tHWkz95-o1wz",
        "outputId": "7b046e32-cabc-44d7-8310-b9a4011490ca"
      },
      "execution_count": 338,
      "outputs": [
        {
          "output_type": "stream",
          "name": "stdout",
          "text": [
            " ***   ***\n",
            "***** *****\n",
            "***********\n",
            " *********\n",
            "  *******\n",
            "   *****\n",
            "    ***\n",
            "     *\n"
          ]
        }
      ]
    },
    {
      "cell_type": "code",
      "source": [
        "a=int"
      ],
      "metadata": {
        "id": "GQSoeNEmo2HI"
      },
      "execution_count": 339,
      "outputs": []
    },
    {
      "cell_type": "code",
      "source": [
        "a=int"
      ],
      "metadata": {
        "id": "DY1uSXvQpQvd"
      },
      "execution_count": 340,
      "outputs": []
    },
    {
      "cell_type": "code",
      "source": [
        "a=int"
      ],
      "metadata": {
        "id": "_X2vcmgtpVBO"
      },
      "execution_count": 341,
      "outputs": []
    },
    {
      "cell_type": "code",
      "source": [
        "a=int"
      ],
      "metadata": {
        "id": "XA6V5ze1pVTC"
      },
      "execution_count": 342,
      "outputs": []
    },
    {
      "cell_type": "code",
      "source": [
        "a=int"
      ],
      "metadata": {
        "id": "grflci_SpexL"
      },
      "execution_count": 343,
      "outputs": []
    },
    {
      "cell_type": "code",
      "source": [
        "a=int"
      ],
      "metadata": {
        "id": "aGiYza66p0tm"
      },
      "execution_count": 344,
      "outputs": []
    },
    {
      "cell_type": "code",
      "source": [],
      "metadata": {
        "id": "2R7aX3jip5FK"
      },
      "execution_count": 344,
      "outputs": []
    }
  ]
}