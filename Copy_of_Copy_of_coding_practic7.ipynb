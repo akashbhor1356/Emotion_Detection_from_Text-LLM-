{
  "nbformat": 4,
  "nbformat_minor": 0,
  "metadata": {
    "colab": {
      "provenance": [],
      "collapsed_sections": [],
      "include_colab_link": true
    },
    "kernelspec": {
      "name": "python3",
      "display_name": "Python 3"
    },
    "language_info": {
      "name": "python"
    }
  },
  "cells": [
    {
      "cell_type": "markdown",
      "metadata": {
        "id": "view-in-github",
        "colab_type": "text"
      },
      "source": [
        "<a href=\"https://colab.research.google.com/github/sushant8525/Face-emotion-Recognition/blob/main/Copy_of_Copy_of_coding_practic7.ipynb\" target=\"_parent\"><img src=\"https://colab.research.google.com/assets/colab-badge.svg\" alt=\"Open In Colab\"/></a>"
      ]
    },
    {
      "cell_type": "markdown",
      "source": [
        "**Face Emotions Recognition**\n"
      ],
      "metadata": {
        "id": "xmf87E-xrq4f"
      }
    },
    {
      "cell_type": "code",
      "source": [
        "a={1}"
      ],
      "metadata": {
        "id": "Sm6tHdXWrv46"
      },
      "execution_count": 8,
      "outputs": []
    },
    {
      "cell_type": "code",
      "source": [
        "\"jbkjikjnhkjnnkjnkbjkjj\""
      ],
      "metadata": {
        "colab": {
          "base_uri": "https://localhost:8080/",
          "height": 35
        },
        "id": "FbQCTjN7sCbn",
        "outputId": "fe4ea007-e381-4e75-f4a8-9c01a33fb083"
      },
      "execution_count": 9,
      "outputs": [
        {
          "output_type": "execute_result",
          "data": {
            "text/plain": [
              "'jbkjikjnhkjnnkjnkbjkjj'"
            ],
            "application/vnd.google.colaboratory.intrinsic+json": {
              "type": "string"
            }
          },
          "metadata": {},
          "execution_count": 9
        }
      ]
    },
    {
      "cell_type": "code",
      "source": [
        "a=[1,1,1]\n",
        "if len(a)==sum(a):\n",
        "  print('true')\n",
        "else:\n",
        "  print('false')"
      ],
      "metadata": {
        "colab": {
          "base_uri": "https://localhost:8080/"
        },
        "id": "xV-DgRoFsM8r",
        "outputId": "1353357d-c8b7-4ea5-c2ed-64ec9814665a"
      },
      "execution_count": 14,
      "outputs": [
        {
          "output_type": "stream",
          "name": "stdout",
          "text": [
            "true\n"
          ]
        }
      ]
    },
    {
      "cell_type": "code",
      "source": [
        "a={'asdf'}"
      ],
      "metadata": {
        "id": "oswKYJGnsoPR"
      },
      "execution_count": 15,
      "outputs": []
    },
    {
      "cell_type": "code",
      "source": [
        "a=\"akash\"\n",
        "b=\"bhor\""
      ],
      "metadata": {
        "id": "-RxuwQ4vtPYH"
      },
      "execution_count": 17,
      "outputs": []
    },
    {
      "cell_type": "code",
      "source": [
        "join =(a+' '+b)"
      ],
      "metadata": {
        "id": "_mmmEMJBtlOZ"
      },
      "execution_count": 28,
      "outputs": []
    },
    {
      "cell_type": "code",
      "source": [
        "join"
      ],
      "metadata": {
        "id": "XKXf7HS5uhTS",
        "outputId": "1d59cfe7-26bc-4817-9084-faa89a3d7d98",
        "colab": {
          "base_uri": "https://localhost:8080/",
          "height": 35
        }
      },
      "execution_count": 29,
      "outputs": [
        {
          "output_type": "execute_result",
          "data": {
            "text/plain": [
              "'not true false'"
            ],
            "application/vnd.google.colaboratory.intrinsic+json": {
              "type": "string"
            }
          },
          "metadata": {},
          "execution_count": 29
        }
      ]
    },
    {
      "cell_type": "code",
      "source": [
        "type(join)"
      ],
      "metadata": {
        "id": "ybTQXTvJuicU",
        "outputId": "3477f4cc-47f3-4696-8409-1ad98e323046",
        "colab": {
          "base_uri": "https://localhost:8080/"
        }
      },
      "execution_count": 30,
      "outputs": [
        {
          "output_type": "execute_result",
          "data": {
            "text/plain": [
              "str"
            ]
          },
          "metadata": {},
          "execution_count": 30
        }
      ]
    },
    {
      "cell_type": "code",
      "source": [],
      "metadata": {
        "id": "iEoPD_26ukd7"
      },
      "execution_count": null,
      "outputs": []
    }
  ]
}