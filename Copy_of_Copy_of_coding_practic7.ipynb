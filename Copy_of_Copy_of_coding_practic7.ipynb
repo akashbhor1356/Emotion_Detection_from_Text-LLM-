{
  "nbformat": 4,
  "nbformat_minor": 0,
  "metadata": {
    "colab": {
      "provenance": [],
      "collapsed_sections": [],
      "include_colab_link": true
    },
    "kernelspec": {
      "name": "python3",
      "display_name": "Python 3"
    },
    "language_info": {
      "name": "python"
    }
  },
  "cells": [
    {
      "cell_type": "markdown",
      "metadata": {
        "id": "view-in-github",
        "colab_type": "text"
      },
      "source": [
        "<a href=\"https://colab.research.google.com/github/sushant8525/Face-emotion-Recognition/blob/main/Copy_of_Copy_of_coding_practic7.ipynb\" target=\"_parent\"><img src=\"https://colab.research.google.com/assets/colab-badge.svg\" alt=\"Open In Colab\"/></a>"
      ]
    },
    {
      "cell_type": "code",
      "source": [
        "#1\n",
        "num=123456\n",
        "# reverse = str(num)[::-1]\n",
        "# print(reverse)\n",
        "\n",
        "reversed_num = 0\n",
        "while (num>0):\n",
        "    digit = num % 10\n",
        "    reversed_num = reversed_num * 10 + digit\n",
        "    num =num//10\n",
        "print(reversed_num)"
      ],
      "metadata": {
        "id": "Tvkfp8CES3IO",
        "colab": {
          "base_uri": "https://localhost:8080/"
        },
        "outputId": "ae8801a6-9e88-4770-adc9-ad5651eb0103"
      },
      "execution_count": 172,
      "outputs": [
        {
          "output_type": "stream",
          "name": "stdout",
          "text": [
            "654321\n"
          ]
        }
      ]
    },
    {
      "cell_type": "code",
      "execution_count": 2,
      "metadata": {
        "colab": {
          "base_uri": "https://localhost:8080/"
        },
        "id": "hTPXG2jL7z3P",
        "outputId": "cc0b2614-2230-4adf-ec02-ebba0dfd301e"
      },
      "outputs": [
        {
          "output_type": "stream",
          "name": "stdout",
          "text": [
            "True\n",
            "False\n"
          ]
        }
      ],
      "source": [
        "#2\n",
        "\n",
        "def reverse(num):\n",
        "    reversed_num = 0\n",
        "    while (num>0):\n",
        "        digit = num % 10\n",
        "        reversed_num = reversed_num * 10 + digit\n",
        "        num =num//10\n",
        "    return reversed_num \n",
        "    \n",
        "def check_palindrome(num):\n",
        "    rev_num =reverse(num)\n",
        "    if rev_num == num:\n",
        "        print('True')\n",
        "    else:\n",
        "        print('False')\n",
        "\n",
        "\n",
        "num = 121\n",
        "check_palindrome(num)\n",
        "num = 123\n",
        "check_palindrome(num)"
      ]
    },
    {
      "cell_type": "code",
      "source": [
        "#3\n",
        "a = int(input())\n",
        "x = 0\n",
        "y = 0\n",
        "while(a > 0):\n",
        "    n = a % 10\n",
        "    if(n % 2 == 0):\n",
        "        x = x + n\n",
        "    else:\n",
        "        y = y + n\n",
        "    a = a//10\n",
        "print(x, y)"
      ],
      "metadata": {
        "colab": {
          "base_uri": "https://localhost:8080/"
        },
        "id": "lguduDvS82xu",
        "outputId": "6fdf2299-72e0-4f1a-dd05-f142d6cf2f37"
      },
      "execution_count": 3,
      "outputs": [
        {
          "output_type": "stream",
          "name": "stdout",
          "text": [
            "5\n",
            "0 5\n"
          ]
        }
      ]
    },
    {
      "cell_type": "code",
      "source": [
        "#4\n",
        "num=3\n",
        "# outer loop\n",
        "for i in range (65,65+num):\n",
        "    # inner loop\n",
        "    for j in range(65,i+1):\n",
        "        print(chr(i),end=\"\")\n",
        "    print()"
      ],
      "metadata": {
        "colab": {
          "base_uri": "https://localhost:8080/"
        },
        "id": "lgVkWkrN9oyR",
        "outputId": "589ae338-dcfd-4a0e-c0ea-db2abd939251"
      },
      "execution_count": 4,
      "outputs": [
        {
          "output_type": "stream",
          "name": "stdout",
          "text": [
            "A\n",
            "BB\n",
            "CCC\n"
          ]
        }
      ]
    },
    {
      "cell_type": "code",
      "source": [
        "#5\n",
        "num=4\n",
        "# outer loop\n",
        "for i in range (65,65+num):\n",
        "  k=i\n",
        "    # inner loop\n",
        "  for j in range(65,i+1):\n",
        "      print(chr(k),end=\"\")\n",
        "      k+=1\n",
        "  print()"
      ],
      "metadata": {
        "colab": {
          "base_uri": "https://localhost:8080/"
        },
        "id": "cuIZmHJwCSRS",
        "outputId": "6d160980-74d6-48b6-af4a-82adb199cb0c"
      },
      "execution_count": 5,
      "outputs": [
        {
          "output_type": "stream",
          "name": "stdout",
          "text": [
            "A\n",
            "BC\n",
            "CDE\n",
            "DEFG\n"
          ]
        }
      ]
    },
    {
      "cell_type": "code",
      "source": [
        "trr = 'ABCDEFGHI'"
      ],
      "metadata": {
        "id": "fU78wV6hSMPT"
      },
      "execution_count": 6,
      "outputs": []
    },
    {
      "cell_type": "code",
      "source": [
        "#6\n",
        "num = 5\n",
        "bb=list(range(num))\n",
        "bb.reverse()\n",
        "for i in bb:\n",
        "  print(trr[i:num])\n"
      ],
      "metadata": {
        "id": "GJhbr_YnDEuR",
        "colab": {
          "base_uri": "https://localhost:8080/"
        },
        "outputId": "04cfc490-041c-47ca-e85a-a89072c0358c"
      },
      "execution_count": 7,
      "outputs": [
        {
          "output_type": "stream",
          "name": "stdout",
          "text": [
            "E\n",
            "DE\n",
            "CDE\n",
            "BCDE\n",
            "ABCDE\n"
          ]
        }
      ]
    },
    {
      "cell_type": "code",
      "source": [
        "#7\n",
        "num = 4 \n",
        "for i in range(1,num+1):\n",
        "    print(i*'1')"
      ],
      "metadata": {
        "colab": {
          "base_uri": "https://localhost:8080/"
        },
        "id": "MFD4mGYCU9L4",
        "outputId": "d3bf3d63-e854-4b9f-87e1-82381cdb749c"
      },
      "execution_count": 8,
      "outputs": [
        {
          "output_type": "stream",
          "name": "stdout",
          "text": [
            "1\n",
            "11\n",
            "111\n",
            "1111\n"
          ]
        }
      ]
    },
    {
      "cell_type": "code",
      "source": [
        "#8\n",
        "num = 4\n",
        "for i in range(num-1):\n",
        "  if i==0:\n",
        "    print(1)\n",
        "  print(str(i+1)+(i)*str(0)+str(i+1))"
      ],
      "metadata": {
        "colab": {
          "base_uri": "https://localhost:8080/"
        },
        "id": "HruugK8hVCa9",
        "outputId": "a4c01994-50a1-429d-c5cc-585626eccb02"
      },
      "execution_count": 9,
      "outputs": [
        {
          "output_type": "stream",
          "name": "stdout",
          "text": [
            "1\n",
            "11\n",
            "202\n",
            "3003\n"
          ]
        }
      ]
    },
    {
      "cell_type": "code",
      "source": [
        "#9\n",
        "num = 4\n",
        "for i in range(num-1):\n",
        "  if i==0:\n",
        "    print(1)\n",
        "  print(str(1)+(i)*str(2)+str(1))"
      ],
      "metadata": {
        "colab": {
          "base_uri": "https://localhost:8080/"
        },
        "id": "vgH6qYY6VDP7",
        "outputId": "e5e3a182-deb2-44d2-bf52-3a5d344b1ff1"
      },
      "execution_count": 10,
      "outputs": [
        {
          "output_type": "stream",
          "name": "stdout",
          "text": [
            "1\n",
            "11\n",
            "121\n",
            "1221\n"
          ]
        }
      ]
    },
    {
      "cell_type": "code",
      "source": [
        "#10\n",
        "num = 4\n",
        "var=list(range(num+1))\n",
        "var.reverse()\n",
        "text='123456789'\n",
        "for i in var:\n",
        "  print(text[0:i])"
      ],
      "metadata": {
        "colab": {
          "base_uri": "https://localhost:8080/"
        },
        "id": "c3CgHyD1VDR8",
        "outputId": "c325733a-48bf-4278-ef2f-690cce8027eb"
      },
      "execution_count": 11,
      "outputs": [
        {
          "output_type": "stream",
          "name": "stdout",
          "text": [
            "1234\n",
            "123\n",
            "12\n",
            "1\n",
            "\n"
          ]
        }
      ]
    },
    {
      "cell_type": "code",
      "source": [
        "#11\n",
        "num = 4\n",
        "strr='12345'\n",
        "for i in range(num):\n",
        "  print(strr[i::-1])"
      ],
      "metadata": {
        "colab": {
          "base_uri": "https://localhost:8080/"
        },
        "id": "MvH9Jgf9VDUR",
        "outputId": "ec3fb18d-4cb0-4326-fbf1-42554c4aa62a"
      },
      "execution_count": 12,
      "outputs": [
        {
          "output_type": "stream",
          "name": "stdout",
          "text": [
            "1\n",
            "21\n",
            "321\n",
            "4321\n"
          ]
        }
      ]
    },
    {
      "cell_type": "code",
      "source": [
        "#12\n",
        "num = 4 \n",
        "for i in range(num):\n",
        "    print(4*'4')"
      ],
      "metadata": {
        "colab": {
          "base_uri": "https://localhost:8080/"
        },
        "id": "jYBuyr-xVDWw",
        "outputId": "25c98e85-235f-476e-b27c-ca569a24c695"
      },
      "execution_count": 13,
      "outputs": [
        {
          "output_type": "stream",
          "name": "stdout",
          "text": [
            "4444\n",
            "4444\n",
            "4444\n",
            "4444\n"
          ]
        }
      ]
    },
    {
      "cell_type": "code",
      "source": [
        "#13\n",
        "num = 4\n",
        "#outer loop\n",
        "for i in range(1,num+1):\n",
        "    #inner loop\n",
        "    for j in range(1,i+1):\n",
        "        print(i,end=\"\")\n",
        "    print()"
      ],
      "metadata": {
        "colab": {
          "base_uri": "https://localhost:8080/"
        },
        "id": "PBBSFSxQVDZG",
        "outputId": "8dbd41ff-4781-49a5-fa78-8046b616f0d0"
      },
      "execution_count": 14,
      "outputs": [
        {
          "output_type": "stream",
          "name": "stdout",
          "text": [
            "1\n",
            "22\n",
            "333\n",
            "4444\n"
          ]
        }
      ]
    },
    {
      "cell_type": "code",
      "source": [
        "#14\n",
        "num = 4\n",
        "#outer loop\n",
        "for i in range(65,65+num):\n",
        "    #inner loop\n",
        "    for j in range(65,i+1):\n",
        "        print(chr(j),end=\"\")\n",
        "    print()"
      ],
      "metadata": {
        "colab": {
          "base_uri": "https://localhost:8080/"
        },
        "id": "C1aPQnDdVDco",
        "outputId": "fb48e3e6-0335-4260-d504-7e9351ab885c"
      },
      "execution_count": 15,
      "outputs": [
        {
          "output_type": "stream",
          "name": "stdout",
          "text": [
            "A\n",
            "AB\n",
            "ABC\n",
            "ABCD\n"
          ]
        }
      ]
    },
    {
      "cell_type": "code",
      "source": [
        "#15\n",
        "num = 4\n",
        "for i in range(4):\n",
        "    print('ABCD')"
      ],
      "metadata": {
        "colab": {
          "base_uri": "https://localhost:8080/"
        },
        "id": "FyW_UsqMcaKt",
        "outputId": "f31dbba0-f085-4642-bf65-9b5c9fdd9fee"
      },
      "execution_count": 16,
      "outputs": [
        {
          "output_type": "stream",
          "name": "stdout",
          "text": [
            "ABCD\n",
            "ABCD\n",
            "ABCD\n",
            "ABCD\n"
          ]
        }
      ]
    },
    {
      "cell_type": "code",
      "source": [
        "#16\n",
        "num = 4 \n",
        "text='ABCDEFGHIKLMNOPQRSTUVWXYZ'\n",
        "for i in range(num):\n",
        "  print(text[i:num+i])"
      ],
      "metadata": {
        "colab": {
          "base_uri": "https://localhost:8080/"
        },
        "id": "6ptHuVEScaND",
        "outputId": "01f8f136-5b09-47a9-dc07-6fa69892f8b1"
      },
      "execution_count": 17,
      "outputs": [
        {
          "output_type": "stream",
          "name": "stdout",
          "text": [
            "ABCD\n",
            "BCDE\n",
            "CDEF\n",
            "DEFG\n"
          ]
        }
      ]
    },
    {
      "cell_type": "code",
      "source": [
        "#17\n",
        "num = 4 \n",
        "for i in range(1,num+1):\n",
        "    print(4*str(i))"
      ],
      "metadata": {
        "colab": {
          "base_uri": "https://localhost:8080/"
        },
        "id": "JBV5N0tdcaPQ",
        "outputId": "4eb34cbd-7d33-4227-e7c0-1aad2bcd43ae"
      },
      "execution_count": 18,
      "outputs": [
        {
          "output_type": "stream",
          "name": "stdout",
          "text": [
            "1111\n",
            "2222\n",
            "3333\n",
            "4444\n"
          ]
        }
      ]
    },
    {
      "cell_type": "code",
      "source": [
        "#18\n",
        "num = 4 \n",
        "for i in range(1,num+1):\n",
        "    print('4321')"
      ],
      "metadata": {
        "colab": {
          "base_uri": "https://localhost:8080/"
        },
        "id": "bmy18fqkcaR3",
        "outputId": "77ae4ce7-4f92-4f3e-e279-1636bc720425"
      },
      "execution_count": 19,
      "outputs": [
        {
          "output_type": "stream",
          "name": "stdout",
          "text": [
            "4321\n",
            "4321\n",
            "4321\n",
            "4321\n"
          ]
        }
      ]
    },
    {
      "cell_type": "code",
      "source": [
        "#19\n",
        "num = 4 \n",
        "text='01234567890'\n",
        "for i in range(1,num+1):\n",
        "  print(text[i:i+i])\n"
      ],
      "metadata": {
        "colab": {
          "base_uri": "https://localhost:8080/"
        },
        "id": "Kn49dFPZcaUU",
        "outputId": "e95e6f34-6844-4188-cc1b-590248fa8469"
      },
      "execution_count": 20,
      "outputs": [
        {
          "output_type": "stream",
          "name": "stdout",
          "text": [
            "1\n",
            "23\n",
            "345\n",
            "4567\n"
          ]
        }
      ]
    },
    {
      "cell_type": "code",
      "source": [
        "#20\n",
        "num = 4 \n",
        "text_list=['1','2','3','4','5','6','7','8','9','10']\n",
        "k=0\n",
        "#outer loop\n",
        "for i in range(num):\n",
        "    # inner loop \n",
        "    for j in range(0,i+1):\n",
        "        char = text_list[k]\n",
        "        print(char,end=\"\")\n",
        "        k += 1\n",
        "    print()"
      ],
      "metadata": {
        "colab": {
          "base_uri": "https://localhost:8080/"
        },
        "id": "zZkm1dlpcaWN",
        "outputId": "b50a5c0f-45b8-4380-98e3-1d28bfcd6de9"
      },
      "execution_count": 21,
      "outputs": [
        {
          "output_type": "stream",
          "name": "stdout",
          "text": [
            "1\n",
            "23\n",
            "456\n",
            "78910\n"
          ]
        }
      ]
    },
    {
      "cell_type": "code",
      "source": [
        "#21\n",
        "n=5\n",
        "for i in range(1,n+1):\n",
        "  num=1\n",
        "  for j in range(n,0,-1):\n",
        "    if j>i:\n",
        "      print(\" \", end=\"\")\n",
        "    else:\n",
        "      print(num, end=\"\")\n",
        "      num=num+1\n",
        "  print(\"\")"
      ],
      "metadata": {
        "colab": {
          "base_uri": "https://localhost:8080/"
        },
        "id": "FG6qSY5_caYb",
        "outputId": "eb6f642c-a3b0-465c-98ae-b1ca4d371cdf"
      },
      "execution_count": 22,
      "outputs": [
        {
          "output_type": "stream",
          "name": "stdout",
          "text": [
            "    1\n",
            "   12\n",
            "  123\n",
            " 1234\n",
            "12345\n"
          ]
        }
      ]
    },
    {
      "cell_type": "code",
      "source": [
        "#22\n",
        "num=4\n",
        "num=list(range(num+1))\n",
        "num.reverse()\n",
        "for i in num:\n",
        "  if i ==0:\n",
        "    print()\n",
        "  elif i==1:\n",
        "    print(1)\n",
        "  else:\n",
        "    print(str(i)+str(i)*(i-2)+str(i))"
      ],
      "metadata": {
        "colab": {
          "base_uri": "https://localhost:8080/"
        },
        "id": "Eh2rKXx4caa7",
        "outputId": "d6673411-ed4b-46f7-f038-7268e6189b91"
      },
      "execution_count": 23,
      "outputs": [
        {
          "output_type": "stream",
          "name": "stdout",
          "text": [
            "4444\n",
            "333\n",
            "22\n",
            "1\n",
            "\n"
          ]
        }
      ]
    },
    {
      "cell_type": "code",
      "source": [
        "#23\n",
        "n = 5\n",
        "\n",
        "# printing pyramid\n",
        "for i in range(n):\n",
        "   for j in range(n-i-1):\n",
        "      # print spaces\n",
        "      print(\"\", end=\" \")\n",
        "   for j in range(2*i+1):\n",
        "      # print stars\n",
        "      print(\"*\", end=\"\")\n",
        "   print()\n",
        "\n",
        "# printing downward pyramid\n",
        "for i in range(n-1):\n",
        "   for j in range(i+1):\n",
        "      # print spaces\n",
        "      print(\"\", end=\" \")\n",
        "   for j in range(2*(n-i-1)-1):\n",
        "      # print stars\n",
        "      print(\"*\", end=\"\")\n",
        "   print()"
      ],
      "metadata": {
        "colab": {
          "base_uri": "https://localhost:8080/"
        },
        "id": "VVvTsRLGcacX",
        "outputId": "e3ce7da7-b349-4bbe-91d5-a75b59d7b484"
      },
      "execution_count": 24,
      "outputs": [
        {
          "output_type": "stream",
          "name": "stdout",
          "text": [
            "    *\n",
            "   ***\n",
            "  *****\n",
            " *******\n",
            "*********\n",
            " *******\n",
            "  *****\n",
            "   ***\n",
            "    *\n"
          ]
        }
      ]
    },
    {
      "cell_type": "code",
      "source": [
        "#24\n",
        "n=5\n",
        "k = 0\n",
        "count=0\n",
        "count1=0\n",
        "\n",
        "for i in range(1, n+1):\n",
        "    for j in range(1, (n-i)+1):\n",
        "        print(\" \", end=\"\")\n",
        "        count+=1\n",
        "    \n",
        "    while k!=((2*i)-1):\n",
        "        if count<=n-1:\n",
        "            print(i+k, end=\"\")\n",
        "            count+=1\n",
        "        else:\n",
        "            count1+=1\n",
        "            print(i+k-(2*count1), end=\"\")\n",
        "        k += 1\n",
        "    \n",
        "    count1 = count = k = 0\n",
        "    print()\n"
      ],
      "metadata": {
        "colab": {
          "base_uri": "https://localhost:8080/"
        },
        "id": "X5_n_cYB3G1L",
        "outputId": "2f5bee59-7644-49b8-8ada-f0c343061d4c"
      },
      "execution_count": 25,
      "outputs": [
        {
          "output_type": "stream",
          "name": "stdout",
          "text": [
            "    1\n",
            "   232\n",
            "  34543\n",
            " 4567654\n",
            "567898765\n"
          ]
        }
      ]
    },
    {
      "cell_type": "code",
      "source": [
        "#25\n",
        "n=5\n",
        "for i in range(n):\n",
        "    for k in range(1,n-i):\n",
        "        print(end=\" \")\n",
        "    for j in range(1,i+2):\n",
        "        print(\"*\", end=\"\")\n",
        "    for l in range(i,0,-1):\n",
        "        print(\"*\", end=\"\")\n",
        "    print()"
      ],
      "metadata": {
        "colab": {
          "base_uri": "https://localhost:8080/"
        },
        "id": "fiBYpaml3G3k",
        "outputId": "9fbb69e2-e510-4d16-f5d8-d38588c108dd"
      },
      "execution_count": 26,
      "outputs": [
        {
          "output_type": "stream",
          "name": "stdout",
          "text": [
            "    *\n",
            "   ***\n",
            "  *****\n",
            " *******\n",
            "*********\n"
          ]
        }
      ]
    },
    {
      "cell_type": "code",
      "source": [
        "#26\n",
        "n=5\n",
        "for i in range(n):\n",
        "    count = 0\n",
        "    for k in range(1,n-i):\n",
        "        print(end=\" \")\n",
        "    for j in range(i+1):\n",
        "        count = count + 1\n",
        "    num = count\n",
        "    for j in range(i+1):\n",
        "        print(num, end=\"\")\n",
        "        num = num - 1\n",
        "    for l in range(2,i+2):\n",
        "        print(l, end=\"\")\n",
        "    print()"
      ],
      "metadata": {
        "colab": {
          "base_uri": "https://localhost:8080/"
        },
        "id": "GUenCaXM3G6C",
        "outputId": "041d203c-d255-46bd-9016-2c13c3c45d57"
      },
      "execution_count": 27,
      "outputs": [
        {
          "output_type": "stream",
          "name": "stdout",
          "text": [
            "    1\n",
            "   212\n",
            "  32123\n",
            " 4321234\n",
            "543212345\n"
          ]
        }
      ]
    },
    {
      "cell_type": "code",
      "source": [
        "#27\n",
        "n= 5\n",
        "for i in range(0,int(n/2)+1):\n",
        "  for a2 in range(i,0,-1):\n",
        "    print(\" \", end = \"\")\n",
        "  for j in range(0, i + 1):\n",
        "    if j>=0:\n",
        "      print(\"*\", end=' ')\n",
        "  print(\"\")\n",
        "\n",
        "for i in range(int(n/2)+1, 0, -1):\n",
        "    for a2 in range(i-1,1,-1):\n",
        "        print(\" \", end='')\n",
        "    for j in range(i,1,-1):\n",
        "      if j>=0:\n",
        "        print(\"*\", end=' ')\n",
        "    print(\"\")"
      ],
      "metadata": {
        "colab": {
          "base_uri": "https://localhost:8080/"
        },
        "id": "N3SQOcF93G8h",
        "outputId": "deebf08c-43df-408f-b2a9-cd845fca5b4c"
      },
      "execution_count": 28,
      "outputs": [
        {
          "output_type": "stream",
          "name": "stdout",
          "text": [
            "* \n",
            " * * \n",
            "  * * * \n",
            " * * \n",
            "* \n",
            "\n"
          ]
        }
      ]
    },
    {
      "cell_type": "code",
      "source": [
        "#28\n",
        "row=3\n",
        "col=3\n",
        "arr1 = [[1, 2, 3], [4, 5, 6],[7, 8, 9]]\n",
        "arrray=[]\n",
        "\n",
        "for i in range(0,row):\n",
        "  for k in range(col-1,i-1,-1):\n",
        "    arrray.append(arr1[i])\n",
        "for rows in arrray:\n",
        "  for columns in rows:\n",
        "    print(columns,end=\" \")\n",
        "  print()"
      ],
      "metadata": {
        "colab": {
          "base_uri": "https://localhost:8080/"
        },
        "id": "JzWqmXBc3G-m",
        "outputId": "b09dbfb4-8464-4621-e244-e5e7513df22a"
      },
      "execution_count": 29,
      "outputs": [
        {
          "output_type": "stream",
          "name": "stdout",
          "text": [
            "1 2 3 \n",
            "1 2 3 \n",
            "1 2 3 \n",
            "4 5 6 \n",
            "4 5 6 \n",
            "7 8 9 \n"
          ]
        }
      ]
    },
    {
      "cell_type": "code",
      "source": [
        "#29\n",
        "n=5\n",
        "for i in range(1,n+1):\n",
        "  for j in range(n,0,-1):      \n",
        "      if i==j:\n",
        "        print('*',end=\"\")\n",
        "      else:\n",
        "        print(str(j),end=\"\")\n",
        "  print(\"\")"
      ],
      "metadata": {
        "colab": {
          "base_uri": "https://localhost:8080/"
        },
        "id": "VLs4NEpn3HBB",
        "outputId": "d0cf295c-5ba3-4ee3-c829-f4744420b372"
      },
      "execution_count": 30,
      "outputs": [
        {
          "output_type": "stream",
          "name": "stdout",
          "text": [
            "5432*\n",
            "543*1\n",
            "54*21\n",
            "5*321\n",
            "*4321\n"
          ]
        }
      ]
    },
    {
      "cell_type": "code",
      "source": [
        "#30\n",
        "n=3\n",
        "def zero_stars_pattern(n):\n",
        "  for i in range(n+1,1,-1):\n",
        "    for j in range(n+1,0,-1):      \n",
        "        if i==j:\n",
        "          print('*',end=\"\")\n",
        "        elif j==1:\n",
        "          print('*',end=\"\")\n",
        "        else:\n",
        "          print(j*0,end=\"\")\n",
        "    # print(\"\")\n",
        "    for k in range(2,n+2):      \n",
        "        if i==k:\n",
        "          print('*',end=\"\")\n",
        "        else:\n",
        "          print(i*0,end=\"\")\n",
        "    print(\"\")\n",
        "    \n",
        "for n in range(3,5+1): \n",
        "  zero_stars_pattern(n)"
      ],
      "metadata": {
        "colab": {
          "base_uri": "https://localhost:8080/"
        },
        "id": "Yy2mjDQL3HDW",
        "outputId": "92cc9069-a41e-4525-f216-55b581fb4f77"
      },
      "execution_count": 31,
      "outputs": [
        {
          "output_type": "stream",
          "name": "stdout",
          "text": [
            "*00*00*\n",
            "0*0*0*0\n",
            "00***00\n",
            "*000*000*\n",
            "0*00*00*0\n",
            "00*0*0*00\n",
            "000***000\n",
            "*0000*0000*\n",
            "0*000*000*0\n",
            "00*00*00*00\n",
            "000*0*0*000\n",
            "0000***0000\n"
          ]
        }
      ]
    },
    {
      "cell_type": "code",
      "source": [
        "#31\n",
        "n=5\n",
        "for i in range(n,0,-1):\n",
        "  for j in range(1,n+1):\n",
        "    if j<i:\n",
        "      print(\" \",end=\"\")\n",
        "    else:\n",
        "      print(\"*\",end=\"\")\n",
        "  print(\"\")"
      ],
      "metadata": {
        "colab": {
          "base_uri": "https://localhost:8080/"
        },
        "id": "hOc8wDJY3HFz",
        "outputId": "739ec044-134c-44bc-b682-17e8c56356fb"
      },
      "execution_count": 32,
      "outputs": [
        {
          "output_type": "stream",
          "name": "stdout",
          "text": [
            "    *\n",
            "   **\n",
            "  ***\n",
            " ****\n",
            "*****\n"
          ]
        }
      ]
    },
    {
      "cell_type": "code",
      "source": [
        "#32\n",
        "n=5\n",
        "for i in range(n):\n",
        "    for k in range(1,n-i):\n",
        "        print(end=\" \")\n",
        "    for j in range(1,i+2):\n",
        "        print(j, end=\"\")\n",
        "    for l in range(i,0,-1):\n",
        "        print(l, end=\"\")\n",
        "    print()"
      ],
      "metadata": {
        "colab": {
          "base_uri": "https://localhost:8080/"
        },
        "id": "iYBFPwCy3HIY",
        "outputId": "bae7f1c5-750e-459d-a03c-f605a8747b00"
      },
      "execution_count": 33,
      "outputs": [
        {
          "output_type": "stream",
          "name": "stdout",
          "text": [
            "    1\n",
            "   121\n",
            "  12321\n",
            " 1234321\n",
            "123454321\n"
          ]
        }
      ]
    },
    {
      "cell_type": "code",
      "source": [
        "#33\n",
        "n=5\n",
        "for i in range(1,n+1):\n",
        "  for j in range(1,i+1):\n",
        "    print(j,end=\"\")\n",
        "  for k in range(n,i,-1):\n",
        "    print(\" \",end=\"\")\n",
        "  for k in range(n,i,-1):\n",
        "    print(\" \",end=\"\")\n",
        "  for j in range(i,0,-1):\n",
        "    print(j,end=\"\")\n",
        "  print()"
      ],
      "metadata": {
        "colab": {
          "base_uri": "https://localhost:8080/"
        },
        "id": "Bh7onv683HK7",
        "outputId": "75489e82-97f2-4c13-df6c-02f52a63c74b"
      },
      "execution_count": 34,
      "outputs": [
        {
          "output_type": "stream",
          "name": "stdout",
          "text": [
            "1        1\n",
            "12      21\n",
            "123    321\n",
            "1234  4321\n",
            "1234554321\n"
          ]
        }
      ]
    },
    {
      "cell_type": "code",
      "source": [
        "#34\n",
        "\n",
        "\n",
        "n=4\n",
        "for i in range(1,n+1):\n",
        "  for j in range(n,0,-1):\n",
        "    if j>i:\n",
        "      print(\" \", end=\"\")\n",
        "    else:\n",
        "      print(j, end=\"\")\n",
        "  print(\"\")"
      ],
      "metadata": {
        "colab": {
          "base_uri": "https://localhost:8080/"
        },
        "id": "_W00cK9Icafl",
        "outputId": "309ef367-c599-4344-9a7d-ac0d336f7dee"
      },
      "execution_count": 35,
      "outputs": [
        {
          "output_type": "stream",
          "name": "stdout",
          "text": [
            "   1\n",
            "  21\n",
            " 321\n",
            "4321\n"
          ]
        }
      ]
    },
    {
      "cell_type": "code",
      "source": [
        "#35\n",
        "n=5\n",
        "lst=[1,0,1,0,1,0,1,0]\n",
        "for i in lst:\n",
        "  if i>=0:\n",
        "    print(str(i)*n)\n",
        "    n=n-1"
      ],
      "metadata": {
        "colab": {
          "base_uri": "https://localhost:8080/"
        },
        "id": "ZE7iskCtFM3y",
        "outputId": "9d752975-d3ab-4dd6-d710-925f956832a4"
      },
      "execution_count": 36,
      "outputs": [
        {
          "output_type": "stream",
          "name": "stdout",
          "text": [
            "11111\n",
            "0000\n",
            "111\n",
            "00\n",
            "1\n",
            "\n",
            "\n",
            "\n"
          ]
        }
      ]
    },
    {
      "cell_type": "code",
      "source": [
        "#36\n",
        "n=5\n",
        "for i in range(n):\n",
        "  for j in range(i):\n",
        "    print(\" \",end=\"\")\n",
        "  for k in range(i+1,n+1):\n",
        "    print(k,end=\"\")\n",
        "  print(\"\")\n",
        "for i in range(n-1,0,-1):\n",
        "  for m in range(i-1):\n",
        "    print(\" \",end=\"\")\n",
        "  for l in range(i,n+1):\n",
        "    print(l,end=\"\")\n",
        "  print(\"\")  "
      ],
      "metadata": {
        "colab": {
          "base_uri": "https://localhost:8080/"
        },
        "id": "A-zIAUeWFM6e",
        "outputId": "9e4e95b3-315a-4005-d175-68eda5098df7"
      },
      "execution_count": 37,
      "outputs": [
        {
          "output_type": "stream",
          "name": "stdout",
          "text": [
            "12345\n",
            " 2345\n",
            "  345\n",
            "   45\n",
            "    5\n",
            "   45\n",
            "  345\n",
            " 2345\n",
            "12345\n"
          ]
        }
      ]
    },
    {
      "cell_type": "code",
      "source": [
        "#37\n",
        "n=5\n",
        "m=1\n",
        "\n",
        "for i in range(1,n+1):\n",
        "  for j in range(m,m+n):\n",
        "    print(j,end=\" \")\n",
        "  print()\n",
        "  if i==((n+1)//2):\n",
        "    if (n%2)!=0:\n",
        "      m=n*(n-2)+1\n",
        "    else:\n",
        "      m=n*(n-1)+1\n",
        "  elif i>((n+1)//2):\n",
        "    m=m-2*n\n",
        "  else :\n",
        "    m=m+2*n"
      ],
      "metadata": {
        "colab": {
          "base_uri": "https://localhost:8080/"
        },
        "id": "5eXJCwggFM8-",
        "outputId": "12c90da1-7f74-4064-9782-453f78446388"
      },
      "execution_count": 38,
      "outputs": [
        {
          "output_type": "stream",
          "name": "stdout",
          "text": [
            "1 2 3 4 5 \n",
            "11 12 13 14 15 \n",
            "21 22 23 24 25 \n",
            "16 17 18 19 20 \n",
            "6 7 8 9 10 \n"
          ]
        }
      ]
    },
    {
      "cell_type": "code",
      "source": [
        "#38\n",
        "def printPattern(n):\n",
        " \n",
        "    arraySize = n * 2 - 1;\n",
        "    result = [[0 for x in range(arraySize)]\n",
        "                 for y in range(arraySize)];\n",
        "         \n",
        "    # Fill the values\n",
        "    for i in range(arraySize):\n",
        "        for j in range(arraySize):\n",
        "            if(abs(i - (arraySize // 2)) >\n",
        "               abs(j - (arraySize // 2))):\n",
        "                result[i][j] = abs(i - (arraySize // 2)) + 1;\n",
        "            else:\n",
        "                result[i][j] = abs(j - (arraySize // 2)) + 1;\n",
        "             \n",
        "    # Print the array\n",
        "    for i in range(arraySize):\n",
        "        for j in range(arraySize):\n",
        "            print(result[i][j], end = \"\");\n",
        "        print(\"\");\n",
        "\n",
        "n=5\n",
        "printPattern(5)"
      ],
      "metadata": {
        "colab": {
          "base_uri": "https://localhost:8080/"
        },
        "id": "aLSQdvpfFM_b",
        "outputId": "83abc320-6aa2-4eb0-9213-9d63e42eb6cc"
      },
      "execution_count": 39,
      "outputs": [
        {
          "output_type": "stream",
          "name": "stdout",
          "text": [
            "555555555\n",
            "544444445\n",
            "543333345\n",
            "543222345\n",
            "543212345\n",
            "543222345\n",
            "543333345\n",
            "544444445\n",
            "555555555\n"
          ]
        }
      ]
    },
    {
      "cell_type": "code",
      "source": [
        "#39\n",
        "n=5\n",
        "for i in range(1,n):\n",
        "  for j in range(1,i+1):\n",
        "    if j==1 :\n",
        "      print(\"*\",end=\"\")\n",
        "    elif j==(i):\n",
        "      print(\"*\",end=\"\")\n",
        "    else :\n",
        "      print(\" \",end=\"\")\n",
        "  print(\"\")\n",
        "print(\"*\"*n,end=\"\")\n"
      ],
      "metadata": {
        "colab": {
          "base_uri": "https://localhost:8080/"
        },
        "id": "HaqFMBtYFNB0",
        "outputId": "afb09f80-446a-4e72-aedb-8784f5cd271a"
      },
      "execution_count": 40,
      "outputs": [
        {
          "output_type": "stream",
          "name": "stdout",
          "text": [
            "*\n",
            "**\n",
            "* *\n",
            "*  *\n",
            "*****"
          ]
        }
      ]
    },
    {
      "cell_type": "code",
      "source": [
        "#40\n",
        "n=5\n",
        "\n",
        "for i in range(n-1):\n",
        "    for k in range(1,n-i):\n",
        "        print(end=\" \")\n",
        "    for j in range(i,i+1):\n",
        "        print(\"*\", end=\"\")\n",
        "    for k in range(1,i+1):\n",
        "        print(\" \",end=\"\")\n",
        "    \n",
        "\n",
        "    for k in range(1,i):\n",
        "        print(\" \",end=\"\")\n",
        "    for l in range(i-1,i):\n",
        "      if i!=0:\n",
        "        print(\"*\", end=\"\")\n",
        "    print(\"\")\n",
        "print(\"*\"*((n*2)-1))"
      ],
      "metadata": {
        "colab": {
          "base_uri": "https://localhost:8080/"
        },
        "id": "h_5V4cnuFNEa",
        "outputId": "7039dd7a-8589-49bd-d533-cbf4fa206db4"
      },
      "execution_count": 41,
      "outputs": [
        {
          "output_type": "stream",
          "name": "stdout",
          "text": [
            "    *\n",
            "   * *\n",
            "  *   *\n",
            " *     *\n",
            "*********\n"
          ]
        }
      ]
    },
    {
      "cell_type": "code",
      "source": [
        "#41\n",
        "n=5\n",
        "for i in range(n):\n",
        "  for j in range(i):\n",
        "    print(\" \",end=\"\")\n",
        "  for k in range(n,i,-1):\n",
        "    print(\"*\",end=\"\")\n",
        "  for k in range(n-1,i,-1):\n",
        "    print(\"*\",end=\"\")\n",
        "  print(\"\")"
      ],
      "metadata": {
        "colab": {
          "base_uri": "https://localhost:8080/"
        },
        "id": "N290n1o0FNHF",
        "outputId": "3a02366c-f5fe-4252-a438-e94859bc593a"
      },
      "execution_count": 42,
      "outputs": [
        {
          "output_type": "stream",
          "name": "stdout",
          "text": [
            "*********\n",
            " *******\n",
            "  *****\n",
            "   ***\n",
            "    *\n"
          ]
        }
      ]
    },
    {
      "cell_type": "code",
      "source": [
        "#42\n",
        "n = 5\n",
        "for i in range(1,n+1): #from row 1 to 5\n",
        "    for j in range(n-i):\n",
        "        print(\" \", end = \"\")\n",
        "    for k in range((i*2)-1):\n",
        "      if k==0 or k== ((i*2)-2):\n",
        "        print(\"*\",end=\"\")\n",
        "      else:\n",
        "        print(\" \", end = \"\")\n",
        "    print()\n",
        "\n",
        "for i in range(n + 1, n + 5): #from row 6 to 9\n",
        "    for j in range(i - n):\n",
        "        print(\" \", end = \"\")\n",
        "    for k in range((n+5 - i)*2 - 1):\n",
        "      if k==0 or k==((n+5 - i)*2 - 2):\n",
        "        print(\"*\", end = \"\")\n",
        "      else:\n",
        "        print(\" \", end = \"\")\n",
        "\n",
        "    print()\n"
      ],
      "metadata": {
        "colab": {
          "base_uri": "https://localhost:8080/"
        },
        "id": "keET66RMFNJT",
        "outputId": "5bc8e99f-ae4a-43ae-ac73-563dcac06983"
      },
      "execution_count": 43,
      "outputs": [
        {
          "output_type": "stream",
          "name": "stdout",
          "text": [
            "    *\n",
            "   * *\n",
            "  *   *\n",
            " *     *\n",
            "*       *\n",
            " *     *\n",
            "  *   *\n",
            "   * *\n",
            "    *\n"
          ]
        }
      ]
    },
    {
      "cell_type": "code",
      "source": [
        "#43\n",
        "rows = 5\n",
        "for i in range(rows, 0, -1):\n",
        "  for j in range(rows, i, -1):\n",
        "    print(' ',end=\"\")\n",
        "  for j in range(1, i + i):\n",
        "    print(\"*\", end=\"\")\n",
        "  print(\"\")\n",
        "\n",
        "for i in range(1,rows):\n",
        "  for j in range(rows-1,i,-1):\n",
        "    print(' ',end=\"\")\n",
        "  for k in range(i+i+2,1,-1):\n",
        "    print(\"*\",end=\"\")\n",
        "  print(\"\")"
      ],
      "metadata": {
        "colab": {
          "base_uri": "https://localhost:8080/"
        },
        "id": "cdth-AuuFNL2",
        "outputId": "b6e98319-3ae8-4077-d857-32d70f7250d2"
      },
      "execution_count": 44,
      "outputs": [
        {
          "output_type": "stream",
          "name": "stdout",
          "text": [
            "*********\n",
            " *******\n",
            "  *****\n",
            "   ***\n",
            "    *\n",
            "   ***\n",
            "  *****\n",
            " *******\n",
            "*********\n"
          ]
        }
      ]
    },
    {
      "cell_type": "code",
      "source": [
        "#44\n",
        "rows = 5\n",
        "i = 1\n",
        "while i <= rows:\n",
        "    j = i\n",
        "    while j < rows:\n",
        "        # display space\n",
        "        print(' ', end='')\n",
        "        j += 1\n",
        "    k = 1\n",
        "    while k <= i:\n",
        "        print('*', end='')\n",
        "        k += 1\n",
        "    print()\n",
        "    i += 1\n",
        "\n",
        "i = rows\n",
        "while i >= 1:\n",
        "    j = i\n",
        "    while j <= rows:\n",
        "        print(' ', end='')\n",
        "        j += 1\n",
        "    k = 1\n",
        "    while k < i:\n",
        "        print('*', end='')\n",
        "        k += 1\n",
        "    print('')\n",
        "    i -= 1"
      ],
      "metadata": {
        "colab": {
          "base_uri": "https://localhost:8080/"
        },
        "id": "3pwYOR2WFNOa",
        "outputId": "4d98e1ae-6644-43b5-93ec-c7b219c2eda4"
      },
      "execution_count": 45,
      "outputs": [
        {
          "output_type": "stream",
          "name": "stdout",
          "text": [
            "    *\n",
            "   **\n",
            "  ***\n",
            " ****\n",
            "*****\n",
            " ****\n",
            "  ***\n",
            "   **\n",
            "    *\n",
            "     \n"
          ]
        }
      ]
    },
    {
      "cell_type": "code",
      "source": [
        "#45\n",
        "n=5\n",
        "for i in range(1,n+1):\n",
        "  for j in range(1,n-i+1):\n",
        "    print(end=' ')\n",
        "  for k in range(1,(2*i)):\n",
        "    print(k,end=\"\")\n",
        "  print()\n",
        "\n",
        "for i in range(n-1,0,-1):\n",
        "  for j in range(1,(n-i+1)):\n",
        "    print(end=' ')\n",
        "  for k in range(1,(2*i)):\n",
        "    print(k,end=\"\")\n",
        "  print()"
      ],
      "metadata": {
        "colab": {
          "base_uri": "https://localhost:8080/"
        },
        "id": "-kBjUC9pFNRC",
        "outputId": "beab7d75-0b6b-431f-c4dd-5048922e1539"
      },
      "execution_count": 46,
      "outputs": [
        {
          "output_type": "stream",
          "name": "stdout",
          "text": [
            "    1\n",
            "   123\n",
            "  12345\n",
            " 1234567\n",
            "123456789\n",
            " 1234567\n",
            "  12345\n",
            "   123\n",
            "    1\n"
          ]
        }
      ]
    },
    {
      "cell_type": "code",
      "source": [
        "#46\n",
        "n=5\n",
        "trr='ABCDEFGHIKLMNOPQRSTUVWXYZ'\n",
        "for i in range(1,n+1):\n",
        "  for j in range(n+1,i,-1):\n",
        "    print(\" \",end=\"\")\n",
        "  print(trr[0:(i*2)-1])"
      ],
      "metadata": {
        "colab": {
          "base_uri": "https://localhost:8080/"
        },
        "id": "GZn-Eai7FNTr",
        "outputId": "2b2519f1-6568-4778-bb37-fd6a16109445"
      },
      "execution_count": 47,
      "outputs": [
        {
          "output_type": "stream",
          "name": "stdout",
          "text": [
            "     A\n",
            "    ABC\n",
            "   ABCDE\n",
            "  ABCDEFG\n",
            " ABCDEFGHI\n"
          ]
        }
      ]
    },
    {
      "cell_type": "code",
      "source": [
        "#47\n",
        "n = 5\n",
        "alpha = 65\n",
        "num = 0\n",
        "\n",
        "for i in range(n):\n",
        "    for j in range(n - i - 1):\n",
        "        print(\" \", end=\"\")\n",
        "    for k in range(2 * i + 1):\n",
        "        if i == 0 or i == n - 1:\n",
        "            print(chr(alpha + num), end=\"\")\n",
        "            num += 1\n",
        "        else:\n",
        "            if k == 0 or k == 2 * i:\n",
        "                print(chr(alpha + num), end=\"\")\n",
        "                num += 1\n",
        "            else:\n",
        "                print(\" \", end=\"\")\n",
        "    print()"
      ],
      "metadata": {
        "colab": {
          "base_uri": "https://localhost:8080/"
        },
        "id": "HYtuXXqHFNWI",
        "outputId": "8e541382-d196-4e67-a356-0b313bdc8751"
      },
      "execution_count": 48,
      "outputs": [
        {
          "output_type": "stream",
          "name": "stdout",
          "text": [
            "    A\n",
            "   B C\n",
            "  D   E\n",
            " F     G\n",
            "HIJKLMNOP\n"
          ]
        }
      ]
    },
    {
      "cell_type": "code",
      "source": [
        "#48\n",
        "n = 5\n",
        "for a1 in range(1,n+1): #from row 1 to 5\n",
        "    for a2 in range(n-a1):\n",
        "        print(\" \", end = \"\")\n",
        "    for a3 in range((a1*2)-1):\n",
        "      if a3==0:\n",
        "        print(\"1\",end=\"\")\n",
        "      elif a3== ((a1*2)-2):\n",
        "        print(\"2\",end=\"\")\n",
        "      else:\n",
        "        print(\" \", end = \"\")\n",
        "    print()\n",
        "\n",
        "for a1 in range(n + 1, n + 5): #from row 6 to 9\n",
        "    for a2 in range(a1 - n):\n",
        "        print(\" \", end = \"\")\n",
        "    for a3 in range((n+5 - a1)*2 - 1):\n",
        "      if a3==0:\n",
        "        print(\"1\", end = \"\")\n",
        "      elif a3==((n+5 - a1)*2 - 2):\n",
        "        print(\"2\",end=\"\")\n",
        "      else:\n",
        "        print(\" \", end = \"\")\n",
        "\n",
        "    print()"
      ],
      "metadata": {
        "colab": {
          "base_uri": "https://localhost:8080/"
        },
        "id": "FYPOFz82FNYj",
        "outputId": "643e0b48-d6d6-4632-9e0a-faf16193775b"
      },
      "execution_count": 49,
      "outputs": [
        {
          "output_type": "stream",
          "name": "stdout",
          "text": [
            "    1\n",
            "   1 2\n",
            "  1   2\n",
            " 1     2\n",
            "1       2\n",
            " 1     2\n",
            "  1   2\n",
            "   1 2\n",
            "    1\n"
          ]
        }
      ]
    },
    {
      "cell_type": "code",
      "source": [
        "#49\n",
        "n=5\n",
        "for i in range(1,n+1):\n",
        "    for j in range(1,n+1):\n",
        "        if i==j or i+j==n+1:\n",
        "            print('*', end='')\n",
        "        else:\n",
        "            print(' ', end='')\n",
        "    print()\n"
      ],
      "metadata": {
        "colab": {
          "base_uri": "https://localhost:8080/"
        },
        "id": "Vn1YvrD6FNbA",
        "outputId": "25285db3-a07e-401e-9ad5-479af70d0bc5"
      },
      "execution_count": 50,
      "outputs": [
        {
          "output_type": "stream",
          "name": "stdout",
          "text": [
            "*   *\n",
            " * * \n",
            "  *  \n",
            " * * \n",
            "*   *\n"
          ]
        }
      ]
    },
    {
      "cell_type": "code",
      "source": [
        "#50\n",
        "# heart pattern \n",
        "n = 6\n",
        "\n",
        "# upper part of the heart\n",
        "for i in range(n//2, n, 2):\n",
        "    # print first spaces\n",
        "    for j in range(1, n-i ,2):\n",
        "        print(\" \", end=\"\")\n",
        "    # print first stars\n",
        "    for j in range(1, i+1, 1):\n",
        "        print(\"*\", end=\"\")\n",
        "    # print second spaces\n",
        "    for j in range(1, n-i+1, 1):\n",
        "        print(\" \", end=\"\")\n",
        "    # print second stars\n",
        "    for j in range(1, i+1, 1):\n",
        "        print(\"*\", end=\"\")\n",
        "    print()\n",
        "\n",
        "# lower part\n",
        "for i in range(n,0,-1):\n",
        "    for j in range(i, n, 1):\n",
        "        print(\" \", end=\"\")\n",
        "    for j in range(1, i*2, 1):\n",
        "        print(\"*\", end=\"\")\n",
        "    print()\n",
        "\n"
      ],
      "metadata": {
        "colab": {
          "base_uri": "https://localhost:8080/"
        },
        "id": "ShDal9X0jXFG",
        "outputId": "ffd1884f-debd-437d-d99c-f730f7762c5c"
      },
      "execution_count": 173,
      "outputs": [
        {
          "output_type": "stream",
          "name": "stdout",
          "text": [
            " ***   ***\n",
            "***** *****\n",
            "***********\n",
            " *********\n",
            "  *******\n",
            "   *****\n",
            "    ***\n",
            "     *\n"
          ]
        }
      ]
    },
    {
      "cell_type": "code",
      "source": [
        "#50\n",
        "# heart pattern \n",
        "n = 6\n",
        "\n",
        "# upper part of the heart\n",
        "for i in range(n//2, n, 2):\n",
        "    # print first spaces\n",
        "    for j in range(1, n-i ,2):\n",
        "        print(\" \", end=\"\")\n",
        "    # print first stars\n",
        "    for j in range(1, i+1, 1):\n",
        "        print(\"*\", end=\"\")\n",
        "    # print second spaces\n",
        "    for j in range(1, n-i+1, 1):\n",
        "        print(\" \", end=\"\")\n",
        "    # print second stars\n",
        "    for j in range(1, i+1, 1):\n",
        "        print(\"*\", end=\"\")\n",
        "    print()\n",
        "\n",
        "# lower part\n",
        "for i in range(n,0,-1):\n",
        "    for j in range(i, n, 1):\n",
        "        print(\" \", end=\"\")\n",
        "    for j in range(1, i*2, 1):\n",
        "        print(\"*\", end=\"\")\n",
        "    print()\n"
      ],
      "metadata": {
        "colab": {
          "base_uri": "https://localhost:8080/"
        },
        "id": "ltcbV28rj5A0",
        "outputId": "9f69953a-a86a-4f6c-ea2e-c0d7276f76ac"
      },
      "execution_count": 56,
      "outputs": [
        {
          "output_type": "stream",
          "name": "stdout",
          "text": [
            " ***   ***\n",
            "***** *****\n",
            "***********\n",
            " *********\n",
            "  *******\n",
            "   *****\n",
            "    ***\n",
            "     *\n"
          ]
        }
      ]
    },
    {
      "cell_type": "code",
      "source": [
        "#50\n",
        "# heart pattern \n",
        "n = 6\n",
        "\n",
        "# upper part of the heart\n",
        "for i in range(n//2, n, 2):\n",
        "    # print first spaces\n",
        "    for j in range(1, n-i ,2):\n",
        "        print(\" \", end=\"\")\n",
        "    # print first stars\n",
        "    for j in range(1, i+1, 1):\n",
        "        print(\"*\", end=\"\")\n",
        "    # print second spaces\n",
        "    for j in range(1, n-i+1, 1):\n",
        "        print(\" \", end=\"\")\n",
        "    # print second stars\n",
        "    for j in range(1, i+1, 1):\n",
        "        print(\"*\", end=\"\")\n",
        "    print()\n",
        "\n",
        "# lower part\n",
        "for i in range(n,0,-1):\n",
        "    for j in range(i, n, 1):\n",
        "        print(\" \", end=\"\")\n",
        "    for j in range(1, i*2, 1):\n",
        "        print(\"*\", end=\"\")\n",
        "    print()\n"
      ],
      "metadata": {
        "colab": {
          "base_uri": "https://localhost:8080/"
        },
        "id": "bYHzaF3mj69W",
        "outputId": "7bc07a1d-eac4-4deb-cb9e-1423dbcce3f5"
      },
      "execution_count": 57,
      "outputs": [
        {
          "output_type": "stream",
          "name": "stdout",
          "text": [
            " ***   ***\n",
            "***** *****\n",
            "***********\n",
            " *********\n",
            "  *******\n",
            "   *****\n",
            "    ***\n",
            "     *\n"
          ]
        }
      ]
    },
    {
      "cell_type": "code",
      "source": [
        "#50\n",
        "# heart pattern \n",
        "n = 6\n",
        "\n",
        "# upper part of the heart\n",
        "for i in range(n//2, n, 2):\n",
        "    # print first spaces\n",
        "    for j in range(1, n-i ,2):\n",
        "        print(\" \", end=\"\")\n",
        "    # print first stars\n",
        "    for j in range(1, i+1, 1):\n",
        "        print(\"*\", end=\"\")\n",
        "    # print second spaces\n",
        "    for j in range(1, n-i+1, 1):\n",
        "        print(\" \", end=\"\")\n",
        "    # print second stars\n",
        "    for j in range(1, i+1, 1):\n",
        "        print(\"*\", end=\"\")\n",
        "    print()\n",
        "\n",
        "# lower part\n",
        "for i in range(n,0,-1):\n",
        "    for j in range(i, n, 1):\n",
        "        print(\" \", end=\"\")\n",
        "    for j in range(1, i*2, 1):\n",
        "        print(\"*\", end=\"\")\n",
        "    print()\n"
      ],
      "metadata": {
        "colab": {
          "base_uri": "https://localhost:8080/"
        },
        "id": "Ju874mO_j7Sk",
        "outputId": "c962e3c8-99ee-4eb3-eb1a-3a6b52b84e70"
      },
      "execution_count": 58,
      "outputs": [
        {
          "output_type": "stream",
          "name": "stdout",
          "text": [
            " ***   ***\n",
            "***** *****\n",
            "***********\n",
            " *********\n",
            "  *******\n",
            "   *****\n",
            "    ***\n",
            "     *\n"
          ]
        }
      ]
    },
    {
      "cell_type": "code",
      "source": [
        "#50\n",
        "# heart pattern \n",
        "n = 6\n",
        "\n",
        "# upper part of the heart\n",
        "for i in range(n//2, n, 2):\n",
        "    # print first spaces\n",
        "    for j in range(1, n-i ,2):\n",
        "        print(\" \", end=\"\")\n",
        "    # print first stars\n",
        "    for j in range(1, i+1, 1):\n",
        "        print(\"*\", end=\"\")\n",
        "    # print second spaces\n",
        "    for j in range(1, n-i+1, 1):\n",
        "        print(\" \", end=\"\")\n",
        "    # print second stars\n",
        "    for j in range(1, i+1, 1):\n",
        "        print(\"*\", end=\"\")\n",
        "    print()\n",
        "\n",
        "# lower part\n",
        "for i in range(n,0,-1):\n",
        "    for j in range(i, n, 1):\n",
        "        print(\" \", end=\"\")\n",
        "    for j in range(1, i*2, 1):\n",
        "        print(\"*\", end=\"\")\n",
        "    print()\n"
      ],
      "metadata": {
        "colab": {
          "base_uri": "https://localhost:8080/"
        },
        "id": "laR-QFMij7sf",
        "outputId": "d3aa1e1a-2f8b-4afe-a48e-86b945fb7053"
      },
      "execution_count": 59,
      "outputs": [
        {
          "output_type": "stream",
          "name": "stdout",
          "text": [
            " ***   ***\n",
            "***** *****\n",
            "***********\n",
            " *********\n",
            "  *******\n",
            "   *****\n",
            "    ***\n",
            "     *\n"
          ]
        }
      ]
    },
    {
      "cell_type": "code",
      "source": [
        "#50\n",
        "# heart pattern \n",
        "n = 6\n",
        "\n",
        "# upper part of the heart\n",
        "for i in range(n//2, n, 2):\n",
        "    # print first spaces\n",
        "    for j in range(1, n-i ,2):\n",
        "        print(\" \", end=\"\")\n",
        "    # print first stars\n",
        "    for j in range(1, i+1, 1):\n",
        "        print(\"*\", end=\"\")\n",
        "    # print second spaces\n",
        "    for j in range(1, n-i+1, 1):\n",
        "        print(\" \", end=\"\")\n",
        "    # print second stars\n",
        "    for j in range(1, i+1, 1):\n",
        "        print(\"*\", end=\"\")\n",
        "    print()\n",
        "\n",
        "# lower part\n",
        "for i in range(n,0,-1):\n",
        "    for j in range(i, n, 1):\n",
        "        print(\" \", end=\"\")\n",
        "    for j in range(1, i*2, 1):\n",
        "        print(\"*\", end=\"\")\n",
        "    print()\n"
      ],
      "metadata": {
        "colab": {
          "base_uri": "https://localhost:8080/"
        },
        "id": "mLFaOYELj7_G",
        "outputId": "e33fa2be-b956-43af-8df5-1606d24ca902"
      },
      "execution_count": 60,
      "outputs": [
        {
          "output_type": "stream",
          "name": "stdout",
          "text": [
            " ***   ***\n",
            "***** *****\n",
            "***********\n",
            " *********\n",
            "  *******\n",
            "   *****\n",
            "    ***\n",
            "     *\n"
          ]
        }
      ]
    },
    {
      "cell_type": "code",
      "source": [
        "#50\n",
        "# heart pattern \n",
        "n = 6\n",
        "\n",
        "# upper part of the heart\n",
        "for i in range(n//2, n, 2):\n",
        "    # print first spaces\n",
        "    for j in range(1, n-i ,2):\n",
        "        print(\" \", end=\"\")\n",
        "    # print first stars\n",
        "    for j in range(1, i+1, 1):\n",
        "        print(\"*\", end=\"\")\n",
        "    # print second spaces\n",
        "    for j in range(1, n-i+1, 1):\n",
        "        print(\" \", end=\"\")\n",
        "    # print second stars\n",
        "    for j in range(1, i+1, 1):\n",
        "        print(\"*\", end=\"\")\n",
        "    print()\n",
        "\n",
        "# lower part\n",
        "for i in range(n,0,-1):\n",
        "    for j in range(i, n, 1):\n",
        "        print(\" \", end=\"\")\n",
        "    for j in range(1, i*2, 1):\n",
        "        print(\"*\", end=\"\")\n",
        "    print()\n"
      ],
      "metadata": {
        "colab": {
          "base_uri": "https://localhost:8080/"
        },
        "id": "WNqMmQYfj8UI",
        "outputId": "de433ad0-8aea-4ea3-f1ad-3caacebd8ea1"
      },
      "execution_count": 61,
      "outputs": [
        {
          "output_type": "stream",
          "name": "stdout",
          "text": [
            " ***   ***\n",
            "***** *****\n",
            "***********\n",
            " *********\n",
            "  *******\n",
            "   *****\n",
            "    ***\n",
            "     *\n"
          ]
        }
      ]
    },
    {
      "cell_type": "code",
      "source": [
        "#50\n",
        "# heart pattern \n",
        "n = 6\n",
        "\n",
        "# upper part of the heart\n",
        "for i in range(n//2, n, 2):\n",
        "    # print first spaces\n",
        "    for j in range(1, n-i ,2):\n",
        "        print(\" \", end=\"\")\n",
        "    # print first stars\n",
        "    for j in range(1, i+1, 1):\n",
        "        print(\"*\", end=\"\")\n",
        "    # print second spaces\n",
        "    for j in range(1, n-i+1, 1):\n",
        "        print(\" \", end=\"\")\n",
        "    # print second stars\n",
        "    for j in range(1, i+1, 1):\n",
        "        print(\"*\", end=\"\")\n",
        "    print()\n",
        "\n",
        "# lower part\n",
        "for i in range(n,0,-1):\n",
        "    for j in range(i, n, 1):\n",
        "        print(\" \", end=\"\")\n",
        "    for j in range(1, i*2, 1):\n",
        "        print(\"*\", end=\"\")\n",
        "    print()\n"
      ],
      "metadata": {
        "colab": {
          "base_uri": "https://localhost:8080/"
        },
        "id": "cZLwq3M3j9l5",
        "outputId": "5fa9de17-124c-478e-918d-4760cb8ee1c6"
      },
      "execution_count": 62,
      "outputs": [
        {
          "output_type": "stream",
          "name": "stdout",
          "text": [
            " ***   ***\n",
            "***** *****\n",
            "***********\n",
            " *********\n",
            "  *******\n",
            "   *****\n",
            "    ***\n",
            "     *\n"
          ]
        }
      ]
    },
    {
      "cell_type": "code",
      "source": [
        "#50\n",
        "# heart pattern \n",
        "n = 6\n",
        "\n",
        "# upper part of the heart\n",
        "for i in range(n//2, n, 2):\n",
        "    # print first spaces\n",
        "    for j in range(1, n-i ,2):\n",
        "        print(\" \", end=\"\")\n",
        "    # print first stars\n",
        "    for j in range(1, i+1, 1):\n",
        "        print(\"*\", end=\"\")\n",
        "    # print second spaces\n",
        "    for j in range(1, n-i+1, 1):\n",
        "        print(\" \", end=\"\")\n",
        "    # print second stars\n",
        "    for j in range(1, i+1, 1):\n",
        "        print(\"*\", end=\"\")\n",
        "    print()\n",
        "\n",
        "# lower part\n",
        "for i in range(n,0,-1):\n",
        "    for j in range(i, n, 1):\n",
        "        print(\" \", end=\"\")\n",
        "    for j in range(1, i*2, 1):\n",
        "        print(\"*\", end=\"\")\n",
        "    print()\n"
      ],
      "metadata": {
        "colab": {
          "base_uri": "https://localhost:8080/"
        },
        "id": "JIg1UuAij94Q",
        "outputId": "699ae53d-d9d3-438d-8699-18dcc190b1ec"
      },
      "execution_count": 63,
      "outputs": [
        {
          "output_type": "stream",
          "name": "stdout",
          "text": [
            " ***   ***\n",
            "***** *****\n",
            "***********\n",
            " *********\n",
            "  *******\n",
            "   *****\n",
            "    ***\n",
            "     *\n"
          ]
        }
      ]
    },
    {
      "cell_type": "code",
      "source": [
        "#50\n",
        "# heart pattern \n",
        "n = 6\n",
        "\n",
        "# upper part of the heart\n",
        "for i in range(n//2, n, 2):\n",
        "    # print first spaces\n",
        "    for j in range(1, n-i ,2):\n",
        "        print(\" \", end=\"\")\n",
        "    # print first stars\n",
        "    for j in range(1, i+1, 1):\n",
        "        print(\"*\", end=\"\")\n",
        "    # print second spaces\n",
        "    for j in range(1, n-i+1, 1):\n",
        "        print(\" \", end=\"\")\n",
        "    # print second stars\n",
        "    for j in range(1, i+1, 1):\n",
        "        print(\"*\", end=\"\")\n",
        "    print()\n",
        "\n",
        "# lower part\n",
        "for i in range(n,0,-1):\n",
        "    for j in range(i, n, 1):\n",
        "        print(\" \", end=\"\")\n",
        "    for j in range(1, i*2, 1):\n",
        "        print(\"*\", end=\"\")\n",
        "    print()\n"
      ],
      "metadata": {
        "colab": {
          "base_uri": "https://localhost:8080/"
        },
        "id": "uwXS21M4j-MT",
        "outputId": "87b8f53e-8fcb-4c00-91ca-741002a983c2"
      },
      "execution_count": 64,
      "outputs": [
        {
          "output_type": "stream",
          "name": "stdout",
          "text": [
            " ***   ***\n",
            "***** *****\n",
            "***********\n",
            " *********\n",
            "  *******\n",
            "   *****\n",
            "    ***\n",
            "     *\n"
          ]
        }
      ]
    },
    {
      "cell_type": "code",
      "source": [
        "#50\n",
        "# heart pattern \n",
        "n = 6\n",
        "\n",
        "# upper part of the heart\n",
        "for i in range(n//2, n, 2):\n",
        "    # print first spaces\n",
        "    for j in range(1, n-i ,2):\n",
        "        print(\" \", end=\"\")\n",
        "    # print first stars\n",
        "    for j in range(1, i+1, 1):\n",
        "        print(\"*\", end=\"\")\n",
        "    # print second spaces\n",
        "    for j in range(1, n-i+1, 1):\n",
        "        print(\" \", end=\"\")\n",
        "    # print second stars\n",
        "    for j in range(1, i+1, 1):\n",
        "        print(\"*\", end=\"\")\n",
        "    print()\n",
        "\n",
        "# lower part\n",
        "for i in range(n,0,-1):\n",
        "    for j in range(i, n, 1):\n",
        "        print(\" \", end=\"\")\n",
        "    for j in range(1, i*2, 1):\n",
        "        print(\"*\", end=\"\")\n",
        "    print()\n"
      ],
      "metadata": {
        "colab": {
          "base_uri": "https://localhost:8080/"
        },
        "id": "7oY2fSmlj-e0",
        "outputId": "eafc9706-83ad-4db3-e963-afbbe0f00741"
      },
      "execution_count": 65,
      "outputs": [
        {
          "output_type": "stream",
          "name": "stdout",
          "text": [
            " ***   ***\n",
            "***** *****\n",
            "***********\n",
            " *********\n",
            "  *******\n",
            "   *****\n",
            "    ***\n",
            "     *\n"
          ]
        }
      ]
    },
    {
      "cell_type": "code",
      "source": [
        "#50\n",
        "# heart pattern \n",
        "n = 6\n",
        "\n",
        "# upper part of the heart\n",
        "for i in range(n//2, n, 2):\n",
        "    # print first spaces\n",
        "    for j in range(1, n-i ,2):\n",
        "        print(\" \", end=\"\")\n",
        "    # print first stars\n",
        "    for j in range(1, i+1, 1):\n",
        "        print(\"*\", end=\"\")\n",
        "    # print second spaces\n",
        "    for j in range(1, n-i+1, 1):\n",
        "        print(\" \", end=\"\")\n",
        "    # print second stars\n",
        "    for j in range(1, i+1, 1):\n",
        "        print(\"*\", end=\"\")\n",
        "    print()\n",
        "\n",
        "# lower part\n",
        "for i in range(n,0,-1):\n",
        "    for j in range(i, n, 1):\n",
        "        print(\" \", end=\"\")\n",
        "    for j in range(1, i*2, 1):\n",
        "        print(\"*\", end=\"\")\n",
        "    print()\n"
      ],
      "metadata": {
        "colab": {
          "base_uri": "https://localhost:8080/"
        },
        "id": "ZmXHqMUZj-0c",
        "outputId": "2fd46227-6201-4cfa-dded-d8c437820dd3"
      },
      "execution_count": 66,
      "outputs": [
        {
          "output_type": "stream",
          "name": "stdout",
          "text": [
            " ***   ***\n",
            "***** *****\n",
            "***********\n",
            " *********\n",
            "  *******\n",
            "   *****\n",
            "    ***\n",
            "     *\n"
          ]
        }
      ]
    },
    {
      "cell_type": "code",
      "source": [
        "#50\n",
        "# heart pattern \n",
        "n = 6\n",
        "\n",
        "# upper part of the heart\n",
        "for i in range(n//2, n, 2):\n",
        "    # print first spaces\n",
        "    for j in range(1, n-i ,2):\n",
        "        print(\" \", end=\"\")\n",
        "    # print first stars\n",
        "    for j in range(1, i+1, 1):\n",
        "        print(\"*\", end=\"\")\n",
        "    # print second spaces\n",
        "    for j in range(1, n-i+1, 1):\n",
        "        print(\" \", end=\"\")\n",
        "    # print second stars\n",
        "    for j in range(1, i+1, 1):\n",
        "        print(\"*\", end=\"\")\n",
        "    print()\n",
        "\n",
        "# lower part\n",
        "for i in range(n,0,-1):\n",
        "    for j in range(i, n, 1):\n",
        "        print(\" \", end=\"\")\n",
        "    for j in range(1, i*2, 1):\n",
        "        print(\"*\", end=\"\")\n",
        "    print()\n"
      ],
      "metadata": {
        "colab": {
          "base_uri": "https://localhost:8080/"
        },
        "id": "Zuo7R4rukBuQ",
        "outputId": "ddd8b342-5d9c-447b-bcba-57834cca2acc"
      },
      "execution_count": 67,
      "outputs": [
        {
          "output_type": "stream",
          "name": "stdout",
          "text": [
            " ***   ***\n",
            "***** *****\n",
            "***********\n",
            " *********\n",
            "  *******\n",
            "   *****\n",
            "    ***\n",
            "     *\n"
          ]
        }
      ]
    },
    {
      "cell_type": "code",
      "source": [
        "#50\n",
        "# heart pattern \n",
        "n = 6\n",
        "\n",
        "# upper part of the heart\n",
        "for i in range(n//2, n, 2):\n",
        "    # print first spaces\n",
        "    for j in range(1, n-i ,2):\n",
        "        print(\" \", end=\"\")\n",
        "    # print first stars\n",
        "    for j in range(1, i+1, 1):\n",
        "        print(\"*\", end=\"\")\n",
        "    # print second spaces\n",
        "    for j in range(1, n-i+1, 1):\n",
        "        print(\" \", end=\"\")\n",
        "    # print second stars\n",
        "    for j in range(1, i+1, 1):\n",
        "        print(\"*\", end=\"\")\n",
        "    print()\n",
        "\n",
        "# lower part\n",
        "for i in range(n,0,-1):\n",
        "    for j in range(i, n, 1):\n",
        "        print(\" \", end=\"\")\n",
        "    for j in range(1, i*2, 1):\n",
        "        print(\"*\", end=\"\")\n",
        "    print()\n"
      ],
      "metadata": {
        "colab": {
          "base_uri": "https://localhost:8080/"
        },
        "id": "R-KjMbUHkCu0",
        "outputId": "714daf0b-f649-4880-c1ec-585f328a9e86"
      },
      "execution_count": 68,
      "outputs": [
        {
          "output_type": "stream",
          "name": "stdout",
          "text": [
            " ***   ***\n",
            "***** *****\n",
            "***********\n",
            " *********\n",
            "  *******\n",
            "   *****\n",
            "    ***\n",
            "     *\n"
          ]
        }
      ]
    },
    {
      "cell_type": "code",
      "source": [
        "#50\n",
        "# heart pattern \n",
        "n = 6\n",
        "\n",
        "# upper part of the heart\n",
        "for i in range(n//2, n, 2):\n",
        "    # print first spaces\n",
        "    for j in range(1, n-i ,2):\n",
        "        print(\" \", end=\"\")\n",
        "    # print first stars\n",
        "    for j in range(1, i+1, 1):\n",
        "        print(\"*\", end=\"\")\n",
        "    # print second spaces\n",
        "    for j in range(1, n-i+1, 1):\n",
        "        print(\" \", end=\"\")\n",
        "    # print second stars\n",
        "    for j in range(1, i+1, 1):\n",
        "        print(\"*\", end=\"\")\n",
        "    print()\n",
        "\n",
        "# lower part\n",
        "for i in range(n,0,-1):\n",
        "    for j in range(i, n, 1):\n",
        "        print(\" \", end=\"\")\n",
        "    for j in range(1, i*2, 1):\n",
        "        print(\"*\", end=\"\")\n",
        "    print()\n"
      ],
      "metadata": {
        "colab": {
          "base_uri": "https://localhost:8080/"
        },
        "id": "0Bk1gNHVkDGs",
        "outputId": "4d3bb6e3-401e-4090-f3db-93a19ebc819a"
      },
      "execution_count": 69,
      "outputs": [
        {
          "output_type": "stream",
          "name": "stdout",
          "text": [
            " ***   ***\n",
            "***** *****\n",
            "***********\n",
            " *********\n",
            "  *******\n",
            "   *****\n",
            "    ***\n",
            "     *\n"
          ]
        }
      ]
    },
    {
      "cell_type": "code",
      "source": [
        "#50\n",
        "# heart pattern \n",
        "n = 6\n",
        "\n",
        "# upper part of the heart\n",
        "for i in range(n//2, n, 2):\n",
        "    # print first spaces\n",
        "    for j in range(1, n-i ,2):\n",
        "        print(\" \", end=\"\")\n",
        "    # print first stars\n",
        "    for j in range(1, i+1, 1):\n",
        "        print(\"*\", end=\"\")\n",
        "    # print second spaces\n",
        "    for j in range(1, n-i+1, 1):\n",
        "        print(\" \", end=\"\")\n",
        "    # print second stars\n",
        "    for j in range(1, i+1, 1):\n",
        "        print(\"*\", end=\"\")\n",
        "    print()\n",
        "\n",
        "# lower part\n",
        "for i in range(n,0,-1):\n",
        "    for j in range(i, n, 1):\n",
        "        print(\" \", end=\"\")\n",
        "    for j in range(1, i*2, 1):\n",
        "        print(\"*\", end=\"\")\n",
        "    print()\n"
      ],
      "metadata": {
        "colab": {
          "base_uri": "https://localhost:8080/"
        },
        "id": "jlw3Y6omkE42",
        "outputId": "2cc3101b-bac9-46d5-c63c-d357f217f53c"
      },
      "execution_count": 70,
      "outputs": [
        {
          "output_type": "stream",
          "name": "stdout",
          "text": [
            " ***   ***\n",
            "***** *****\n",
            "***********\n",
            " *********\n",
            "  *******\n",
            "   *****\n",
            "    ***\n",
            "     *\n"
          ]
        }
      ]
    },
    {
      "cell_type": "code",
      "source": [
        "#50\n",
        "# heart pattern \n",
        "n = 6\n",
        "\n",
        "# upper part of the heart\n",
        "for i in range(n//2, n, 2):\n",
        "    # print first spaces\n",
        "    for j in range(1, n-i ,2):\n",
        "        print(\" \", end=\"\")\n",
        "    # print first stars\n",
        "    for j in range(1, i+1, 1):\n",
        "        print(\"*\", end=\"\")\n",
        "    # print second spaces\n",
        "    for j in range(1, n-i+1, 1):\n",
        "        print(\" \", end=\"\")\n",
        "    # print second stars\n",
        "    for j in range(1, i+1, 1):\n",
        "        print(\"*\", end=\"\")\n",
        "    print()\n",
        "\n",
        "# lower part\n",
        "for i in range(n,0,-1):\n",
        "    for j in range(i, n, 1):\n",
        "        print(\" \", end=\"\")\n",
        "    for j in range(1, i*2, 1):\n",
        "        print(\"*\", end=\"\")\n",
        "    print()\n"
      ],
      "metadata": {
        "colab": {
          "base_uri": "https://localhost:8080/"
        },
        "id": "hT34O770kLar",
        "outputId": "e2545045-f153-44b3-955f-7ceeb71aec7c"
      },
      "execution_count": 71,
      "outputs": [
        {
          "output_type": "stream",
          "name": "stdout",
          "text": [
            " ***   ***\n",
            "***** *****\n",
            "***********\n",
            " *********\n",
            "  *******\n",
            "   *****\n",
            "    ***\n",
            "     *\n"
          ]
        }
      ]
    },
    {
      "cell_type": "code",
      "source": [
        "#50\n",
        "# heart pattern \n",
        "n = 6\n",
        "\n",
        "# upper part of the heart\n",
        "for i in range(n//2, n, 2):\n",
        "    # print first spaces\n",
        "    for j in range(1, n-i ,2):\n",
        "        print(\" \", end=\"\")\n",
        "    # print first stars\n",
        "    for j in range(1, i+1, 1):\n",
        "        print(\"*\", end=\"\")\n",
        "    # print second spaces\n",
        "    for j in range(1, n-i+1, 1):\n",
        "        print(\" \", end=\"\")\n",
        "    # print second stars\n",
        "    for j in range(1, i+1, 1):\n",
        "        print(\"*\", end=\"\")\n",
        "    print()\n",
        "\n",
        "# lower part\n",
        "for i in range(n,0,-1):\n",
        "    for j in range(i, n, 1):\n",
        "        print(\" \", end=\"\")\n",
        "    for j in range(1, i*2, 1):\n",
        "        print(\"*\", end=\"\")\n",
        "    print()\n"
      ],
      "metadata": {
        "colab": {
          "base_uri": "https://localhost:8080/"
        },
        "id": "a8f9kWiokLtA",
        "outputId": "a584eefc-d48b-4b60-ab94-4b4eafd40208"
      },
      "execution_count": 72,
      "outputs": [
        {
          "output_type": "stream",
          "name": "stdout",
          "text": [
            " ***   ***\n",
            "***** *****\n",
            "***********\n",
            " *********\n",
            "  *******\n",
            "   *****\n",
            "    ***\n",
            "     *\n"
          ]
        }
      ]
    },
    {
      "cell_type": "code",
      "source": [
        "#50\n",
        "# heart pattern \n",
        "n = 6\n",
        "\n",
        "# upper part of the heart\n",
        "for i in range(n//2, n, 2):\n",
        "    # print first spaces\n",
        "    for j in range(1, n-i ,2):\n",
        "        print(\" \", end=\"\")\n",
        "    # print first stars\n",
        "    for j in range(1, i+1, 1):\n",
        "        print(\"*\", end=\"\")\n",
        "    # print second spaces\n",
        "    for j in range(1, n-i+1, 1):\n",
        "        print(\" \", end=\"\")\n",
        "    # print second stars\n",
        "    for j in range(1, i+1, 1):\n",
        "        print(\"*\", end=\"\")\n",
        "    print()\n",
        "\n",
        "# lower part\n",
        "for i in range(n,0,-1):\n",
        "    for j in range(i, n, 1):\n",
        "        print(\" \", end=\"\")\n",
        "    for j in range(1, i*2, 1):\n",
        "        print(\"*\", end=\"\")\n",
        "    print()\n"
      ],
      "metadata": {
        "colab": {
          "base_uri": "https://localhost:8080/"
        },
        "id": "aXLNdzAIkMLI",
        "outputId": "8038c930-b2e1-44f3-ecb2-bcef972dc06d"
      },
      "execution_count": 73,
      "outputs": [
        {
          "output_type": "stream",
          "name": "stdout",
          "text": [
            " ***   ***\n",
            "***** *****\n",
            "***********\n",
            " *********\n",
            "  *******\n",
            "   *****\n",
            "    ***\n",
            "     *\n"
          ]
        }
      ]
    },
    {
      "cell_type": "code",
      "source": [
        "#50\n",
        "# heart pattern \n",
        "n = 6\n",
        "\n",
        "# upper part of the heart\n",
        "for i in range(n//2, n, 2):\n",
        "    # print first spaces\n",
        "    for j in range(1, n-i ,2):\n",
        "        print(\" \", end=\"\")\n",
        "    # print first stars\n",
        "    for j in range(1, i+1, 1):\n",
        "        print(\"*\", end=\"\")\n",
        "    # print second spaces\n",
        "    for j in range(1, n-i+1, 1):\n",
        "        print(\" \", end=\"\")\n",
        "    # print second stars\n",
        "    for j in range(1, i+1, 1):\n",
        "        print(\"*\", end=\"\")\n",
        "    print()\n",
        "\n",
        "# lower part\n",
        "for i in range(n,0,-1):\n",
        "    for j in range(i, n, 1):\n",
        "        print(\" \", end=\"\")\n",
        "    for j in range(1, i*2, 1):\n",
        "        print(\"*\", end=\"\")\n",
        "    print()\n"
      ],
      "metadata": {
        "colab": {
          "base_uri": "https://localhost:8080/"
        },
        "id": "bHgjiHACkSdT",
        "outputId": "5dfd1157-9c1a-4a50-9e9f-c423439541ff"
      },
      "execution_count": 74,
      "outputs": [
        {
          "output_type": "stream",
          "name": "stdout",
          "text": [
            " ***   ***\n",
            "***** *****\n",
            "***********\n",
            " *********\n",
            "  *******\n",
            "   *****\n",
            "    ***\n",
            "     *\n"
          ]
        }
      ]
    },
    {
      "cell_type": "code",
      "source": [
        "#50\n",
        "# heart pattern \n",
        "n = 6\n",
        "\n",
        "# upper part of the heart\n",
        "for i in range(n//2, n, 2):\n",
        "    # print first spaces\n",
        "    for j in range(1, n-i ,2):\n",
        "        print(\" \", end=\"\")\n",
        "    # print first stars\n",
        "    for j in range(1, i+1, 1):\n",
        "        print(\"*\", end=\"\")\n",
        "    # print second spaces\n",
        "    for j in range(1, n-i+1, 1):\n",
        "        print(\" \", end=\"\")\n",
        "    # print second stars\n",
        "    for j in range(1, i+1, 1):\n",
        "        print(\"*\", end=\"\")\n",
        "    print()\n",
        "\n",
        "# lower part\n",
        "for i in range(n,0,-1):\n",
        "    for j in range(i, n, 1):\n",
        "        print(\" \", end=\"\")\n",
        "    for j in range(1, i*2, 1):\n",
        "        print(\"*\", end=\"\")\n",
        "    print()\n"
      ],
      "metadata": {
        "colab": {
          "base_uri": "https://localhost:8080/"
        },
        "id": "vS1akFsXkSy-",
        "outputId": "dd3ebabc-638a-49e4-9bdb-23f5a44d6bcc"
      },
      "execution_count": 75,
      "outputs": [
        {
          "output_type": "stream",
          "name": "stdout",
          "text": [
            " ***   ***\n",
            "***** *****\n",
            "***********\n",
            " *********\n",
            "  *******\n",
            "   *****\n",
            "    ***\n",
            "     *\n"
          ]
        }
      ]
    },
    {
      "cell_type": "code",
      "source": [
        "#50\n",
        "# heart pattern \n",
        "n = 6\n",
        "\n",
        "# upper part of the heart\n",
        "for i in range(n//2, n, 2):\n",
        "    # print first spaces\n",
        "    for j in range(1, n-i ,2):\n",
        "        print(\" \", end=\"\")\n",
        "    # print first stars\n",
        "    for j in range(1, i+1, 1):\n",
        "        print(\"*\", end=\"\")\n",
        "    # print second spaces\n",
        "    for j in range(1, n-i+1, 1):\n",
        "        print(\" \", end=\"\")\n",
        "    # print second stars\n",
        "    for j in range(1, i+1, 1):\n",
        "        print(\"*\", end=\"\")\n",
        "    print()\n",
        "\n",
        "# lower part\n",
        "for i in range(n,0,-1):\n",
        "    for j in range(i, n, 1):\n",
        "        print(\" \", end=\"\")\n",
        "    for j in range(1, i*2, 1):\n",
        "        print(\"*\", end=\"\")\n",
        "    print()\n"
      ],
      "metadata": {
        "colab": {
          "base_uri": "https://localhost:8080/"
        },
        "id": "uQGER-WNkTB9",
        "outputId": "a65f7b1e-3c3f-4a8d-9ccf-bd3a799ab792"
      },
      "execution_count": 76,
      "outputs": [
        {
          "output_type": "stream",
          "name": "stdout",
          "text": [
            " ***   ***\n",
            "***** *****\n",
            "***********\n",
            " *********\n",
            "  *******\n",
            "   *****\n",
            "    ***\n",
            "     *\n"
          ]
        }
      ]
    },
    {
      "cell_type": "code",
      "source": [
        "#50\n",
        "# heart pattern \n",
        "n = 6\n",
        "\n",
        "# upper part of the heart\n",
        "for i in range(n//2, n, 2):\n",
        "    # print first spaces\n",
        "    for j in range(1, n-i ,2):\n",
        "        print(\" \", end=\"\")\n",
        "    # print first stars\n",
        "    for j in range(1, i+1, 1):\n",
        "        print(\"*\", end=\"\")\n",
        "    # print second spaces\n",
        "    for j in range(1, n-i+1, 1):\n",
        "        print(\" \", end=\"\")\n",
        "    # print second stars\n",
        "    for j in range(1, i+1, 1):\n",
        "        print(\"*\", end=\"\")\n",
        "    print()\n",
        "\n",
        "# lower part\n",
        "for i in range(n,0,-1):\n",
        "    for j in range(i, n, 1):\n",
        "        print(\" \", end=\"\")\n",
        "    for j in range(1, i*2, 1):\n",
        "        print(\"*\", end=\"\")\n",
        "    print()\n"
      ],
      "metadata": {
        "colab": {
          "base_uri": "https://localhost:8080/"
        },
        "id": "X4-tEEndkTS3",
        "outputId": "b7512f13-0c44-4d79-bfed-38cfe358ec3b"
      },
      "execution_count": 77,
      "outputs": [
        {
          "output_type": "stream",
          "name": "stdout",
          "text": [
            " ***   ***\n",
            "***** *****\n",
            "***********\n",
            " *********\n",
            "  *******\n",
            "   *****\n",
            "    ***\n",
            "     *\n"
          ]
        }
      ]
    },
    {
      "cell_type": "code",
      "source": [
        "#50\n",
        "# heart pattern \n",
        "n = 6\n",
        "\n",
        "# upper part of the heart\n",
        "for i in range(n//2, n, 2):\n",
        "    # print first spaces\n",
        "    for j in range(1, n-i ,2):\n",
        "        print(\" \", end=\"\")\n",
        "    # print first stars\n",
        "    for j in range(1, i+1, 1):\n",
        "        print(\"*\", end=\"\")\n",
        "    # print second spaces\n",
        "    for j in range(1, n-i+1, 1):\n",
        "        print(\" \", end=\"\")\n",
        "    # print second stars\n",
        "    for j in range(1, i+1, 1):\n",
        "        print(\"*\", end=\"\")\n",
        "    print()\n",
        "\n",
        "# lower part\n",
        "for i in range(n,0,-1):\n",
        "    for j in range(i, n, 1):\n",
        "        print(\" \", end=\"\")\n",
        "    for j in range(1, i*2, 1):\n",
        "        print(\"*\", end=\"\")\n",
        "    print()\n"
      ],
      "metadata": {
        "colab": {
          "base_uri": "https://localhost:8080/"
        },
        "id": "Ae9vKW68kTjJ",
        "outputId": "72a025fa-5b86-48d0-a541-821f34936f70"
      },
      "execution_count": 78,
      "outputs": [
        {
          "output_type": "stream",
          "name": "stdout",
          "text": [
            " ***   ***\n",
            "***** *****\n",
            "***********\n",
            " *********\n",
            "  *******\n",
            "   *****\n",
            "    ***\n",
            "     *\n"
          ]
        }
      ]
    },
    {
      "cell_type": "code",
      "source": [
        "#50\n",
        "# heart pattern \n",
        "n = 6\n",
        "\n",
        "# upper part of the heart\n",
        "for i in range(n//2, n, 2):\n",
        "    # print first spaces\n",
        "    for j in range(1, n-i ,2):\n",
        "        print(\" \", end=\"\")\n",
        "    # print first stars\n",
        "    for j in range(1, i+1, 1):\n",
        "        print(\"*\", end=\"\")\n",
        "    # print second spaces\n",
        "    for j in range(1, n-i+1, 1):\n",
        "        print(\" \", end=\"\")\n",
        "    # print second stars\n",
        "    for j in range(1, i+1, 1):\n",
        "        print(\"*\", end=\"\")\n",
        "    print()\n",
        "\n",
        "# lower part\n",
        "for i in range(n,0,-1):\n",
        "    for j in range(i, n, 1):\n",
        "        print(\" \", end=\"\")\n",
        "    for j in range(1, i*2, 1):\n",
        "        print(\"*\", end=\"\")\n",
        "    print()\n"
      ],
      "metadata": {
        "colab": {
          "base_uri": "https://localhost:8080/"
        },
        "id": "fse3f2PKkUAG",
        "outputId": "83ada662-f8be-410b-ff21-942e4e1a9a71"
      },
      "execution_count": 79,
      "outputs": [
        {
          "output_type": "stream",
          "name": "stdout",
          "text": [
            " ***   ***\n",
            "***** *****\n",
            "***********\n",
            " *********\n",
            "  *******\n",
            "   *****\n",
            "    ***\n",
            "     *\n"
          ]
        }
      ]
    },
    {
      "cell_type": "code",
      "source": [
        "#50\n",
        "# heart pattern \n",
        "n = 6\n",
        "\n",
        "# upper part of the heart\n",
        "for i in range(n//2, n, 2):\n",
        "    # print first spaces\n",
        "    for j in range(1, n-i ,2):\n",
        "        print(\" \", end=\"\")\n",
        "    # print first stars\n",
        "    for j in range(1, i+1, 1):\n",
        "        print(\"*\", end=\"\")\n",
        "    # print second spaces\n",
        "    for j in range(1, n-i+1, 1):\n",
        "        print(\" \", end=\"\")\n",
        "    # print second stars\n",
        "    for j in range(1, i+1, 1):\n",
        "        print(\"*\", end=\"\")\n",
        "    print()\n",
        "\n",
        "# lower part\n",
        "for i in range(n,0,-1):\n",
        "    for j in range(i, n, 1):\n",
        "        print(\" \", end=\"\")\n",
        "    for j in range(1, i*2, 1):\n",
        "        print(\"*\", end=\"\")\n",
        "    print()\n"
      ],
      "metadata": {
        "colab": {
          "base_uri": "https://localhost:8080/"
        },
        "id": "fNZrRN8okUSu",
        "outputId": "77895d4d-8d84-412f-9e00-857e63a53547"
      },
      "execution_count": 80,
      "outputs": [
        {
          "output_type": "stream",
          "name": "stdout",
          "text": [
            " ***   ***\n",
            "***** *****\n",
            "***********\n",
            " *********\n",
            "  *******\n",
            "   *****\n",
            "    ***\n",
            "     *\n"
          ]
        }
      ]
    },
    {
      "cell_type": "code",
      "source": [
        "#50\n",
        "# heart pattern \n",
        "n = 6\n",
        "\n",
        "# upper part of the heart\n",
        "for i in range(n//2, n, 2):\n",
        "    # print first spaces\n",
        "    for j in range(1, n-i ,2):\n",
        "        print(\" \", end=\"\")\n",
        "    # print first stars\n",
        "    for j in range(1, i+1, 1):\n",
        "        print(\"*\", end=\"\")\n",
        "    # print second spaces\n",
        "    for j in range(1, n-i+1, 1):\n",
        "        print(\" \", end=\"\")\n",
        "    # print second stars\n",
        "    for j in range(1, i+1, 1):\n",
        "        print(\"*\", end=\"\")\n",
        "    print()\n",
        "\n",
        "# lower part\n",
        "for i in range(n,0,-1):\n",
        "    for j in range(i, n, 1):\n",
        "        print(\" \", end=\"\")\n",
        "    for j in range(1, i*2, 1):\n",
        "        print(\"*\", end=\"\")\n",
        "    print()\n"
      ],
      "metadata": {
        "colab": {
          "base_uri": "https://localhost:8080/"
        },
        "id": "38M-8_lokUlG",
        "outputId": "d81ea075-32cf-4981-9083-f6fcdb1ccc08"
      },
      "execution_count": 81,
      "outputs": [
        {
          "output_type": "stream",
          "name": "stdout",
          "text": [
            " ***   ***\n",
            "***** *****\n",
            "***********\n",
            " *********\n",
            "  *******\n",
            "   *****\n",
            "    ***\n",
            "     *\n"
          ]
        }
      ]
    },
    {
      "cell_type": "code",
      "source": [
        "#50\n",
        "# heart pattern \n",
        "n = 6\n",
        "\n",
        "# upper part of the heart\n",
        "for i in range(n//2, n, 2):\n",
        "    # print first spaces\n",
        "    for j in range(1, n-i ,2):\n",
        "        print(\" \", end=\"\")\n",
        "    # print first stars\n",
        "    for j in range(1, i+1, 1):\n",
        "        print(\"*\", end=\"\")\n",
        "    # print second spaces\n",
        "    for j in range(1, n-i+1, 1):\n",
        "        print(\" \", end=\"\")\n",
        "    # print second stars\n",
        "    for j in range(1, i+1, 1):\n",
        "        print(\"*\", end=\"\")\n",
        "    print()\n",
        "\n",
        "# lower part\n",
        "for i in range(n,0,-1):\n",
        "    for j in range(i, n, 1):\n",
        "        print(\" \", end=\"\")\n",
        "    for j in range(1, i*2, 1):\n",
        "        print(\"*\", end=\"\")\n",
        "    print()\n"
      ],
      "metadata": {
        "colab": {
          "base_uri": "https://localhost:8080/"
        },
        "id": "qBWBLcxjkiFM",
        "outputId": "e2553a82-da21-404d-8877-772897340546"
      },
      "execution_count": 82,
      "outputs": [
        {
          "output_type": "stream",
          "name": "stdout",
          "text": [
            " ***   ***\n",
            "***** *****\n",
            "***********\n",
            " *********\n",
            "  *******\n",
            "   *****\n",
            "    ***\n",
            "     *\n"
          ]
        }
      ]
    },
    {
      "cell_type": "code",
      "source": [
        "#50\n",
        "# heart pattern \n",
        "n = 6\n",
        "\n",
        "# upper part of the heart\n",
        "for i in range(n//2, n, 2):\n",
        "    # print first spaces\n",
        "    for j in range(1, n-i ,2):\n",
        "        print(\" \", end=\"\")\n",
        "    # print first stars\n",
        "    for j in range(1, i+1, 1):\n",
        "        print(\"*\", end=\"\")\n",
        "    # print second spaces\n",
        "    for j in range(1, n-i+1, 1):\n",
        "        print(\" \", end=\"\")\n",
        "    # print second stars\n",
        "    for j in range(1, i+1, 1):\n",
        "        print(\"*\", end=\"\")\n",
        "    print()\n",
        "\n",
        "# lower part\n",
        "for i in range(n,0,-1):\n",
        "    for j in range(i, n, 1):\n",
        "        print(\" \", end=\"\")\n",
        "    for j in range(1, i*2, 1):\n",
        "        print(\"*\", end=\"\")\n",
        "    print()\n"
      ],
      "metadata": {
        "colab": {
          "base_uri": "https://localhost:8080/"
        },
        "id": "zW5sGoa-kiaM",
        "outputId": "fdbd9fbe-127a-4da4-e8ee-c5ac3b2df3ef"
      },
      "execution_count": 83,
      "outputs": [
        {
          "output_type": "stream",
          "name": "stdout",
          "text": [
            " ***   ***\n",
            "***** *****\n",
            "***********\n",
            " *********\n",
            "  *******\n",
            "   *****\n",
            "    ***\n",
            "     *\n"
          ]
        }
      ]
    },
    {
      "cell_type": "code",
      "source": [
        "#50\n",
        "# heart pattern \n",
        "n = 6\n",
        "\n",
        "# upper part of the heart\n",
        "for i in range(n//2, n, 2):\n",
        "    # print first spaces\n",
        "    for j in range(1, n-i ,2):\n",
        "        print(\" \", end=\"\")\n",
        "    # print first stars\n",
        "    for j in range(1, i+1, 1):\n",
        "        print(\"*\", end=\"\")\n",
        "    # print second spaces\n",
        "    for j in range(1, n-i+1, 1):\n",
        "        print(\" \", end=\"\")\n",
        "    # print second stars\n",
        "    for j in range(1, i+1, 1):\n",
        "        print(\"*\", end=\"\")\n",
        "    print()\n",
        "\n",
        "# lower part\n",
        "for i in range(n,0,-1):\n",
        "    for j in range(i, n, 1):\n",
        "        print(\" \", end=\"\")\n",
        "    for j in range(1, i*2, 1):\n",
        "        print(\"*\", end=\"\")\n",
        "    print()\n"
      ],
      "metadata": {
        "colab": {
          "base_uri": "https://localhost:8080/"
        },
        "id": "VkvThOq7koOK",
        "outputId": "294c0a11-7717-45ad-9050-5dec479c696c"
      },
      "execution_count": 84,
      "outputs": [
        {
          "output_type": "stream",
          "name": "stdout",
          "text": [
            " ***   ***\n",
            "***** *****\n",
            "***********\n",
            " *********\n",
            "  *******\n",
            "   *****\n",
            "    ***\n",
            "     *\n"
          ]
        }
      ]
    },
    {
      "cell_type": "code",
      "source": [
        "#50\n",
        "# heart pattern \n",
        "n = 6\n",
        "\n",
        "# upper part of the heart\n",
        "for i in range(n//2, n, 2):\n",
        "    # print first spaces\n",
        "    for j in range(1, n-i ,2):\n",
        "        print(\" \", end=\"\")\n",
        "    # print first stars\n",
        "    for j in range(1, i+1, 1):\n",
        "        print(\"*\", end=\"\")\n",
        "    # print second spaces\n",
        "    for j in range(1, n-i+1, 1):\n",
        "        print(\" \", end=\"\")\n",
        "    # print second stars\n",
        "    for j in range(1, i+1, 1):\n",
        "        print(\"*\", end=\"\")\n",
        "    print()\n",
        "\n",
        "# lower part\n",
        "for i in range(n,0,-1):\n",
        "    for j in range(i, n, 1):\n",
        "        print(\" \", end=\"\")\n",
        "    for j in range(1, i*2, 1):\n",
        "        print(\"*\", end=\"\")\n",
        "    print()\n"
      ],
      "metadata": {
        "colab": {
          "base_uri": "https://localhost:8080/"
        },
        "id": "U0F5aIwPkog0",
        "outputId": "e3674c55-d392-4b71-cc3f-20dede5ce2f6"
      },
      "execution_count": 85,
      "outputs": [
        {
          "output_type": "stream",
          "name": "stdout",
          "text": [
            " ***   ***\n",
            "***** *****\n",
            "***********\n",
            " *********\n",
            "  *******\n",
            "   *****\n",
            "    ***\n",
            "     *\n"
          ]
        }
      ]
    },
    {
      "cell_type": "code",
      "source": [
        "#50\n",
        "# heart pattern \n",
        "n = 6\n",
        "\n",
        "# upper part of the heart\n",
        "for i in range(n//2, n, 2):\n",
        "    # print first spaces\n",
        "    for j in range(1, n-i ,2):\n",
        "        print(\" \", end=\"\")\n",
        "    # print first stars\n",
        "    for j in range(1, i+1, 1):\n",
        "        print(\"*\", end=\"\")\n",
        "    # print second spaces\n",
        "    for j in range(1, n-i+1, 1):\n",
        "        print(\" \", end=\"\")\n",
        "    # print second stars\n",
        "    for j in range(1, i+1, 1):\n",
        "        print(\"*\", end=\"\")\n",
        "    print()\n",
        "\n",
        "# lower part\n",
        "for i in range(n,0,-1):\n",
        "    for j in range(i, n, 1):\n",
        "        print(\" \", end=\"\")\n",
        "    for j in range(1, i*2, 1):\n",
        "        print(\"*\", end=\"\")\n",
        "    print()\n"
      ],
      "metadata": {
        "colab": {
          "base_uri": "https://localhost:8080/"
        },
        "id": "dJl7CJw-kozg",
        "outputId": "1afeeeb3-9a4d-4c82-da23-c9d697f9723c"
      },
      "execution_count": 86,
      "outputs": [
        {
          "output_type": "stream",
          "name": "stdout",
          "text": [
            " ***   ***\n",
            "***** *****\n",
            "***********\n",
            " *********\n",
            "  *******\n",
            "   *****\n",
            "    ***\n",
            "     *\n"
          ]
        }
      ]
    },
    {
      "cell_type": "code",
      "source": [
        "#50\n",
        "# heart pattern \n",
        "n = 6\n",
        "\n",
        "# upper part of the heart\n",
        "for i in range(n//2, n, 2):\n",
        "    # print first spaces\n",
        "    for j in range(1, n-i ,2):\n",
        "        print(\" \", end=\"\")\n",
        "    # print first stars\n",
        "    for j in range(1, i+1, 1):\n",
        "        print(\"*\", end=\"\")\n",
        "    # print second spaces\n",
        "    for j in range(1, n-i+1, 1):\n",
        "        print(\" \", end=\"\")\n",
        "    # print second stars\n",
        "    for j in range(1, i+1, 1):\n",
        "        print(\"*\", end=\"\")\n",
        "    print()\n",
        "\n",
        "# lower part\n",
        "for i in range(n,0,-1):\n",
        "    for j in range(i, n, 1):\n",
        "        print(\" \", end=\"\")\n",
        "    for j in range(1, i*2, 1):\n",
        "        print(\"*\", end=\"\")\n",
        "    print()\n"
      ],
      "metadata": {
        "colab": {
          "base_uri": "https://localhost:8080/"
        },
        "id": "BLNMsHr6kpDK",
        "outputId": "96b304ce-2197-4813-ae11-e5ed8a9b5cfe"
      },
      "execution_count": 87,
      "outputs": [
        {
          "output_type": "stream",
          "name": "stdout",
          "text": [
            " ***   ***\n",
            "***** *****\n",
            "***********\n",
            " *********\n",
            "  *******\n",
            "   *****\n",
            "    ***\n",
            "     *\n"
          ]
        }
      ]
    },
    {
      "cell_type": "code",
      "source": [
        "#50\n",
        "# heart pattern \n",
        "n = 6\n",
        "\n",
        "# upper part of the heart\n",
        "for i in range(n//2, n, 2):\n",
        "    # print first spaces\n",
        "    for j in range(1, n-i ,2):\n",
        "        print(\" \", end=\"\")\n",
        "    # print first stars\n",
        "    for j in range(1, i+1, 1):\n",
        "        print(\"*\", end=\"\")\n",
        "    # print second spaces\n",
        "    for j in range(1, n-i+1, 1):\n",
        "        print(\" \", end=\"\")\n",
        "    # print second stars\n",
        "    for j in range(1, i+1, 1):\n",
        "        print(\"*\", end=\"\")\n",
        "    print()\n",
        "\n",
        "# lower part\n",
        "for i in range(n,0,-1):\n",
        "    for j in range(i, n, 1):\n",
        "        print(\" \", end=\"\")\n",
        "    for j in range(1, i*2, 1):\n",
        "        print(\"*\", end=\"\")\n",
        "    print()\n"
      ],
      "metadata": {
        "colab": {
          "base_uri": "https://localhost:8080/"
        },
        "id": "dLkQp5VhkpUF",
        "outputId": "ce425925-9221-4c94-d444-84c9203e7a8a"
      },
      "execution_count": 88,
      "outputs": [
        {
          "output_type": "stream",
          "name": "stdout",
          "text": [
            " ***   ***\n",
            "***** *****\n",
            "***********\n",
            " *********\n",
            "  *******\n",
            "   *****\n",
            "    ***\n",
            "     *\n"
          ]
        }
      ]
    },
    {
      "cell_type": "code",
      "source": [
        "#50\n",
        "# heart pattern \n",
        "n = 6\n",
        "\n",
        "# upper part of the heart\n",
        "for i in range(n//2, n, 2):\n",
        "    # print first spaces\n",
        "    for j in range(1, n-i ,2):\n",
        "        print(\" \", end=\"\")\n",
        "    # print first stars\n",
        "    for j in range(1, i+1, 1):\n",
        "        print(\"*\", end=\"\")\n",
        "    # print second spaces\n",
        "    for j in range(1, n-i+1, 1):\n",
        "        print(\" \", end=\"\")\n",
        "    # print second stars\n",
        "    for j in range(1, i+1, 1):\n",
        "        print(\"*\", end=\"\")\n",
        "    print()\n",
        "\n",
        "# lower part\n",
        "for i in range(n,0,-1):\n",
        "    for j in range(i, n, 1):\n",
        "        print(\" \", end=\"\")\n",
        "    for j in range(1, i*2, 1):\n",
        "        print(\"*\", end=\"\")\n",
        "    print()\n"
      ],
      "metadata": {
        "colab": {
          "base_uri": "https://localhost:8080/"
        },
        "id": "HUUqtFGykpk-",
        "outputId": "90a4b7d2-876f-4601-8bb9-73e63d4eeef9"
      },
      "execution_count": 89,
      "outputs": [
        {
          "output_type": "stream",
          "name": "stdout",
          "text": [
            " ***   ***\n",
            "***** *****\n",
            "***********\n",
            " *********\n",
            "  *******\n",
            "   *****\n",
            "    ***\n",
            "     *\n"
          ]
        }
      ]
    },
    {
      "cell_type": "code",
      "source": [
        "#50\n",
        "# heart pattern \n",
        "n = 6\n",
        "\n",
        "# upper part of the heart\n",
        "for i in range(n//2, n, 2):\n",
        "    # print first spaces\n",
        "    for j in range(1, n-i ,2):\n",
        "        print(\" \", end=\"\")\n",
        "    # print first stars\n",
        "    for j in range(1, i+1, 1):\n",
        "        print(\"*\", end=\"\")\n",
        "    # print second spaces\n",
        "    for j in range(1, n-i+1, 1):\n",
        "        print(\" \", end=\"\")\n",
        "    # print second stars\n",
        "    for j in range(1, i+1, 1):\n",
        "        print(\"*\", end=\"\")\n",
        "    print()\n",
        "\n",
        "# lower part\n",
        "for i in range(n,0,-1):\n",
        "    for j in range(i, n, 1):\n",
        "        print(\" \", end=\"\")\n",
        "    for j in range(1, i*2, 1):\n",
        "        print(\"*\", end=\"\")\n",
        "    print()\n"
      ],
      "metadata": {
        "colab": {
          "base_uri": "https://localhost:8080/"
        },
        "id": "4W9mEPktkp2p",
        "outputId": "eb3f5934-ce40-45b9-b538-b337fd928d8a"
      },
      "execution_count": 90,
      "outputs": [
        {
          "output_type": "stream",
          "name": "stdout",
          "text": [
            " ***   ***\n",
            "***** *****\n",
            "***********\n",
            " *********\n",
            "  *******\n",
            "   *****\n",
            "    ***\n",
            "     *\n"
          ]
        }
      ]
    },
    {
      "cell_type": "code",
      "source": [
        "#50\n",
        "# heart pattern \n",
        "n = 6\n",
        "\n",
        "# upper part of the heart\n",
        "for i in range(n//2, n, 2):\n",
        "    # print first spaces\n",
        "    for j in range(1, n-i ,2):\n",
        "        print(\" \", end=\"\")\n",
        "    # print first stars\n",
        "    for j in range(1, i+1, 1):\n",
        "        print(\"*\", end=\"\")\n",
        "    # print second spaces\n",
        "    for j in range(1, n-i+1, 1):\n",
        "        print(\" \", end=\"\")\n",
        "    # print second stars\n",
        "    for j in range(1, i+1, 1):\n",
        "        print(\"*\", end=\"\")\n",
        "    print()\n",
        "\n",
        "# lower part\n",
        "for i in range(n,0,-1):\n",
        "    for j in range(i, n, 1):\n",
        "        print(\" \", end=\"\")\n",
        "    for j in range(1, i*2, 1):\n",
        "        print(\"*\", end=\"\")\n",
        "    print()\n"
      ],
      "metadata": {
        "colab": {
          "base_uri": "https://localhost:8080/"
        },
        "id": "CLdNqbsmkqHc",
        "outputId": "d98a911b-2ace-4aab-ca10-864287bbc376"
      },
      "execution_count": 91,
      "outputs": [
        {
          "output_type": "stream",
          "name": "stdout",
          "text": [
            " ***   ***\n",
            "***** *****\n",
            "***********\n",
            " *********\n",
            "  *******\n",
            "   *****\n",
            "    ***\n",
            "     *\n"
          ]
        }
      ]
    },
    {
      "cell_type": "code",
      "source": [
        "#50\n",
        "# heart pattern \n",
        "n = 6\n",
        "\n",
        "# upper part of the heart\n",
        "for i in range(n//2, n, 2):\n",
        "    # print first spaces\n",
        "    for j in range(1, n-i ,2):\n",
        "        print(\" \", end=\"\")\n",
        "    # print first stars\n",
        "    for j in range(1, i+1, 1):\n",
        "        print(\"*\", end=\"\")\n",
        "    # print second spaces\n",
        "    for j in range(1, n-i+1, 1):\n",
        "        print(\" \", end=\"\")\n",
        "    # print second stars\n",
        "    for j in range(1, i+1, 1):\n",
        "        print(\"*\", end=\"\")\n",
        "    print()\n",
        "\n",
        "# lower part\n",
        "for i in range(n,0,-1):\n",
        "    for j in range(i, n, 1):\n",
        "        print(\" \", end=\"\")\n",
        "    for j in range(1, i*2, 1):\n",
        "        print(\"*\", end=\"\")\n",
        "    print()\n"
      ],
      "metadata": {
        "colab": {
          "base_uri": "https://localhost:8080/"
        },
        "id": "gFYxzE88kqjF",
        "outputId": "7c67b537-f8f0-4791-b868-2fdd4e1e5efb"
      },
      "execution_count": 92,
      "outputs": [
        {
          "output_type": "stream",
          "name": "stdout",
          "text": [
            " ***   ***\n",
            "***** *****\n",
            "***********\n",
            " *********\n",
            "  *******\n",
            "   *****\n",
            "    ***\n",
            "     *\n"
          ]
        }
      ]
    },
    {
      "cell_type": "code",
      "source": [
        "#50\n",
        "# heart pattern \n",
        "n = 6\n",
        "\n",
        "# upper part of the heart\n",
        "for i in range(n//2, n, 2):\n",
        "    # print first spaces\n",
        "    for j in range(1, n-i ,2):\n",
        "        print(\" \", end=\"\")\n",
        "    # print first stars\n",
        "    for j in range(1, i+1, 1):\n",
        "        print(\"*\", end=\"\")\n",
        "    # print second spaces\n",
        "    for j in range(1, n-i+1, 1):\n",
        "        print(\" \", end=\"\")\n",
        "    # print second stars\n",
        "    for j in range(1, i+1, 1):\n",
        "        print(\"*\", end=\"\")\n",
        "    print()\n",
        "\n",
        "# lower part\n",
        "for i in range(n,0,-1):\n",
        "    for j in range(i, n, 1):\n",
        "        print(\" \", end=\"\")\n",
        "    for j in range(1, i*2, 1):\n",
        "        print(\"*\", end=\"\")\n",
        "    print()\n"
      ],
      "metadata": {
        "colab": {
          "base_uri": "https://localhost:8080/"
        },
        "id": "F_jFi1BYkq3D",
        "outputId": "e39117ed-13fe-4d85-b310-37186718891b"
      },
      "execution_count": 93,
      "outputs": [
        {
          "output_type": "stream",
          "name": "stdout",
          "text": [
            " ***   ***\n",
            "***** *****\n",
            "***********\n",
            " *********\n",
            "  *******\n",
            "   *****\n",
            "    ***\n",
            "     *\n"
          ]
        }
      ]
    },
    {
      "cell_type": "code",
      "source": [
        "#50\n",
        "# heart pattern \n",
        "n = 6\n",
        "\n",
        "# upper part of the heart\n",
        "for i in range(n//2, n, 2):\n",
        "    # print first spaces\n",
        "    for j in range(1, n-i ,2):\n",
        "        print(\" \", end=\"\")\n",
        "    # print first stars\n",
        "    for j in range(1, i+1, 1):\n",
        "        print(\"*\", end=\"\")\n",
        "    # print second spaces\n",
        "    for j in range(1, n-i+1, 1):\n",
        "        print(\" \", end=\"\")\n",
        "    # print second stars\n",
        "    for j in range(1, i+1, 1):\n",
        "        print(\"*\", end=\"\")\n",
        "    print()\n",
        "\n",
        "# lower part\n",
        "for i in range(n,0,-1):\n",
        "    for j in range(i, n, 1):\n",
        "        print(\" \", end=\"\")\n",
        "    for j in range(1, i*2, 1):\n",
        "        print(\"*\", end=\"\")\n",
        "    print()\n"
      ],
      "metadata": {
        "colab": {
          "base_uri": "https://localhost:8080/"
        },
        "id": "H05UhkYJkttK",
        "outputId": "45ea27d7-e3b5-4099-ccc6-d7444611d60e"
      },
      "execution_count": 94,
      "outputs": [
        {
          "output_type": "stream",
          "name": "stdout",
          "text": [
            " ***   ***\n",
            "***** *****\n",
            "***********\n",
            " *********\n",
            "  *******\n",
            "   *****\n",
            "    ***\n",
            "     *\n"
          ]
        }
      ]
    },
    {
      "cell_type": "code",
      "source": [
        "#50\n",
        "# heart pattern \n",
        "n = 6\n",
        "\n",
        "# upper part of the heart\n",
        "for i in range(n//2, n, 2):\n",
        "    # print first spaces\n",
        "    for j in range(1, n-i ,2):\n",
        "        print(\" \", end=\"\")\n",
        "    # print first stars\n",
        "    for j in range(1, i+1, 1):\n",
        "        print(\"*\", end=\"\")\n",
        "    # print second spaces\n",
        "    for j in range(1, n-i+1, 1):\n",
        "        print(\" \", end=\"\")\n",
        "    # print second stars\n",
        "    for j in range(1, i+1, 1):\n",
        "        print(\"*\", end=\"\")\n",
        "    print()\n",
        "\n",
        "# lower part\n",
        "for i in range(n,0,-1):\n",
        "    for j in range(i, n, 1):\n",
        "        print(\" \", end=\"\")\n",
        "    for j in range(1, i*2, 1):\n",
        "        print(\"*\", end=\"\")\n",
        "    print()\n"
      ],
      "metadata": {
        "colab": {
          "base_uri": "https://localhost:8080/"
        },
        "id": "GluGurTqkt90",
        "outputId": "e758abaf-23c3-433f-fd51-719fa480c366"
      },
      "execution_count": 95,
      "outputs": [
        {
          "output_type": "stream",
          "name": "stdout",
          "text": [
            " ***   ***\n",
            "***** *****\n",
            "***********\n",
            " *********\n",
            "  *******\n",
            "   *****\n",
            "    ***\n",
            "     *\n"
          ]
        }
      ]
    },
    {
      "cell_type": "code",
      "source": [
        "#50\n",
        "# heart pattern \n",
        "n = 6\n",
        "\n",
        "# upper part of the heart\n",
        "for i in range(n//2, n, 2):\n",
        "    # print first spaces\n",
        "    for j in range(1, n-i ,2):\n",
        "        print(\" \", end=\"\")\n",
        "    # print first stars\n",
        "    for j in range(1, i+1, 1):\n",
        "        print(\"*\", end=\"\")\n",
        "    # print second spaces\n",
        "    for j in range(1, n-i+1, 1):\n",
        "        print(\" \", end=\"\")\n",
        "    # print second stars\n",
        "    for j in range(1, i+1, 1):\n",
        "        print(\"*\", end=\"\")\n",
        "    print()\n",
        "\n",
        "# lower part\n",
        "for i in range(n,0,-1):\n",
        "    for j in range(i, n, 1):\n",
        "        print(\" \", end=\"\")\n",
        "    for j in range(1, i*2, 1):\n",
        "        print(\"*\", end=\"\")\n",
        "    print()\n"
      ],
      "metadata": {
        "colab": {
          "base_uri": "https://localhost:8080/"
        },
        "id": "PiTPJfZFkuM0",
        "outputId": "b96ad837-2a54-4bd5-be9c-2c7e8e896e07"
      },
      "execution_count": 96,
      "outputs": [
        {
          "output_type": "stream",
          "name": "stdout",
          "text": [
            " ***   ***\n",
            "***** *****\n",
            "***********\n",
            " *********\n",
            "  *******\n",
            "   *****\n",
            "    ***\n",
            "     *\n"
          ]
        }
      ]
    },
    {
      "cell_type": "code",
      "source": [
        "#50\n",
        "# heart pattern \n",
        "n = 6\n",
        "\n",
        "# upper part of the heart\n",
        "for i in range(n//2, n, 2):\n",
        "    # print first spaces\n",
        "    for j in range(1, n-i ,2):\n",
        "        print(\" \", end=\"\")\n",
        "    # print first stars\n",
        "    for j in range(1, i+1, 1):\n",
        "        print(\"*\", end=\"\")\n",
        "    # print second spaces\n",
        "    for j in range(1, n-i+1, 1):\n",
        "        print(\" \", end=\"\")\n",
        "    # print second stars\n",
        "    for j in range(1, i+1, 1):\n",
        "        print(\"*\", end=\"\")\n",
        "    print()\n",
        "\n",
        "# lower part\n",
        "for i in range(n,0,-1):\n",
        "    for j in range(i, n, 1):\n",
        "        print(\" \", end=\"\")\n",
        "    for j in range(1, i*2, 1):\n",
        "        print(\"*\", end=\"\")\n",
        "    print()\n"
      ],
      "metadata": {
        "colab": {
          "base_uri": "https://localhost:8080/"
        },
        "id": "mk6D-Si2kuda",
        "outputId": "2090fb87-5ed6-4a84-cba8-460645ed6c26"
      },
      "execution_count": 97,
      "outputs": [
        {
          "output_type": "stream",
          "name": "stdout",
          "text": [
            " ***   ***\n",
            "***** *****\n",
            "***********\n",
            " *********\n",
            "  *******\n",
            "   *****\n",
            "    ***\n",
            "     *\n"
          ]
        }
      ]
    },
    {
      "cell_type": "code",
      "source": [
        "#50\n",
        "# heart pattern \n",
        "n = 6\n",
        "\n",
        "# upper part of the heart\n",
        "for i in range(n//2, n, 2):\n",
        "    # print first spaces\n",
        "    for j in range(1, n-i ,2):\n",
        "        print(\" \", end=\"\")\n",
        "    # print first stars\n",
        "    for j in range(1, i+1, 1):\n",
        "        print(\"*\", end=\"\")\n",
        "    # print second spaces\n",
        "    for j in range(1, n-i+1, 1):\n",
        "        print(\" \", end=\"\")\n",
        "    # print second stars\n",
        "    for j in range(1, i+1, 1):\n",
        "        print(\"*\", end=\"\")\n",
        "    print()\n",
        "\n",
        "# lower part\n",
        "for i in range(n,0,-1):\n",
        "    for j in range(i, n, 1):\n",
        "        print(\" \", end=\"\")\n",
        "    for j in range(1, i*2, 1):\n",
        "        print(\"*\", end=\"\")\n",
        "    print()\n"
      ],
      "metadata": {
        "colab": {
          "base_uri": "https://localhost:8080/"
        },
        "id": "CiHYhmFGkuty",
        "outputId": "7f99f13e-d7ce-4a7a-a169-baafda7dae7f"
      },
      "execution_count": 98,
      "outputs": [
        {
          "output_type": "stream",
          "name": "stdout",
          "text": [
            " ***   ***\n",
            "***** *****\n",
            "***********\n",
            " *********\n",
            "  *******\n",
            "   *****\n",
            "    ***\n",
            "     *\n"
          ]
        }
      ]
    },
    {
      "cell_type": "code",
      "source": [
        "#50\n",
        "# heart pattern \n",
        "n = 6\n",
        "\n",
        "# upper part of the heart\n",
        "for i in range(n//2, n, 2):\n",
        "    # print first spaces\n",
        "    for j in range(1, n-i ,2):\n",
        "        print(\" \", end=\"\")\n",
        "    # print first stars\n",
        "    for j in range(1, i+1, 1):\n",
        "        print(\"*\", end=\"\")\n",
        "    # print second spaces\n",
        "    for j in range(1, n-i+1, 1):\n",
        "        print(\" \", end=\"\")\n",
        "    # print second stars\n",
        "    for j in range(1, i+1, 1):\n",
        "        print(\"*\", end=\"\")\n",
        "    print()\n",
        "\n",
        "# lower part\n",
        "for i in range(n,0,-1):\n",
        "    for j in range(i, n, 1):\n",
        "        print(\" \", end=\"\")\n",
        "    for j in range(1, i*2, 1):\n",
        "        print(\"*\", end=\"\")\n",
        "    print()\n"
      ],
      "metadata": {
        "colab": {
          "base_uri": "https://localhost:8080/"
        },
        "id": "OjC-cfMHkvA9",
        "outputId": "25f5d472-43f9-4dd7-e064-b0b437158297"
      },
      "execution_count": 99,
      "outputs": [
        {
          "output_type": "stream",
          "name": "stdout",
          "text": [
            " ***   ***\n",
            "***** *****\n",
            "***********\n",
            " *********\n",
            "  *******\n",
            "   *****\n",
            "    ***\n",
            "     *\n"
          ]
        }
      ]
    },
    {
      "cell_type": "code",
      "source": [
        "#50\n",
        "# heart pattern \n",
        "n = 6\n",
        "\n",
        "# upper part of the heart\n",
        "for i in range(n//2, n, 2):\n",
        "    # print first spaces\n",
        "    for j in range(1, n-i ,2):\n",
        "        print(\" \", end=\"\")\n",
        "    # print first stars\n",
        "    for j in range(1, i+1, 1):\n",
        "        print(\"*\", end=\"\")\n",
        "    # print second spaces\n",
        "    for j in range(1, n-i+1, 1):\n",
        "        print(\" \", end=\"\")\n",
        "    # print second stars\n",
        "    for j in range(1, i+1, 1):\n",
        "        print(\"*\", end=\"\")\n",
        "    print()\n",
        "\n",
        "# lower part\n",
        "for i in range(n,0,-1):\n",
        "    for j in range(i, n, 1):\n",
        "        print(\" \", end=\"\")\n",
        "    for j in range(1, i*2, 1):\n",
        "        print(\"*\", end=\"\")\n",
        "    print()\n"
      ],
      "metadata": {
        "colab": {
          "base_uri": "https://localhost:8080/"
        },
        "id": "TwbOvDUQkvTQ",
        "outputId": "f85d1fe2-2a88-4e34-f5e1-52698e1755f9"
      },
      "execution_count": 100,
      "outputs": [
        {
          "output_type": "stream",
          "name": "stdout",
          "text": [
            " ***   ***\n",
            "***** *****\n",
            "***********\n",
            " *********\n",
            "  *******\n",
            "   *****\n",
            "    ***\n",
            "     *\n"
          ]
        }
      ]
    },
    {
      "cell_type": "code",
      "source": [
        "#50\n",
        "# heart pattern \n",
        "n = 6\n",
        "\n",
        "# upper part of the heart\n",
        "for i in range(n//2, n, 2):\n",
        "    # print first spaces\n",
        "    for j in range(1, n-i ,2):\n",
        "        print(\" \", end=\"\")\n",
        "    # print first stars\n",
        "    for j in range(1, i+1, 1):\n",
        "        print(\"*\", end=\"\")\n",
        "    # print second spaces\n",
        "    for j in range(1, n-i+1, 1):\n",
        "        print(\" \", end=\"\")\n",
        "    # print second stars\n",
        "    for j in range(1, i+1, 1):\n",
        "        print(\"*\", end=\"\")\n",
        "    print()\n",
        "\n",
        "# lower part\n",
        "for i in range(n,0,-1):\n",
        "    for j in range(i, n, 1):\n",
        "        print(\" \", end=\"\")\n",
        "    for j in range(1, i*2, 1):\n",
        "        print(\"*\", end=\"\")\n",
        "    print()\n"
      ],
      "metadata": {
        "colab": {
          "base_uri": "https://localhost:8080/"
        },
        "id": "GH0JlsQokvkO",
        "outputId": "2694b758-952e-4517-d21d-b170352e15b5"
      },
      "execution_count": 101,
      "outputs": [
        {
          "output_type": "stream",
          "name": "stdout",
          "text": [
            " ***   ***\n",
            "***** *****\n",
            "***********\n",
            " *********\n",
            "  *******\n",
            "   *****\n",
            "    ***\n",
            "     *\n"
          ]
        }
      ]
    },
    {
      "cell_type": "code",
      "source": [
        "#50\n",
        "# heart pattern \n",
        "n = 6\n",
        "\n",
        "# upper part of the heart\n",
        "for i in range(n//2, n, 2):\n",
        "    # print first spaces\n",
        "    for j in range(1, n-i ,2):\n",
        "        print(\" \", end=\"\")\n",
        "    # print first stars\n",
        "    for j in range(1, i+1, 1):\n",
        "        print(\"*\", end=\"\")\n",
        "    # print second spaces\n",
        "    for j in range(1, n-i+1, 1):\n",
        "        print(\" \", end=\"\")\n",
        "    # print second stars\n",
        "    for j in range(1, i+1, 1):\n",
        "        print(\"*\", end=\"\")\n",
        "    print()\n",
        "\n",
        "# lower part\n",
        "for i in range(n,0,-1):\n",
        "    for j in range(i, n, 1):\n",
        "        print(\" \", end=\"\")\n",
        "    for j in range(1, i*2, 1):\n",
        "        print(\"*\", end=\"\")\n",
        "    print()\n"
      ],
      "metadata": {
        "colab": {
          "base_uri": "https://localhost:8080/"
        },
        "id": "ju19qBm9kv1o",
        "outputId": "03a70ba2-778c-414a-82e7-3e6c475f8afa"
      },
      "execution_count": 102,
      "outputs": [
        {
          "output_type": "stream",
          "name": "stdout",
          "text": [
            " ***   ***\n",
            "***** *****\n",
            "***********\n",
            " *********\n",
            "  *******\n",
            "   *****\n",
            "    ***\n",
            "     *\n"
          ]
        }
      ]
    },
    {
      "cell_type": "code",
      "source": [
        "#50\n",
        "# heart pattern \n",
        "n = 6\n",
        "\n",
        "# upper part of the heart\n",
        "for i in range(n//2, n, 2):\n",
        "    # print first spaces\n",
        "    for j in range(1, n-i ,2):\n",
        "        print(\" \", end=\"\")\n",
        "    # print first stars\n",
        "    for j in range(1, i+1, 1):\n",
        "        print(\"*\", end=\"\")\n",
        "    # print second spaces\n",
        "    for j in range(1, n-i+1, 1):\n",
        "        print(\" \", end=\"\")\n",
        "    # print second stars\n",
        "    for j in range(1, i+1, 1):\n",
        "        print(\"*\", end=\"\")\n",
        "    print()\n",
        "\n",
        "# lower part\n",
        "for i in range(n,0,-1):\n",
        "    for j in range(i, n, 1):\n",
        "        print(\" \", end=\"\")\n",
        "    for j in range(1, i*2, 1):\n",
        "        print(\"*\", end=\"\")\n",
        "    print()\n"
      ],
      "metadata": {
        "colab": {
          "base_uri": "https://localhost:8080/"
        },
        "id": "RjOB6zwxkwIr",
        "outputId": "7e3d789e-ac38-461d-f02e-58990e1652fa"
      },
      "execution_count": 103,
      "outputs": [
        {
          "output_type": "stream",
          "name": "stdout",
          "text": [
            " ***   ***\n",
            "***** *****\n",
            "***********\n",
            " *********\n",
            "  *******\n",
            "   *****\n",
            "    ***\n",
            "     *\n"
          ]
        }
      ]
    },
    {
      "cell_type": "code",
      "source": [
        "#50\n",
        "# heart pattern \n",
        "n = 6\n",
        "\n",
        "# upper part of the heart\n",
        "for i in range(n//2, n, 2):\n",
        "    # print first spaces\n",
        "    for j in range(1, n-i ,2):\n",
        "        print(\" \", end=\"\")\n",
        "    # print first stars\n",
        "    for j in range(1, i+1, 1):\n",
        "        print(\"*\", end=\"\")\n",
        "    # print second spaces\n",
        "    for j in range(1, n-i+1, 1):\n",
        "        print(\" \", end=\"\")\n",
        "    # print second stars\n",
        "    for j in range(1, i+1, 1):\n",
        "        print(\"*\", end=\"\")\n",
        "    print()\n",
        "\n",
        "# lower part\n",
        "for i in range(n,0,-1):\n",
        "    for j in range(i, n, 1):\n",
        "        print(\" \", end=\"\")\n",
        "    for j in range(1, i*2, 1):\n",
        "        print(\"*\", end=\"\")\n",
        "    print()\n"
      ],
      "metadata": {
        "colab": {
          "base_uri": "https://localhost:8080/"
        },
        "id": "90p9c2bmkwXk",
        "outputId": "0784120d-cb8c-43a2-9830-8d96b6013d24"
      },
      "execution_count": 104,
      "outputs": [
        {
          "output_type": "stream",
          "name": "stdout",
          "text": [
            " ***   ***\n",
            "***** *****\n",
            "***********\n",
            " *********\n",
            "  *******\n",
            "   *****\n",
            "    ***\n",
            "     *\n"
          ]
        }
      ]
    },
    {
      "cell_type": "code",
      "source": [
        "#50\n",
        "# heart pattern \n",
        "n = 6\n",
        "\n",
        "# upper part of the heart\n",
        "for i in range(n//2, n, 2):\n",
        "    # print first spaces\n",
        "    for j in range(1, n-i ,2):\n",
        "        print(\" \", end=\"\")\n",
        "    # print first stars\n",
        "    for j in range(1, i+1, 1):\n",
        "        print(\"*\", end=\"\")\n",
        "    # print second spaces\n",
        "    for j in range(1, n-i+1, 1):\n",
        "        print(\" \", end=\"\")\n",
        "    # print second stars\n",
        "    for j in range(1, i+1, 1):\n",
        "        print(\"*\", end=\"\")\n",
        "    print()\n",
        "\n",
        "# lower part\n",
        "for i in range(n,0,-1):\n",
        "    for j in range(i, n, 1):\n",
        "        print(\" \", end=\"\")\n",
        "    for j in range(1, i*2, 1):\n",
        "        print(\"*\", end=\"\")\n",
        "    print()\n"
      ],
      "metadata": {
        "colab": {
          "base_uri": "https://localhost:8080/"
        },
        "id": "SM5ethUekwqj",
        "outputId": "14b6fc45-6055-4065-eb8b-47399b0c9f55"
      },
      "execution_count": 105,
      "outputs": [
        {
          "output_type": "stream",
          "name": "stdout",
          "text": [
            " ***   ***\n",
            "***** *****\n",
            "***********\n",
            " *********\n",
            "  *******\n",
            "   *****\n",
            "    ***\n",
            "     *\n"
          ]
        }
      ]
    },
    {
      "cell_type": "code",
      "source": [
        "#50\n",
        "# heart pattern \n",
        "n = 6\n",
        "\n",
        "# upper part of the heart\n",
        "for i in range(n//2, n, 2):\n",
        "    # print first spaces\n",
        "    for j in range(1, n-i ,2):\n",
        "        print(\" \", end=\"\")\n",
        "    # print first stars\n",
        "    for j in range(1, i+1, 1):\n",
        "        print(\"*\", end=\"\")\n",
        "    # print second spaces\n",
        "    for j in range(1, n-i+1, 1):\n",
        "        print(\" \", end=\"\")\n",
        "    # print second stars\n",
        "    for j in range(1, i+1, 1):\n",
        "        print(\"*\", end=\"\")\n",
        "    print()\n",
        "\n",
        "# lower part\n",
        "for i in range(n,0,-1):\n",
        "    for j in range(i, n, 1):\n",
        "        print(\" \", end=\"\")\n",
        "    for j in range(1, i*2, 1):\n",
        "        print(\"*\", end=\"\")\n",
        "    print()\n"
      ],
      "metadata": {
        "colab": {
          "base_uri": "https://localhost:8080/"
        },
        "id": "V8PYRXppkw9h",
        "outputId": "b144459b-fd37-421a-b0e0-f7460ac9ef10"
      },
      "execution_count": 106,
      "outputs": [
        {
          "output_type": "stream",
          "name": "stdout",
          "text": [
            " ***   ***\n",
            "***** *****\n",
            "***********\n",
            " *********\n",
            "  *******\n",
            "   *****\n",
            "    ***\n",
            "     *\n"
          ]
        }
      ]
    },
    {
      "cell_type": "code",
      "source": [
        "#50\n",
        "# heart pattern \n",
        "n = 6\n",
        "\n",
        "# upper part of the heart\n",
        "for i in range(n//2, n, 2):\n",
        "    # print first spaces\n",
        "    for j in range(1, n-i ,2):\n",
        "        print(\" \", end=\"\")\n",
        "    # print first stars\n",
        "    for j in range(1, i+1, 1):\n",
        "        print(\"*\", end=\"\")\n",
        "    # print second spaces\n",
        "    for j in range(1, n-i+1, 1):\n",
        "        print(\" \", end=\"\")\n",
        "    # print second stars\n",
        "    for j in range(1, i+1, 1):\n",
        "        print(\"*\", end=\"\")\n",
        "    print()\n",
        "\n",
        "# lower part\n",
        "for i in range(n,0,-1):\n",
        "    for j in range(i, n, 1):\n",
        "        print(\" \", end=\"\")\n",
        "    for j in range(1, i*2, 1):\n",
        "        print(\"*\", end=\"\")\n",
        "    print()\n"
      ],
      "metadata": {
        "colab": {
          "base_uri": "https://localhost:8080/"
        },
        "id": "HTDrEnjBkxNw",
        "outputId": "3b1c2317-a206-4409-a2c5-10d601ded3ee"
      },
      "execution_count": 107,
      "outputs": [
        {
          "output_type": "stream",
          "name": "stdout",
          "text": [
            " ***   ***\n",
            "***** *****\n",
            "***********\n",
            " *********\n",
            "  *******\n",
            "   *****\n",
            "    ***\n",
            "     *\n"
          ]
        }
      ]
    },
    {
      "cell_type": "code",
      "source": [
        "#50\n",
        "# heart pattern \n",
        "n = 6\n",
        "\n",
        "# upper part of the heart\n",
        "for i in range(n//2, n, 2):\n",
        "    # print first spaces\n",
        "    for j in range(1, n-i ,2):\n",
        "        print(\" \", end=\"\")\n",
        "    # print first stars\n",
        "    for j in range(1, i+1, 1):\n",
        "        print(\"*\", end=\"\")\n",
        "    # print second spaces\n",
        "    for j in range(1, n-i+1, 1):\n",
        "        print(\" \", end=\"\")\n",
        "    # print second stars\n",
        "    for j in range(1, i+1, 1):\n",
        "        print(\"*\", end=\"\")\n",
        "    print()\n",
        "\n",
        "# lower part\n",
        "for i in range(n,0,-1):\n",
        "    for j in range(i, n, 1):\n",
        "        print(\" \", end=\"\")\n",
        "    for j in range(1, i*2, 1):\n",
        "        print(\"*\", end=\"\")\n",
        "    print()\n"
      ],
      "metadata": {
        "colab": {
          "base_uri": "https://localhost:8080/"
        },
        "id": "L3yoM1c5kyLT",
        "outputId": "d182f6d6-430c-4d1c-f371-6a143bae4cf9"
      },
      "execution_count": 108,
      "outputs": [
        {
          "output_type": "stream",
          "name": "stdout",
          "text": [
            " ***   ***\n",
            "***** *****\n",
            "***********\n",
            " *********\n",
            "  *******\n",
            "   *****\n",
            "    ***\n",
            "     *\n"
          ]
        }
      ]
    },
    {
      "cell_type": "code",
      "source": [
        "#50\n",
        "# heart pattern \n",
        "n = 6\n",
        "\n",
        "# upper part of the heart\n",
        "for i in range(n//2, n, 2):\n",
        "    # print first spaces\n",
        "    for j in range(1, n-i ,2):\n",
        "        print(\" \", end=\"\")\n",
        "    # print first stars\n",
        "    for j in range(1, i+1, 1):\n",
        "        print(\"*\", end=\"\")\n",
        "    # print second spaces\n",
        "    for j in range(1, n-i+1, 1):\n",
        "        print(\" \", end=\"\")\n",
        "    # print second stars\n",
        "    for j in range(1, i+1, 1):\n",
        "        print(\"*\", end=\"\")\n",
        "    print()\n",
        "\n",
        "# lower part\n",
        "for i in range(n,0,-1):\n",
        "    for j in range(i, n, 1):\n",
        "        print(\" \", end=\"\")\n",
        "    for j in range(1, i*2, 1):\n",
        "        print(\"*\", end=\"\")\n",
        "    print()\n"
      ],
      "metadata": {
        "colab": {
          "base_uri": "https://localhost:8080/"
        },
        "id": "hOFEBKTLkya-",
        "outputId": "f693320b-32d0-406e-aee2-dec3b00ed1bd"
      },
      "execution_count": 109,
      "outputs": [
        {
          "output_type": "stream",
          "name": "stdout",
          "text": [
            " ***   ***\n",
            "***** *****\n",
            "***********\n",
            " *********\n",
            "  *******\n",
            "   *****\n",
            "    ***\n",
            "     *\n"
          ]
        }
      ]
    },
    {
      "cell_type": "code",
      "source": [
        "#50\n",
        "# heart pattern \n",
        "n = 6\n",
        "\n",
        "# upper part of the heart\n",
        "for i in range(n//2, n, 2):\n",
        "    # print first spaces\n",
        "    for j in range(1, n-i ,2):\n",
        "        print(\" \", end=\"\")\n",
        "    # print first stars\n",
        "    for j in range(1, i+1, 1):\n",
        "        print(\"*\", end=\"\")\n",
        "    # print second spaces\n",
        "    for j in range(1, n-i+1, 1):\n",
        "        print(\" \", end=\"\")\n",
        "    # print second stars\n",
        "    for j in range(1, i+1, 1):\n",
        "        print(\"*\", end=\"\")\n",
        "    print()\n",
        "\n",
        "# lower part\n",
        "for i in range(n,0,-1):\n",
        "    for j in range(i, n, 1):\n",
        "        print(\" \", end=\"\")\n",
        "    for j in range(1, i*2, 1):\n",
        "        print(\"*\", end=\"\")\n",
        "    print()\n"
      ],
      "metadata": {
        "colab": {
          "base_uri": "https://localhost:8080/"
        },
        "id": "BS65aBrXkypV",
        "outputId": "f24354da-c7de-4c19-b449-4fdbf24a10e4"
      },
      "execution_count": 110,
      "outputs": [
        {
          "output_type": "stream",
          "name": "stdout",
          "text": [
            " ***   ***\n",
            "***** *****\n",
            "***********\n",
            " *********\n",
            "  *******\n",
            "   *****\n",
            "    ***\n",
            "     *\n"
          ]
        }
      ]
    },
    {
      "cell_type": "code",
      "source": [
        "#50\n",
        "# heart pattern \n",
        "n = 6\n",
        "\n",
        "# upper part of the heart\n",
        "for i in range(n//2, n, 2):\n",
        "    # print first spaces\n",
        "    for j in range(1, n-i ,2):\n",
        "        print(\" \", end=\"\")\n",
        "    # print first stars\n",
        "    for j in range(1, i+1, 1):\n",
        "        print(\"*\", end=\"\")\n",
        "    # print second spaces\n",
        "    for j in range(1, n-i+1, 1):\n",
        "        print(\" \", end=\"\")\n",
        "    # print second stars\n",
        "    for j in range(1, i+1, 1):\n",
        "        print(\"*\", end=\"\")\n",
        "    print()\n",
        "\n",
        "# lower part\n",
        "for i in range(n,0,-1):\n",
        "    for j in range(i, n, 1):\n",
        "        print(\" \", end=\"\")\n",
        "    for j in range(1, i*2, 1):\n",
        "        print(\"*\", end=\"\")\n",
        "    print()\n"
      ],
      "metadata": {
        "colab": {
          "base_uri": "https://localhost:8080/"
        },
        "id": "0gyYiXbHky5m",
        "outputId": "609aeb12-50d6-4ec6-a448-a4f1dce4ea1f"
      },
      "execution_count": 111,
      "outputs": [
        {
          "output_type": "stream",
          "name": "stdout",
          "text": [
            " ***   ***\n",
            "***** *****\n",
            "***********\n",
            " *********\n",
            "  *******\n",
            "   *****\n",
            "    ***\n",
            "     *\n"
          ]
        }
      ]
    },
    {
      "cell_type": "code",
      "source": [
        "#50\n",
        "# heart pattern \n",
        "n = 6\n",
        "\n",
        "# upper part of the heart\n",
        "for i in range(n//2, n, 2):\n",
        "    # print first spaces\n",
        "    for j in range(1, n-i ,2):\n",
        "        print(\" \", end=\"\")\n",
        "    # print first stars\n",
        "    for j in range(1, i+1, 1):\n",
        "        print(\"*\", end=\"\")\n",
        "    # print second spaces\n",
        "    for j in range(1, n-i+1, 1):\n",
        "        print(\" \", end=\"\")\n",
        "    # print second stars\n",
        "    for j in range(1, i+1, 1):\n",
        "        print(\"*\", end=\"\")\n",
        "    print()\n",
        "\n",
        "# lower part\n",
        "for i in range(n,0,-1):\n",
        "    for j in range(i, n, 1):\n",
        "        print(\" \", end=\"\")\n",
        "    for j in range(1, i*2, 1):\n",
        "        print(\"*\", end=\"\")\n",
        "    print()\n"
      ],
      "metadata": {
        "colab": {
          "base_uri": "https://localhost:8080/"
        },
        "id": "d7jPawbhkzLS",
        "outputId": "e296469b-3a1e-4d93-d757-7e2742877886"
      },
      "execution_count": 112,
      "outputs": [
        {
          "output_type": "stream",
          "name": "stdout",
          "text": [
            " ***   ***\n",
            "***** *****\n",
            "***********\n",
            " *********\n",
            "  *******\n",
            "   *****\n",
            "    ***\n",
            "     *\n"
          ]
        }
      ]
    },
    {
      "cell_type": "code",
      "source": [
        "#50\n",
        "# heart pattern \n",
        "n = 6\n",
        "\n",
        "# upper part of the heart\n",
        "for i in range(n//2, n, 2):\n",
        "    # print first spaces\n",
        "    for j in range(1, n-i ,2):\n",
        "        print(\" \", end=\"\")\n",
        "    # print first stars\n",
        "    for j in range(1, i+1, 1):\n",
        "        print(\"*\", end=\"\")\n",
        "    # print second spaces\n",
        "    for j in range(1, n-i+1, 1):\n",
        "        print(\" \", end=\"\")\n",
        "    # print second stars\n",
        "    for j in range(1, i+1, 1):\n",
        "        print(\"*\", end=\"\")\n",
        "    print()\n",
        "\n",
        "# lower part\n",
        "for i in range(n,0,-1):\n",
        "    for j in range(i, n, 1):\n",
        "        print(\" \", end=\"\")\n",
        "    for j in range(1, i*2, 1):\n",
        "        print(\"*\", end=\"\")\n",
        "    print()\n"
      ],
      "metadata": {
        "colab": {
          "base_uri": "https://localhost:8080/"
        },
        "id": "PCa5WHH_k0cs",
        "outputId": "6491f049-d0a6-4939-9474-c2820e6427bb"
      },
      "execution_count": 113,
      "outputs": [
        {
          "output_type": "stream",
          "name": "stdout",
          "text": [
            " ***   ***\n",
            "***** *****\n",
            "***********\n",
            " *********\n",
            "  *******\n",
            "   *****\n",
            "    ***\n",
            "     *\n"
          ]
        }
      ]
    },
    {
      "cell_type": "code",
      "source": [
        "#50\n",
        "# heart pattern \n",
        "n = 6\n",
        "\n",
        "# upper part of the heart\n",
        "for i in range(n//2, n, 2):\n",
        "    # print first spaces\n",
        "    for j in range(1, n-i ,2):\n",
        "        print(\" \", end=\"\")\n",
        "    # print first stars\n",
        "    for j in range(1, i+1, 1):\n",
        "        print(\"*\", end=\"\")\n",
        "    # print second spaces\n",
        "    for j in range(1, n-i+1, 1):\n",
        "        print(\" \", end=\"\")\n",
        "    # print second stars\n",
        "    for j in range(1, i+1, 1):\n",
        "        print(\"*\", end=\"\")\n",
        "    print()\n",
        "\n",
        "# lower part\n",
        "for i in range(n,0,-1):\n",
        "    for j in range(i, n, 1):\n",
        "        print(\" \", end=\"\")\n",
        "    for j in range(1, i*2, 1):\n",
        "        print(\"*\", end=\"\")\n",
        "    print()\n"
      ],
      "metadata": {
        "colab": {
          "base_uri": "https://localhost:8080/"
        },
        "id": "BKfo1C_1k1Vv",
        "outputId": "b4965c14-dc44-4a8c-f9dc-abaf184d726d"
      },
      "execution_count": 114,
      "outputs": [
        {
          "output_type": "stream",
          "name": "stdout",
          "text": [
            " ***   ***\n",
            "***** *****\n",
            "***********\n",
            " *********\n",
            "  *******\n",
            "   *****\n",
            "    ***\n",
            "     *\n"
          ]
        }
      ]
    },
    {
      "cell_type": "code",
      "source": [
        "#50\n",
        "# heart pattern \n",
        "n = 6\n",
        "\n",
        "# upper part of the heart\n",
        "for i in range(n//2, n, 2):\n",
        "    # print first spaces\n",
        "    for j in range(1, n-i ,2):\n",
        "        print(\" \", end=\"\")\n",
        "    # print first stars\n",
        "    for j in range(1, i+1, 1):\n",
        "        print(\"*\", end=\"\")\n",
        "    # print second spaces\n",
        "    for j in range(1, n-i+1, 1):\n",
        "        print(\" \", end=\"\")\n",
        "    # print second stars\n",
        "    for j in range(1, i+1, 1):\n",
        "        print(\"*\", end=\"\")\n",
        "    print()\n",
        "\n",
        "# lower part\n",
        "for i in range(n,0,-1):\n",
        "    for j in range(i, n, 1):\n",
        "        print(\" \", end=\"\")\n",
        "    for j in range(1, i*2, 1):\n",
        "        print(\"*\", end=\"\")\n",
        "    print()\n"
      ],
      "metadata": {
        "colab": {
          "base_uri": "https://localhost:8080/"
        },
        "id": "0pVy_bVQk1vB",
        "outputId": "ce1e0662-5fb7-4d72-8b30-67e504566cfc"
      },
      "execution_count": 115,
      "outputs": [
        {
          "output_type": "stream",
          "name": "stdout",
          "text": [
            " ***   ***\n",
            "***** *****\n",
            "***********\n",
            " *********\n",
            "  *******\n",
            "   *****\n",
            "    ***\n",
            "     *\n"
          ]
        }
      ]
    },
    {
      "cell_type": "code",
      "source": [
        "#50\n",
        "# heart pattern \n",
        "n = 6\n",
        "\n",
        "# upper part of the heart\n",
        "for i in range(n//2, n, 2):\n",
        "    # print first spaces\n",
        "    for j in range(1, n-i ,2):\n",
        "        print(\" \", end=\"\")\n",
        "    # print first stars\n",
        "    for j in range(1, i+1, 1):\n",
        "        print(\"*\", end=\"\")\n",
        "    # print second spaces\n",
        "    for j in range(1, n-i+1, 1):\n",
        "        print(\" \", end=\"\")\n",
        "    # print second stars\n",
        "    for j in range(1, i+1, 1):\n",
        "        print(\"*\", end=\"\")\n",
        "    print()\n",
        "\n",
        "# lower part\n",
        "for i in range(n,0,-1):\n",
        "    for j in range(i, n, 1):\n",
        "        print(\" \", end=\"\")\n",
        "    for j in range(1, i*2, 1):\n",
        "        print(\"*\", end=\"\")\n",
        "    print()\n"
      ],
      "metadata": {
        "colab": {
          "base_uri": "https://localhost:8080/"
        },
        "id": "7T9TW2dok1_8",
        "outputId": "1be7243f-df81-4b0a-c6af-f61ea88617f0"
      },
      "execution_count": 116,
      "outputs": [
        {
          "output_type": "stream",
          "name": "stdout",
          "text": [
            " ***   ***\n",
            "***** *****\n",
            "***********\n",
            " *********\n",
            "  *******\n",
            "   *****\n",
            "    ***\n",
            "     *\n"
          ]
        }
      ]
    },
    {
      "cell_type": "code",
      "source": [
        "#50\n",
        "# heart pattern \n",
        "n = 6\n",
        "\n",
        "# upper part of the heart\n",
        "for i in range(n//2, n, 2):\n",
        "    # print first spaces\n",
        "    for j in range(1, n-i ,2):\n",
        "        print(\" \", end=\"\")\n",
        "    # print first stars\n",
        "    for j in range(1, i+1, 1):\n",
        "        print(\"*\", end=\"\")\n",
        "    # print second spaces\n",
        "    for j in range(1, n-i+1, 1):\n",
        "        print(\" \", end=\"\")\n",
        "    # print second stars\n",
        "    for j in range(1, i+1, 1):\n",
        "        print(\"*\", end=\"\")\n",
        "    print()\n",
        "\n",
        "# lower part\n",
        "for i in range(n,0,-1):\n",
        "    for j in range(i, n, 1):\n",
        "        print(\" \", end=\"\")\n",
        "    for j in range(1, i*2, 1):\n",
        "        print(\"*\", end=\"\")\n",
        "    print()\n"
      ],
      "metadata": {
        "colab": {
          "base_uri": "https://localhost:8080/"
        },
        "id": "KU3ZK8ozk2QQ",
        "outputId": "7d575123-0fc6-4e8f-a3dd-5d3c05496e1f"
      },
      "execution_count": 117,
      "outputs": [
        {
          "output_type": "stream",
          "name": "stdout",
          "text": [
            " ***   ***\n",
            "***** *****\n",
            "***********\n",
            " *********\n",
            "  *******\n",
            "   *****\n",
            "    ***\n",
            "     *\n"
          ]
        }
      ]
    },
    {
      "cell_type": "code",
      "source": [
        "#50\n",
        "# heart pattern \n",
        "n = 6\n",
        "\n",
        "# upper part of the heart\n",
        "for i in range(n//2, n, 2):\n",
        "    # print first spaces\n",
        "    for j in range(1, n-i ,2):\n",
        "        print(\" \", end=\"\")\n",
        "    # print first stars\n",
        "    for j in range(1, i+1, 1):\n",
        "        print(\"*\", end=\"\")\n",
        "    # print second spaces\n",
        "    for j in range(1, n-i+1, 1):\n",
        "        print(\" \", end=\"\")\n",
        "    # print second stars\n",
        "    for j in range(1, i+1, 1):\n",
        "        print(\"*\", end=\"\")\n",
        "    print()\n",
        "\n",
        "# lower part\n",
        "for i in range(n,0,-1):\n",
        "    for j in range(i, n, 1):\n",
        "        print(\" \", end=\"\")\n",
        "    for j in range(1, i*2, 1):\n",
        "        print(\"*\", end=\"\")\n",
        "    print()\n"
      ],
      "metadata": {
        "colab": {
          "base_uri": "https://localhost:8080/"
        },
        "id": "X2ubw_BKk2gM",
        "outputId": "abad89b4-06c7-4f81-f79b-d39f7df03185"
      },
      "execution_count": 118,
      "outputs": [
        {
          "output_type": "stream",
          "name": "stdout",
          "text": [
            " ***   ***\n",
            "***** *****\n",
            "***********\n",
            " *********\n",
            "  *******\n",
            "   *****\n",
            "    ***\n",
            "     *\n"
          ]
        }
      ]
    },
    {
      "cell_type": "code",
      "source": [
        "#50\n",
        "# heart pattern \n",
        "n = 6\n",
        "\n",
        "# upper part of the heart\n",
        "for i in range(n//2, n, 2):\n",
        "    # print first spaces\n",
        "    for j in range(1, n-i ,2):\n",
        "        print(\" \", end=\"\")\n",
        "    # print first stars\n",
        "    for j in range(1, i+1, 1):\n",
        "        print(\"*\", end=\"\")\n",
        "    # print second spaces\n",
        "    for j in range(1, n-i+1, 1):\n",
        "        print(\" \", end=\"\")\n",
        "    # print second stars\n",
        "    for j in range(1, i+1, 1):\n",
        "        print(\"*\", end=\"\")\n",
        "    print()\n",
        "\n",
        "# lower part\n",
        "for i in range(n,0,-1):\n",
        "    for j in range(i, n, 1):\n",
        "        print(\" \", end=\"\")\n",
        "    for j in range(1, i*2, 1):\n",
        "        print(\"*\", end=\"\")\n",
        "    print()\n"
      ],
      "metadata": {
        "colab": {
          "base_uri": "https://localhost:8080/"
        },
        "id": "KX7kcSK6k2w6",
        "outputId": "3d772d70-bb2c-455f-eb42-0d12a0a915c9"
      },
      "execution_count": 119,
      "outputs": [
        {
          "output_type": "stream",
          "name": "stdout",
          "text": [
            " ***   ***\n",
            "***** *****\n",
            "***********\n",
            " *********\n",
            "  *******\n",
            "   *****\n",
            "    ***\n",
            "     *\n"
          ]
        }
      ]
    },
    {
      "cell_type": "code",
      "source": [
        "#50\n",
        "# heart pattern \n",
        "n = 6\n",
        "\n",
        "# upper part of the heart\n",
        "for i in range(n//2, n, 2):\n",
        "    # print first spaces\n",
        "    for j in range(1, n-i ,2):\n",
        "        print(\" \", end=\"\")\n",
        "    # print first stars\n",
        "    for j in range(1, i+1, 1):\n",
        "        print(\"*\", end=\"\")\n",
        "    # print second spaces\n",
        "    for j in range(1, n-i+1, 1):\n",
        "        print(\" \", end=\"\")\n",
        "    # print second stars\n",
        "    for j in range(1, i+1, 1):\n",
        "        print(\"*\", end=\"\")\n",
        "    print()\n",
        "\n",
        "# lower part\n",
        "for i in range(n,0,-1):\n",
        "    for j in range(i, n, 1):\n",
        "        print(\" \", end=\"\")\n",
        "    for j in range(1, i*2, 1):\n",
        "        print(\"*\", end=\"\")\n",
        "    print()\n"
      ],
      "metadata": {
        "colab": {
          "base_uri": "https://localhost:8080/"
        },
        "id": "skKG76Q9k3AZ",
        "outputId": "2be42a9f-a611-4dbe-d7aa-2e9e2d7ed00c"
      },
      "execution_count": 120,
      "outputs": [
        {
          "output_type": "stream",
          "name": "stdout",
          "text": [
            " ***   ***\n",
            "***** *****\n",
            "***********\n",
            " *********\n",
            "  *******\n",
            "   *****\n",
            "    ***\n",
            "     *\n"
          ]
        }
      ]
    },
    {
      "cell_type": "code",
      "source": [
        "#50\n",
        "# heart pattern \n",
        "n = 6\n",
        "\n",
        "# upper part of the heart\n",
        "for i in range(n//2, n, 2):\n",
        "    # print first spaces\n",
        "    for j in range(1, n-i ,2):\n",
        "        print(\" \", end=\"\")\n",
        "    # print first stars\n",
        "    for j in range(1, i+1, 1):\n",
        "        print(\"*\", end=\"\")\n",
        "    # print second spaces\n",
        "    for j in range(1, n-i+1, 1):\n",
        "        print(\" \", end=\"\")\n",
        "    # print second stars\n",
        "    for j in range(1, i+1, 1):\n",
        "        print(\"*\", end=\"\")\n",
        "    print()\n",
        "\n",
        "# lower part\n",
        "for i in range(n,0,-1):\n",
        "    for j in range(i, n, 1):\n",
        "        print(\" \", end=\"\")\n",
        "    for j in range(1, i*2, 1):\n",
        "        print(\"*\", end=\"\")\n",
        "    print()\n"
      ],
      "metadata": {
        "colab": {
          "base_uri": "https://localhost:8080/"
        },
        "id": "-rE7Ijwwk3RB",
        "outputId": "6fbde0f4-e822-47e3-a427-7a054d7996c3"
      },
      "execution_count": 121,
      "outputs": [
        {
          "output_type": "stream",
          "name": "stdout",
          "text": [
            " ***   ***\n",
            "***** *****\n",
            "***********\n",
            " *********\n",
            "  *******\n",
            "   *****\n",
            "    ***\n",
            "     *\n"
          ]
        }
      ]
    },
    {
      "cell_type": "code",
      "source": [
        "#50\n",
        "# heart pattern \n",
        "n = 6\n",
        "\n",
        "# upper part of the heart\n",
        "for i in range(n//2, n, 2):\n",
        "    # print first spaces\n",
        "    for j in range(1, n-i ,2):\n",
        "        print(\" \", end=\"\")\n",
        "    # print first stars\n",
        "    for j in range(1, i+1, 1):\n",
        "        print(\"*\", end=\"\")\n",
        "    # print second spaces\n",
        "    for j in range(1, n-i+1, 1):\n",
        "        print(\" \", end=\"\")\n",
        "    # print second stars\n",
        "    for j in range(1, i+1, 1):\n",
        "        print(\"*\", end=\"\")\n",
        "    print()\n",
        "\n",
        "# lower part\n",
        "for i in range(n,0,-1):\n",
        "    for j in range(i, n, 1):\n",
        "        print(\" \", end=\"\")\n",
        "    for j in range(1, i*2, 1):\n",
        "        print(\"*\", end=\"\")\n",
        "    print()\n"
      ],
      "metadata": {
        "colab": {
          "base_uri": "https://localhost:8080/"
        },
        "id": "DDZ5PEL0k3hS",
        "outputId": "190322f6-1d05-4da2-b563-742f84e9b04a"
      },
      "execution_count": 122,
      "outputs": [
        {
          "output_type": "stream",
          "name": "stdout",
          "text": [
            " ***   ***\n",
            "***** *****\n",
            "***********\n",
            " *********\n",
            "  *******\n",
            "   *****\n",
            "    ***\n",
            "     *\n"
          ]
        }
      ]
    },
    {
      "cell_type": "code",
      "source": [
        "#50\n",
        "# heart pattern \n",
        "n = 6\n",
        "\n",
        "# upper part of the heart\n",
        "for i in range(n//2, n, 2):\n",
        "    # print first spaces\n",
        "    for j in range(1, n-i ,2):\n",
        "        print(\" \", end=\"\")\n",
        "    # print first stars\n",
        "    for j in range(1, i+1, 1):\n",
        "        print(\"*\", end=\"\")\n",
        "    # print second spaces\n",
        "    for j in range(1, n-i+1, 1):\n",
        "        print(\" \", end=\"\")\n",
        "    # print second stars\n",
        "    for j in range(1, i+1, 1):\n",
        "        print(\"*\", end=\"\")\n",
        "    print()\n",
        "\n",
        "# lower part\n",
        "for i in range(n,0,-1):\n",
        "    for j in range(i, n, 1):\n",
        "        print(\" \", end=\"\")\n",
        "    for j in range(1, i*2, 1):\n",
        "        print(\"*\", end=\"\")\n",
        "    print()\n"
      ],
      "metadata": {
        "colab": {
          "base_uri": "https://localhost:8080/"
        },
        "id": "cozsH6Ftk3xn",
        "outputId": "97c9a86d-13ae-46d0-cb9b-3539bafc45b1"
      },
      "execution_count": 123,
      "outputs": [
        {
          "output_type": "stream",
          "name": "stdout",
          "text": [
            " ***   ***\n",
            "***** *****\n",
            "***********\n",
            " *********\n",
            "  *******\n",
            "   *****\n",
            "    ***\n",
            "     *\n"
          ]
        }
      ]
    },
    {
      "cell_type": "code",
      "source": [
        "#50\n",
        "# heart pattern \n",
        "n = 6\n",
        "\n",
        "# upper part of the heart\n",
        "for i in range(n//2, n, 2):\n",
        "    # print first spaces\n",
        "    for j in range(1, n-i ,2):\n",
        "        print(\" \", end=\"\")\n",
        "    # print first stars\n",
        "    for j in range(1, i+1, 1):\n",
        "        print(\"*\", end=\"\")\n",
        "    # print second spaces\n",
        "    for j in range(1, n-i+1, 1):\n",
        "        print(\" \", end=\"\")\n",
        "    # print second stars\n",
        "    for j in range(1, i+1, 1):\n",
        "        print(\"*\", end=\"\")\n",
        "    print()\n",
        "\n",
        "# lower part\n",
        "for i in range(n,0,-1):\n",
        "    for j in range(i, n, 1):\n",
        "        print(\" \", end=\"\")\n",
        "    for j in range(1, i*2, 1):\n",
        "        print(\"*\", end=\"\")\n",
        "    print()\n"
      ],
      "metadata": {
        "colab": {
          "base_uri": "https://localhost:8080/"
        },
        "id": "PyQAsEHDk4A-",
        "outputId": "fe541079-b778-48e1-e7e6-b68b0bc15753"
      },
      "execution_count": 124,
      "outputs": [
        {
          "output_type": "stream",
          "name": "stdout",
          "text": [
            " ***   ***\n",
            "***** *****\n",
            "***********\n",
            " *********\n",
            "  *******\n",
            "   *****\n",
            "    ***\n",
            "     *\n"
          ]
        }
      ]
    },
    {
      "cell_type": "code",
      "source": [
        "#50\n",
        "# heart pattern \n",
        "n = 6\n",
        "\n",
        "# upper part of the heart\n",
        "for i in range(n//2, n, 2):\n",
        "    # print first spaces\n",
        "    for j in range(1, n-i ,2):\n",
        "        print(\" \", end=\"\")\n",
        "    # print first stars\n",
        "    for j in range(1, i+1, 1):\n",
        "        print(\"*\", end=\"\")\n",
        "    # print second spaces\n",
        "    for j in range(1, n-i+1, 1):\n",
        "        print(\" \", end=\"\")\n",
        "    # print second stars\n",
        "    for j in range(1, i+1, 1):\n",
        "        print(\"*\", end=\"\")\n",
        "    print()\n",
        "\n",
        "# lower part\n",
        "for i in range(n,0,-1):\n",
        "    for j in range(i, n, 1):\n",
        "        print(\" \", end=\"\")\n",
        "    for j in range(1, i*2, 1):\n",
        "        print(\"*\", end=\"\")\n",
        "    print()\n"
      ],
      "metadata": {
        "colab": {
          "base_uri": "https://localhost:8080/"
        },
        "id": "Fwv-ZX1Bk4QT",
        "outputId": "72877196-08d1-4b12-df69-f4396c2ae141"
      },
      "execution_count": 125,
      "outputs": [
        {
          "output_type": "stream",
          "name": "stdout",
          "text": [
            " ***   ***\n",
            "***** *****\n",
            "***********\n",
            " *********\n",
            "  *******\n",
            "   *****\n",
            "    ***\n",
            "     *\n"
          ]
        }
      ]
    },
    {
      "cell_type": "code",
      "source": [
        "#50\n",
        "# heart pattern \n",
        "n = 6\n",
        "\n",
        "# upper part of the heart\n",
        "for i in range(n//2, n, 2):\n",
        "    # print first spaces\n",
        "    for j in range(1, n-i ,2):\n",
        "        print(\" \", end=\"\")\n",
        "    # print first stars\n",
        "    for j in range(1, i+1, 1):\n",
        "        print(\"*\", end=\"\")\n",
        "    # print second spaces\n",
        "    for j in range(1, n-i+1, 1):\n",
        "        print(\" \", end=\"\")\n",
        "    # print second stars\n",
        "    for j in range(1, i+1, 1):\n",
        "        print(\"*\", end=\"\")\n",
        "    print()\n",
        "\n",
        "# lower part\n",
        "for i in range(n,0,-1):\n",
        "    for j in range(i, n, 1):\n",
        "        print(\" \", end=\"\")\n",
        "    for j in range(1, i*2, 1):\n",
        "        print(\"*\", end=\"\")\n",
        "    print()\n"
      ],
      "metadata": {
        "colab": {
          "base_uri": "https://localhost:8080/"
        },
        "id": "saSNFUzSk4le",
        "outputId": "69459dcd-0267-4e12-c364-dd709361130c"
      },
      "execution_count": 126,
      "outputs": [
        {
          "output_type": "stream",
          "name": "stdout",
          "text": [
            " ***   ***\n",
            "***** *****\n",
            "***********\n",
            " *********\n",
            "  *******\n",
            "   *****\n",
            "    ***\n",
            "     *\n"
          ]
        }
      ]
    },
    {
      "cell_type": "code",
      "source": [
        "#50\n",
        "# heart pattern \n",
        "n = 6\n",
        "\n",
        "# upper part of the heart\n",
        "for i in range(n//2, n, 2):\n",
        "    # print first spaces\n",
        "    for j in range(1, n-i ,2):\n",
        "        print(\" \", end=\"\")\n",
        "    # print first stars\n",
        "    for j in range(1, i+1, 1):\n",
        "        print(\"*\", end=\"\")\n",
        "    # print second spaces\n",
        "    for j in range(1, n-i+1, 1):\n",
        "        print(\" \", end=\"\")\n",
        "    # print second stars\n",
        "    for j in range(1, i+1, 1):\n",
        "        print(\"*\", end=\"\")\n",
        "    print()\n",
        "\n",
        "# lower part\n",
        "for i in range(n,0,-1):\n",
        "    for j in range(i, n, 1):\n",
        "        print(\" \", end=\"\")\n",
        "    for j in range(1, i*2, 1):\n",
        "        print(\"*\", end=\"\")\n",
        "    print()\n"
      ],
      "metadata": {
        "colab": {
          "base_uri": "https://localhost:8080/"
        },
        "id": "fJGzgQX6k42Y",
        "outputId": "0941e264-e3cf-4e5f-9a8d-b54829604b93"
      },
      "execution_count": 127,
      "outputs": [
        {
          "output_type": "stream",
          "name": "stdout",
          "text": [
            " ***   ***\n",
            "***** *****\n",
            "***********\n",
            " *********\n",
            "  *******\n",
            "   *****\n",
            "    ***\n",
            "     *\n"
          ]
        }
      ]
    },
    {
      "cell_type": "code",
      "source": [
        "#50\n",
        "# heart pattern \n",
        "n = 6\n",
        "\n",
        "# upper part of the heart\n",
        "for i in range(n//2, n, 2):\n",
        "    # print first spaces\n",
        "    for j in range(1, n-i ,2):\n",
        "        print(\" \", end=\"\")\n",
        "    # print first stars\n",
        "    for j in range(1, i+1, 1):\n",
        "        print(\"*\", end=\"\")\n",
        "    # print second spaces\n",
        "    for j in range(1, n-i+1, 1):\n",
        "        print(\" \", end=\"\")\n",
        "    # print second stars\n",
        "    for j in range(1, i+1, 1):\n",
        "        print(\"*\", end=\"\")\n",
        "    print()\n",
        "\n",
        "# lower part\n",
        "for i in range(n,0,-1):\n",
        "    for j in range(i, n, 1):\n",
        "        print(\" \", end=\"\")\n",
        "    for j in range(1, i*2, 1):\n",
        "        print(\"*\", end=\"\")\n",
        "    print()\n"
      ],
      "metadata": {
        "colab": {
          "base_uri": "https://localhost:8080/"
        },
        "id": "d9inih4Dk5ji",
        "outputId": "d9ce1650-c70b-46bc-b40b-688fb6eb3e2c"
      },
      "execution_count": 128,
      "outputs": [
        {
          "output_type": "stream",
          "name": "stdout",
          "text": [
            " ***   ***\n",
            "***** *****\n",
            "***********\n",
            " *********\n",
            "  *******\n",
            "   *****\n",
            "    ***\n",
            "     *\n"
          ]
        }
      ]
    },
    {
      "cell_type": "code",
      "source": [
        "#50\n",
        "# heart pattern \n",
        "n = 6\n",
        "\n",
        "# upper part of the heart\n",
        "for i in range(n//2, n, 2):\n",
        "    # print first spaces\n",
        "    for j in range(1, n-i ,2):\n",
        "        print(\" \", end=\"\")\n",
        "    # print first stars\n",
        "    for j in range(1, i+1, 1):\n",
        "        print(\"*\", end=\"\")\n",
        "    # print second spaces\n",
        "    for j in range(1, n-i+1, 1):\n",
        "        print(\" \", end=\"\")\n",
        "    # print second stars\n",
        "    for j in range(1, i+1, 1):\n",
        "        print(\"*\", end=\"\")\n",
        "    print()\n",
        "\n",
        "# lower part\n",
        "for i in range(n,0,-1):\n",
        "    for j in range(i, n, 1):\n",
        "        print(\" \", end=\"\")\n",
        "    for j in range(1, i*2, 1):\n",
        "        print(\"*\", end=\"\")\n",
        "    print()\n"
      ],
      "metadata": {
        "colab": {
          "base_uri": "https://localhost:8080/"
        },
        "id": "eWPeuc3tk5zp",
        "outputId": "ba7f7ddb-b87c-4cdf-f205-1dfb0fed522f"
      },
      "execution_count": 129,
      "outputs": [
        {
          "output_type": "stream",
          "name": "stdout",
          "text": [
            " ***   ***\n",
            "***** *****\n",
            "***********\n",
            " *********\n",
            "  *******\n",
            "   *****\n",
            "    ***\n",
            "     *\n"
          ]
        }
      ]
    },
    {
      "cell_type": "code",
      "source": [
        "#50\n",
        "# heart pattern \n",
        "n = 6\n",
        "\n",
        "# upper part of the heart\n",
        "for i in range(n//2, n, 2):\n",
        "    # print first spaces\n",
        "    for j in range(1, n-i ,2):\n",
        "        print(\" \", end=\"\")\n",
        "    # print first stars\n",
        "    for j in range(1, i+1, 1):\n",
        "        print(\"*\", end=\"\")\n",
        "    # print second spaces\n",
        "    for j in range(1, n-i+1, 1):\n",
        "        print(\" \", end=\"\")\n",
        "    # print second stars\n",
        "    for j in range(1, i+1, 1):\n",
        "        print(\"*\", end=\"\")\n",
        "    print()\n",
        "\n",
        "# lower part\n",
        "for i in range(n,0,-1):\n",
        "    for j in range(i, n, 1):\n",
        "        print(\" \", end=\"\")\n",
        "    for j in range(1, i*2, 1):\n",
        "        print(\"*\", end=\"\")\n",
        "    print()\n"
      ],
      "metadata": {
        "colab": {
          "base_uri": "https://localhost:8080/"
        },
        "id": "aeD4dJCpk6EE",
        "outputId": "38cfd6b8-8ffd-4e5e-f20b-2facf4568835"
      },
      "execution_count": 130,
      "outputs": [
        {
          "output_type": "stream",
          "name": "stdout",
          "text": [
            " ***   ***\n",
            "***** *****\n",
            "***********\n",
            " *********\n",
            "  *******\n",
            "   *****\n",
            "    ***\n",
            "     *\n"
          ]
        }
      ]
    },
    {
      "cell_type": "code",
      "source": [
        "#50\n",
        "# heart pattern \n",
        "n = 6\n",
        "\n",
        "# upper part of the heart\n",
        "for i in range(n//2, n, 2):\n",
        "    # print first spaces\n",
        "    for j in range(1, n-i ,2):\n",
        "        print(\" \", end=\"\")\n",
        "    # print first stars\n",
        "    for j in range(1, i+1, 1):\n",
        "        print(\"*\", end=\"\")\n",
        "    # print second spaces\n",
        "    for j in range(1, n-i+1, 1):\n",
        "        print(\" \", end=\"\")\n",
        "    # print second stars\n",
        "    for j in range(1, i+1, 1):\n",
        "        print(\"*\", end=\"\")\n",
        "    print()\n",
        "\n",
        "# lower part\n",
        "for i in range(n,0,-1):\n",
        "    for j in range(i, n, 1):\n",
        "        print(\" \", end=\"\")\n",
        "    for j in range(1, i*2, 1):\n",
        "        print(\"*\", end=\"\")\n",
        "    print()\n"
      ],
      "metadata": {
        "colab": {
          "base_uri": "https://localhost:8080/"
        },
        "id": "0m6B1Ygxk6UM",
        "outputId": "9cd1065b-d8df-4b5b-ce76-af1570e067cf"
      },
      "execution_count": 131,
      "outputs": [
        {
          "output_type": "stream",
          "name": "stdout",
          "text": [
            " ***   ***\n",
            "***** *****\n",
            "***********\n",
            " *********\n",
            "  *******\n",
            "   *****\n",
            "    ***\n",
            "     *\n"
          ]
        }
      ]
    },
    {
      "cell_type": "code",
      "source": [
        "#50\n",
        "# heart pattern \n",
        "n = 6\n",
        "\n",
        "# upper part of the heart\n",
        "for i in range(n//2, n, 2):\n",
        "    # print first spaces\n",
        "    for j in range(1, n-i ,2):\n",
        "        print(\" \", end=\"\")\n",
        "    # print first stars\n",
        "    for j in range(1, i+1, 1):\n",
        "        print(\"*\", end=\"\")\n",
        "    # print second spaces\n",
        "    for j in range(1, n-i+1, 1):\n",
        "        print(\" \", end=\"\")\n",
        "    # print second stars\n",
        "    for j in range(1, i+1, 1):\n",
        "        print(\"*\", end=\"\")\n",
        "    print()\n",
        "\n",
        "# lower part\n",
        "for i in range(n,0,-1):\n",
        "    for j in range(i, n, 1):\n",
        "        print(\" \", end=\"\")\n",
        "    for j in range(1, i*2, 1):\n",
        "        print(\"*\", end=\"\")\n",
        "    print()\n"
      ],
      "metadata": {
        "colab": {
          "base_uri": "https://localhost:8080/"
        },
        "id": "GrALKdVxk6j3",
        "outputId": "aeae519a-32ef-4cd3-a4e1-1ee864eaa091"
      },
      "execution_count": 132,
      "outputs": [
        {
          "output_type": "stream",
          "name": "stdout",
          "text": [
            " ***   ***\n",
            "***** *****\n",
            "***********\n",
            " *********\n",
            "  *******\n",
            "   *****\n",
            "    ***\n",
            "     *\n"
          ]
        }
      ]
    },
    {
      "cell_type": "code",
      "source": [
        "#50\n",
        "# heart pattern \n",
        "n = 6\n",
        "\n",
        "# upper part of the heart\n",
        "for i in range(n//2, n, 2):\n",
        "    # print first spaces\n",
        "    for j in range(1, n-i ,2):\n",
        "        print(\" \", end=\"\")\n",
        "    # print first stars\n",
        "    for j in range(1, i+1, 1):\n",
        "        print(\"*\", end=\"\")\n",
        "    # print second spaces\n",
        "    for j in range(1, n-i+1, 1):\n",
        "        print(\" \", end=\"\")\n",
        "    # print second stars\n",
        "    for j in range(1, i+1, 1):\n",
        "        print(\"*\", end=\"\")\n",
        "    print()\n",
        "\n",
        "# lower part\n",
        "for i in range(n,0,-1):\n",
        "    for j in range(i, n, 1):\n",
        "        print(\" \", end=\"\")\n",
        "    for j in range(1, i*2, 1):\n",
        "        print(\"*\", end=\"\")\n",
        "    print()\n"
      ],
      "metadata": {
        "colab": {
          "base_uri": "https://localhost:8080/"
        },
        "id": "MEbLRrRImB8e",
        "outputId": "5e1950b5-fc4e-4452-fa64-84d9dbdb51bc"
      },
      "execution_count": 133,
      "outputs": [
        {
          "output_type": "stream",
          "name": "stdout",
          "text": [
            " ***   ***\n",
            "***** *****\n",
            "***********\n",
            " *********\n",
            "  *******\n",
            "   *****\n",
            "    ***\n",
            "     *\n"
          ]
        }
      ]
    },
    {
      "cell_type": "code",
      "source": [
        "#50\n",
        "# heart pattern \n",
        "n = 6\n",
        "\n",
        "# upper part of the heart\n",
        "for i in range(n//2, n, 2):\n",
        "    # print first spaces\n",
        "    for j in range(1, n-i ,2):\n",
        "        print(\" \", end=\"\")\n",
        "    # print first stars\n",
        "    for j in range(1, i+1, 1):\n",
        "        print(\"*\", end=\"\")\n",
        "    # print second spaces\n",
        "    for j in range(1, n-i+1, 1):\n",
        "        print(\" \", end=\"\")\n",
        "    # print second stars\n",
        "    for j in range(1, i+1, 1):\n",
        "        print(\"*\", end=\"\")\n",
        "    print()\n",
        "\n",
        "# lower part\n",
        "for i in range(n,0,-1):\n",
        "    for j in range(i, n, 1):\n",
        "        print(\" \", end=\"\")\n",
        "    for j in range(1, i*2, 1):\n",
        "        print(\"*\", end=\"\")\n",
        "    print()\n"
      ],
      "metadata": {
        "colab": {
          "base_uri": "https://localhost:8080/"
        },
        "id": "WM9cREucmCLy",
        "outputId": "cc432ccf-d301-4611-ae13-517980ebc443"
      },
      "execution_count": 134,
      "outputs": [
        {
          "output_type": "stream",
          "name": "stdout",
          "text": [
            " ***   ***\n",
            "***** *****\n",
            "***********\n",
            " *********\n",
            "  *******\n",
            "   *****\n",
            "    ***\n",
            "     *\n"
          ]
        }
      ]
    },
    {
      "cell_type": "code",
      "source": [
        "#50\n",
        "# heart pattern \n",
        "n = 6\n",
        "\n",
        "# upper part of the heart\n",
        "for i in range(n//2, n, 2):\n",
        "    # print first spaces\n",
        "    for j in range(1, n-i ,2):\n",
        "        print(\" \", end=\"\")\n",
        "    # print first stars\n",
        "    for j in range(1, i+1, 1):\n",
        "        print(\"*\", end=\"\")\n",
        "    # print second spaces\n",
        "    for j in range(1, n-i+1, 1):\n",
        "        print(\" \", end=\"\")\n",
        "    # print second stars\n",
        "    for j in range(1, i+1, 1):\n",
        "        print(\"*\", end=\"\")\n",
        "    print()\n",
        "\n",
        "# lower part\n",
        "for i in range(n,0,-1):\n",
        "    for j in range(i, n, 1):\n",
        "        print(\" \", end=\"\")\n",
        "    for j in range(1, i*2, 1):\n",
        "        print(\"*\", end=\"\")\n",
        "    print()\n"
      ],
      "metadata": {
        "colab": {
          "base_uri": "https://localhost:8080/"
        },
        "id": "CgSkjwhDmGY9",
        "outputId": "ca3a3ae7-08c7-4961-bfc2-abf3c6959fef"
      },
      "execution_count": 135,
      "outputs": [
        {
          "output_type": "stream",
          "name": "stdout",
          "text": [
            " ***   ***\n",
            "***** *****\n",
            "***********\n",
            " *********\n",
            "  *******\n",
            "   *****\n",
            "    ***\n",
            "     *\n"
          ]
        }
      ]
    },
    {
      "cell_type": "code",
      "source": [
        "#50\n",
        "# heart pattern \n",
        "n = 6\n",
        "\n",
        "# upper part of the heart\n",
        "for i in range(n//2, n, 2):\n",
        "    # print first spaces\n",
        "    for j in range(1, n-i ,2):\n",
        "        print(\" \", end=\"\")\n",
        "    # print first stars\n",
        "    for j in range(1, i+1, 1):\n",
        "        print(\"*\", end=\"\")\n",
        "    # print second spaces\n",
        "    for j in range(1, n-i+1, 1):\n",
        "        print(\" \", end=\"\")\n",
        "    # print second stars\n",
        "    for j in range(1, i+1, 1):\n",
        "        print(\"*\", end=\"\")\n",
        "    print()\n",
        "\n",
        "# lower part\n",
        "for i in range(n,0,-1):\n",
        "    for j in range(i, n, 1):\n",
        "        print(\" \", end=\"\")\n",
        "    for j in range(1, i*2, 1):\n",
        "        print(\"*\", end=\"\")\n",
        "    print()\n"
      ],
      "metadata": {
        "colab": {
          "base_uri": "https://localhost:8080/"
        },
        "id": "DFabQeh7mGti",
        "outputId": "7d719afd-c4a7-4b52-bb1f-31518ae35f61"
      },
      "execution_count": 136,
      "outputs": [
        {
          "output_type": "stream",
          "name": "stdout",
          "text": [
            " ***   ***\n",
            "***** *****\n",
            "***********\n",
            " *********\n",
            "  *******\n",
            "   *****\n",
            "    ***\n",
            "     *\n"
          ]
        }
      ]
    },
    {
      "cell_type": "code",
      "source": [
        "#50\n",
        "# heart pattern \n",
        "n = 6\n",
        "\n",
        "# upper part of the heart\n",
        "for i in range(n//2, n, 2):\n",
        "    # print first spaces\n",
        "    for j in range(1, n-i ,2):\n",
        "        print(\" \", end=\"\")\n",
        "    # print first stars\n",
        "    for j in range(1, i+1, 1):\n",
        "        print(\"*\", end=\"\")\n",
        "    # print second spaces\n",
        "    for j in range(1, n-i+1, 1):\n",
        "        print(\" \", end=\"\")\n",
        "    # print second stars\n",
        "    for j in range(1, i+1, 1):\n",
        "        print(\"*\", end=\"\")\n",
        "    print()\n",
        "\n",
        "# lower part\n",
        "for i in range(n,0,-1):\n",
        "    for j in range(i, n, 1):\n",
        "        print(\" \", end=\"\")\n",
        "    for j in range(1, i*2, 1):\n",
        "        print(\"*\", end=\"\")\n",
        "    print()\n"
      ],
      "metadata": {
        "colab": {
          "base_uri": "https://localhost:8080/"
        },
        "id": "35VyecCDmLEC",
        "outputId": "eba584f6-3b35-4db2-c9e2-38b961dd91bd"
      },
      "execution_count": 137,
      "outputs": [
        {
          "output_type": "stream",
          "name": "stdout",
          "text": [
            " ***   ***\n",
            "***** *****\n",
            "***********\n",
            " *********\n",
            "  *******\n",
            "   *****\n",
            "    ***\n",
            "     *\n"
          ]
        }
      ]
    },
    {
      "cell_type": "code",
      "source": [
        "#50\n",
        "# heart pattern \n",
        "n = 6\n",
        "\n",
        "# upper part of the heart\n",
        "for i in range(n//2, n, 2):\n",
        "    # print first spaces\n",
        "    for j in range(1, n-i ,2):\n",
        "        print(\" \", end=\"\")\n",
        "    # print first stars\n",
        "    for j in range(1, i+1, 1):\n",
        "        print(\"*\", end=\"\")\n",
        "    # print second spaces\n",
        "    for j in range(1, n-i+1, 1):\n",
        "        print(\" \", end=\"\")\n",
        "    # print second stars\n",
        "    for j in range(1, i+1, 1):\n",
        "        print(\"*\", end=\"\")\n",
        "    print()\n",
        "\n",
        "# lower part\n",
        "for i in range(n,0,-1):\n",
        "    for j in range(i, n, 1):\n",
        "        print(\" \", end=\"\")\n",
        "    for j in range(1, i*2, 1):\n",
        "        print(\"*\", end=\"\")\n",
        "    print()\n"
      ],
      "metadata": {
        "colab": {
          "base_uri": "https://localhost:8080/"
        },
        "id": "WVV_ieqMmLRf",
        "outputId": "a87f7493-ad3a-4c2b-8183-0b4c66a86963"
      },
      "execution_count": 138,
      "outputs": [
        {
          "output_type": "stream",
          "name": "stdout",
          "text": [
            " ***   ***\n",
            "***** *****\n",
            "***********\n",
            " *********\n",
            "  *******\n",
            "   *****\n",
            "    ***\n",
            "     *\n"
          ]
        }
      ]
    },
    {
      "cell_type": "code",
      "source": [
        "#50\n",
        "# heart pattern \n",
        "n = 6\n",
        "\n",
        "# upper part of the heart\n",
        "for i in range(n//2, n, 2):\n",
        "    # print first spaces\n",
        "    for j in range(1, n-i ,2):\n",
        "        print(\" \", end=\"\")\n",
        "    # print first stars\n",
        "    for j in range(1, i+1, 1):\n",
        "        print(\"*\", end=\"\")\n",
        "    # print second spaces\n",
        "    for j in range(1, n-i+1, 1):\n",
        "        print(\" \", end=\"\")\n",
        "    # print second stars\n",
        "    for j in range(1, i+1, 1):\n",
        "        print(\"*\", end=\"\")\n",
        "    print()\n",
        "\n",
        "# lower part\n",
        "for i in range(n,0,-1):\n",
        "    for j in range(i, n, 1):\n",
        "        print(\" \", end=\"\")\n",
        "    for j in range(1, i*2, 1):\n",
        "        print(\"*\", end=\"\")\n",
        "    print()\n"
      ],
      "metadata": {
        "colab": {
          "base_uri": "https://localhost:8080/"
        },
        "id": "lAZdxF13mLfm",
        "outputId": "0626793b-8c9c-4a67-8a06-a72e94369422"
      },
      "execution_count": 139,
      "outputs": [
        {
          "output_type": "stream",
          "name": "stdout",
          "text": [
            " ***   ***\n",
            "***** *****\n",
            "***********\n",
            " *********\n",
            "  *******\n",
            "   *****\n",
            "    ***\n",
            "     *\n"
          ]
        }
      ]
    },
    {
      "cell_type": "code",
      "source": [
        "#50\n",
        "# heart pattern \n",
        "n = 6\n",
        "\n",
        "# upper part of the heart\n",
        "for i in range(n//2, n, 2):\n",
        "    # print first spaces\n",
        "    for j in range(1, n-i ,2):\n",
        "        print(\" \", end=\"\")\n",
        "    # print first stars\n",
        "    for j in range(1, i+1, 1):\n",
        "        print(\"*\", end=\"\")\n",
        "    # print second spaces\n",
        "    for j in range(1, n-i+1, 1):\n",
        "        print(\" \", end=\"\")\n",
        "    # print second stars\n",
        "    for j in range(1, i+1, 1):\n",
        "        print(\"*\", end=\"\")\n",
        "    print()\n",
        "\n",
        "# lower part\n",
        "for i in range(n,0,-1):\n",
        "    for j in range(i, n, 1):\n",
        "        print(\" \", end=\"\")\n",
        "    for j in range(1, i*2, 1):\n",
        "        print(\"*\", end=\"\")\n",
        "    print()\n"
      ],
      "metadata": {
        "colab": {
          "base_uri": "https://localhost:8080/"
        },
        "id": "7jnPat9ImLvP",
        "outputId": "68fe46c9-d8fc-4478-e375-7a27dd2f3b7d"
      },
      "execution_count": 140,
      "outputs": [
        {
          "output_type": "stream",
          "name": "stdout",
          "text": [
            " ***   ***\n",
            "***** *****\n",
            "***********\n",
            " *********\n",
            "  *******\n",
            "   *****\n",
            "    ***\n",
            "     *\n"
          ]
        }
      ]
    },
    {
      "cell_type": "code",
      "source": [
        "#50\n",
        "# heart pattern \n",
        "n = 6\n",
        "\n",
        "# upper part of the heart\n",
        "for i in range(n//2, n, 2):\n",
        "    # print first spaces\n",
        "    for j in range(1, n-i ,2):\n",
        "        print(\" \", end=\"\")\n",
        "    # print first stars\n",
        "    for j in range(1, i+1, 1):\n",
        "        print(\"*\", end=\"\")\n",
        "    # print second spaces\n",
        "    for j in range(1, n-i+1, 1):\n",
        "        print(\" \", end=\"\")\n",
        "    # print second stars\n",
        "    for j in range(1, i+1, 1):\n",
        "        print(\"*\", end=\"\")\n",
        "    print()\n",
        "\n",
        "# lower part\n",
        "for i in range(n,0,-1):\n",
        "    for j in range(i, n, 1):\n",
        "        print(\" \", end=\"\")\n",
        "    for j in range(1, i*2, 1):\n",
        "        print(\"*\", end=\"\")\n",
        "    print()\n"
      ],
      "metadata": {
        "colab": {
          "base_uri": "https://localhost:8080/"
        },
        "id": "h8sRz6qkmPrC",
        "outputId": "cf72446a-fb48-4ce4-9351-7e5ed5061c0c"
      },
      "execution_count": 141,
      "outputs": [
        {
          "output_type": "stream",
          "name": "stdout",
          "text": [
            " ***   ***\n",
            "***** *****\n",
            "***********\n",
            " *********\n",
            "  *******\n",
            "   *****\n",
            "    ***\n",
            "     *\n"
          ]
        }
      ]
    },
    {
      "cell_type": "code",
      "source": [
        "#50\n",
        "# heart pattern \n",
        "n = 6\n",
        "\n",
        "# upper part of the heart\n",
        "for i in range(n//2, n, 2):\n",
        "    # print first spaces\n",
        "    for j in range(1, n-i ,2):\n",
        "        print(\" \", end=\"\")\n",
        "    # print first stars\n",
        "    for j in range(1, i+1, 1):\n",
        "        print(\"*\", end=\"\")\n",
        "    # print second spaces\n",
        "    for j in range(1, n-i+1, 1):\n",
        "        print(\" \", end=\"\")\n",
        "    # print second stars\n",
        "    for j in range(1, i+1, 1):\n",
        "        print(\"*\", end=\"\")\n",
        "    print()\n",
        "\n",
        "# lower part\n",
        "for i in range(n,0,-1):\n",
        "    for j in range(i, n, 1):\n",
        "        print(\" \", end=\"\")\n",
        "    for j in range(1, i*2, 1):\n",
        "        print(\"*\", end=\"\")\n",
        "    print()\n"
      ],
      "metadata": {
        "colab": {
          "base_uri": "https://localhost:8080/"
        },
        "id": "NeAt2Y28mP4U",
        "outputId": "8f43bf4d-9047-428e-df7f-e8e036e5d168"
      },
      "execution_count": 142,
      "outputs": [
        {
          "output_type": "stream",
          "name": "stdout",
          "text": [
            " ***   ***\n",
            "***** *****\n",
            "***********\n",
            " *********\n",
            "  *******\n",
            "   *****\n",
            "    ***\n",
            "     *\n"
          ]
        }
      ]
    },
    {
      "cell_type": "code",
      "source": [
        "#50\n",
        "# heart pattern \n",
        "n = 6\n",
        "\n",
        "# upper part of the heart\n",
        "for i in range(n//2, n, 2):\n",
        "    # print first spaces\n",
        "    for j in range(1, n-i ,2):\n",
        "        print(\" \", end=\"\")\n",
        "    # print first stars\n",
        "    for j in range(1, i+1, 1):\n",
        "        print(\"*\", end=\"\")\n",
        "    # print second spaces\n",
        "    for j in range(1, n-i+1, 1):\n",
        "        print(\" \", end=\"\")\n",
        "    # print second stars\n",
        "    for j in range(1, i+1, 1):\n",
        "        print(\"*\", end=\"\")\n",
        "    print()\n",
        "\n",
        "# lower part\n",
        "for i in range(n,0,-1):\n",
        "    for j in range(i, n, 1):\n",
        "        print(\" \", end=\"\")\n",
        "    for j in range(1, i*2, 1):\n",
        "        print(\"*\", end=\"\")\n",
        "    print()\n"
      ],
      "metadata": {
        "colab": {
          "base_uri": "https://localhost:8080/"
        },
        "id": "7OnaCyYQmQFc",
        "outputId": "57cf702a-3c13-4bdf-e10e-62a320b02827"
      },
      "execution_count": 143,
      "outputs": [
        {
          "output_type": "stream",
          "name": "stdout",
          "text": [
            " ***   ***\n",
            "***** *****\n",
            "***********\n",
            " *********\n",
            "  *******\n",
            "   *****\n",
            "    ***\n",
            "     *\n"
          ]
        }
      ]
    },
    {
      "cell_type": "code",
      "source": [
        "#50\n",
        "# heart pattern \n",
        "n = 6\n",
        "\n",
        "# upper part of the heart\n",
        "for i in range(n//2, n, 2):\n",
        "    # print first spaces\n",
        "    for j in range(1, n-i ,2):\n",
        "        print(\" \", end=\"\")\n",
        "    # print first stars\n",
        "    for j in range(1, i+1, 1):\n",
        "        print(\"*\", end=\"\")\n",
        "    # print second spaces\n",
        "    for j in range(1, n-i+1, 1):\n",
        "        print(\" \", end=\"\")\n",
        "    # print second stars\n",
        "    for j in range(1, i+1, 1):\n",
        "        print(\"*\", end=\"\")\n",
        "    print()\n",
        "\n",
        "# lower part\n",
        "for i in range(n,0,-1):\n",
        "    for j in range(i, n, 1):\n",
        "        print(\" \", end=\"\")\n",
        "    for j in range(1, i*2, 1):\n",
        "        print(\"*\", end=\"\")\n",
        "    print()\n"
      ],
      "metadata": {
        "colab": {
          "base_uri": "https://localhost:8080/"
        },
        "id": "-xjaM9IUmQTb",
        "outputId": "c0576c09-d0ea-49ee-809e-e7187882adb9"
      },
      "execution_count": 144,
      "outputs": [
        {
          "output_type": "stream",
          "name": "stdout",
          "text": [
            " ***   ***\n",
            "***** *****\n",
            "***********\n",
            " *********\n",
            "  *******\n",
            "   *****\n",
            "    ***\n",
            "     *\n"
          ]
        }
      ]
    },
    {
      "cell_type": "code",
      "source": [
        "#50\n",
        "# heart pattern \n",
        "n = 6\n",
        "\n",
        "# upper part of the heart\n",
        "for i in range(n//2, n, 2):\n",
        "    # print first spaces\n",
        "    for j in range(1, n-i ,2):\n",
        "        print(\" \", end=\"\")\n",
        "    # print first stars\n",
        "    for j in range(1, i+1, 1):\n",
        "        print(\"*\", end=\"\")\n",
        "    # print second spaces\n",
        "    for j in range(1, n-i+1, 1):\n",
        "        print(\" \", end=\"\")\n",
        "    # print second stars\n",
        "    for j in range(1, i+1, 1):\n",
        "        print(\"*\", end=\"\")\n",
        "    print()\n",
        "\n",
        "# lower part\n",
        "for i in range(n,0,-1):\n",
        "    for j in range(i, n, 1):\n",
        "        print(\" \", end=\"\")\n",
        "    for j in range(1, i*2, 1):\n",
        "        print(\"*\", end=\"\")\n",
        "    print()\n"
      ],
      "metadata": {
        "colab": {
          "base_uri": "https://localhost:8080/"
        },
        "id": "KZmazM7smQni",
        "outputId": "46feff23-b941-4921-b330-512f2772d37d"
      },
      "execution_count": 145,
      "outputs": [
        {
          "output_type": "stream",
          "name": "stdout",
          "text": [
            " ***   ***\n",
            "***** *****\n",
            "***********\n",
            " *********\n",
            "  *******\n",
            "   *****\n",
            "    ***\n",
            "     *\n"
          ]
        }
      ]
    },
    {
      "cell_type": "code",
      "source": [
        "#50\n",
        "# heart pattern \n",
        "n = 6\n",
        "\n",
        "# upper part of the heart\n",
        "for i in range(n//2, n, 2):\n",
        "    # print first spaces\n",
        "    for j in range(1, n-i ,2):\n",
        "        print(\" \", end=\"\")\n",
        "    # print first stars\n",
        "    for j in range(1, i+1, 1):\n",
        "        print(\"*\", end=\"\")\n",
        "    # print second spaces\n",
        "    for j in range(1, n-i+1, 1):\n",
        "        print(\" \", end=\"\")\n",
        "    # print second stars\n",
        "    for j in range(1, i+1, 1):\n",
        "        print(\"*\", end=\"\")\n",
        "    print()\n",
        "\n",
        "# lower part\n",
        "for i in range(n,0,-1):\n",
        "    for j in range(i, n, 1):\n",
        "        print(\" \", end=\"\")\n",
        "    for j in range(1, i*2, 1):\n",
        "        print(\"*\", end=\"\")\n",
        "    print()\n"
      ],
      "metadata": {
        "colab": {
          "base_uri": "https://localhost:8080/"
        },
        "id": "isx7Dn86mQ44",
        "outputId": "c20b135b-ab09-44e5-ac05-1a7c482d1490"
      },
      "execution_count": 146,
      "outputs": [
        {
          "output_type": "stream",
          "name": "stdout",
          "text": [
            " ***   ***\n",
            "***** *****\n",
            "***********\n",
            " *********\n",
            "  *******\n",
            "   *****\n",
            "    ***\n",
            "     *\n"
          ]
        }
      ]
    },
    {
      "cell_type": "code",
      "source": [
        "#50\n",
        "# heart pattern \n",
        "n = 6\n",
        "\n",
        "# upper part of the heart\n",
        "for i in range(n//2, n, 2):\n",
        "    # print first spaces\n",
        "    for j in range(1, n-i ,2):\n",
        "        print(\" \", end=\"\")\n",
        "    # print first stars\n",
        "    for j in range(1, i+1, 1):\n",
        "        print(\"*\", end=\"\")\n",
        "    # print second spaces\n",
        "    for j in range(1, n-i+1, 1):\n",
        "        print(\" \", end=\"\")\n",
        "    # print second stars\n",
        "    for j in range(1, i+1, 1):\n",
        "        print(\"*\", end=\"\")\n",
        "    print()\n",
        "\n",
        "# lower part\n",
        "for i in range(n,0,-1):\n",
        "    for j in range(i, n, 1):\n",
        "        print(\" \", end=\"\")\n",
        "    for j in range(1, i*2, 1):\n",
        "        print(\"*\", end=\"\")\n",
        "    print()\n"
      ],
      "metadata": {
        "colab": {
          "base_uri": "https://localhost:8080/"
        },
        "id": "evouzidmmYTa",
        "outputId": "08b40473-2862-4a59-eb43-9a5b3acd81ba"
      },
      "execution_count": 147,
      "outputs": [
        {
          "output_type": "stream",
          "name": "stdout",
          "text": [
            " ***   ***\n",
            "***** *****\n",
            "***********\n",
            " *********\n",
            "  *******\n",
            "   *****\n",
            "    ***\n",
            "     *\n"
          ]
        }
      ]
    },
    {
      "cell_type": "code",
      "source": [
        "#50\n",
        "# heart pattern \n",
        "n = 6\n",
        "\n",
        "# upper part of the heart\n",
        "for i in range(n//2, n, 2):\n",
        "    # print first spaces\n",
        "    for j in range(1, n-i ,2):\n",
        "        print(\" \", end=\"\")\n",
        "    # print first stars\n",
        "    for j in range(1, i+1, 1):\n",
        "        print(\"*\", end=\"\")\n",
        "    # print second spaces\n",
        "    for j in range(1, n-i+1, 1):\n",
        "        print(\" \", end=\"\")\n",
        "    # print second stars\n",
        "    for j in range(1, i+1, 1):\n",
        "        print(\"*\", end=\"\")\n",
        "    print()\n",
        "\n",
        "# lower part\n",
        "for i in range(n,0,-1):\n",
        "    for j in range(i, n, 1):\n",
        "        print(\" \", end=\"\")\n",
        "    for j in range(1, i*2, 1):\n",
        "        print(\"*\", end=\"\")\n",
        "    print()\n"
      ],
      "metadata": {
        "colab": {
          "base_uri": "https://localhost:8080/"
        },
        "id": "ycArSqe2mYg3",
        "outputId": "3fc65740-2b63-49a2-ba7a-8536b3b1217f"
      },
      "execution_count": 148,
      "outputs": [
        {
          "output_type": "stream",
          "name": "stdout",
          "text": [
            " ***   ***\n",
            "***** *****\n",
            "***********\n",
            " *********\n",
            "  *******\n",
            "   *****\n",
            "    ***\n",
            "     *\n"
          ]
        }
      ]
    },
    {
      "cell_type": "code",
      "source": [
        "#50\n",
        "# heart pattern \n",
        "n = 6\n",
        "\n",
        "# upper part of the heart\n",
        "for i in range(n//2, n, 2):\n",
        "    # print first spaces\n",
        "    for j in range(1, n-i ,2):\n",
        "        print(\" \", end=\"\")\n",
        "    # print first stars\n",
        "    for j in range(1, i+1, 1):\n",
        "        print(\"*\", end=\"\")\n",
        "    # print second spaces\n",
        "    for j in range(1, n-i+1, 1):\n",
        "        print(\" \", end=\"\")\n",
        "    # print second stars\n",
        "    for j in range(1, i+1, 1):\n",
        "        print(\"*\", end=\"\")\n",
        "    print()\n",
        "\n",
        "# lower part\n",
        "for i in range(n,0,-1):\n",
        "    for j in range(i, n, 1):\n",
        "        print(\" \", end=\"\")\n",
        "    for j in range(1, i*2, 1):\n",
        "        print(\"*\", end=\"\")\n",
        "    print()\n"
      ],
      "metadata": {
        "colab": {
          "base_uri": "https://localhost:8080/"
        },
        "id": "VEpJbOnHmYt_",
        "outputId": "3334cd0c-3d88-4ba4-b055-df257af0eb3b"
      },
      "execution_count": 149,
      "outputs": [
        {
          "output_type": "stream",
          "name": "stdout",
          "text": [
            " ***   ***\n",
            "***** *****\n",
            "***********\n",
            " *********\n",
            "  *******\n",
            "   *****\n",
            "    ***\n",
            "     *\n"
          ]
        }
      ]
    },
    {
      "cell_type": "code",
      "source": [
        "#50\n",
        "# heart pattern \n",
        "n = 6\n",
        "\n",
        "# upper part of the heart\n",
        "for i in range(n//2, n, 2):\n",
        "    # print first spaces\n",
        "    for j in range(1, n-i ,2):\n",
        "        print(\" \", end=\"\")\n",
        "    # print first stars\n",
        "    for j in range(1, i+1, 1):\n",
        "        print(\"*\", end=\"\")\n",
        "    # print second spaces\n",
        "    for j in range(1, n-i+1, 1):\n",
        "        print(\" \", end=\"\")\n",
        "    # print second stars\n",
        "    for j in range(1, i+1, 1):\n",
        "        print(\"*\", end=\"\")\n",
        "    print()\n",
        "\n",
        "# lower part\n",
        "for i in range(n,0,-1):\n",
        "    for j in range(i, n, 1):\n",
        "        print(\" \", end=\"\")\n",
        "    for j in range(1, i*2, 1):\n",
        "        print(\"*\", end=\"\")\n",
        "    print()\n"
      ],
      "metadata": {
        "colab": {
          "base_uri": "https://localhost:8080/"
        },
        "id": "RNrucVpqmY73",
        "outputId": "7fde8298-eb46-4755-8b9a-5806a7ff62b8"
      },
      "execution_count": 150,
      "outputs": [
        {
          "output_type": "stream",
          "name": "stdout",
          "text": [
            " ***   ***\n",
            "***** *****\n",
            "***********\n",
            " *********\n",
            "  *******\n",
            "   *****\n",
            "    ***\n",
            "     *\n"
          ]
        }
      ]
    },
    {
      "cell_type": "code",
      "source": [
        "#50\n",
        "# heart pattern \n",
        "n = 6\n",
        "\n",
        "# upper part of the heart\n",
        "for i in range(n//2, n, 2):\n",
        "    # print first spaces\n",
        "    for j in range(1, n-i ,2):\n",
        "        print(\" \", end=\"\")\n",
        "    # print first stars\n",
        "    for j in range(1, i+1, 1):\n",
        "        print(\"*\", end=\"\")\n",
        "    # print second spaces\n",
        "    for j in range(1, n-i+1, 1):\n",
        "        print(\" \", end=\"\")\n",
        "    # print second stars\n",
        "    for j in range(1, i+1, 1):\n",
        "        print(\"*\", end=\"\")\n",
        "    print()\n",
        "\n",
        "# lower part\n",
        "for i in range(n,0,-1):\n",
        "    for j in range(i, n, 1):\n",
        "        print(\" \", end=\"\")\n",
        "    for j in range(1, i*2, 1):\n",
        "        print(\"*\", end=\"\")\n",
        "    print()\n"
      ],
      "metadata": {
        "colab": {
          "base_uri": "https://localhost:8080/"
        },
        "id": "j2Ciz5ZLmZI2",
        "outputId": "43e6405b-1af1-4dc7-c679-f24a7e6ad2d5"
      },
      "execution_count": 151,
      "outputs": [
        {
          "output_type": "stream",
          "name": "stdout",
          "text": [
            " ***   ***\n",
            "***** *****\n",
            "***********\n",
            " *********\n",
            "  *******\n",
            "   *****\n",
            "    ***\n",
            "     *\n"
          ]
        }
      ]
    },
    {
      "cell_type": "code",
      "source": [
        "#50\n",
        "# heart pattern \n",
        "n = 6\n",
        "\n",
        "# upper part of the heart\n",
        "for i in range(n//2, n, 2):\n",
        "    # print first spaces\n",
        "    for j in range(1, n-i ,2):\n",
        "        print(\" \", end=\"\")\n",
        "    # print first stars\n",
        "    for j in range(1, i+1, 1):\n",
        "        print(\"*\", end=\"\")\n",
        "    # print second spaces\n",
        "    for j in range(1, n-i+1, 1):\n",
        "        print(\" \", end=\"\")\n",
        "    # print second stars\n",
        "    for j in range(1, i+1, 1):\n",
        "        print(\"*\", end=\"\")\n",
        "    print()\n",
        "\n",
        "# lower part\n",
        "for i in range(n,0,-1):\n",
        "    for j in range(i, n, 1):\n",
        "        print(\" \", end=\"\")\n",
        "    for j in range(1, i*2, 1):\n",
        "        print(\"*\", end=\"\")\n",
        "    print()\n"
      ],
      "metadata": {
        "colab": {
          "base_uri": "https://localhost:8080/"
        },
        "id": "IfpapE9kmaCv",
        "outputId": "25ac1974-82f4-4a0a-ac62-a30dcdd274ba"
      },
      "execution_count": 152,
      "outputs": [
        {
          "output_type": "stream",
          "name": "stdout",
          "text": [
            " ***   ***\n",
            "***** *****\n",
            "***********\n",
            " *********\n",
            "  *******\n",
            "   *****\n",
            "    ***\n",
            "     *\n"
          ]
        }
      ]
    },
    {
      "cell_type": "code",
      "source": [
        "#50\n",
        "# heart pattern \n",
        "n = 6\n",
        "\n",
        "# upper part of the heart\n",
        "for i in range(n//2, n, 2):\n",
        "    # print first spaces\n",
        "    for j in range(1, n-i ,2):\n",
        "        print(\" \", end=\"\")\n",
        "    # print first stars\n",
        "    for j in range(1, i+1, 1):\n",
        "        print(\"*\", end=\"\")\n",
        "    # print second spaces\n",
        "    for j in range(1, n-i+1, 1):\n",
        "        print(\" \", end=\"\")\n",
        "    # print second stars\n",
        "    for j in range(1, i+1, 1):\n",
        "        print(\"*\", end=\"\")\n",
        "    print()\n",
        "\n",
        "# lower part\n",
        "for i in range(n,0,-1):\n",
        "    for j in range(i, n, 1):\n",
        "        print(\" \", end=\"\")\n",
        "    for j in range(1, i*2, 1):\n",
        "        print(\"*\", end=\"\")\n",
        "    print()\n"
      ],
      "metadata": {
        "colab": {
          "base_uri": "https://localhost:8080/"
        },
        "id": "glMcTBInmaQo",
        "outputId": "457420ac-31fc-4363-c04e-bbf29934b9be"
      },
      "execution_count": 153,
      "outputs": [
        {
          "output_type": "stream",
          "name": "stdout",
          "text": [
            " ***   ***\n",
            "***** *****\n",
            "***********\n",
            " *********\n",
            "  *******\n",
            "   *****\n",
            "    ***\n",
            "     *\n"
          ]
        }
      ]
    },
    {
      "cell_type": "code",
      "source": [
        "#50\n",
        "# heart pattern \n",
        "n = 6\n",
        "\n",
        "# upper part of the heart\n",
        "for i in range(n//2, n, 2):\n",
        "    # print first spaces\n",
        "    for j in range(1, n-i ,2):\n",
        "        print(\" \", end=\"\")\n",
        "    # print first stars\n",
        "    for j in range(1, i+1, 1):\n",
        "        print(\"*\", end=\"\")\n",
        "    # print second spaces\n",
        "    for j in range(1, n-i+1, 1):\n",
        "        print(\" \", end=\"\")\n",
        "    # print second stars\n",
        "    for j in range(1, i+1, 1):\n",
        "        print(\"*\", end=\"\")\n",
        "    print()\n",
        "\n",
        "# lower part\n",
        "for i in range(n,0,-1):\n",
        "    for j in range(i, n, 1):\n",
        "        print(\" \", end=\"\")\n",
        "    for j in range(1, i*2, 1):\n",
        "        print(\"*\", end=\"\")\n",
        "    print()\n"
      ],
      "metadata": {
        "colab": {
          "base_uri": "https://localhost:8080/"
        },
        "id": "4Mcd0aVdmafB",
        "outputId": "aeb1dadf-e532-4d10-8bb6-775526e6c20b"
      },
      "execution_count": 154,
      "outputs": [
        {
          "output_type": "stream",
          "name": "stdout",
          "text": [
            " ***   ***\n",
            "***** *****\n",
            "***********\n",
            " *********\n",
            "  *******\n",
            "   *****\n",
            "    ***\n",
            "     *\n"
          ]
        }
      ]
    },
    {
      "cell_type": "code",
      "source": [
        "#50\n",
        "# heart pattern \n",
        "n = 6\n",
        "\n",
        "# upper part of the heart\n",
        "for i in range(n//2, n, 2):\n",
        "    # print first spaces\n",
        "    for j in range(1, n-i ,2):\n",
        "        print(\" \", end=\"\")\n",
        "    # print first stars\n",
        "    for j in range(1, i+1, 1):\n",
        "        print(\"*\", end=\"\")\n",
        "    # print second spaces\n",
        "    for j in range(1, n-i+1, 1):\n",
        "        print(\" \", end=\"\")\n",
        "    # print second stars\n",
        "    for j in range(1, i+1, 1):\n",
        "        print(\"*\", end=\"\")\n",
        "    print()\n",
        "\n",
        "# lower part\n",
        "for i in range(n,0,-1):\n",
        "    for j in range(i, n, 1):\n",
        "        print(\" \", end=\"\")\n",
        "    for j in range(1, i*2, 1):\n",
        "        print(\"*\", end=\"\")\n",
        "    print()\n"
      ],
      "metadata": {
        "colab": {
          "base_uri": "https://localhost:8080/"
        },
        "id": "i2YpFSU8mbt3",
        "outputId": "34a8b3c8-0359-445a-eb06-c955cfc895c7"
      },
      "execution_count": 155,
      "outputs": [
        {
          "output_type": "stream",
          "name": "stdout",
          "text": [
            " ***   ***\n",
            "***** *****\n",
            "***********\n",
            " *********\n",
            "  *******\n",
            "   *****\n",
            "    ***\n",
            "     *\n"
          ]
        }
      ]
    },
    {
      "cell_type": "code",
      "source": [
        "#50\n",
        "# heart pattern \n",
        "n = 6\n",
        "\n",
        "# upper part of the heart\n",
        "for i in range(n//2, n, 2):\n",
        "    # print first spaces\n",
        "    for j in range(1, n-i ,2):\n",
        "        print(\" \", end=\"\")\n",
        "    # print first stars\n",
        "    for j in range(1, i+1, 1):\n",
        "        print(\"*\", end=\"\")\n",
        "    # print second spaces\n",
        "    for j in range(1, n-i+1, 1):\n",
        "        print(\" \", end=\"\")\n",
        "    # print second stars\n",
        "    for j in range(1, i+1, 1):\n",
        "        print(\"*\", end=\"\")\n",
        "    print()\n",
        "\n",
        "# lower part\n",
        "for i in range(n,0,-1):\n",
        "    for j in range(i, n, 1):\n",
        "        print(\" \", end=\"\")\n",
        "    for j in range(1, i*2, 1):\n",
        "        print(\"*\", end=\"\")\n",
        "    print()\n"
      ],
      "metadata": {
        "colab": {
          "base_uri": "https://localhost:8080/"
        },
        "id": "rvuTn11xmb-H",
        "outputId": "59796d3c-1fba-4b14-f07c-f0dc26690ee1"
      },
      "execution_count": 156,
      "outputs": [
        {
          "output_type": "stream",
          "name": "stdout",
          "text": [
            " ***   ***\n",
            "***** *****\n",
            "***********\n",
            " *********\n",
            "  *******\n",
            "   *****\n",
            "    ***\n",
            "     *\n"
          ]
        }
      ]
    },
    {
      "cell_type": "code",
      "source": [
        "#50\n",
        "# heart pattern \n",
        "n = 6\n",
        "\n",
        "# upper part of the heart\n",
        "for i in range(n//2, n, 2):\n",
        "    # print first spaces\n",
        "    for j in range(1, n-i ,2):\n",
        "        print(\" \", end=\"\")\n",
        "    # print first stars\n",
        "    for j in range(1, i+1, 1):\n",
        "        print(\"*\", end=\"\")\n",
        "    # print second spaces\n",
        "    for j in range(1, n-i+1, 1):\n",
        "        print(\" \", end=\"\")\n",
        "    # print second stars\n",
        "    for j in range(1, i+1, 1):\n",
        "        print(\"*\", end=\"\")\n",
        "    print()\n",
        "\n",
        "# lower part\n",
        "for i in range(n,0,-1):\n",
        "    for j in range(i, n, 1):\n",
        "        print(\" \", end=\"\")\n",
        "    for j in range(1, i*2, 1):\n",
        "        print(\"*\", end=\"\")\n",
        "    print()\n"
      ],
      "metadata": {
        "colab": {
          "base_uri": "https://localhost:8080/"
        },
        "id": "PH0PIHcXmgKj",
        "outputId": "4edf6ac4-ced3-47dd-a10b-fe1244f06d98"
      },
      "execution_count": 157,
      "outputs": [
        {
          "output_type": "stream",
          "name": "stdout",
          "text": [
            " ***   ***\n",
            "***** *****\n",
            "***********\n",
            " *********\n",
            "  *******\n",
            "   *****\n",
            "    ***\n",
            "     *\n"
          ]
        }
      ]
    },
    {
      "cell_type": "code",
      "source": [
        "#50\n",
        "# heart pattern \n",
        "n = 6\n",
        "\n",
        "# upper part of the heart\n",
        "for i in range(n//2, n, 2):\n",
        "    # print first spaces\n",
        "    for j in range(1, n-i ,2):\n",
        "        print(\" \", end=\"\")\n",
        "    # print first stars\n",
        "    for j in range(1, i+1, 1):\n",
        "        print(\"*\", end=\"\")\n",
        "    # print second spaces\n",
        "    for j in range(1, n-i+1, 1):\n",
        "        print(\" \", end=\"\")\n",
        "    # print second stars\n",
        "    for j in range(1, i+1, 1):\n",
        "        print(\"*\", end=\"\")\n",
        "    print()\n",
        "\n",
        "# lower part\n",
        "for i in range(n,0,-1):\n",
        "    for j in range(i, n, 1):\n",
        "        print(\" \", end=\"\")\n",
        "    for j in range(1, i*2, 1):\n",
        "        print(\"*\", end=\"\")\n",
        "    print()\n"
      ],
      "metadata": {
        "colab": {
          "base_uri": "https://localhost:8080/"
        },
        "id": "seu1va7TmgYy",
        "outputId": "5bb01e4d-80a2-447f-8df5-f83535075aab"
      },
      "execution_count": 158,
      "outputs": [
        {
          "output_type": "stream",
          "name": "stdout",
          "text": [
            " ***   ***\n",
            "***** *****\n",
            "***********\n",
            " *********\n",
            "  *******\n",
            "   *****\n",
            "    ***\n",
            "     *\n"
          ]
        }
      ]
    },
    {
      "cell_type": "code",
      "source": [
        "#50\n",
        "# heart pattern \n",
        "n = 6\n",
        "\n",
        "# upper part of the heart\n",
        "for i in range(n//2, n, 2):\n",
        "    # print first spaces\n",
        "    for j in range(1, n-i ,2):\n",
        "        print(\" \", end=\"\")\n",
        "    # print first stars\n",
        "    for j in range(1, i+1, 1):\n",
        "        print(\"*\", end=\"\")\n",
        "    # print second spaces\n",
        "    for j in range(1, n-i+1, 1):\n",
        "        print(\" \", end=\"\")\n",
        "    # print second stars\n",
        "    for j in range(1, i+1, 1):\n",
        "        print(\"*\", end=\"\")\n",
        "    print()\n",
        "\n",
        "# lower part\n",
        "for i in range(n,0,-1):\n",
        "    for j in range(i, n, 1):\n",
        "        print(\" \", end=\"\")\n",
        "    for j in range(1, i*2, 1):\n",
        "        print(\"*\", end=\"\")\n",
        "    print()\n"
      ],
      "metadata": {
        "colab": {
          "base_uri": "https://localhost:8080/"
        },
        "id": "ODsz5dM9mgnr",
        "outputId": "a48c60d3-e82a-4956-8c83-fa20d60cf8cf"
      },
      "execution_count": 159,
      "outputs": [
        {
          "output_type": "stream",
          "name": "stdout",
          "text": [
            " ***   ***\n",
            "***** *****\n",
            "***********\n",
            " *********\n",
            "  *******\n",
            "   *****\n",
            "    ***\n",
            "     *\n"
          ]
        }
      ]
    },
    {
      "cell_type": "code",
      "source": [
        "#50\n",
        "# heart pattern \n",
        "n = 6\n",
        "\n",
        "# upper part of the heart\n",
        "for i in range(n//2, n, 2):\n",
        "    # print first spaces\n",
        "    for j in range(1, n-i ,2):\n",
        "        print(\" \", end=\"\")\n",
        "    # print first stars\n",
        "    for j in range(1, i+1, 1):\n",
        "        print(\"*\", end=\"\")\n",
        "    # print second spaces\n",
        "    for j in range(1, n-i+1, 1):\n",
        "        print(\" \", end=\"\")\n",
        "    # print second stars\n",
        "    for j in range(1, i+1, 1):\n",
        "        print(\"*\", end=\"\")\n",
        "    print()\n",
        "\n",
        "# lower part\n",
        "for i in range(n,0,-1):\n",
        "    for j in range(i, n, 1):\n",
        "        print(\" \", end=\"\")\n",
        "    for j in range(1, i*2, 1):\n",
        "        print(\"*\", end=\"\")\n",
        "    print()\n"
      ],
      "metadata": {
        "colab": {
          "base_uri": "https://localhost:8080/"
        },
        "id": "g0VGGqLLmg3U",
        "outputId": "003567db-2480-48c9-c438-95885c88d67e"
      },
      "execution_count": 160,
      "outputs": [
        {
          "output_type": "stream",
          "name": "stdout",
          "text": [
            " ***   ***\n",
            "***** *****\n",
            "***********\n",
            " *********\n",
            "  *******\n",
            "   *****\n",
            "    ***\n",
            "     *\n"
          ]
        }
      ]
    },
    {
      "cell_type": "code",
      "source": [
        "#50\n",
        "# heart pattern \n",
        "n = 6\n",
        "\n",
        "# upper part of the heart\n",
        "for i in range(n//2, n, 2):\n",
        "    # print first spaces\n",
        "    for j in range(1, n-i ,2):\n",
        "        print(\" \", end=\"\")\n",
        "    # print first stars\n",
        "    for j in range(1, i+1, 1):\n",
        "        print(\"*\", end=\"\")\n",
        "    # print second spaces\n",
        "    for j in range(1, n-i+1, 1):\n",
        "        print(\" \", end=\"\")\n",
        "    # print second stars\n",
        "    for j in range(1, i+1, 1):\n",
        "        print(\"*\", end=\"\")\n",
        "    print()\n",
        "\n",
        "# lower part\n",
        "for i in range(n,0,-1):\n",
        "    for j in range(i, n, 1):\n",
        "        print(\" \", end=\"\")\n",
        "    for j in range(1, i*2, 1):\n",
        "        print(\"*\", end=\"\")\n",
        "    print()\n"
      ],
      "metadata": {
        "colab": {
          "base_uri": "https://localhost:8080/"
        },
        "id": "041l9sAImhHb",
        "outputId": "9ba34455-77a4-474d-8493-8189e7480af4"
      },
      "execution_count": 161,
      "outputs": [
        {
          "output_type": "stream",
          "name": "stdout",
          "text": [
            " ***   ***\n",
            "***** *****\n",
            "***********\n",
            " *********\n",
            "  *******\n",
            "   *****\n",
            "    ***\n",
            "     *\n"
          ]
        }
      ]
    },
    {
      "cell_type": "code",
      "source": [
        "#50\n",
        "# heart pattern \n",
        "n = 6\n",
        "\n",
        "# upper part of the heart\n",
        "for i in range(n//2, n, 2):\n",
        "    # print first spaces\n",
        "    for j in range(1, n-i ,2):\n",
        "        print(\" \", end=\"\")\n",
        "    # print first stars\n",
        "    for j in range(1, i+1, 1):\n",
        "        print(\"*\", end=\"\")\n",
        "    # print second spaces\n",
        "    for j in range(1, n-i+1, 1):\n",
        "        print(\" \", end=\"\")\n",
        "    # print second stars\n",
        "    for j in range(1, i+1, 1):\n",
        "        print(\"*\", end=\"\")\n",
        "    print()\n",
        "\n",
        "# lower part\n",
        "for i in range(n,0,-1):\n",
        "    for j in range(i, n, 1):\n",
        "        print(\" \", end=\"\")\n",
        "    for j in range(1, i*2, 1):\n",
        "        print(\"*\", end=\"\")\n",
        "    print()\n"
      ],
      "metadata": {
        "colab": {
          "base_uri": "https://localhost:8080/"
        },
        "id": "5BiQuUCxmhWI",
        "outputId": "9aa103fd-5126-4056-aedb-bafb15524b8a"
      },
      "execution_count": 162,
      "outputs": [
        {
          "output_type": "stream",
          "name": "stdout",
          "text": [
            " ***   ***\n",
            "***** *****\n",
            "***********\n",
            " *********\n",
            "  *******\n",
            "   *****\n",
            "    ***\n",
            "     *\n"
          ]
        }
      ]
    },
    {
      "cell_type": "code",
      "source": [
        "#50\n",
        "# heart pattern \n",
        "n = 6\n",
        "\n",
        "# upper part of the heart\n",
        "for i in range(n//2, n, 2):\n",
        "    # print first spaces\n",
        "    for j in range(1, n-i ,2):\n",
        "        print(\" \", end=\"\")\n",
        "    # print first stars\n",
        "    for j in range(1, i+1, 1):\n",
        "        print(\"*\", end=\"\")\n",
        "    # print second spaces\n",
        "    for j in range(1, n-i+1, 1):\n",
        "        print(\" \", end=\"\")\n",
        "    # print second stars\n",
        "    for j in range(1, i+1, 1):\n",
        "        print(\"*\", end=\"\")\n",
        "    print()\n",
        "\n",
        "# lower part\n",
        "for i in range(n,0,-1):\n",
        "    for j in range(i, n, 1):\n",
        "        print(\" \", end=\"\")\n",
        "    for j in range(1, i*2, 1):\n",
        "        print(\"*\", end=\"\")\n",
        "    print()\n"
      ],
      "metadata": {
        "colab": {
          "base_uri": "https://localhost:8080/"
        },
        "id": "mnk40NdFmhlT",
        "outputId": "f299c82d-e40f-4003-94f6-bb261b3ed6ba"
      },
      "execution_count": 163,
      "outputs": [
        {
          "output_type": "stream",
          "name": "stdout",
          "text": [
            " ***   ***\n",
            "***** *****\n",
            "***********\n",
            " *********\n",
            "  *******\n",
            "   *****\n",
            "    ***\n",
            "     *\n"
          ]
        }
      ]
    },
    {
      "cell_type": "code",
      "source": [
        "#50\n",
        "# heart pattern \n",
        "n = 6\n",
        "\n",
        "# upper part of the heart\n",
        "for i in range(n//2, n, 2):\n",
        "    # print first spaces\n",
        "    for j in range(1, n-i ,2):\n",
        "        print(\" \", end=\"\")\n",
        "    # print first stars\n",
        "    for j in range(1, i+1, 1):\n",
        "        print(\"*\", end=\"\")\n",
        "    # print second spaces\n",
        "    for j in range(1, n-i+1, 1):\n",
        "        print(\" \", end=\"\")\n",
        "    # print second stars\n",
        "    for j in range(1, i+1, 1):\n",
        "        print(\"*\", end=\"\")\n",
        "    print()\n",
        "\n",
        "# lower part\n",
        "for i in range(n,0,-1):\n",
        "    for j in range(i, n, 1):\n",
        "        print(\" \", end=\"\")\n",
        "    for j in range(1, i*2, 1):\n",
        "        print(\"*\", end=\"\")\n",
        "    print()\n"
      ],
      "metadata": {
        "colab": {
          "base_uri": "https://localhost:8080/"
        },
        "id": "u8zWcK_DouFZ",
        "outputId": "2ea764a6-3bb4-4b85-b80b-518bc9298ade"
      },
      "execution_count": 164,
      "outputs": [
        {
          "output_type": "stream",
          "name": "stdout",
          "text": [
            " ***   ***\n",
            "***** *****\n",
            "***********\n",
            " *********\n",
            "  *******\n",
            "   *****\n",
            "    ***\n",
            "     *\n"
          ]
        }
      ]
    },
    {
      "cell_type": "code",
      "source": [
        "#50\n",
        "# heart pattern \n",
        "n = 6\n",
        "\n",
        "# upper part of the heart\n",
        "for i in range(n//2, n, 2):\n",
        "    # print first spaces\n",
        "    for j in range(1, n-i ,2):\n",
        "        print(\" \", end=\"\")\n",
        "    # print first stars\n",
        "    for j in range(1, i+1, 1):\n",
        "        print(\"*\", end=\"\")\n",
        "    # print second spaces\n",
        "    for j in range(1, n-i+1, 1):\n",
        "        print(\" \", end=\"\")\n",
        "    # print second stars\n",
        "    for j in range(1, i+1, 1):\n",
        "        print(\"*\", end=\"\")\n",
        "    print()\n",
        "\n",
        "# lower part\n",
        "for i in range(n,0,-1):\n",
        "    for j in range(i, n, 1):\n",
        "        print(\" \", end=\"\")\n",
        "    for j in range(1, i*2, 1):\n",
        "        print(\"*\", end=\"\")\n",
        "    print()\n"
      ],
      "metadata": {
        "colab": {
          "base_uri": "https://localhost:8080/"
        },
        "id": "tHWkz95-o1wz",
        "outputId": "a6422598-98b0-4565-882a-b65d48debf69"
      },
      "execution_count": 165,
      "outputs": [
        {
          "output_type": "stream",
          "name": "stdout",
          "text": [
            " ***   ***\n",
            "***** *****\n",
            "***********\n",
            " *********\n",
            "  *******\n",
            "   *****\n",
            "    ***\n",
            "     *\n"
          ]
        }
      ]
    },
    {
      "cell_type": "code",
      "source": [
        "a=int"
      ],
      "metadata": {
        "id": "GQSoeNEmo2HI"
      },
      "execution_count": 166,
      "outputs": []
    },
    {
      "cell_type": "code",
      "source": [
        "a=int"
      ],
      "metadata": {
        "id": "DY1uSXvQpQvd"
      },
      "execution_count": 167,
      "outputs": []
    },
    {
      "cell_type": "code",
      "source": [
        "a=int"
      ],
      "metadata": {
        "id": "_X2vcmgtpVBO"
      },
      "execution_count": 168,
      "outputs": []
    },
    {
      "cell_type": "code",
      "source": [
        "a=int"
      ],
      "metadata": {
        "id": "XA6V5ze1pVTC"
      },
      "execution_count": 169,
      "outputs": []
    },
    {
      "cell_type": "code",
      "source": [
        "a=int"
      ],
      "metadata": {
        "id": "grflci_SpexL"
      },
      "execution_count": 170,
      "outputs": []
    },
    {
      "cell_type": "code",
      "source": [
        "a=int"
      ],
      "metadata": {
        "id": "aGiYza66p0tm"
      },
      "execution_count": 171,
      "outputs": []
    },
    {
      "cell_type": "code",
      "source": [],
      "metadata": {
        "id": "2R7aX3jip5FK"
      },
      "execution_count": 171,
      "outputs": []
    }
  ]
}