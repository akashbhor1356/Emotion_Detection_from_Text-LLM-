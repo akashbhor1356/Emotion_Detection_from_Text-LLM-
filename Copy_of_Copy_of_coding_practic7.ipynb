{
  "nbformat": 4,
  "nbformat_minor": 0,
  "metadata": {
    "colab": {
      "provenance": [],
      "collapsed_sections": [],
      "include_colab_link": true
    },
    "kernelspec": {
      "name": "python3",
      "display_name": "Python 3"
    },
    "language_info": {
      "name": "python"
    }
  },
  "cells": [
    {
      "cell_type": "markdown",
      "metadata": {
        "id": "view-in-github",
        "colab_type": "text"
      },
      "source": [
        "<a href=\"https://colab.research.google.com/github/sushant8525/Face-emotion-Recognition/blob/main/Copy_of_Copy_of_coding_practic7.ipynb\" target=\"_parent\"><img src=\"https://colab.research.google.com/assets/colab-badge.svg\" alt=\"Open In Colab\"/></a>"
      ]
    },
    {
      "cell_type": "code",
      "source": [
        "#1\n",
        "num=123456\n",
        "# reverse = str(num)[::-1]\n",
        "# print(reverse)\n",
        "\n",
        "reversed_num = 0\n",
        "while (num>0):\n",
        "    digit = num % 10\n",
        "    reversed_num = reversed_num * 10 + digit\n",
        "    num =num//10\n",
        "print(reversed_num)"
      ],
      "metadata": {
        "id": "Tvkfp8CES3IO",
        "colab": {
          "base_uri": "https://localhost:8080/"
        },
        "outputId": "d0b7698c-11f4-4dc2-f8e8-49d4c21e3926"
      },
      "execution_count": 52,
      "outputs": [
        {
          "output_type": "stream",
          "name": "stdout",
          "text": [
            "654321\n"
          ]
        }
      ]
    },
    {
      "cell_type": "code",
      "execution_count": 2,
      "metadata": {
        "colab": {
          "base_uri": "https://localhost:8080/"
        },
        "id": "hTPXG2jL7z3P",
        "outputId": "d477a317-bedf-4036-e44c-c3c2d8f7c840"
      },
      "outputs": [
        {
          "output_type": "stream",
          "name": "stdout",
          "text": [
            "True\n",
            "False\n"
          ]
        }
      ],
      "source": [
        "#2\n",
        "\n",
        "def reverse(num):\n",
        "    reversed_num = 0\n",
        "    while (num>0):\n",
        "        digit = num % 10\n",
        "        reversed_num = reversed_num * 10 + digit\n",
        "        num =num//10\n",
        "    return reversed_num \n",
        "    \n",
        "def check_palindrome(num):\n",
        "    rev_num =reverse(num)\n",
        "    if rev_num == num:\n",
        "        print('True')\n",
        "    else:\n",
        "        print('False')\n",
        "\n",
        "\n",
        "num = 121\n",
        "check_palindrome(num)\n",
        "num = 123\n",
        "check_palindrome(num)"
      ]
    },
    {
      "cell_type": "code",
      "source": [
        "#3\n",
        "a = int(input())\n",
        "x = 0\n",
        "y = 0\n",
        "while(a > 0):\n",
        "    n = a % 10\n",
        "    if(n % 2 == 0):\n",
        "        x = x + n\n",
        "    else:\n",
        "        y = y + n\n",
        "    a = a//10\n",
        "print(x, y)"
      ],
      "metadata": {
        "colab": {
          "base_uri": "https://localhost:8080/"
        },
        "id": "lguduDvS82xu",
        "outputId": "56d274d6-8f65-4e44-a420-b4422748e9da"
      },
      "execution_count": 3,
      "outputs": [
        {
          "output_type": "stream",
          "name": "stdout",
          "text": [
            "157\n",
            "0 13\n"
          ]
        }
      ]
    },
    {
      "cell_type": "code",
      "source": [
        "#4\n",
        "num=3\n",
        "# outer loop\n",
        "for i in range (65,65+num):\n",
        "    # inner loop\n",
        "    for j in range(65,i+1):\n",
        "        print(chr(i),end=\"\")\n",
        "    print()"
      ],
      "metadata": {
        "colab": {
          "base_uri": "https://localhost:8080/"
        },
        "id": "lgVkWkrN9oyR",
        "outputId": "a761aeaa-274a-48f4-b2ad-c8f2b7aafe6d"
      },
      "execution_count": 4,
      "outputs": [
        {
          "output_type": "stream",
          "name": "stdout",
          "text": [
            "A\n",
            "BB\n",
            "CCC\n"
          ]
        }
      ]
    },
    {
      "cell_type": "code",
      "source": [
        "#5\n",
        "num=4\n",
        "# outer loop\n",
        "for i in range (65,65+num):\n",
        "  k=i\n",
        "    # inner loop\n",
        "  for j in range(65,i+1):\n",
        "      print(chr(k),end=\"\")\n",
        "      k+=1\n",
        "  print()"
      ],
      "metadata": {
        "colab": {
          "base_uri": "https://localhost:8080/"
        },
        "id": "cuIZmHJwCSRS",
        "outputId": "7a548d40-7797-4583-8134-ca0fdb01ce45"
      },
      "execution_count": 5,
      "outputs": [
        {
          "output_type": "stream",
          "name": "stdout",
          "text": [
            "A\n",
            "BC\n",
            "CDE\n",
            "DEFG\n"
          ]
        }
      ]
    },
    {
      "cell_type": "code",
      "source": [
        "trr = 'ABCDEFGHI'"
      ],
      "metadata": {
        "id": "fU78wV6hSMPT"
      },
      "execution_count": 6,
      "outputs": []
    },
    {
      "cell_type": "code",
      "source": [
        "#6\n",
        "num = 5\n",
        "bb=list(range(num))\n",
        "bb.reverse()\n",
        "for i in bb:\n",
        "  print(trr[i:num])\n"
      ],
      "metadata": {
        "id": "GJhbr_YnDEuR",
        "colab": {
          "base_uri": "https://localhost:8080/"
        },
        "outputId": "0c7cb6a9-b6b1-4649-e9b5-7091cb12a7c6"
      },
      "execution_count": 7,
      "outputs": [
        {
          "output_type": "stream",
          "name": "stdout",
          "text": [
            "E\n",
            "DE\n",
            "CDE\n",
            "BCDE\n",
            "ABCDE\n"
          ]
        }
      ]
    },
    {
      "cell_type": "code",
      "source": [
        "#7\n",
        "num = 4 \n",
        "for i in range(1,num+1):\n",
        "    print(i*'1')"
      ],
      "metadata": {
        "colab": {
          "base_uri": "https://localhost:8080/"
        },
        "id": "MFD4mGYCU9L4",
        "outputId": "dcd7fa1a-ffc7-4691-87f7-105b2ead164d"
      },
      "execution_count": 8,
      "outputs": [
        {
          "output_type": "stream",
          "name": "stdout",
          "text": [
            "1\n",
            "11\n",
            "111\n",
            "1111\n"
          ]
        }
      ]
    },
    {
      "cell_type": "code",
      "source": [
        "#8\n",
        "num = 4\n",
        "for i in range(num-1):\n",
        "  if i==0:\n",
        "    print(1)\n",
        "  print(str(i+1)+(i)*str(0)+str(i+1))"
      ],
      "metadata": {
        "colab": {
          "base_uri": "https://localhost:8080/"
        },
        "id": "HruugK8hVCa9",
        "outputId": "e5f3f630-ff8d-4d5d-cb57-c3a46633e40b"
      },
      "execution_count": 9,
      "outputs": [
        {
          "output_type": "stream",
          "name": "stdout",
          "text": [
            "1\n",
            "11\n",
            "202\n",
            "3003\n"
          ]
        }
      ]
    },
    {
      "cell_type": "code",
      "source": [
        "#9\n",
        "num = 4\n",
        "for i in range(num-1):\n",
        "  if i==0:\n",
        "    print(1)\n",
        "  print(str(1)+(i)*str(2)+str(1))"
      ],
      "metadata": {
        "colab": {
          "base_uri": "https://localhost:8080/"
        },
        "id": "vgH6qYY6VDP7",
        "outputId": "06b84d64-b9c6-4d81-a3bb-2c217c39d190"
      },
      "execution_count": 10,
      "outputs": [
        {
          "output_type": "stream",
          "name": "stdout",
          "text": [
            "1\n",
            "11\n",
            "121\n",
            "1221\n"
          ]
        }
      ]
    },
    {
      "cell_type": "code",
      "source": [
        "#10\n",
        "num = 4\n",
        "var=list(range(num+1))\n",
        "var.reverse()\n",
        "text='123456789'\n",
        "for i in var:\n",
        "  print(text[0:i])"
      ],
      "metadata": {
        "colab": {
          "base_uri": "https://localhost:8080/"
        },
        "id": "c3CgHyD1VDR8",
        "outputId": "eb8a86b3-06d5-4d12-ad7d-6c83c0f4f629"
      },
      "execution_count": 11,
      "outputs": [
        {
          "output_type": "stream",
          "name": "stdout",
          "text": [
            "1234\n",
            "123\n",
            "12\n",
            "1\n",
            "\n"
          ]
        }
      ]
    },
    {
      "cell_type": "code",
      "source": [
        "#11\n",
        "num = 4\n",
        "strr='12345'\n",
        "for i in range(num):\n",
        "  print(strr[i::-1])"
      ],
      "metadata": {
        "colab": {
          "base_uri": "https://localhost:8080/"
        },
        "id": "MvH9Jgf9VDUR",
        "outputId": "f5d59704-7a52-4765-87bb-7077b377d24a"
      },
      "execution_count": 12,
      "outputs": [
        {
          "output_type": "stream",
          "name": "stdout",
          "text": [
            "1\n",
            "21\n",
            "321\n",
            "4321\n"
          ]
        }
      ]
    },
    {
      "cell_type": "code",
      "source": [
        "#12\n",
        "num = 4 \n",
        "for i in range(num):\n",
        "    print(4*'4')"
      ],
      "metadata": {
        "colab": {
          "base_uri": "https://localhost:8080/"
        },
        "id": "jYBuyr-xVDWw",
        "outputId": "7d4c3949-eceb-4069-f698-8e0f71a7d89d"
      },
      "execution_count": 13,
      "outputs": [
        {
          "output_type": "stream",
          "name": "stdout",
          "text": [
            "4444\n",
            "4444\n",
            "4444\n",
            "4444\n"
          ]
        }
      ]
    },
    {
      "cell_type": "code",
      "source": [
        "#13\n",
        "num = 4\n",
        "#outer loop\n",
        "for i in range(1,num+1):\n",
        "    #inner loop\n",
        "    for j in range(1,i+1):\n",
        "        print(i,end=\"\")\n",
        "    print()"
      ],
      "metadata": {
        "colab": {
          "base_uri": "https://localhost:8080/"
        },
        "id": "PBBSFSxQVDZG",
        "outputId": "718c95ce-a55f-422d-f2a3-178a9ecd772a"
      },
      "execution_count": 14,
      "outputs": [
        {
          "output_type": "stream",
          "name": "stdout",
          "text": [
            "1\n",
            "22\n",
            "333\n",
            "4444\n"
          ]
        }
      ]
    },
    {
      "cell_type": "code",
      "source": [
        "#14\n",
        "num = 4\n",
        "#outer loop\n",
        "for i in range(65,65+num):\n",
        "    #inner loop\n",
        "    for j in range(65,i+1):\n",
        "        print(chr(j),end=\"\")\n",
        "    print()"
      ],
      "metadata": {
        "colab": {
          "base_uri": "https://localhost:8080/"
        },
        "id": "C1aPQnDdVDco",
        "outputId": "94e27ccb-7838-4481-e443-d9f60a70200a"
      },
      "execution_count": 15,
      "outputs": [
        {
          "output_type": "stream",
          "name": "stdout",
          "text": [
            "A\n",
            "AB\n",
            "ABC\n",
            "ABCD\n"
          ]
        }
      ]
    },
    {
      "cell_type": "code",
      "source": [
        "#15\n",
        "num = 4\n",
        "for i in range(4):\n",
        "    print('ABCD')"
      ],
      "metadata": {
        "colab": {
          "base_uri": "https://localhost:8080/"
        },
        "id": "FyW_UsqMcaKt",
        "outputId": "0c3a08c6-686d-4820-9bde-988d26b8284c"
      },
      "execution_count": 16,
      "outputs": [
        {
          "output_type": "stream",
          "name": "stdout",
          "text": [
            "ABCD\n",
            "ABCD\n",
            "ABCD\n",
            "ABCD\n"
          ]
        }
      ]
    },
    {
      "cell_type": "code",
      "source": [
        "#16\n",
        "num = 4 \n",
        "text='ABCDEFGHIKLMNOPQRSTUVWXYZ'\n",
        "for i in range(num):\n",
        "  print(text[i:num+i])"
      ],
      "metadata": {
        "colab": {
          "base_uri": "https://localhost:8080/"
        },
        "id": "6ptHuVEScaND",
        "outputId": "180ead43-cd41-4400-e290-591707c8cee4"
      },
      "execution_count": 17,
      "outputs": [
        {
          "output_type": "stream",
          "name": "stdout",
          "text": [
            "ABCD\n",
            "BCDE\n",
            "CDEF\n",
            "DEFG\n"
          ]
        }
      ]
    },
    {
      "cell_type": "code",
      "source": [
        "#17\n",
        "num = 4 \n",
        "for i in range(1,num+1):\n",
        "    print(4*str(i))"
      ],
      "metadata": {
        "colab": {
          "base_uri": "https://localhost:8080/"
        },
        "id": "JBV5N0tdcaPQ",
        "outputId": "03609b6d-a48f-452a-cbca-6e9c4fa80bbd"
      },
      "execution_count": 18,
      "outputs": [
        {
          "output_type": "stream",
          "name": "stdout",
          "text": [
            "1111\n",
            "2222\n",
            "3333\n",
            "4444\n"
          ]
        }
      ]
    },
    {
      "cell_type": "code",
      "source": [
        "#18\n",
        "num = 4 \n",
        "for i in range(1,num+1):\n",
        "    print('4321')"
      ],
      "metadata": {
        "colab": {
          "base_uri": "https://localhost:8080/"
        },
        "id": "bmy18fqkcaR3",
        "outputId": "d43dabd7-0e9a-49b2-f6ec-84c6194bc2fa"
      },
      "execution_count": 19,
      "outputs": [
        {
          "output_type": "stream",
          "name": "stdout",
          "text": [
            "4321\n",
            "4321\n",
            "4321\n",
            "4321\n"
          ]
        }
      ]
    },
    {
      "cell_type": "code",
      "source": [
        "#19\n",
        "num = 4 \n",
        "text='01234567890'\n",
        "for i in range(1,num+1):\n",
        "  print(text[i:i+i])\n"
      ],
      "metadata": {
        "colab": {
          "base_uri": "https://localhost:8080/"
        },
        "id": "Kn49dFPZcaUU",
        "outputId": "3ff7b964-ec0e-406f-ef9c-0ff56465e3b3"
      },
      "execution_count": 20,
      "outputs": [
        {
          "output_type": "stream",
          "name": "stdout",
          "text": [
            "1\n",
            "23\n",
            "345\n",
            "4567\n"
          ]
        }
      ]
    },
    {
      "cell_type": "code",
      "source": [
        "#20\n",
        "num = 4 \n",
        "text_list=['1','2','3','4','5','6','7','8','9','10']\n",
        "k=0\n",
        "#outer loop\n",
        "for i in range(num):\n",
        "    # inner loop \n",
        "    for j in range(0,i+1):\n",
        "        char = text_list[k]\n",
        "        print(char,end=\"\")\n",
        "        k += 1\n",
        "    print()"
      ],
      "metadata": {
        "colab": {
          "base_uri": "https://localhost:8080/"
        },
        "id": "zZkm1dlpcaWN",
        "outputId": "652c0568-a166-462a-bb0f-e84e0ad0135a"
      },
      "execution_count": 21,
      "outputs": [
        {
          "output_type": "stream",
          "name": "stdout",
          "text": [
            "1\n",
            "23\n",
            "456\n",
            "78910\n"
          ]
        }
      ]
    },
    {
      "cell_type": "code",
      "source": [
        "#21\n",
        "n=5\n",
        "for i in range(1,n+1):\n",
        "  num=1\n",
        "  for j in range(n,0,-1):\n",
        "    if j>i:\n",
        "      print(\" \", end=\"\")\n",
        "    else:\n",
        "      print(num, end=\"\")\n",
        "      num=num+1\n",
        "  print(\"\")"
      ],
      "metadata": {
        "colab": {
          "base_uri": "https://localhost:8080/"
        },
        "id": "FG6qSY5_caYb",
        "outputId": "82dc0f23-d06e-421a-e42c-19ebaf32c355"
      },
      "execution_count": 22,
      "outputs": [
        {
          "output_type": "stream",
          "name": "stdout",
          "text": [
            "    1\n",
            "   12\n",
            "  123\n",
            " 1234\n",
            "12345\n"
          ]
        }
      ]
    },
    {
      "cell_type": "code",
      "source": [
        "#22\n",
        "num=4\n",
        "num=list(range(num+1))\n",
        "num.reverse()\n",
        "for i in num:\n",
        "  if i ==0:\n",
        "    print()\n",
        "  elif i==1:\n",
        "    print(1)\n",
        "  else:\n",
        "    print(str(i)+str(i)*(i-2)+str(i))"
      ],
      "metadata": {
        "colab": {
          "base_uri": "https://localhost:8080/"
        },
        "id": "Eh2rKXx4caa7",
        "outputId": "a1502f97-b971-4bf3-c324-3df34b892c67"
      },
      "execution_count": 23,
      "outputs": [
        {
          "output_type": "stream",
          "name": "stdout",
          "text": [
            "4444\n",
            "333\n",
            "22\n",
            "1\n",
            "\n"
          ]
        }
      ]
    },
    {
      "cell_type": "code",
      "source": [
        "#23\n",
        "n = 5\n",
        "\n",
        "# printing pyramid\n",
        "for i in range(n):\n",
        "   for j in range(n-i-1):\n",
        "      # print spaces\n",
        "      print(\"\", end=\" \")\n",
        "   for j in range(2*i+1):\n",
        "      # print stars\n",
        "      print(\"*\", end=\"\")\n",
        "   print()\n",
        "\n",
        "# printing downward pyramid\n",
        "for i in range(n-1):\n",
        "   for j in range(i+1):\n",
        "      # print spaces\n",
        "      print(\"\", end=\" \")\n",
        "   for j in range(2*(n-i-1)-1):\n",
        "      # print stars\n",
        "      print(\"*\", end=\"\")\n",
        "   print()"
      ],
      "metadata": {
        "colab": {
          "base_uri": "https://localhost:8080/"
        },
        "id": "VVvTsRLGcacX",
        "outputId": "be762417-5237-4664-ff5f-7bf2f732bd35"
      },
      "execution_count": 24,
      "outputs": [
        {
          "output_type": "stream",
          "name": "stdout",
          "text": [
            "    *\n",
            "   ***\n",
            "  *****\n",
            " *******\n",
            "*********\n",
            " *******\n",
            "  *****\n",
            "   ***\n",
            "    *\n"
          ]
        }
      ]
    },
    {
      "cell_type": "code",
      "source": [
        "#24\n",
        "n=5\n",
        "k = 0\n",
        "count=0\n",
        "count1=0\n",
        "\n",
        "for i in range(1, n+1):\n",
        "    for j in range(1, (n-i)+1):\n",
        "        print(\" \", end=\"\")\n",
        "        count+=1\n",
        "    \n",
        "    while k!=((2*i)-1):\n",
        "        if count<=n-1:\n",
        "            print(i+k, end=\"\")\n",
        "            count+=1\n",
        "        else:\n",
        "            count1+=1\n",
        "            print(i+k-(2*count1), end=\"\")\n",
        "        k += 1\n",
        "    \n",
        "    count1 = count = k = 0\n",
        "    print()\n"
      ],
      "metadata": {
        "colab": {
          "base_uri": "https://localhost:8080/"
        },
        "id": "X5_n_cYB3G1L",
        "outputId": "ef73c36f-8369-45fb-99be-135131e8bad1"
      },
      "execution_count": 25,
      "outputs": [
        {
          "output_type": "stream",
          "name": "stdout",
          "text": [
            "    1\n",
            "   232\n",
            "  34543\n",
            " 4567654\n",
            "567898765\n"
          ]
        }
      ]
    },
    {
      "cell_type": "code",
      "source": [
        "#25\n",
        "n=5\n",
        "for i in range(n):\n",
        "    for k in range(1,n-i):\n",
        "        print(end=\" \")\n",
        "    for j in range(1,i+2):\n",
        "        print(\"*\", end=\"\")\n",
        "    for l in range(i,0,-1):\n",
        "        print(\"*\", end=\"\")\n",
        "    print()"
      ],
      "metadata": {
        "colab": {
          "base_uri": "https://localhost:8080/"
        },
        "id": "fiBYpaml3G3k",
        "outputId": "7b7e7361-a0db-4f82-8f93-7cbbd5904699"
      },
      "execution_count": 26,
      "outputs": [
        {
          "output_type": "stream",
          "name": "stdout",
          "text": [
            "    *\n",
            "   ***\n",
            "  *****\n",
            " *******\n",
            "*********\n"
          ]
        }
      ]
    },
    {
      "cell_type": "code",
      "source": [
        "#26\n",
        "n=5\n",
        "for i in range(n):\n",
        "    count = 0\n",
        "    for k in range(1,n-i):\n",
        "        print(end=\" \")\n",
        "    for j in range(i+1):\n",
        "        count = count + 1\n",
        "    num = count\n",
        "    for j in range(i+1):\n",
        "        print(num, end=\"\")\n",
        "        num = num - 1\n",
        "    for l in range(2,i+2):\n",
        "        print(l, end=\"\")\n",
        "    print()"
      ],
      "metadata": {
        "colab": {
          "base_uri": "https://localhost:8080/"
        },
        "id": "GUenCaXM3G6C",
        "outputId": "9ed33348-379c-45e2-c6dd-f35ee5a7f2d8"
      },
      "execution_count": 27,
      "outputs": [
        {
          "output_type": "stream",
          "name": "stdout",
          "text": [
            "    1\n",
            "   212\n",
            "  32123\n",
            " 4321234\n",
            "543212345\n"
          ]
        }
      ]
    },
    {
      "cell_type": "code",
      "source": [
        "#27\n",
        "n= 5\n",
        "for i in range(0,int(n/2)+1):\n",
        "  for a2 in range(i,0,-1):\n",
        "    print(\" \", end = \"\")\n",
        "  for j in range(0, i + 1):\n",
        "    if j>=0:\n",
        "      print(\"*\", end=' ')\n",
        "  print(\"\")\n",
        "\n",
        "for i in range(int(n/2)+1, 0, -1):\n",
        "    for a2 in range(i-1,1,-1):\n",
        "        print(\" \", end='')\n",
        "    for j in range(i,1,-1):\n",
        "      if j>=0:\n",
        "        print(\"*\", end=' ')\n",
        "    print(\"\")"
      ],
      "metadata": {
        "colab": {
          "base_uri": "https://localhost:8080/"
        },
        "id": "N3SQOcF93G8h",
        "outputId": "873abb58-b7c3-4d1c-c471-2ae4cbb2c104"
      },
      "execution_count": 28,
      "outputs": [
        {
          "output_type": "stream",
          "name": "stdout",
          "text": [
            "* \n",
            " * * \n",
            "  * * * \n",
            " * * \n",
            "* \n",
            "\n"
          ]
        }
      ]
    },
    {
      "cell_type": "code",
      "source": [
        "#28\n",
        "row=3\n",
        "col=3\n",
        "arr1 = [[1, 2, 3], [4, 5, 6],[7, 8, 9]]\n",
        "arrray=[]\n",
        "\n",
        "for i in range(0,row):\n",
        "  for k in range(col-1,i-1,-1):\n",
        "    arrray.append(arr1[i])\n",
        "for rows in arrray:\n",
        "  for columns in rows:\n",
        "    print(columns,end=\" \")\n",
        "  print()"
      ],
      "metadata": {
        "colab": {
          "base_uri": "https://localhost:8080/"
        },
        "id": "JzWqmXBc3G-m",
        "outputId": "91aa70ed-a19e-459b-f53d-4bbd9f108d77"
      },
      "execution_count": 29,
      "outputs": [
        {
          "output_type": "stream",
          "name": "stdout",
          "text": [
            "1 2 3 \n",
            "1 2 3 \n",
            "1 2 3 \n",
            "4 5 6 \n",
            "4 5 6 \n",
            "7 8 9 \n"
          ]
        }
      ]
    },
    {
      "cell_type": "code",
      "source": [
        "#29\n",
        "n=5\n",
        "for i in range(1,n+1):\n",
        "  for j in range(n,0,-1):      \n",
        "      if i==j:\n",
        "        print('*',end=\"\")\n",
        "      else:\n",
        "        print(str(j),end=\"\")\n",
        "  print(\"\")"
      ],
      "metadata": {
        "colab": {
          "base_uri": "https://localhost:8080/"
        },
        "id": "VLs4NEpn3HBB",
        "outputId": "7ea7bf35-5578-4699-c9d7-8f7f874e4c47"
      },
      "execution_count": 30,
      "outputs": [
        {
          "output_type": "stream",
          "name": "stdout",
          "text": [
            "5432*\n",
            "543*1\n",
            "54*21\n",
            "5*321\n",
            "*4321\n"
          ]
        }
      ]
    },
    {
      "cell_type": "code",
      "source": [
        "#30\n",
        "n=3\n",
        "def zero_stars_pattern(n):\n",
        "  for i in range(n+1,1,-1):\n",
        "    for j in range(n+1,0,-1):      \n",
        "        if i==j:\n",
        "          print('*',end=\"\")\n",
        "        elif j==1:\n",
        "          print('*',end=\"\")\n",
        "        else:\n",
        "          print(j*0,end=\"\")\n",
        "    # print(\"\")\n",
        "    for k in range(2,n+2):      \n",
        "        if i==k:\n",
        "          print('*',end=\"\")\n",
        "        else:\n",
        "          print(i*0,end=\"\")\n",
        "    print(\"\")\n",
        "    \n",
        "for n in range(3,5+1): \n",
        "  zero_stars_pattern(n)"
      ],
      "metadata": {
        "colab": {
          "base_uri": "https://localhost:8080/"
        },
        "id": "Yy2mjDQL3HDW",
        "outputId": "38ef59e6-a4be-4459-b8e6-fe4f14498e7e"
      },
      "execution_count": 31,
      "outputs": [
        {
          "output_type": "stream",
          "name": "stdout",
          "text": [
            "*00*00*\n",
            "0*0*0*0\n",
            "00***00\n",
            "*000*000*\n",
            "0*00*00*0\n",
            "00*0*0*00\n",
            "000***000\n",
            "*0000*0000*\n",
            "0*000*000*0\n",
            "00*00*00*00\n",
            "000*0*0*000\n",
            "0000***0000\n"
          ]
        }
      ]
    },
    {
      "cell_type": "code",
      "source": [
        "#31\n",
        "n=5\n",
        "for i in range(n,0,-1):\n",
        "  for j in range(1,n+1):\n",
        "    if j<i:\n",
        "      print(\" \",end=\"\")\n",
        "    else:\n",
        "      print(\"*\",end=\"\")\n",
        "  print(\"\")"
      ],
      "metadata": {
        "colab": {
          "base_uri": "https://localhost:8080/"
        },
        "id": "hOc8wDJY3HFz",
        "outputId": "23dffe23-8b73-49b1-9013-9dd34ef09b00"
      },
      "execution_count": 32,
      "outputs": [
        {
          "output_type": "stream",
          "name": "stdout",
          "text": [
            "    *\n",
            "   **\n",
            "  ***\n",
            " ****\n",
            "*****\n"
          ]
        }
      ]
    },
    {
      "cell_type": "code",
      "source": [
        "#32\n",
        "n=5\n",
        "for i in range(n):\n",
        "    for k in range(1,n-i):\n",
        "        print(end=\" \")\n",
        "    for j in range(1,i+2):\n",
        "        print(j, end=\"\")\n",
        "    for l in range(i,0,-1):\n",
        "        print(l, end=\"\")\n",
        "    print()"
      ],
      "metadata": {
        "colab": {
          "base_uri": "https://localhost:8080/"
        },
        "id": "iYBFPwCy3HIY",
        "outputId": "deb0a1d5-7137-47cb-d5cd-0fdc1828f7d8"
      },
      "execution_count": 33,
      "outputs": [
        {
          "output_type": "stream",
          "name": "stdout",
          "text": [
            "    1\n",
            "   121\n",
            "  12321\n",
            " 1234321\n",
            "123454321\n"
          ]
        }
      ]
    },
    {
      "cell_type": "code",
      "source": [
        "#33\n",
        "n=5\n",
        "for i in range(1,n+1):\n",
        "  for j in range(1,i+1):\n",
        "    print(j,end=\"\")\n",
        "  for k in range(n,i,-1):\n",
        "    print(\" \",end=\"\")\n",
        "  for k in range(n,i,-1):\n",
        "    print(\" \",end=\"\")\n",
        "  for j in range(i,0,-1):\n",
        "    print(j,end=\"\")\n",
        "  print()"
      ],
      "metadata": {
        "colab": {
          "base_uri": "https://localhost:8080/"
        },
        "id": "Bh7onv683HK7",
        "outputId": "318388f8-6fb9-4393-bb73-d752acc7554a"
      },
      "execution_count": 34,
      "outputs": [
        {
          "output_type": "stream",
          "name": "stdout",
          "text": [
            "1        1\n",
            "12      21\n",
            "123    321\n",
            "1234  4321\n",
            "1234554321\n"
          ]
        }
      ]
    },
    {
      "cell_type": "code",
      "source": [
        "#34\n",
        "\n",
        "\n",
        "n=4\n",
        "for i in range(1,n+1):\n",
        "  for j in range(n,0,-1):\n",
        "    if j>i:\n",
        "      print(\" \", end=\"\")\n",
        "    else:\n",
        "      print(j, end=\"\")\n",
        "  print(\"\")"
      ],
      "metadata": {
        "colab": {
          "base_uri": "https://localhost:8080/"
        },
        "id": "_W00cK9Icafl",
        "outputId": "807417da-f0ab-4c72-8fd2-fb746f045026"
      },
      "execution_count": 35,
      "outputs": [
        {
          "output_type": "stream",
          "name": "stdout",
          "text": [
            "   1\n",
            "  21\n",
            " 321\n",
            "4321\n"
          ]
        }
      ]
    },
    {
      "cell_type": "code",
      "source": [
        "#35\n",
        "n=5\n",
        "lst=[1,0,1,0,1,0,1,0]\n",
        "for i in lst:\n",
        "  if i>=0:\n",
        "    print(str(i)*n)\n",
        "    n=n-1"
      ],
      "metadata": {
        "colab": {
          "base_uri": "https://localhost:8080/"
        },
        "id": "ZE7iskCtFM3y",
        "outputId": "09108dd2-9de5-4fb1-dc29-0a471ebf5268"
      },
      "execution_count": 36,
      "outputs": [
        {
          "output_type": "stream",
          "name": "stdout",
          "text": [
            "11111\n",
            "0000\n",
            "111\n",
            "00\n",
            "1\n",
            "\n",
            "\n",
            "\n"
          ]
        }
      ]
    },
    {
      "cell_type": "code",
      "source": [
        "#36\n",
        "n=5\n",
        "for i in range(n):\n",
        "  for j in range(i):\n",
        "    print(\" \",end=\"\")\n",
        "  for k in range(i+1,n+1):\n",
        "    print(k,end=\"\")\n",
        "  print(\"\")\n",
        "for i in range(n-1,0,-1):\n",
        "  for m in range(i-1):\n",
        "    print(\" \",end=\"\")\n",
        "  for l in range(i,n+1):\n",
        "    print(l,end=\"\")\n",
        "  print(\"\")  "
      ],
      "metadata": {
        "colab": {
          "base_uri": "https://localhost:8080/"
        },
        "id": "A-zIAUeWFM6e",
        "outputId": "0c8a5b56-2f0a-45a0-8063-aa5b33b88159"
      },
      "execution_count": 37,
      "outputs": [
        {
          "output_type": "stream",
          "name": "stdout",
          "text": [
            "12345\n",
            " 2345\n",
            "  345\n",
            "   45\n",
            "    5\n",
            "   45\n",
            "  345\n",
            " 2345\n",
            "12345\n"
          ]
        }
      ]
    },
    {
      "cell_type": "code",
      "source": [
        "#37\n",
        "n=5\n",
        "m=1\n",
        "\n",
        "for i in range(1,n+1):\n",
        "  for j in range(m,m+n):\n",
        "    print(j,end=\" \")\n",
        "  print()\n",
        "  if i==((n+1)//2):\n",
        "    if (n%2)!=0:\n",
        "      m=n*(n-2)+1\n",
        "    else:\n",
        "      m=n*(n-1)+1\n",
        "  elif i>((n+1)//2):\n",
        "    m=m-2*n\n",
        "  else :\n",
        "    m=m+2*n"
      ],
      "metadata": {
        "colab": {
          "base_uri": "https://localhost:8080/"
        },
        "id": "5eXJCwggFM8-",
        "outputId": "209ac5f1-06c8-4dbe-cca5-ecae9a636f31"
      },
      "execution_count": 38,
      "outputs": [
        {
          "output_type": "stream",
          "name": "stdout",
          "text": [
            "1 2 3 4 5 \n",
            "11 12 13 14 15 \n",
            "21 22 23 24 25 \n",
            "16 17 18 19 20 \n",
            "6 7 8 9 10 \n"
          ]
        }
      ]
    },
    {
      "cell_type": "code",
      "source": [
        "#38\n",
        "def printPattern(n):\n",
        " \n",
        "    arraySize = n * 2 - 1;\n",
        "    result = [[0 for x in range(arraySize)]\n",
        "                 for y in range(arraySize)];\n",
        "         \n",
        "    # Fill the values\n",
        "    for i in range(arraySize):\n",
        "        for j in range(arraySize):\n",
        "            if(abs(i - (arraySize // 2)) >\n",
        "               abs(j - (arraySize // 2))):\n",
        "                result[i][j] = abs(i - (arraySize // 2)) + 1;\n",
        "            else:\n",
        "                result[i][j] = abs(j - (arraySize // 2)) + 1;\n",
        "             \n",
        "    # Print the array\n",
        "    for i in range(arraySize):\n",
        "        for j in range(arraySize):\n",
        "            print(result[i][j], end = \"\");\n",
        "        print(\"\");\n",
        "\n",
        "n=5\n",
        "printPattern(5)"
      ],
      "metadata": {
        "colab": {
          "base_uri": "https://localhost:8080/"
        },
        "id": "aLSQdvpfFM_b",
        "outputId": "32c701c6-230e-4039-86db-f9d3382d4aab"
      },
      "execution_count": 39,
      "outputs": [
        {
          "output_type": "stream",
          "name": "stdout",
          "text": [
            "555555555\n",
            "544444445\n",
            "543333345\n",
            "543222345\n",
            "543212345\n",
            "543222345\n",
            "543333345\n",
            "544444445\n",
            "555555555\n"
          ]
        }
      ]
    },
    {
      "cell_type": "code",
      "source": [
        "#39\n",
        "n=5\n",
        "for i in range(1,n):\n",
        "  for j in range(1,i+1):\n",
        "    if j==1 :\n",
        "      print(\"*\",end=\"\")\n",
        "    elif j==(i):\n",
        "      print(\"*\",end=\"\")\n",
        "    else :\n",
        "      print(\" \",end=\"\")\n",
        "  print(\"\")\n",
        "print(\"*\"*n,end=\"\")\n"
      ],
      "metadata": {
        "colab": {
          "base_uri": "https://localhost:8080/"
        },
        "id": "HaqFMBtYFNB0",
        "outputId": "71635b5c-8918-4e30-c469-4b67d30c01b3"
      },
      "execution_count": 40,
      "outputs": [
        {
          "output_type": "stream",
          "name": "stdout",
          "text": [
            "*\n",
            "**\n",
            "* *\n",
            "*  *\n",
            "*****"
          ]
        }
      ]
    },
    {
      "cell_type": "code",
      "source": [
        "#40\n",
        "n=5\n",
        "\n",
        "for i in range(n-1):\n",
        "    for k in range(1,n-i):\n",
        "        print(end=\" \")\n",
        "    for j in range(i,i+1):\n",
        "        print(\"*\", end=\"\")\n",
        "    for k in range(1,i+1):\n",
        "        print(\" \",end=\"\")\n",
        "    \n",
        "\n",
        "    for k in range(1,i):\n",
        "        print(\" \",end=\"\")\n",
        "    for l in range(i-1,i):\n",
        "      if i!=0:\n",
        "        print(\"*\", end=\"\")\n",
        "    print(\"\")\n",
        "print(\"*\"*((n*2)-1))"
      ],
      "metadata": {
        "colab": {
          "base_uri": "https://localhost:8080/"
        },
        "id": "h_5V4cnuFNEa",
        "outputId": "86b56c51-4af3-454b-aaab-a1a8ee36f359"
      },
      "execution_count": 41,
      "outputs": [
        {
          "output_type": "stream",
          "name": "stdout",
          "text": [
            "    *\n",
            "   * *\n",
            "  *   *\n",
            " *     *\n",
            "*********\n"
          ]
        }
      ]
    },
    {
      "cell_type": "code",
      "source": [
        "#41\n",
        "n=5\n",
        "for i in range(n):\n",
        "  for j in range(i):\n",
        "    print(\" \",end=\"\")\n",
        "  for k in range(n,i,-1):\n",
        "    print(\"*\",end=\"\")\n",
        "  for k in range(n-1,i,-1):\n",
        "    print(\"*\",end=\"\")\n",
        "  print(\"\")"
      ],
      "metadata": {
        "colab": {
          "base_uri": "https://localhost:8080/"
        },
        "id": "N290n1o0FNHF",
        "outputId": "75a20f79-da5d-4f84-c8f3-1bf3b6e2c743"
      },
      "execution_count": 42,
      "outputs": [
        {
          "output_type": "stream",
          "name": "stdout",
          "text": [
            "*********\n",
            " *******\n",
            "  *****\n",
            "   ***\n",
            "    *\n"
          ]
        }
      ]
    },
    {
      "cell_type": "code",
      "source": [
        "#42\n",
        "n = 5\n",
        "for i in range(1,n+1): #from row 1 to 5\n",
        "    for j in range(n-i):\n",
        "        print(\" \", end = \"\")\n",
        "    for k in range((i*2)-1):\n",
        "      if k==0 or k== ((i*2)-2):\n",
        "        print(\"*\",end=\"\")\n",
        "      else:\n",
        "        print(\" \", end = \"\")\n",
        "    print()\n",
        "\n",
        "for i in range(n + 1, n + 5): #from row 6 to 9\n",
        "    for j in range(i - n):\n",
        "        print(\" \", end = \"\")\n",
        "    for k in range((n+5 - i)*2 - 1):\n",
        "      if k==0 or k==((n+5 - i)*2 - 2):\n",
        "        print(\"*\", end = \"\")\n",
        "      else:\n",
        "        print(\" \", end = \"\")\n",
        "\n",
        "    print()\n"
      ],
      "metadata": {
        "colab": {
          "base_uri": "https://localhost:8080/"
        },
        "id": "keET66RMFNJT",
        "outputId": "b5d445c8-34e4-4d68-80fd-e95184dab9d8"
      },
      "execution_count": 43,
      "outputs": [
        {
          "output_type": "stream",
          "name": "stdout",
          "text": [
            "    *\n",
            "   * *\n",
            "  *   *\n",
            " *     *\n",
            "*       *\n",
            " *     *\n",
            "  *   *\n",
            "   * *\n",
            "    *\n"
          ]
        }
      ]
    },
    {
      "cell_type": "code",
      "source": [
        "#43\n",
        "rows = 5\n",
        "for i in range(rows, 0, -1):\n",
        "  for j in range(rows, i, -1):\n",
        "    print(' ',end=\"\")\n",
        "  for j in range(1, i + i):\n",
        "    print(\"*\", end=\"\")\n",
        "  print(\"\")\n",
        "\n",
        "for i in range(1,rows):\n",
        "  for j in range(rows-1,i,-1):\n",
        "    print(' ',end=\"\")\n",
        "  for k in range(i+i+2,1,-1):\n",
        "    print(\"*\",end=\"\")\n",
        "  print(\"\")"
      ],
      "metadata": {
        "colab": {
          "base_uri": "https://localhost:8080/"
        },
        "id": "cdth-AuuFNL2",
        "outputId": "6bf84e27-a710-41bf-9830-3b11af47d4b9"
      },
      "execution_count": 44,
      "outputs": [
        {
          "output_type": "stream",
          "name": "stdout",
          "text": [
            "*********\n",
            " *******\n",
            "  *****\n",
            "   ***\n",
            "    *\n",
            "   ***\n",
            "  *****\n",
            " *******\n",
            "*********\n"
          ]
        }
      ]
    },
    {
      "cell_type": "code",
      "source": [
        "#44\n",
        "rows = 5\n",
        "i = 1\n",
        "while i <= rows:\n",
        "    j = i\n",
        "    while j < rows:\n",
        "        # display space\n",
        "        print(' ', end='')\n",
        "        j += 1\n",
        "    k = 1\n",
        "    while k <= i:\n",
        "        print('*', end='')\n",
        "        k += 1\n",
        "    print()\n",
        "    i += 1\n",
        "\n",
        "i = rows\n",
        "while i >= 1:\n",
        "    j = i\n",
        "    while j <= rows:\n",
        "        print(' ', end='')\n",
        "        j += 1\n",
        "    k = 1\n",
        "    while k < i:\n",
        "        print('*', end='')\n",
        "        k += 1\n",
        "    print('')\n",
        "    i -= 1"
      ],
      "metadata": {
        "colab": {
          "base_uri": "https://localhost:8080/"
        },
        "id": "3pwYOR2WFNOa",
        "outputId": "92dd93d4-fb2f-4cf4-e124-be52e6776e52"
      },
      "execution_count": 45,
      "outputs": [
        {
          "output_type": "stream",
          "name": "stdout",
          "text": [
            "    *\n",
            "   **\n",
            "  ***\n",
            " ****\n",
            "*****\n",
            " ****\n",
            "  ***\n",
            "   **\n",
            "    *\n",
            "     \n"
          ]
        }
      ]
    },
    {
      "cell_type": "code",
      "source": [
        "#45\n",
        "n=5\n",
        "for i in range(1,n+1):\n",
        "  for j in range(1,n-i+1):\n",
        "    print(end=' ')\n",
        "  for k in range(1,(2*i)):\n",
        "    print(k,end=\"\")\n",
        "  print()\n",
        "\n",
        "for i in range(n-1,0,-1):\n",
        "  for j in range(1,(n-i+1)):\n",
        "    print(end=' ')\n",
        "  for k in range(1,(2*i)):\n",
        "    print(k,end=\"\")\n",
        "  print()"
      ],
      "metadata": {
        "colab": {
          "base_uri": "https://localhost:8080/"
        },
        "id": "-kBjUC9pFNRC",
        "outputId": "86d00fa5-ed6b-45a3-99ff-4c07dd3699b7"
      },
      "execution_count": 46,
      "outputs": [
        {
          "output_type": "stream",
          "name": "stdout",
          "text": [
            "    1\n",
            "   123\n",
            "  12345\n",
            " 1234567\n",
            "123456789\n",
            " 1234567\n",
            "  12345\n",
            "   123\n",
            "    1\n"
          ]
        }
      ]
    },
    {
      "cell_type": "code",
      "source": [
        "#46\n",
        "n=5\n",
        "trr='ABCDEFGHIKLMNOPQRSTUVWXYZ'\n",
        "for i in range(1,n+1):\n",
        "  for j in range(n+1,i,-1):\n",
        "    print(\" \",end=\"\")\n",
        "  print(trr[0:(i*2)-1])"
      ],
      "metadata": {
        "colab": {
          "base_uri": "https://localhost:8080/"
        },
        "id": "GZn-Eai7FNTr",
        "outputId": "c6b63fed-95ed-4211-f91b-e5413ac6bca6"
      },
      "execution_count": 47,
      "outputs": [
        {
          "output_type": "stream",
          "name": "stdout",
          "text": [
            "     A\n",
            "    ABC\n",
            "   ABCDE\n",
            "  ABCDEFG\n",
            " ABCDEFGHI\n"
          ]
        }
      ]
    },
    {
      "cell_type": "code",
      "source": [
        "#47\n",
        "n = 5\n",
        "alpha = 65\n",
        "num = 0\n",
        "\n",
        "for i in range(n):\n",
        "    for j in range(n - i - 1):\n",
        "        print(\" \", end=\"\")\n",
        "    for k in range(2 * i + 1):\n",
        "        if i == 0 or i == n - 1:\n",
        "            print(chr(alpha + num), end=\"\")\n",
        "            num += 1\n",
        "        else:\n",
        "            if k == 0 or k == 2 * i:\n",
        "                print(chr(alpha + num), end=\"\")\n",
        "                num += 1\n",
        "            else:\n",
        "                print(\" \", end=\"\")\n",
        "    print()"
      ],
      "metadata": {
        "colab": {
          "base_uri": "https://localhost:8080/"
        },
        "id": "HYtuXXqHFNWI",
        "outputId": "862730c6-6fc0-4be6-c4f0-4877636ad064"
      },
      "execution_count": 48,
      "outputs": [
        {
          "output_type": "stream",
          "name": "stdout",
          "text": [
            "    A\n",
            "   B C\n",
            "  D   E\n",
            " F     G\n",
            "HIJKLMNOP\n"
          ]
        }
      ]
    },
    {
      "cell_type": "code",
      "source": [
        "#48\n",
        "n = 5\n",
        "for a1 in range(1,n+1): #from row 1 to 5\n",
        "    for a2 in range(n-a1):\n",
        "        print(\" \", end = \"\")\n",
        "    for a3 in range((a1*2)-1):\n",
        "      if a3==0:\n",
        "        print(\"1\",end=\"\")\n",
        "      elif a3== ((a1*2)-2):\n",
        "        print(\"2\",end=\"\")\n",
        "      else:\n",
        "        print(\" \", end = \"\")\n",
        "    print()\n",
        "\n",
        "for a1 in range(n + 1, n + 5): #from row 6 to 9\n",
        "    for a2 in range(a1 - n):\n",
        "        print(\" \", end = \"\")\n",
        "    for a3 in range((n+5 - a1)*2 - 1):\n",
        "      if a3==0:\n",
        "        print(\"1\", end = \"\")\n",
        "      elif a3==((n+5 - a1)*2 - 2):\n",
        "        print(\"2\",end=\"\")\n",
        "      else:\n",
        "        print(\" \", end = \"\")\n",
        "\n",
        "    print()"
      ],
      "metadata": {
        "colab": {
          "base_uri": "https://localhost:8080/"
        },
        "id": "FYPOFz82FNYj",
        "outputId": "3bad51e5-1241-4828-fb51-e0707a2180df"
      },
      "execution_count": 49,
      "outputs": [
        {
          "output_type": "stream",
          "name": "stdout",
          "text": [
            "    1\n",
            "   1 2\n",
            "  1   2\n",
            " 1     2\n",
            "1       2\n",
            " 1     2\n",
            "  1   2\n",
            "   1 2\n",
            "    1\n"
          ]
        }
      ]
    },
    {
      "cell_type": "code",
      "source": [
        "#49\n",
        "n=5\n",
        "for i in range(1,n+1):\n",
        "    for j in range(1,n+1):\n",
        "        if i==j or i+j==n+1:\n",
        "            print('*', end='')\n",
        "        else:\n",
        "            print(' ', end='')\n",
        "    print()\n"
      ],
      "metadata": {
        "colab": {
          "base_uri": "https://localhost:8080/"
        },
        "id": "Vn1YvrD6FNbA",
        "outputId": "49967d31-d2e4-42ab-9b9a-a03f41bacfa0"
      },
      "execution_count": 50,
      "outputs": [
        {
          "output_type": "stream",
          "name": "stdout",
          "text": [
            "*   *\n",
            " * * \n",
            "  *  \n",
            " * * \n",
            "*   *\n"
          ]
        }
      ]
    },
    {
      "cell_type": "code",
      "source": [
        "#50\n",
        "# heart pattern \n",
        "n = 6\n",
        "\n",
        "# upper part of the heart\n",
        "for i in range(n//2, n, 2):\n",
        "    # print first spaces\n",
        "    for j in range(1, n-i ,2):\n",
        "        print(\" \", end=\"\")\n",
        "    # print first stars\n",
        "    for j in range(1, i+1, 1):\n",
        "        print(\"*\", end=\"\")\n",
        "    # print second spaces\n",
        "    for j in range(1, n-i+1, 1):\n",
        "        print(\" \", end=\"\")\n",
        "    # print second stars\n",
        "    for j in range(1, i+1, 1):\n",
        "        print(\"*\", end=\"\")\n",
        "    print()\n",
        "\n",
        "# lower part\n",
        "for i in range(n,0,-1):\n",
        "    for j in range(i, n, 1):\n",
        "        print(\" \", end=\"\")\n",
        "    for j in range(1, i*2, 1):\n",
        "        print(\"*\", end=\"\")\n",
        "    print()\n"
      ],
      "metadata": {
        "colab": {
          "base_uri": "https://localhost:8080/"
        },
        "id": "JjOBJohBFNdl",
        "outputId": "5f855c27-076e-4c50-95a0-f70e1976f948"
      },
      "execution_count": 51,
      "outputs": [
        {
          "output_type": "stream",
          "name": "stdout",
          "text": [
            " ***   ***\n",
            "***** *****\n",
            "***********\n",
            " *********\n",
            "  *******\n",
            "   *****\n",
            "    ***\n",
            "     *\n"
          ]
        }
      ]
    },
    {
      "cell_type": "code",
      "source": [
        "#50\n",
        "# heart pattern \n",
        "n = 6\n",
        "\n",
        "# upper part of the heart\n",
        "for i in range(n//2, n, 2):\n",
        "    # print first spaces\n",
        "    for j in range(1, n-i ,2):\n",
        "        print(\" \", end=\"\")\n",
        "    # print first stars\n",
        "    for j in range(1, i+1, 1):\n",
        "        print(\"*\", end=\"\")\n",
        "    # print second spaces\n",
        "    for j in range(1, n-i+1, 1):\n",
        "        print(\" \", end=\"\")\n",
        "    # print second stars\n",
        "    for j in range(1, i+1, 1):\n",
        "        print(\"*\", end=\"\")\n",
        "    print()\n",
        "\n",
        "# lower part\n",
        "for i in range(n,0,-1):\n",
        "    for j in range(i, n, 1):\n",
        "        print(\" \", end=\"\")\n",
        "    for j in range(1, i*2, 1):\n",
        "        print(\"*\", end=\"\")\n",
        "    print()\n"
      ],
      "metadata": {
        "id": "wcMJwKWVFNhL",
        "colab": {
          "base_uri": "https://localhost:8080/"
        },
        "outputId": "b062d3fc-9d3d-46af-ff33-8568c4256b39"
      },
      "execution_count": 53,
      "outputs": [
        {
          "output_type": "stream",
          "name": "stdout",
          "text": [
            " ***   ***\n",
            "***** *****\n",
            "***********\n",
            " *********\n",
            "  *******\n",
            "   *****\n",
            "    ***\n",
            "     *\n"
          ]
        }
      ]
    },
    {
      "cell_type": "code",
      "source": [
        "#50\n",
        "# heart pattern \n",
        "n = 6\n",
        "\n",
        "# upper part of the heart\n",
        "for i in range(n//2, n, 2):\n",
        "    # print first spaces\n",
        "    for j in range(1, n-i ,2):\n",
        "        print(\" \", end=\"\")\n",
        "    # print first stars\n",
        "    for j in range(1, i+1, 1):\n",
        "        print(\"*\", end=\"\")\n",
        "    # print second spaces\n",
        "    for j in range(1, n-i+1, 1):\n",
        "        print(\" \", end=\"\")\n",
        "    # print second stars\n",
        "    for j in range(1, i+1, 1):\n",
        "        print(\"*\", end=\"\")\n",
        "    print()\n",
        "\n",
        "# lower part\n",
        "for i in range(n,0,-1):\n",
        "    for j in range(i, n, 1):\n",
        "        print(\" \", end=\"\")\n",
        "    for j in range(1, i*2, 1):\n",
        "        print(\"*\", end=\"\")\n",
        "    print()\n"
      ],
      "metadata": {
        "colab": {
          "base_uri": "https://localhost:8080/"
        },
        "id": "H8orjUaNjVO4",
        "outputId": "ea5ea8d9-65f6-43a7-ae4d-e1fc75c121e6"
      },
      "execution_count": 54,
      "outputs": [
        {
          "output_type": "stream",
          "name": "stdout",
          "text": [
            " ***   ***\n",
            "***** *****\n",
            "***********\n",
            " *********\n",
            "  *******\n",
            "   *****\n",
            "    ***\n",
            "     *\n"
          ]
        }
      ]
    },
    {
      "cell_type": "code",
      "source": [
        "#50\n",
        "# heart pattern \n",
        "n = 6\n",
        "\n",
        "# upper part of the heart\n",
        "for i in range(n//2, n, 2):\n",
        "    # print first spaces\n",
        "    for j in range(1, n-i ,2):\n",
        "        print(\" \", end=\"\")\n",
        "    # print first stars\n",
        "    for j in range(1, i+1, 1):\n",
        "        print(\"*\", end=\"\")\n",
        "    # print second spaces\n",
        "    for j in range(1, n-i+1, 1):\n",
        "        print(\" \", end=\"\")\n",
        "    # print second stars\n",
        "    for j in range(1, i+1, 1):\n",
        "        print(\"*\", end=\"\")\n",
        "    print()\n",
        "\n",
        "# lower part\n",
        "for i in range(n,0,-1):\n",
        "    for j in range(i, n, 1):\n",
        "        print(\" \", end=\"\")\n",
        "    for j in range(1, i*2, 1):\n",
        "        print(\"*\", end=\"\")\n",
        "    print()\n"
      ],
      "metadata": {
        "colab": {
          "base_uri": "https://localhost:8080/"
        },
        "id": "nkLG1TarjWER",
        "outputId": "e0a68a43-f817-4bf4-fba8-d3a25590f647"
      },
      "execution_count": 55,
      "outputs": [
        {
          "output_type": "stream",
          "name": "stdout",
          "text": [
            " ***   ***\n",
            "***** *****\n",
            "***********\n",
            " *********\n",
            "  *******\n",
            "   *****\n",
            "    ***\n",
            "     *\n"
          ]
        }
      ]
    },
    {
      "cell_type": "code",
      "source": [
        "#50\n",
        "# heart pattern \n",
        "n = 6\n",
        "\n",
        "# upper part of the heart\n",
        "for i in range(n//2, n, 2):\n",
        "    # print first spaces\n",
        "    for j in range(1, n-i ,2):\n",
        "        print(\" \", end=\"\")\n",
        "    # print first stars\n",
        "    for j in range(1, i+1, 1):\n",
        "        print(\"*\", end=\"\")\n",
        "    # print second spaces\n",
        "    for j in range(1, n-i+1, 1):\n",
        "        print(\" \", end=\"\")\n",
        "    # print second stars\n",
        "    for j in range(1, i+1, 1):\n",
        "        print(\"*\", end=\"\")\n",
        "    print()\n",
        "\n",
        "# lower part\n",
        "for i in range(n,0,-1):\n",
        "    for j in range(i, n, 1):\n",
        "        print(\" \", end=\"\")\n",
        "    for j in range(1, i*2, 1):\n",
        "        print(\"*\", end=\"\")\n",
        "    print()\n",
        "\n"
      ],
      "metadata": {
        "colab": {
          "base_uri": "https://localhost:8080/"
        },
        "id": "ShDal9X0jXFG",
        "outputId": "0c1931da-3b04-4af0-f94e-abc0f366e723"
      },
      "execution_count": 56,
      "outputs": [
        {
          "output_type": "stream",
          "name": "stdout",
          "text": [
            " ***   ***\n",
            "***** *****\n",
            "***********\n",
            " *********\n",
            "  *******\n",
            "   *****\n",
            "    ***\n",
            "     *\n"
          ]
        }
      ]
    },
    {
      "cell_type": "code",
      "source": [
        "#50\n",
        "# heart pattern \n",
        "n = 6\n",
        "\n",
        "# upper part of the heart\n",
        "for i in range(n//2, n, 2):\n",
        "    # print first spaces\n",
        "    for j in range(1, n-i ,2):\n",
        "        print(\" \", end=\"\")\n",
        "    # print first stars\n",
        "    for j in range(1, i+1, 1):\n",
        "        print(\"*\", end=\"\")\n",
        "    # print second spaces\n",
        "    for j in range(1, n-i+1, 1):\n",
        "        print(\" \", end=\"\")\n",
        "    # print second stars\n",
        "    for j in range(1, i+1, 1):\n",
        "        print(\"*\", end=\"\")\n",
        "    print()\n",
        "\n",
        "# lower part\n",
        "for i in range(n,0,-1):\n",
        "    for j in range(i, n, 1):\n",
        "        print(\" \", end=\"\")\n",
        "    for j in range(1, i*2, 1):\n",
        "        print(\"*\", end=\"\")\n",
        "    print()\n"
      ],
      "metadata": {
        "colab": {
          "base_uri": "https://localhost:8080/"
        },
        "id": "ltcbV28rj5A0",
        "outputId": "78bf1b18-522d-4834-857a-244372eefff3"
      },
      "execution_count": 57,
      "outputs": [
        {
          "output_type": "stream",
          "name": "stdout",
          "text": [
            " ***   ***\n",
            "***** *****\n",
            "***********\n",
            " *********\n",
            "  *******\n",
            "   *****\n",
            "    ***\n",
            "     *\n"
          ]
        }
      ]
    },
    {
      "cell_type": "code",
      "source": [
        "#50\n",
        "# heart pattern \n",
        "n = 6\n",
        "\n",
        "# upper part of the heart\n",
        "for i in range(n//2, n, 2):\n",
        "    # print first spaces\n",
        "    for j in range(1, n-i ,2):\n",
        "        print(\" \", end=\"\")\n",
        "    # print first stars\n",
        "    for j in range(1, i+1, 1):\n",
        "        print(\"*\", end=\"\")\n",
        "    # print second spaces\n",
        "    for j in range(1, n-i+1, 1):\n",
        "        print(\" \", end=\"\")\n",
        "    # print second stars\n",
        "    for j in range(1, i+1, 1):\n",
        "        print(\"*\", end=\"\")\n",
        "    print()\n",
        "\n",
        "# lower part\n",
        "for i in range(n,0,-1):\n",
        "    for j in range(i, n, 1):\n",
        "        print(\" \", end=\"\")\n",
        "    for j in range(1, i*2, 1):\n",
        "        print(\"*\", end=\"\")\n",
        "    print()\n"
      ],
      "metadata": {
        "colab": {
          "base_uri": "https://localhost:8080/"
        },
        "id": "bYHzaF3mj69W",
        "outputId": "91a29287-a073-42b6-9e0e-30f7c75697ed"
      },
      "execution_count": 58,
      "outputs": [
        {
          "output_type": "stream",
          "name": "stdout",
          "text": [
            " ***   ***\n",
            "***** *****\n",
            "***********\n",
            " *********\n",
            "  *******\n",
            "   *****\n",
            "    ***\n",
            "     *\n"
          ]
        }
      ]
    },
    {
      "cell_type": "code",
      "source": [
        "#50\n",
        "# heart pattern \n",
        "n = 6\n",
        "\n",
        "# upper part of the heart\n",
        "for i in range(n//2, n, 2):\n",
        "    # print first spaces\n",
        "    for j in range(1, n-i ,2):\n",
        "        print(\" \", end=\"\")\n",
        "    # print first stars\n",
        "    for j in range(1, i+1, 1):\n",
        "        print(\"*\", end=\"\")\n",
        "    # print second spaces\n",
        "    for j in range(1, n-i+1, 1):\n",
        "        print(\" \", end=\"\")\n",
        "    # print second stars\n",
        "    for j in range(1, i+1, 1):\n",
        "        print(\"*\", end=\"\")\n",
        "    print()\n",
        "\n",
        "# lower part\n",
        "for i in range(n,0,-1):\n",
        "    for j in range(i, n, 1):\n",
        "        print(\" \", end=\"\")\n",
        "    for j in range(1, i*2, 1):\n",
        "        print(\"*\", end=\"\")\n",
        "    print()\n"
      ],
      "metadata": {
        "colab": {
          "base_uri": "https://localhost:8080/"
        },
        "id": "Ju874mO_j7Sk",
        "outputId": "ade2e74f-37b7-4e90-eb82-98d6c8ce27c3"
      },
      "execution_count": 59,
      "outputs": [
        {
          "output_type": "stream",
          "name": "stdout",
          "text": [
            " ***   ***\n",
            "***** *****\n",
            "***********\n",
            " *********\n",
            "  *******\n",
            "   *****\n",
            "    ***\n",
            "     *\n"
          ]
        }
      ]
    },
    {
      "cell_type": "code",
      "source": [
        "#50\n",
        "# heart pattern \n",
        "n = 6\n",
        "\n",
        "# upper part of the heart\n",
        "for i in range(n//2, n, 2):\n",
        "    # print first spaces\n",
        "    for j in range(1, n-i ,2):\n",
        "        print(\" \", end=\"\")\n",
        "    # print first stars\n",
        "    for j in range(1, i+1, 1):\n",
        "        print(\"*\", end=\"\")\n",
        "    # print second spaces\n",
        "    for j in range(1, n-i+1, 1):\n",
        "        print(\" \", end=\"\")\n",
        "    # print second stars\n",
        "    for j in range(1, i+1, 1):\n",
        "        print(\"*\", end=\"\")\n",
        "    print()\n",
        "\n",
        "# lower part\n",
        "for i in range(n,0,-1):\n",
        "    for j in range(i, n, 1):\n",
        "        print(\" \", end=\"\")\n",
        "    for j in range(1, i*2, 1):\n",
        "        print(\"*\", end=\"\")\n",
        "    print()\n"
      ],
      "metadata": {
        "colab": {
          "base_uri": "https://localhost:8080/"
        },
        "id": "laR-QFMij7sf",
        "outputId": "81c72362-a356-44cb-f482-e76f1377c6cb"
      },
      "execution_count": 60,
      "outputs": [
        {
          "output_type": "stream",
          "name": "stdout",
          "text": [
            " ***   ***\n",
            "***** *****\n",
            "***********\n",
            " *********\n",
            "  *******\n",
            "   *****\n",
            "    ***\n",
            "     *\n"
          ]
        }
      ]
    },
    {
      "cell_type": "code",
      "source": [
        "#50\n",
        "# heart pattern \n",
        "n = 6\n",
        "\n",
        "# upper part of the heart\n",
        "for i in range(n//2, n, 2):\n",
        "    # print first spaces\n",
        "    for j in range(1, n-i ,2):\n",
        "        print(\" \", end=\"\")\n",
        "    # print first stars\n",
        "    for j in range(1, i+1, 1):\n",
        "        print(\"*\", end=\"\")\n",
        "    # print second spaces\n",
        "    for j in range(1, n-i+1, 1):\n",
        "        print(\" \", end=\"\")\n",
        "    # print second stars\n",
        "    for j in range(1, i+1, 1):\n",
        "        print(\"*\", end=\"\")\n",
        "    print()\n",
        "\n",
        "# lower part\n",
        "for i in range(n,0,-1):\n",
        "    for j in range(i, n, 1):\n",
        "        print(\" \", end=\"\")\n",
        "    for j in range(1, i*2, 1):\n",
        "        print(\"*\", end=\"\")\n",
        "    print()\n"
      ],
      "metadata": {
        "colab": {
          "base_uri": "https://localhost:8080/"
        },
        "id": "mLFaOYELj7_G",
        "outputId": "9fadea2c-d53a-47a9-d0e4-e4f824f4cb93"
      },
      "execution_count": 61,
      "outputs": [
        {
          "output_type": "stream",
          "name": "stdout",
          "text": [
            " ***   ***\n",
            "***** *****\n",
            "***********\n",
            " *********\n",
            "  *******\n",
            "   *****\n",
            "    ***\n",
            "     *\n"
          ]
        }
      ]
    },
    {
      "cell_type": "code",
      "source": [
        "#50\n",
        "# heart pattern \n",
        "n = 6\n",
        "\n",
        "# upper part of the heart\n",
        "for i in range(n//2, n, 2):\n",
        "    # print first spaces\n",
        "    for j in range(1, n-i ,2):\n",
        "        print(\" \", end=\"\")\n",
        "    # print first stars\n",
        "    for j in range(1, i+1, 1):\n",
        "        print(\"*\", end=\"\")\n",
        "    # print second spaces\n",
        "    for j in range(1, n-i+1, 1):\n",
        "        print(\" \", end=\"\")\n",
        "    # print second stars\n",
        "    for j in range(1, i+1, 1):\n",
        "        print(\"*\", end=\"\")\n",
        "    print()\n",
        "\n",
        "# lower part\n",
        "for i in range(n,0,-1):\n",
        "    for j in range(i, n, 1):\n",
        "        print(\" \", end=\"\")\n",
        "    for j in range(1, i*2, 1):\n",
        "        print(\"*\", end=\"\")\n",
        "    print()\n"
      ],
      "metadata": {
        "colab": {
          "base_uri": "https://localhost:8080/"
        },
        "id": "WNqMmQYfj8UI",
        "outputId": "620c8b69-cc02-4ccb-c0e1-1d4d092728cc"
      },
      "execution_count": 62,
      "outputs": [
        {
          "output_type": "stream",
          "name": "stdout",
          "text": [
            " ***   ***\n",
            "***** *****\n",
            "***********\n",
            " *********\n",
            "  *******\n",
            "   *****\n",
            "    ***\n",
            "     *\n"
          ]
        }
      ]
    },
    {
      "cell_type": "code",
      "source": [
        "#50\n",
        "# heart pattern \n",
        "n = 6\n",
        "\n",
        "# upper part of the heart\n",
        "for i in range(n//2, n, 2):\n",
        "    # print first spaces\n",
        "    for j in range(1, n-i ,2):\n",
        "        print(\" \", end=\"\")\n",
        "    # print first stars\n",
        "    for j in range(1, i+1, 1):\n",
        "        print(\"*\", end=\"\")\n",
        "    # print second spaces\n",
        "    for j in range(1, n-i+1, 1):\n",
        "        print(\" \", end=\"\")\n",
        "    # print second stars\n",
        "    for j in range(1, i+1, 1):\n",
        "        print(\"*\", end=\"\")\n",
        "    print()\n",
        "\n",
        "# lower part\n",
        "for i in range(n,0,-1):\n",
        "    for j in range(i, n, 1):\n",
        "        print(\" \", end=\"\")\n",
        "    for j in range(1, i*2, 1):\n",
        "        print(\"*\", end=\"\")\n",
        "    print()\n"
      ],
      "metadata": {
        "colab": {
          "base_uri": "https://localhost:8080/"
        },
        "id": "cZLwq3M3j9l5",
        "outputId": "f49d4e38-591a-4ca3-c34e-74be510900eb"
      },
      "execution_count": 63,
      "outputs": [
        {
          "output_type": "stream",
          "name": "stdout",
          "text": [
            " ***   ***\n",
            "***** *****\n",
            "***********\n",
            " *********\n",
            "  *******\n",
            "   *****\n",
            "    ***\n",
            "     *\n"
          ]
        }
      ]
    },
    {
      "cell_type": "code",
      "source": [
        "#50\n",
        "# heart pattern \n",
        "n = 6\n",
        "\n",
        "# upper part of the heart\n",
        "for i in range(n//2, n, 2):\n",
        "    # print first spaces\n",
        "    for j in range(1, n-i ,2):\n",
        "        print(\" \", end=\"\")\n",
        "    # print first stars\n",
        "    for j in range(1, i+1, 1):\n",
        "        print(\"*\", end=\"\")\n",
        "    # print second spaces\n",
        "    for j in range(1, n-i+1, 1):\n",
        "        print(\" \", end=\"\")\n",
        "    # print second stars\n",
        "    for j in range(1, i+1, 1):\n",
        "        print(\"*\", end=\"\")\n",
        "    print()\n",
        "\n",
        "# lower part\n",
        "for i in range(n,0,-1):\n",
        "    for j in range(i, n, 1):\n",
        "        print(\" \", end=\"\")\n",
        "    for j in range(1, i*2, 1):\n",
        "        print(\"*\", end=\"\")\n",
        "    print()\n"
      ],
      "metadata": {
        "colab": {
          "base_uri": "https://localhost:8080/"
        },
        "id": "JIg1UuAij94Q",
        "outputId": "a35a3c67-6ff8-4983-c572-c60522cd8960"
      },
      "execution_count": 64,
      "outputs": [
        {
          "output_type": "stream",
          "name": "stdout",
          "text": [
            " ***   ***\n",
            "***** *****\n",
            "***********\n",
            " *********\n",
            "  *******\n",
            "   *****\n",
            "    ***\n",
            "     *\n"
          ]
        }
      ]
    },
    {
      "cell_type": "code",
      "source": [
        "#50\n",
        "# heart pattern \n",
        "n = 6\n",
        "\n",
        "# upper part of the heart\n",
        "for i in range(n//2, n, 2):\n",
        "    # print first spaces\n",
        "    for j in range(1, n-i ,2):\n",
        "        print(\" \", end=\"\")\n",
        "    # print first stars\n",
        "    for j in range(1, i+1, 1):\n",
        "        print(\"*\", end=\"\")\n",
        "    # print second spaces\n",
        "    for j in range(1, n-i+1, 1):\n",
        "        print(\" \", end=\"\")\n",
        "    # print second stars\n",
        "    for j in range(1, i+1, 1):\n",
        "        print(\"*\", end=\"\")\n",
        "    print()\n",
        "\n",
        "# lower part\n",
        "for i in range(n,0,-1):\n",
        "    for j in range(i, n, 1):\n",
        "        print(\" \", end=\"\")\n",
        "    for j in range(1, i*2, 1):\n",
        "        print(\"*\", end=\"\")\n",
        "    print()\n"
      ],
      "metadata": {
        "colab": {
          "base_uri": "https://localhost:8080/"
        },
        "id": "uwXS21M4j-MT",
        "outputId": "c8ff41b8-b611-405a-ad00-9630cfc31a6f"
      },
      "execution_count": 65,
      "outputs": [
        {
          "output_type": "stream",
          "name": "stdout",
          "text": [
            " ***   ***\n",
            "***** *****\n",
            "***********\n",
            " *********\n",
            "  *******\n",
            "   *****\n",
            "    ***\n",
            "     *\n"
          ]
        }
      ]
    },
    {
      "cell_type": "code",
      "source": [
        "#50\n",
        "# heart pattern \n",
        "n = 6\n",
        "\n",
        "# upper part of the heart\n",
        "for i in range(n//2, n, 2):\n",
        "    # print first spaces\n",
        "    for j in range(1, n-i ,2):\n",
        "        print(\" \", end=\"\")\n",
        "    # print first stars\n",
        "    for j in range(1, i+1, 1):\n",
        "        print(\"*\", end=\"\")\n",
        "    # print second spaces\n",
        "    for j in range(1, n-i+1, 1):\n",
        "        print(\" \", end=\"\")\n",
        "    # print second stars\n",
        "    for j in range(1, i+1, 1):\n",
        "        print(\"*\", end=\"\")\n",
        "    print()\n",
        "\n",
        "# lower part\n",
        "for i in range(n,0,-1):\n",
        "    for j in range(i, n, 1):\n",
        "        print(\" \", end=\"\")\n",
        "    for j in range(1, i*2, 1):\n",
        "        print(\"*\", end=\"\")\n",
        "    print()\n"
      ],
      "metadata": {
        "colab": {
          "base_uri": "https://localhost:8080/"
        },
        "id": "7oY2fSmlj-e0",
        "outputId": "30266b26-60ea-4be8-cfc8-3b17e6f58d82"
      },
      "execution_count": 66,
      "outputs": [
        {
          "output_type": "stream",
          "name": "stdout",
          "text": [
            " ***   ***\n",
            "***** *****\n",
            "***********\n",
            " *********\n",
            "  *******\n",
            "   *****\n",
            "    ***\n",
            "     *\n"
          ]
        }
      ]
    },
    {
      "cell_type": "code",
      "source": [
        "#50\n",
        "# heart pattern \n",
        "n = 6\n",
        "\n",
        "# upper part of the heart\n",
        "for i in range(n//2, n, 2):\n",
        "    # print first spaces\n",
        "    for j in range(1, n-i ,2):\n",
        "        print(\" \", end=\"\")\n",
        "    # print first stars\n",
        "    for j in range(1, i+1, 1):\n",
        "        print(\"*\", end=\"\")\n",
        "    # print second spaces\n",
        "    for j in range(1, n-i+1, 1):\n",
        "        print(\" \", end=\"\")\n",
        "    # print second stars\n",
        "    for j in range(1, i+1, 1):\n",
        "        print(\"*\", end=\"\")\n",
        "    print()\n",
        "\n",
        "# lower part\n",
        "for i in range(n,0,-1):\n",
        "    for j in range(i, n, 1):\n",
        "        print(\" \", end=\"\")\n",
        "    for j in range(1, i*2, 1):\n",
        "        print(\"*\", end=\"\")\n",
        "    print()\n"
      ],
      "metadata": {
        "colab": {
          "base_uri": "https://localhost:8080/"
        },
        "id": "ZmXHqMUZj-0c",
        "outputId": "39c85b68-8158-46cc-cf7c-c04325588590"
      },
      "execution_count": 67,
      "outputs": [
        {
          "output_type": "stream",
          "name": "stdout",
          "text": [
            " ***   ***\n",
            "***** *****\n",
            "***********\n",
            " *********\n",
            "  *******\n",
            "   *****\n",
            "    ***\n",
            "     *\n"
          ]
        }
      ]
    },
    {
      "cell_type": "code",
      "source": [
        "#50\n",
        "# heart pattern \n",
        "n = 6\n",
        "\n",
        "# upper part of the heart\n",
        "for i in range(n//2, n, 2):\n",
        "    # print first spaces\n",
        "    for j in range(1, n-i ,2):\n",
        "        print(\" \", end=\"\")\n",
        "    # print first stars\n",
        "    for j in range(1, i+1, 1):\n",
        "        print(\"*\", end=\"\")\n",
        "    # print second spaces\n",
        "    for j in range(1, n-i+1, 1):\n",
        "        print(\" \", end=\"\")\n",
        "    # print second stars\n",
        "    for j in range(1, i+1, 1):\n",
        "        print(\"*\", end=\"\")\n",
        "    print()\n",
        "\n",
        "# lower part\n",
        "for i in range(n,0,-1):\n",
        "    for j in range(i, n, 1):\n",
        "        print(\" \", end=\"\")\n",
        "    for j in range(1, i*2, 1):\n",
        "        print(\"*\", end=\"\")\n",
        "    print()\n"
      ],
      "metadata": {
        "colab": {
          "base_uri": "https://localhost:8080/"
        },
        "id": "Zuo7R4rukBuQ",
        "outputId": "7090bdde-4d91-44b8-f56e-db72f798af35"
      },
      "execution_count": 68,
      "outputs": [
        {
          "output_type": "stream",
          "name": "stdout",
          "text": [
            " ***   ***\n",
            "***** *****\n",
            "***********\n",
            " *********\n",
            "  *******\n",
            "   *****\n",
            "    ***\n",
            "     *\n"
          ]
        }
      ]
    },
    {
      "cell_type": "code",
      "source": [
        "#50\n",
        "# heart pattern \n",
        "n = 6\n",
        "\n",
        "# upper part of the heart\n",
        "for i in range(n//2, n, 2):\n",
        "    # print first spaces\n",
        "    for j in range(1, n-i ,2):\n",
        "        print(\" \", end=\"\")\n",
        "    # print first stars\n",
        "    for j in range(1, i+1, 1):\n",
        "        print(\"*\", end=\"\")\n",
        "    # print second spaces\n",
        "    for j in range(1, n-i+1, 1):\n",
        "        print(\" \", end=\"\")\n",
        "    # print second stars\n",
        "    for j in range(1, i+1, 1):\n",
        "        print(\"*\", end=\"\")\n",
        "    print()\n",
        "\n",
        "# lower part\n",
        "for i in range(n,0,-1):\n",
        "    for j in range(i, n, 1):\n",
        "        print(\" \", end=\"\")\n",
        "    for j in range(1, i*2, 1):\n",
        "        print(\"*\", end=\"\")\n",
        "    print()\n"
      ],
      "metadata": {
        "colab": {
          "base_uri": "https://localhost:8080/"
        },
        "id": "R-KjMbUHkCu0",
        "outputId": "6287384a-5096-4083-cc40-03793a235279"
      },
      "execution_count": 69,
      "outputs": [
        {
          "output_type": "stream",
          "name": "stdout",
          "text": [
            " ***   ***\n",
            "***** *****\n",
            "***********\n",
            " *********\n",
            "  *******\n",
            "   *****\n",
            "    ***\n",
            "     *\n"
          ]
        }
      ]
    },
    {
      "cell_type": "code",
      "source": [
        "#50\n",
        "# heart pattern \n",
        "n = 6\n",
        "\n",
        "# upper part of the heart\n",
        "for i in range(n//2, n, 2):\n",
        "    # print first spaces\n",
        "    for j in range(1, n-i ,2):\n",
        "        print(\" \", end=\"\")\n",
        "    # print first stars\n",
        "    for j in range(1, i+1, 1):\n",
        "        print(\"*\", end=\"\")\n",
        "    # print second spaces\n",
        "    for j in range(1, n-i+1, 1):\n",
        "        print(\" \", end=\"\")\n",
        "    # print second stars\n",
        "    for j in range(1, i+1, 1):\n",
        "        print(\"*\", end=\"\")\n",
        "    print()\n",
        "\n",
        "# lower part\n",
        "for i in range(n,0,-1):\n",
        "    for j in range(i, n, 1):\n",
        "        print(\" \", end=\"\")\n",
        "    for j in range(1, i*2, 1):\n",
        "        print(\"*\", end=\"\")\n",
        "    print()\n"
      ],
      "metadata": {
        "colab": {
          "base_uri": "https://localhost:8080/"
        },
        "id": "0Bk1gNHVkDGs",
        "outputId": "fcae0791-facd-4397-b073-4bc181d58464"
      },
      "execution_count": 70,
      "outputs": [
        {
          "output_type": "stream",
          "name": "stdout",
          "text": [
            " ***   ***\n",
            "***** *****\n",
            "***********\n",
            " *********\n",
            "  *******\n",
            "   *****\n",
            "    ***\n",
            "     *\n"
          ]
        }
      ]
    },
    {
      "cell_type": "code",
      "source": [
        "#50\n",
        "# heart pattern \n",
        "n = 6\n",
        "\n",
        "# upper part of the heart\n",
        "for i in range(n//2, n, 2):\n",
        "    # print first spaces\n",
        "    for j in range(1, n-i ,2):\n",
        "        print(\" \", end=\"\")\n",
        "    # print first stars\n",
        "    for j in range(1, i+1, 1):\n",
        "        print(\"*\", end=\"\")\n",
        "    # print second spaces\n",
        "    for j in range(1, n-i+1, 1):\n",
        "        print(\" \", end=\"\")\n",
        "    # print second stars\n",
        "    for j in range(1, i+1, 1):\n",
        "        print(\"*\", end=\"\")\n",
        "    print()\n",
        "\n",
        "# lower part\n",
        "for i in range(n,0,-1):\n",
        "    for j in range(i, n, 1):\n",
        "        print(\" \", end=\"\")\n",
        "    for j in range(1, i*2, 1):\n",
        "        print(\"*\", end=\"\")\n",
        "    print()\n"
      ],
      "metadata": {
        "colab": {
          "base_uri": "https://localhost:8080/"
        },
        "id": "jlw3Y6omkE42",
        "outputId": "4928a0b5-cbb7-47c1-aede-a9f2e99f1ba2"
      },
      "execution_count": 71,
      "outputs": [
        {
          "output_type": "stream",
          "name": "stdout",
          "text": [
            " ***   ***\n",
            "***** *****\n",
            "***********\n",
            " *********\n",
            "  *******\n",
            "   *****\n",
            "    ***\n",
            "     *\n"
          ]
        }
      ]
    },
    {
      "cell_type": "code",
      "source": [
        "#50\n",
        "# heart pattern \n",
        "n = 6\n",
        "\n",
        "# upper part of the heart\n",
        "for i in range(n//2, n, 2):\n",
        "    # print first spaces\n",
        "    for j in range(1, n-i ,2):\n",
        "        print(\" \", end=\"\")\n",
        "    # print first stars\n",
        "    for j in range(1, i+1, 1):\n",
        "        print(\"*\", end=\"\")\n",
        "    # print second spaces\n",
        "    for j in range(1, n-i+1, 1):\n",
        "        print(\" \", end=\"\")\n",
        "    # print second stars\n",
        "    for j in range(1, i+1, 1):\n",
        "        print(\"*\", end=\"\")\n",
        "    print()\n",
        "\n",
        "# lower part\n",
        "for i in range(n,0,-1):\n",
        "    for j in range(i, n, 1):\n",
        "        print(\" \", end=\"\")\n",
        "    for j in range(1, i*2, 1):\n",
        "        print(\"*\", end=\"\")\n",
        "    print()\n"
      ],
      "metadata": {
        "colab": {
          "base_uri": "https://localhost:8080/"
        },
        "id": "hT34O770kLar",
        "outputId": "d6543a36-a18f-4c1a-9b72-dff9a1f30daa"
      },
      "execution_count": 72,
      "outputs": [
        {
          "output_type": "stream",
          "name": "stdout",
          "text": [
            " ***   ***\n",
            "***** *****\n",
            "***********\n",
            " *********\n",
            "  *******\n",
            "   *****\n",
            "    ***\n",
            "     *\n"
          ]
        }
      ]
    },
    {
      "cell_type": "code",
      "source": [
        "#50\n",
        "# heart pattern \n",
        "n = 6\n",
        "\n",
        "# upper part of the heart\n",
        "for i in range(n//2, n, 2):\n",
        "    # print first spaces\n",
        "    for j in range(1, n-i ,2):\n",
        "        print(\" \", end=\"\")\n",
        "    # print first stars\n",
        "    for j in range(1, i+1, 1):\n",
        "        print(\"*\", end=\"\")\n",
        "    # print second spaces\n",
        "    for j in range(1, n-i+1, 1):\n",
        "        print(\" \", end=\"\")\n",
        "    # print second stars\n",
        "    for j in range(1, i+1, 1):\n",
        "        print(\"*\", end=\"\")\n",
        "    print()\n",
        "\n",
        "# lower part\n",
        "for i in range(n,0,-1):\n",
        "    for j in range(i, n, 1):\n",
        "        print(\" \", end=\"\")\n",
        "    for j in range(1, i*2, 1):\n",
        "        print(\"*\", end=\"\")\n",
        "    print()\n"
      ],
      "metadata": {
        "colab": {
          "base_uri": "https://localhost:8080/"
        },
        "id": "a8f9kWiokLtA",
        "outputId": "c56e22c1-65ef-4895-fc9d-e118c0a2defa"
      },
      "execution_count": 73,
      "outputs": [
        {
          "output_type": "stream",
          "name": "stdout",
          "text": [
            " ***   ***\n",
            "***** *****\n",
            "***********\n",
            " *********\n",
            "  *******\n",
            "   *****\n",
            "    ***\n",
            "     *\n"
          ]
        }
      ]
    },
    {
      "cell_type": "code",
      "source": [
        "#50\n",
        "# heart pattern \n",
        "n = 6\n",
        "\n",
        "# upper part of the heart\n",
        "for i in range(n//2, n, 2):\n",
        "    # print first spaces\n",
        "    for j in range(1, n-i ,2):\n",
        "        print(\" \", end=\"\")\n",
        "    # print first stars\n",
        "    for j in range(1, i+1, 1):\n",
        "        print(\"*\", end=\"\")\n",
        "    # print second spaces\n",
        "    for j in range(1, n-i+1, 1):\n",
        "        print(\" \", end=\"\")\n",
        "    # print second stars\n",
        "    for j in range(1, i+1, 1):\n",
        "        print(\"*\", end=\"\")\n",
        "    print()\n",
        "\n",
        "# lower part\n",
        "for i in range(n,0,-1):\n",
        "    for j in range(i, n, 1):\n",
        "        print(\" \", end=\"\")\n",
        "    for j in range(1, i*2, 1):\n",
        "        print(\"*\", end=\"\")\n",
        "    print()\n"
      ],
      "metadata": {
        "colab": {
          "base_uri": "https://localhost:8080/"
        },
        "id": "aXLNdzAIkMLI",
        "outputId": "b289e344-5566-4286-a3b9-4b1deeef841c"
      },
      "execution_count": 74,
      "outputs": [
        {
          "output_type": "stream",
          "name": "stdout",
          "text": [
            " ***   ***\n",
            "***** *****\n",
            "***********\n",
            " *********\n",
            "  *******\n",
            "   *****\n",
            "    ***\n",
            "     *\n"
          ]
        }
      ]
    },
    {
      "cell_type": "code",
      "source": [
        "#50\n",
        "# heart pattern \n",
        "n = 6\n",
        "\n",
        "# upper part of the heart\n",
        "for i in range(n//2, n, 2):\n",
        "    # print first spaces\n",
        "    for j in range(1, n-i ,2):\n",
        "        print(\" \", end=\"\")\n",
        "    # print first stars\n",
        "    for j in range(1, i+1, 1):\n",
        "        print(\"*\", end=\"\")\n",
        "    # print second spaces\n",
        "    for j in range(1, n-i+1, 1):\n",
        "        print(\" \", end=\"\")\n",
        "    # print second stars\n",
        "    for j in range(1, i+1, 1):\n",
        "        print(\"*\", end=\"\")\n",
        "    print()\n",
        "\n",
        "# lower part\n",
        "for i in range(n,0,-1):\n",
        "    for j in range(i, n, 1):\n",
        "        print(\" \", end=\"\")\n",
        "    for j in range(1, i*2, 1):\n",
        "        print(\"*\", end=\"\")\n",
        "    print()\n"
      ],
      "metadata": {
        "colab": {
          "base_uri": "https://localhost:8080/"
        },
        "id": "bHgjiHACkSdT",
        "outputId": "ec37a482-966f-4c93-fb5d-4af998c34349"
      },
      "execution_count": 75,
      "outputs": [
        {
          "output_type": "stream",
          "name": "stdout",
          "text": [
            " ***   ***\n",
            "***** *****\n",
            "***********\n",
            " *********\n",
            "  *******\n",
            "   *****\n",
            "    ***\n",
            "     *\n"
          ]
        }
      ]
    },
    {
      "cell_type": "code",
      "source": [
        "#50\n",
        "# heart pattern \n",
        "n = 6\n",
        "\n",
        "# upper part of the heart\n",
        "for i in range(n//2, n, 2):\n",
        "    # print first spaces\n",
        "    for j in range(1, n-i ,2):\n",
        "        print(\" \", end=\"\")\n",
        "    # print first stars\n",
        "    for j in range(1, i+1, 1):\n",
        "        print(\"*\", end=\"\")\n",
        "    # print second spaces\n",
        "    for j in range(1, n-i+1, 1):\n",
        "        print(\" \", end=\"\")\n",
        "    # print second stars\n",
        "    for j in range(1, i+1, 1):\n",
        "        print(\"*\", end=\"\")\n",
        "    print()\n",
        "\n",
        "# lower part\n",
        "for i in range(n,0,-1):\n",
        "    for j in range(i, n, 1):\n",
        "        print(\" \", end=\"\")\n",
        "    for j in range(1, i*2, 1):\n",
        "        print(\"*\", end=\"\")\n",
        "    print()\n"
      ],
      "metadata": {
        "colab": {
          "base_uri": "https://localhost:8080/"
        },
        "id": "vS1akFsXkSy-",
        "outputId": "5e3ffa52-966e-4d42-88ab-d50fda2d7c06"
      },
      "execution_count": 76,
      "outputs": [
        {
          "output_type": "stream",
          "name": "stdout",
          "text": [
            " ***   ***\n",
            "***** *****\n",
            "***********\n",
            " *********\n",
            "  *******\n",
            "   *****\n",
            "    ***\n",
            "     *\n"
          ]
        }
      ]
    },
    {
      "cell_type": "code",
      "source": [
        "#50\n",
        "# heart pattern \n",
        "n = 6\n",
        "\n",
        "# upper part of the heart\n",
        "for i in range(n//2, n, 2):\n",
        "    # print first spaces\n",
        "    for j in range(1, n-i ,2):\n",
        "        print(\" \", end=\"\")\n",
        "    # print first stars\n",
        "    for j in range(1, i+1, 1):\n",
        "        print(\"*\", end=\"\")\n",
        "    # print second spaces\n",
        "    for j in range(1, n-i+1, 1):\n",
        "        print(\" \", end=\"\")\n",
        "    # print second stars\n",
        "    for j in range(1, i+1, 1):\n",
        "        print(\"*\", end=\"\")\n",
        "    print()\n",
        "\n",
        "# lower part\n",
        "for i in range(n,0,-1):\n",
        "    for j in range(i, n, 1):\n",
        "        print(\" \", end=\"\")\n",
        "    for j in range(1, i*2, 1):\n",
        "        print(\"*\", end=\"\")\n",
        "    print()\n"
      ],
      "metadata": {
        "colab": {
          "base_uri": "https://localhost:8080/"
        },
        "id": "uQGER-WNkTB9",
        "outputId": "610f18e5-c2a5-4759-b81c-ea3bc76ccdc1"
      },
      "execution_count": 77,
      "outputs": [
        {
          "output_type": "stream",
          "name": "stdout",
          "text": [
            " ***   ***\n",
            "***** *****\n",
            "***********\n",
            " *********\n",
            "  *******\n",
            "   *****\n",
            "    ***\n",
            "     *\n"
          ]
        }
      ]
    },
    {
      "cell_type": "code",
      "source": [
        "#50\n",
        "# heart pattern \n",
        "n = 6\n",
        "\n",
        "# upper part of the heart\n",
        "for i in range(n//2, n, 2):\n",
        "    # print first spaces\n",
        "    for j in range(1, n-i ,2):\n",
        "        print(\" \", end=\"\")\n",
        "    # print first stars\n",
        "    for j in range(1, i+1, 1):\n",
        "        print(\"*\", end=\"\")\n",
        "    # print second spaces\n",
        "    for j in range(1, n-i+1, 1):\n",
        "        print(\" \", end=\"\")\n",
        "    # print second stars\n",
        "    for j in range(1, i+1, 1):\n",
        "        print(\"*\", end=\"\")\n",
        "    print()\n",
        "\n",
        "# lower part\n",
        "for i in range(n,0,-1):\n",
        "    for j in range(i, n, 1):\n",
        "        print(\" \", end=\"\")\n",
        "    for j in range(1, i*2, 1):\n",
        "        print(\"*\", end=\"\")\n",
        "    print()\n"
      ],
      "metadata": {
        "colab": {
          "base_uri": "https://localhost:8080/"
        },
        "id": "X4-tEEndkTS3",
        "outputId": "00fabdd3-012e-4acf-a044-48b49b50e78f"
      },
      "execution_count": 78,
      "outputs": [
        {
          "output_type": "stream",
          "name": "stdout",
          "text": [
            " ***   ***\n",
            "***** *****\n",
            "***********\n",
            " *********\n",
            "  *******\n",
            "   *****\n",
            "    ***\n",
            "     *\n"
          ]
        }
      ]
    },
    {
      "cell_type": "code",
      "source": [
        "#50\n",
        "# heart pattern \n",
        "n = 6\n",
        "\n",
        "# upper part of the heart\n",
        "for i in range(n//2, n, 2):\n",
        "    # print first spaces\n",
        "    for j in range(1, n-i ,2):\n",
        "        print(\" \", end=\"\")\n",
        "    # print first stars\n",
        "    for j in range(1, i+1, 1):\n",
        "        print(\"*\", end=\"\")\n",
        "    # print second spaces\n",
        "    for j in range(1, n-i+1, 1):\n",
        "        print(\" \", end=\"\")\n",
        "    # print second stars\n",
        "    for j in range(1, i+1, 1):\n",
        "        print(\"*\", end=\"\")\n",
        "    print()\n",
        "\n",
        "# lower part\n",
        "for i in range(n,0,-1):\n",
        "    for j in range(i, n, 1):\n",
        "        print(\" \", end=\"\")\n",
        "    for j in range(1, i*2, 1):\n",
        "        print(\"*\", end=\"\")\n",
        "    print()\n"
      ],
      "metadata": {
        "colab": {
          "base_uri": "https://localhost:8080/"
        },
        "id": "Ae9vKW68kTjJ",
        "outputId": "62be8f3f-3ea3-43d3-b59f-b9d6753480d2"
      },
      "execution_count": 79,
      "outputs": [
        {
          "output_type": "stream",
          "name": "stdout",
          "text": [
            " ***   ***\n",
            "***** *****\n",
            "***********\n",
            " *********\n",
            "  *******\n",
            "   *****\n",
            "    ***\n",
            "     *\n"
          ]
        }
      ]
    },
    {
      "cell_type": "code",
      "source": [
        "#50\n",
        "# heart pattern \n",
        "n = 6\n",
        "\n",
        "# upper part of the heart\n",
        "for i in range(n//2, n, 2):\n",
        "    # print first spaces\n",
        "    for j in range(1, n-i ,2):\n",
        "        print(\" \", end=\"\")\n",
        "    # print first stars\n",
        "    for j in range(1, i+1, 1):\n",
        "        print(\"*\", end=\"\")\n",
        "    # print second spaces\n",
        "    for j in range(1, n-i+1, 1):\n",
        "        print(\" \", end=\"\")\n",
        "    # print second stars\n",
        "    for j in range(1, i+1, 1):\n",
        "        print(\"*\", end=\"\")\n",
        "    print()\n",
        "\n",
        "# lower part\n",
        "for i in range(n,0,-1):\n",
        "    for j in range(i, n, 1):\n",
        "        print(\" \", end=\"\")\n",
        "    for j in range(1, i*2, 1):\n",
        "        print(\"*\", end=\"\")\n",
        "    print()\n"
      ],
      "metadata": {
        "colab": {
          "base_uri": "https://localhost:8080/"
        },
        "id": "fse3f2PKkUAG",
        "outputId": "14a881fe-b598-40b6-9904-f324218315cb"
      },
      "execution_count": 80,
      "outputs": [
        {
          "output_type": "stream",
          "name": "stdout",
          "text": [
            " ***   ***\n",
            "***** *****\n",
            "***********\n",
            " *********\n",
            "  *******\n",
            "   *****\n",
            "    ***\n",
            "     *\n"
          ]
        }
      ]
    },
    {
      "cell_type": "code",
      "source": [
        "#50\n",
        "# heart pattern \n",
        "n = 6\n",
        "\n",
        "# upper part of the heart\n",
        "for i in range(n//2, n, 2):\n",
        "    # print first spaces\n",
        "    for j in range(1, n-i ,2):\n",
        "        print(\" \", end=\"\")\n",
        "    # print first stars\n",
        "    for j in range(1, i+1, 1):\n",
        "        print(\"*\", end=\"\")\n",
        "    # print second spaces\n",
        "    for j in range(1, n-i+1, 1):\n",
        "        print(\" \", end=\"\")\n",
        "    # print second stars\n",
        "    for j in range(1, i+1, 1):\n",
        "        print(\"*\", end=\"\")\n",
        "    print()\n",
        "\n",
        "# lower part\n",
        "for i in range(n,0,-1):\n",
        "    for j in range(i, n, 1):\n",
        "        print(\" \", end=\"\")\n",
        "    for j in range(1, i*2, 1):\n",
        "        print(\"*\", end=\"\")\n",
        "    print()\n"
      ],
      "metadata": {
        "colab": {
          "base_uri": "https://localhost:8080/"
        },
        "id": "fNZrRN8okUSu",
        "outputId": "ff5bdd6f-dcf5-4fd9-8d19-13790ffd8b34"
      },
      "execution_count": 81,
      "outputs": [
        {
          "output_type": "stream",
          "name": "stdout",
          "text": [
            " ***   ***\n",
            "***** *****\n",
            "***********\n",
            " *********\n",
            "  *******\n",
            "   *****\n",
            "    ***\n",
            "     *\n"
          ]
        }
      ]
    },
    {
      "cell_type": "code",
      "source": [
        "#50\n",
        "# heart pattern \n",
        "n = 6\n",
        "\n",
        "# upper part of the heart\n",
        "for i in range(n//2, n, 2):\n",
        "    # print first spaces\n",
        "    for j in range(1, n-i ,2):\n",
        "        print(\" \", end=\"\")\n",
        "    # print first stars\n",
        "    for j in range(1, i+1, 1):\n",
        "        print(\"*\", end=\"\")\n",
        "    # print second spaces\n",
        "    for j in range(1, n-i+1, 1):\n",
        "        print(\" \", end=\"\")\n",
        "    # print second stars\n",
        "    for j in range(1, i+1, 1):\n",
        "        print(\"*\", end=\"\")\n",
        "    print()\n",
        "\n",
        "# lower part\n",
        "for i in range(n,0,-1):\n",
        "    for j in range(i, n, 1):\n",
        "        print(\" \", end=\"\")\n",
        "    for j in range(1, i*2, 1):\n",
        "        print(\"*\", end=\"\")\n",
        "    print()\n"
      ],
      "metadata": {
        "colab": {
          "base_uri": "https://localhost:8080/"
        },
        "id": "38M-8_lokUlG",
        "outputId": "06823c77-431d-401c-9f21-ca046bfbddd4"
      },
      "execution_count": 82,
      "outputs": [
        {
          "output_type": "stream",
          "name": "stdout",
          "text": [
            " ***   ***\n",
            "***** *****\n",
            "***********\n",
            " *********\n",
            "  *******\n",
            "   *****\n",
            "    ***\n",
            "     *\n"
          ]
        }
      ]
    },
    {
      "cell_type": "code",
      "source": [
        "#50\n",
        "# heart pattern \n",
        "n = 6\n",
        "\n",
        "# upper part of the heart\n",
        "for i in range(n//2, n, 2):\n",
        "    # print first spaces\n",
        "    for j in range(1, n-i ,2):\n",
        "        print(\" \", end=\"\")\n",
        "    # print first stars\n",
        "    for j in range(1, i+1, 1):\n",
        "        print(\"*\", end=\"\")\n",
        "    # print second spaces\n",
        "    for j in range(1, n-i+1, 1):\n",
        "        print(\" \", end=\"\")\n",
        "    # print second stars\n",
        "    for j in range(1, i+1, 1):\n",
        "        print(\"*\", end=\"\")\n",
        "    print()\n",
        "\n",
        "# lower part\n",
        "for i in range(n,0,-1):\n",
        "    for j in range(i, n, 1):\n",
        "        print(\" \", end=\"\")\n",
        "    for j in range(1, i*2, 1):\n",
        "        print(\"*\", end=\"\")\n",
        "    print()\n"
      ],
      "metadata": {
        "colab": {
          "base_uri": "https://localhost:8080/"
        },
        "id": "qBWBLcxjkiFM",
        "outputId": "9e8cd7a3-cfb5-4937-f128-f59b8371bf90"
      },
      "execution_count": 83,
      "outputs": [
        {
          "output_type": "stream",
          "name": "stdout",
          "text": [
            " ***   ***\n",
            "***** *****\n",
            "***********\n",
            " *********\n",
            "  *******\n",
            "   *****\n",
            "    ***\n",
            "     *\n"
          ]
        }
      ]
    },
    {
      "cell_type": "code",
      "source": [
        "#50\n",
        "# heart pattern \n",
        "n = 6\n",
        "\n",
        "# upper part of the heart\n",
        "for i in range(n//2, n, 2):\n",
        "    # print first spaces\n",
        "    for j in range(1, n-i ,2):\n",
        "        print(\" \", end=\"\")\n",
        "    # print first stars\n",
        "    for j in range(1, i+1, 1):\n",
        "        print(\"*\", end=\"\")\n",
        "    # print second spaces\n",
        "    for j in range(1, n-i+1, 1):\n",
        "        print(\" \", end=\"\")\n",
        "    # print second stars\n",
        "    for j in range(1, i+1, 1):\n",
        "        print(\"*\", end=\"\")\n",
        "    print()\n",
        "\n",
        "# lower part\n",
        "for i in range(n,0,-1):\n",
        "    for j in range(i, n, 1):\n",
        "        print(\" \", end=\"\")\n",
        "    for j in range(1, i*2, 1):\n",
        "        print(\"*\", end=\"\")\n",
        "    print()\n"
      ],
      "metadata": {
        "colab": {
          "base_uri": "https://localhost:8080/"
        },
        "id": "zW5sGoa-kiaM",
        "outputId": "d582ffaf-fcc4-4f07-d0e6-31c39e6b0f94"
      },
      "execution_count": 84,
      "outputs": [
        {
          "output_type": "stream",
          "name": "stdout",
          "text": [
            " ***   ***\n",
            "***** *****\n",
            "***********\n",
            " *********\n",
            "  *******\n",
            "   *****\n",
            "    ***\n",
            "     *\n"
          ]
        }
      ]
    },
    {
      "cell_type": "code",
      "source": [
        "#50\n",
        "# heart pattern \n",
        "n = 6\n",
        "\n",
        "# upper part of the heart\n",
        "for i in range(n//2, n, 2):\n",
        "    # print first spaces\n",
        "    for j in range(1, n-i ,2):\n",
        "        print(\" \", end=\"\")\n",
        "    # print first stars\n",
        "    for j in range(1, i+1, 1):\n",
        "        print(\"*\", end=\"\")\n",
        "    # print second spaces\n",
        "    for j in range(1, n-i+1, 1):\n",
        "        print(\" \", end=\"\")\n",
        "    # print second stars\n",
        "    for j in range(1, i+1, 1):\n",
        "        print(\"*\", end=\"\")\n",
        "    print()\n",
        "\n",
        "# lower part\n",
        "for i in range(n,0,-1):\n",
        "    for j in range(i, n, 1):\n",
        "        print(\" \", end=\"\")\n",
        "    for j in range(1, i*2, 1):\n",
        "        print(\"*\", end=\"\")\n",
        "    print()\n"
      ],
      "metadata": {
        "colab": {
          "base_uri": "https://localhost:8080/"
        },
        "id": "VkvThOq7koOK",
        "outputId": "7bd1310d-41ff-4f64-9318-c11c935dc355"
      },
      "execution_count": 85,
      "outputs": [
        {
          "output_type": "stream",
          "name": "stdout",
          "text": [
            " ***   ***\n",
            "***** *****\n",
            "***********\n",
            " *********\n",
            "  *******\n",
            "   *****\n",
            "    ***\n",
            "     *\n"
          ]
        }
      ]
    },
    {
      "cell_type": "code",
      "source": [
        "#50\n",
        "# heart pattern \n",
        "n = 6\n",
        "\n",
        "# upper part of the heart\n",
        "for i in range(n//2, n, 2):\n",
        "    # print first spaces\n",
        "    for j in range(1, n-i ,2):\n",
        "        print(\" \", end=\"\")\n",
        "    # print first stars\n",
        "    for j in range(1, i+1, 1):\n",
        "        print(\"*\", end=\"\")\n",
        "    # print second spaces\n",
        "    for j in range(1, n-i+1, 1):\n",
        "        print(\" \", end=\"\")\n",
        "    # print second stars\n",
        "    for j in range(1, i+1, 1):\n",
        "        print(\"*\", end=\"\")\n",
        "    print()\n",
        "\n",
        "# lower part\n",
        "for i in range(n,0,-1):\n",
        "    for j in range(i, n, 1):\n",
        "        print(\" \", end=\"\")\n",
        "    for j in range(1, i*2, 1):\n",
        "        print(\"*\", end=\"\")\n",
        "    print()\n"
      ],
      "metadata": {
        "colab": {
          "base_uri": "https://localhost:8080/"
        },
        "id": "U0F5aIwPkog0",
        "outputId": "74ba618e-b043-4263-b61a-cc7feccf093f"
      },
      "execution_count": 86,
      "outputs": [
        {
          "output_type": "stream",
          "name": "stdout",
          "text": [
            " ***   ***\n",
            "***** *****\n",
            "***********\n",
            " *********\n",
            "  *******\n",
            "   *****\n",
            "    ***\n",
            "     *\n"
          ]
        }
      ]
    },
    {
      "cell_type": "code",
      "source": [
        "#50\n",
        "# heart pattern \n",
        "n = 6\n",
        "\n",
        "# upper part of the heart\n",
        "for i in range(n//2, n, 2):\n",
        "    # print first spaces\n",
        "    for j in range(1, n-i ,2):\n",
        "        print(\" \", end=\"\")\n",
        "    # print first stars\n",
        "    for j in range(1, i+1, 1):\n",
        "        print(\"*\", end=\"\")\n",
        "    # print second spaces\n",
        "    for j in range(1, n-i+1, 1):\n",
        "        print(\" \", end=\"\")\n",
        "    # print second stars\n",
        "    for j in range(1, i+1, 1):\n",
        "        print(\"*\", end=\"\")\n",
        "    print()\n",
        "\n",
        "# lower part\n",
        "for i in range(n,0,-1):\n",
        "    for j in range(i, n, 1):\n",
        "        print(\" \", end=\"\")\n",
        "    for j in range(1, i*2, 1):\n",
        "        print(\"*\", end=\"\")\n",
        "    print()\n"
      ],
      "metadata": {
        "colab": {
          "base_uri": "https://localhost:8080/"
        },
        "id": "dJl7CJw-kozg",
        "outputId": "0d389556-0218-454b-c138-4f0360f67dbe"
      },
      "execution_count": 87,
      "outputs": [
        {
          "output_type": "stream",
          "name": "stdout",
          "text": [
            " ***   ***\n",
            "***** *****\n",
            "***********\n",
            " *********\n",
            "  *******\n",
            "   *****\n",
            "    ***\n",
            "     *\n"
          ]
        }
      ]
    },
    {
      "cell_type": "code",
      "source": [
        "#50\n",
        "# heart pattern \n",
        "n = 6\n",
        "\n",
        "# upper part of the heart\n",
        "for i in range(n//2, n, 2):\n",
        "    # print first spaces\n",
        "    for j in range(1, n-i ,2):\n",
        "        print(\" \", end=\"\")\n",
        "    # print first stars\n",
        "    for j in range(1, i+1, 1):\n",
        "        print(\"*\", end=\"\")\n",
        "    # print second spaces\n",
        "    for j in range(1, n-i+1, 1):\n",
        "        print(\" \", end=\"\")\n",
        "    # print second stars\n",
        "    for j in range(1, i+1, 1):\n",
        "        print(\"*\", end=\"\")\n",
        "    print()\n",
        "\n",
        "# lower part\n",
        "for i in range(n,0,-1):\n",
        "    for j in range(i, n, 1):\n",
        "        print(\" \", end=\"\")\n",
        "    for j in range(1, i*2, 1):\n",
        "        print(\"*\", end=\"\")\n",
        "    print()\n"
      ],
      "metadata": {
        "colab": {
          "base_uri": "https://localhost:8080/"
        },
        "id": "BLNMsHr6kpDK",
        "outputId": "2e8fb090-e067-4402-a5d4-6612600d9ed8"
      },
      "execution_count": 88,
      "outputs": [
        {
          "output_type": "stream",
          "name": "stdout",
          "text": [
            " ***   ***\n",
            "***** *****\n",
            "***********\n",
            " *********\n",
            "  *******\n",
            "   *****\n",
            "    ***\n",
            "     *\n"
          ]
        }
      ]
    },
    {
      "cell_type": "code",
      "source": [
        "#50\n",
        "# heart pattern \n",
        "n = 6\n",
        "\n",
        "# upper part of the heart\n",
        "for i in range(n//2, n, 2):\n",
        "    # print first spaces\n",
        "    for j in range(1, n-i ,2):\n",
        "        print(\" \", end=\"\")\n",
        "    # print first stars\n",
        "    for j in range(1, i+1, 1):\n",
        "        print(\"*\", end=\"\")\n",
        "    # print second spaces\n",
        "    for j in range(1, n-i+1, 1):\n",
        "        print(\" \", end=\"\")\n",
        "    # print second stars\n",
        "    for j in range(1, i+1, 1):\n",
        "        print(\"*\", end=\"\")\n",
        "    print()\n",
        "\n",
        "# lower part\n",
        "for i in range(n,0,-1):\n",
        "    for j in range(i, n, 1):\n",
        "        print(\" \", end=\"\")\n",
        "    for j in range(1, i*2, 1):\n",
        "        print(\"*\", end=\"\")\n",
        "    print()\n"
      ],
      "metadata": {
        "colab": {
          "base_uri": "https://localhost:8080/"
        },
        "id": "dLkQp5VhkpUF",
        "outputId": "74030a92-41ca-4ad5-9e94-cc52548355c0"
      },
      "execution_count": 89,
      "outputs": [
        {
          "output_type": "stream",
          "name": "stdout",
          "text": [
            " ***   ***\n",
            "***** *****\n",
            "***********\n",
            " *********\n",
            "  *******\n",
            "   *****\n",
            "    ***\n",
            "     *\n"
          ]
        }
      ]
    },
    {
      "cell_type": "code",
      "source": [
        "#50\n",
        "# heart pattern \n",
        "n = 6\n",
        "\n",
        "# upper part of the heart\n",
        "for i in range(n//2, n, 2):\n",
        "    # print first spaces\n",
        "    for j in range(1, n-i ,2):\n",
        "        print(\" \", end=\"\")\n",
        "    # print first stars\n",
        "    for j in range(1, i+1, 1):\n",
        "        print(\"*\", end=\"\")\n",
        "    # print second spaces\n",
        "    for j in range(1, n-i+1, 1):\n",
        "        print(\" \", end=\"\")\n",
        "    # print second stars\n",
        "    for j in range(1, i+1, 1):\n",
        "        print(\"*\", end=\"\")\n",
        "    print()\n",
        "\n",
        "# lower part\n",
        "for i in range(n,0,-1):\n",
        "    for j in range(i, n, 1):\n",
        "        print(\" \", end=\"\")\n",
        "    for j in range(1, i*2, 1):\n",
        "        print(\"*\", end=\"\")\n",
        "    print()\n"
      ],
      "metadata": {
        "colab": {
          "base_uri": "https://localhost:8080/"
        },
        "id": "HUUqtFGykpk-",
        "outputId": "18187ce9-0179-4eb1-fcd7-ddfde065e447"
      },
      "execution_count": 90,
      "outputs": [
        {
          "output_type": "stream",
          "name": "stdout",
          "text": [
            " ***   ***\n",
            "***** *****\n",
            "***********\n",
            " *********\n",
            "  *******\n",
            "   *****\n",
            "    ***\n",
            "     *\n"
          ]
        }
      ]
    },
    {
      "cell_type": "code",
      "source": [
        "#50\n",
        "# heart pattern \n",
        "n = 6\n",
        "\n",
        "# upper part of the heart\n",
        "for i in range(n//2, n, 2):\n",
        "    # print first spaces\n",
        "    for j in range(1, n-i ,2):\n",
        "        print(\" \", end=\"\")\n",
        "    # print first stars\n",
        "    for j in range(1, i+1, 1):\n",
        "        print(\"*\", end=\"\")\n",
        "    # print second spaces\n",
        "    for j in range(1, n-i+1, 1):\n",
        "        print(\" \", end=\"\")\n",
        "    # print second stars\n",
        "    for j in range(1, i+1, 1):\n",
        "        print(\"*\", end=\"\")\n",
        "    print()\n",
        "\n",
        "# lower part\n",
        "for i in range(n,0,-1):\n",
        "    for j in range(i, n, 1):\n",
        "        print(\" \", end=\"\")\n",
        "    for j in range(1, i*2, 1):\n",
        "        print(\"*\", end=\"\")\n",
        "    print()\n"
      ],
      "metadata": {
        "colab": {
          "base_uri": "https://localhost:8080/"
        },
        "id": "4W9mEPktkp2p",
        "outputId": "71b449af-a4f7-43d0-8540-865e3ec41e52"
      },
      "execution_count": 91,
      "outputs": [
        {
          "output_type": "stream",
          "name": "stdout",
          "text": [
            " ***   ***\n",
            "***** *****\n",
            "***********\n",
            " *********\n",
            "  *******\n",
            "   *****\n",
            "    ***\n",
            "     *\n"
          ]
        }
      ]
    },
    {
      "cell_type": "code",
      "source": [
        "#50\n",
        "# heart pattern \n",
        "n = 6\n",
        "\n",
        "# upper part of the heart\n",
        "for i in range(n//2, n, 2):\n",
        "    # print first spaces\n",
        "    for j in range(1, n-i ,2):\n",
        "        print(\" \", end=\"\")\n",
        "    # print first stars\n",
        "    for j in range(1, i+1, 1):\n",
        "        print(\"*\", end=\"\")\n",
        "    # print second spaces\n",
        "    for j in range(1, n-i+1, 1):\n",
        "        print(\" \", end=\"\")\n",
        "    # print second stars\n",
        "    for j in range(1, i+1, 1):\n",
        "        print(\"*\", end=\"\")\n",
        "    print()\n",
        "\n",
        "# lower part\n",
        "for i in range(n,0,-1):\n",
        "    for j in range(i, n, 1):\n",
        "        print(\" \", end=\"\")\n",
        "    for j in range(1, i*2, 1):\n",
        "        print(\"*\", end=\"\")\n",
        "    print()\n"
      ],
      "metadata": {
        "colab": {
          "base_uri": "https://localhost:8080/"
        },
        "id": "CLdNqbsmkqHc",
        "outputId": "d93adc45-f91f-449f-996e-81b935c15bef"
      },
      "execution_count": 92,
      "outputs": [
        {
          "output_type": "stream",
          "name": "stdout",
          "text": [
            " ***   ***\n",
            "***** *****\n",
            "***********\n",
            " *********\n",
            "  *******\n",
            "   *****\n",
            "    ***\n",
            "     *\n"
          ]
        }
      ]
    },
    {
      "cell_type": "code",
      "source": [
        "#50\n",
        "# heart pattern \n",
        "n = 6\n",
        "\n",
        "# upper part of the heart\n",
        "for i in range(n//2, n, 2):\n",
        "    # print first spaces\n",
        "    for j in range(1, n-i ,2):\n",
        "        print(\" \", end=\"\")\n",
        "    # print first stars\n",
        "    for j in range(1, i+1, 1):\n",
        "        print(\"*\", end=\"\")\n",
        "    # print second spaces\n",
        "    for j in range(1, n-i+1, 1):\n",
        "        print(\" \", end=\"\")\n",
        "    # print second stars\n",
        "    for j in range(1, i+1, 1):\n",
        "        print(\"*\", end=\"\")\n",
        "    print()\n",
        "\n",
        "# lower part\n",
        "for i in range(n,0,-1):\n",
        "    for j in range(i, n, 1):\n",
        "        print(\" \", end=\"\")\n",
        "    for j in range(1, i*2, 1):\n",
        "        print(\"*\", end=\"\")\n",
        "    print()\n"
      ],
      "metadata": {
        "colab": {
          "base_uri": "https://localhost:8080/"
        },
        "id": "gFYxzE88kqjF",
        "outputId": "e777755f-4340-404c-c170-059975f59519"
      },
      "execution_count": 93,
      "outputs": [
        {
          "output_type": "stream",
          "name": "stdout",
          "text": [
            " ***   ***\n",
            "***** *****\n",
            "***********\n",
            " *********\n",
            "  *******\n",
            "   *****\n",
            "    ***\n",
            "     *\n"
          ]
        }
      ]
    },
    {
      "cell_type": "code",
      "source": [
        "#50\n",
        "# heart pattern \n",
        "n = 6\n",
        "\n",
        "# upper part of the heart\n",
        "for i in range(n//2, n, 2):\n",
        "    # print first spaces\n",
        "    for j in range(1, n-i ,2):\n",
        "        print(\" \", end=\"\")\n",
        "    # print first stars\n",
        "    for j in range(1, i+1, 1):\n",
        "        print(\"*\", end=\"\")\n",
        "    # print second spaces\n",
        "    for j in range(1, n-i+1, 1):\n",
        "        print(\" \", end=\"\")\n",
        "    # print second stars\n",
        "    for j in range(1, i+1, 1):\n",
        "        print(\"*\", end=\"\")\n",
        "    print()\n",
        "\n",
        "# lower part\n",
        "for i in range(n,0,-1):\n",
        "    for j in range(i, n, 1):\n",
        "        print(\" \", end=\"\")\n",
        "    for j in range(1, i*2, 1):\n",
        "        print(\"*\", end=\"\")\n",
        "    print()\n"
      ],
      "metadata": {
        "colab": {
          "base_uri": "https://localhost:8080/"
        },
        "id": "F_jFi1BYkq3D",
        "outputId": "d893b3e5-7736-4fb5-9f93-1bf6dc58c8d9"
      },
      "execution_count": 94,
      "outputs": [
        {
          "output_type": "stream",
          "name": "stdout",
          "text": [
            " ***   ***\n",
            "***** *****\n",
            "***********\n",
            " *********\n",
            "  *******\n",
            "   *****\n",
            "    ***\n",
            "     *\n"
          ]
        }
      ]
    },
    {
      "cell_type": "code",
      "source": [
        "#50\n",
        "# heart pattern \n",
        "n = 6\n",
        "\n",
        "# upper part of the heart\n",
        "for i in range(n//2, n, 2):\n",
        "    # print first spaces\n",
        "    for j in range(1, n-i ,2):\n",
        "        print(\" \", end=\"\")\n",
        "    # print first stars\n",
        "    for j in range(1, i+1, 1):\n",
        "        print(\"*\", end=\"\")\n",
        "    # print second spaces\n",
        "    for j in range(1, n-i+1, 1):\n",
        "        print(\" \", end=\"\")\n",
        "    # print second stars\n",
        "    for j in range(1, i+1, 1):\n",
        "        print(\"*\", end=\"\")\n",
        "    print()\n",
        "\n",
        "# lower part\n",
        "for i in range(n,0,-1):\n",
        "    for j in range(i, n, 1):\n",
        "        print(\" \", end=\"\")\n",
        "    for j in range(1, i*2, 1):\n",
        "        print(\"*\", end=\"\")\n",
        "    print()\n"
      ],
      "metadata": {
        "colab": {
          "base_uri": "https://localhost:8080/"
        },
        "id": "H05UhkYJkttK",
        "outputId": "7d6ba3bd-5d37-4297-b42b-f7b7d7d5a307"
      },
      "execution_count": 95,
      "outputs": [
        {
          "output_type": "stream",
          "name": "stdout",
          "text": [
            " ***   ***\n",
            "***** *****\n",
            "***********\n",
            " *********\n",
            "  *******\n",
            "   *****\n",
            "    ***\n",
            "     *\n"
          ]
        }
      ]
    },
    {
      "cell_type": "code",
      "source": [
        "#50\n",
        "# heart pattern \n",
        "n = 6\n",
        "\n",
        "# upper part of the heart\n",
        "for i in range(n//2, n, 2):\n",
        "    # print first spaces\n",
        "    for j in range(1, n-i ,2):\n",
        "        print(\" \", end=\"\")\n",
        "    # print first stars\n",
        "    for j in range(1, i+1, 1):\n",
        "        print(\"*\", end=\"\")\n",
        "    # print second spaces\n",
        "    for j in range(1, n-i+1, 1):\n",
        "        print(\" \", end=\"\")\n",
        "    # print second stars\n",
        "    for j in range(1, i+1, 1):\n",
        "        print(\"*\", end=\"\")\n",
        "    print()\n",
        "\n",
        "# lower part\n",
        "for i in range(n,0,-1):\n",
        "    for j in range(i, n, 1):\n",
        "        print(\" \", end=\"\")\n",
        "    for j in range(1, i*2, 1):\n",
        "        print(\"*\", end=\"\")\n",
        "    print()\n"
      ],
      "metadata": {
        "colab": {
          "base_uri": "https://localhost:8080/"
        },
        "id": "GluGurTqkt90",
        "outputId": "e18daea3-db99-4a99-ea1d-2fe9e0660c09"
      },
      "execution_count": 96,
      "outputs": [
        {
          "output_type": "stream",
          "name": "stdout",
          "text": [
            " ***   ***\n",
            "***** *****\n",
            "***********\n",
            " *********\n",
            "  *******\n",
            "   *****\n",
            "    ***\n",
            "     *\n"
          ]
        }
      ]
    },
    {
      "cell_type": "code",
      "source": [
        "#50\n",
        "# heart pattern \n",
        "n = 6\n",
        "\n",
        "# upper part of the heart\n",
        "for i in range(n//2, n, 2):\n",
        "    # print first spaces\n",
        "    for j in range(1, n-i ,2):\n",
        "        print(\" \", end=\"\")\n",
        "    # print first stars\n",
        "    for j in range(1, i+1, 1):\n",
        "        print(\"*\", end=\"\")\n",
        "    # print second spaces\n",
        "    for j in range(1, n-i+1, 1):\n",
        "        print(\" \", end=\"\")\n",
        "    # print second stars\n",
        "    for j in range(1, i+1, 1):\n",
        "        print(\"*\", end=\"\")\n",
        "    print()\n",
        "\n",
        "# lower part\n",
        "for i in range(n,0,-1):\n",
        "    for j in range(i, n, 1):\n",
        "        print(\" \", end=\"\")\n",
        "    for j in range(1, i*2, 1):\n",
        "        print(\"*\", end=\"\")\n",
        "    print()\n"
      ],
      "metadata": {
        "colab": {
          "base_uri": "https://localhost:8080/"
        },
        "id": "PiTPJfZFkuM0",
        "outputId": "29345540-059b-4f1c-9b74-0a8348e0b626"
      },
      "execution_count": 97,
      "outputs": [
        {
          "output_type": "stream",
          "name": "stdout",
          "text": [
            " ***   ***\n",
            "***** *****\n",
            "***********\n",
            " *********\n",
            "  *******\n",
            "   *****\n",
            "    ***\n",
            "     *\n"
          ]
        }
      ]
    },
    {
      "cell_type": "code",
      "source": [
        "#50\n",
        "# heart pattern \n",
        "n = 6\n",
        "\n",
        "# upper part of the heart\n",
        "for i in range(n//2, n, 2):\n",
        "    # print first spaces\n",
        "    for j in range(1, n-i ,2):\n",
        "        print(\" \", end=\"\")\n",
        "    # print first stars\n",
        "    for j in range(1, i+1, 1):\n",
        "        print(\"*\", end=\"\")\n",
        "    # print second spaces\n",
        "    for j in range(1, n-i+1, 1):\n",
        "        print(\" \", end=\"\")\n",
        "    # print second stars\n",
        "    for j in range(1, i+1, 1):\n",
        "        print(\"*\", end=\"\")\n",
        "    print()\n",
        "\n",
        "# lower part\n",
        "for i in range(n,0,-1):\n",
        "    for j in range(i, n, 1):\n",
        "        print(\" \", end=\"\")\n",
        "    for j in range(1, i*2, 1):\n",
        "        print(\"*\", end=\"\")\n",
        "    print()\n"
      ],
      "metadata": {
        "colab": {
          "base_uri": "https://localhost:8080/"
        },
        "id": "mk6D-Si2kuda",
        "outputId": "136d7e3d-6064-4f7b-fa47-a4123e731e5f"
      },
      "execution_count": 98,
      "outputs": [
        {
          "output_type": "stream",
          "name": "stdout",
          "text": [
            " ***   ***\n",
            "***** *****\n",
            "***********\n",
            " *********\n",
            "  *******\n",
            "   *****\n",
            "    ***\n",
            "     *\n"
          ]
        }
      ]
    },
    {
      "cell_type": "code",
      "source": [
        "#50\n",
        "# heart pattern \n",
        "n = 6\n",
        "\n",
        "# upper part of the heart\n",
        "for i in range(n//2, n, 2):\n",
        "    # print first spaces\n",
        "    for j in range(1, n-i ,2):\n",
        "        print(\" \", end=\"\")\n",
        "    # print first stars\n",
        "    for j in range(1, i+1, 1):\n",
        "        print(\"*\", end=\"\")\n",
        "    # print second spaces\n",
        "    for j in range(1, n-i+1, 1):\n",
        "        print(\" \", end=\"\")\n",
        "    # print second stars\n",
        "    for j in range(1, i+1, 1):\n",
        "        print(\"*\", end=\"\")\n",
        "    print()\n",
        "\n",
        "# lower part\n",
        "for i in range(n,0,-1):\n",
        "    for j in range(i, n, 1):\n",
        "        print(\" \", end=\"\")\n",
        "    for j in range(1, i*2, 1):\n",
        "        print(\"*\", end=\"\")\n",
        "    print()\n"
      ],
      "metadata": {
        "colab": {
          "base_uri": "https://localhost:8080/"
        },
        "id": "CiHYhmFGkuty",
        "outputId": "2bf1cf60-6ce5-4dbf-f07e-70693a0eafef"
      },
      "execution_count": 99,
      "outputs": [
        {
          "output_type": "stream",
          "name": "stdout",
          "text": [
            " ***   ***\n",
            "***** *****\n",
            "***********\n",
            " *********\n",
            "  *******\n",
            "   *****\n",
            "    ***\n",
            "     *\n"
          ]
        }
      ]
    },
    {
      "cell_type": "code",
      "source": [
        "#50\n",
        "# heart pattern \n",
        "n = 6\n",
        "\n",
        "# upper part of the heart\n",
        "for i in range(n//2, n, 2):\n",
        "    # print first spaces\n",
        "    for j in range(1, n-i ,2):\n",
        "        print(\" \", end=\"\")\n",
        "    # print first stars\n",
        "    for j in range(1, i+1, 1):\n",
        "        print(\"*\", end=\"\")\n",
        "    # print second spaces\n",
        "    for j in range(1, n-i+1, 1):\n",
        "        print(\" \", end=\"\")\n",
        "    # print second stars\n",
        "    for j in range(1, i+1, 1):\n",
        "        print(\"*\", end=\"\")\n",
        "    print()\n",
        "\n",
        "# lower part\n",
        "for i in range(n,0,-1):\n",
        "    for j in range(i, n, 1):\n",
        "        print(\" \", end=\"\")\n",
        "    for j in range(1, i*2, 1):\n",
        "        print(\"*\", end=\"\")\n",
        "    print()\n"
      ],
      "metadata": {
        "colab": {
          "base_uri": "https://localhost:8080/"
        },
        "id": "OjC-cfMHkvA9",
        "outputId": "0e4c42a2-b1c1-45a7-c88f-680e5344e123"
      },
      "execution_count": 100,
      "outputs": [
        {
          "output_type": "stream",
          "name": "stdout",
          "text": [
            " ***   ***\n",
            "***** *****\n",
            "***********\n",
            " *********\n",
            "  *******\n",
            "   *****\n",
            "    ***\n",
            "     *\n"
          ]
        }
      ]
    },
    {
      "cell_type": "code",
      "source": [
        "#50\n",
        "# heart pattern \n",
        "n = 6\n",
        "\n",
        "# upper part of the heart\n",
        "for i in range(n//2, n, 2):\n",
        "    # print first spaces\n",
        "    for j in range(1, n-i ,2):\n",
        "        print(\" \", end=\"\")\n",
        "    # print first stars\n",
        "    for j in range(1, i+1, 1):\n",
        "        print(\"*\", end=\"\")\n",
        "    # print second spaces\n",
        "    for j in range(1, n-i+1, 1):\n",
        "        print(\" \", end=\"\")\n",
        "    # print second stars\n",
        "    for j in range(1, i+1, 1):\n",
        "        print(\"*\", end=\"\")\n",
        "    print()\n",
        "\n",
        "# lower part\n",
        "for i in range(n,0,-1):\n",
        "    for j in range(i, n, 1):\n",
        "        print(\" \", end=\"\")\n",
        "    for j in range(1, i*2, 1):\n",
        "        print(\"*\", end=\"\")\n",
        "    print()\n"
      ],
      "metadata": {
        "colab": {
          "base_uri": "https://localhost:8080/"
        },
        "id": "TwbOvDUQkvTQ",
        "outputId": "6ded9cec-4268-41e3-9bbc-8f2a01792835"
      },
      "execution_count": 101,
      "outputs": [
        {
          "output_type": "stream",
          "name": "stdout",
          "text": [
            " ***   ***\n",
            "***** *****\n",
            "***********\n",
            " *********\n",
            "  *******\n",
            "   *****\n",
            "    ***\n",
            "     *\n"
          ]
        }
      ]
    },
    {
      "cell_type": "code",
      "source": [
        "#50\n",
        "# heart pattern \n",
        "n = 6\n",
        "\n",
        "# upper part of the heart\n",
        "for i in range(n//2, n, 2):\n",
        "    # print first spaces\n",
        "    for j in range(1, n-i ,2):\n",
        "        print(\" \", end=\"\")\n",
        "    # print first stars\n",
        "    for j in range(1, i+1, 1):\n",
        "        print(\"*\", end=\"\")\n",
        "    # print second spaces\n",
        "    for j in range(1, n-i+1, 1):\n",
        "        print(\" \", end=\"\")\n",
        "    # print second stars\n",
        "    for j in range(1, i+1, 1):\n",
        "        print(\"*\", end=\"\")\n",
        "    print()\n",
        "\n",
        "# lower part\n",
        "for i in range(n,0,-1):\n",
        "    for j in range(i, n, 1):\n",
        "        print(\" \", end=\"\")\n",
        "    for j in range(1, i*2, 1):\n",
        "        print(\"*\", end=\"\")\n",
        "    print()\n"
      ],
      "metadata": {
        "colab": {
          "base_uri": "https://localhost:8080/"
        },
        "id": "GH0JlsQokvkO",
        "outputId": "8a546e5c-1e03-4307-8182-ff03cfc33a1e"
      },
      "execution_count": 102,
      "outputs": [
        {
          "output_type": "stream",
          "name": "stdout",
          "text": [
            " ***   ***\n",
            "***** *****\n",
            "***********\n",
            " *********\n",
            "  *******\n",
            "   *****\n",
            "    ***\n",
            "     *\n"
          ]
        }
      ]
    },
    {
      "cell_type": "code",
      "source": [
        "#50\n",
        "# heart pattern \n",
        "n = 6\n",
        "\n",
        "# upper part of the heart\n",
        "for i in range(n//2, n, 2):\n",
        "    # print first spaces\n",
        "    for j in range(1, n-i ,2):\n",
        "        print(\" \", end=\"\")\n",
        "    # print first stars\n",
        "    for j in range(1, i+1, 1):\n",
        "        print(\"*\", end=\"\")\n",
        "    # print second spaces\n",
        "    for j in range(1, n-i+1, 1):\n",
        "        print(\" \", end=\"\")\n",
        "    # print second stars\n",
        "    for j in range(1, i+1, 1):\n",
        "        print(\"*\", end=\"\")\n",
        "    print()\n",
        "\n",
        "# lower part\n",
        "for i in range(n,0,-1):\n",
        "    for j in range(i, n, 1):\n",
        "        print(\" \", end=\"\")\n",
        "    for j in range(1, i*2, 1):\n",
        "        print(\"*\", end=\"\")\n",
        "    print()\n"
      ],
      "metadata": {
        "colab": {
          "base_uri": "https://localhost:8080/"
        },
        "id": "ju19qBm9kv1o",
        "outputId": "e52f06d7-2e52-4816-b643-4a9926235286"
      },
      "execution_count": 103,
      "outputs": [
        {
          "output_type": "stream",
          "name": "stdout",
          "text": [
            " ***   ***\n",
            "***** *****\n",
            "***********\n",
            " *********\n",
            "  *******\n",
            "   *****\n",
            "    ***\n",
            "     *\n"
          ]
        }
      ]
    },
    {
      "cell_type": "code",
      "source": [
        "#50\n",
        "# heart pattern \n",
        "n = 6\n",
        "\n",
        "# upper part of the heart\n",
        "for i in range(n//2, n, 2):\n",
        "    # print first spaces\n",
        "    for j in range(1, n-i ,2):\n",
        "        print(\" \", end=\"\")\n",
        "    # print first stars\n",
        "    for j in range(1, i+1, 1):\n",
        "        print(\"*\", end=\"\")\n",
        "    # print second spaces\n",
        "    for j in range(1, n-i+1, 1):\n",
        "        print(\" \", end=\"\")\n",
        "    # print second stars\n",
        "    for j in range(1, i+1, 1):\n",
        "        print(\"*\", end=\"\")\n",
        "    print()\n",
        "\n",
        "# lower part\n",
        "for i in range(n,0,-1):\n",
        "    for j in range(i, n, 1):\n",
        "        print(\" \", end=\"\")\n",
        "    for j in range(1, i*2, 1):\n",
        "        print(\"*\", end=\"\")\n",
        "    print()\n"
      ],
      "metadata": {
        "colab": {
          "base_uri": "https://localhost:8080/"
        },
        "id": "RjOB6zwxkwIr",
        "outputId": "76dfb728-cdc8-4204-f364-740397381ecf"
      },
      "execution_count": 104,
      "outputs": [
        {
          "output_type": "stream",
          "name": "stdout",
          "text": [
            " ***   ***\n",
            "***** *****\n",
            "***********\n",
            " *********\n",
            "  *******\n",
            "   *****\n",
            "    ***\n",
            "     *\n"
          ]
        }
      ]
    },
    {
      "cell_type": "code",
      "source": [
        "#50\n",
        "# heart pattern \n",
        "n = 6\n",
        "\n",
        "# upper part of the heart\n",
        "for i in range(n//2, n, 2):\n",
        "    # print first spaces\n",
        "    for j in range(1, n-i ,2):\n",
        "        print(\" \", end=\"\")\n",
        "    # print first stars\n",
        "    for j in range(1, i+1, 1):\n",
        "        print(\"*\", end=\"\")\n",
        "    # print second spaces\n",
        "    for j in range(1, n-i+1, 1):\n",
        "        print(\" \", end=\"\")\n",
        "    # print second stars\n",
        "    for j in range(1, i+1, 1):\n",
        "        print(\"*\", end=\"\")\n",
        "    print()\n",
        "\n",
        "# lower part\n",
        "for i in range(n,0,-1):\n",
        "    for j in range(i, n, 1):\n",
        "        print(\" \", end=\"\")\n",
        "    for j in range(1, i*2, 1):\n",
        "        print(\"*\", end=\"\")\n",
        "    print()\n"
      ],
      "metadata": {
        "colab": {
          "base_uri": "https://localhost:8080/"
        },
        "id": "90p9c2bmkwXk",
        "outputId": "ed8fdd6a-9461-4616-d8d1-380e5acd27ae"
      },
      "execution_count": 105,
      "outputs": [
        {
          "output_type": "stream",
          "name": "stdout",
          "text": [
            " ***   ***\n",
            "***** *****\n",
            "***********\n",
            " *********\n",
            "  *******\n",
            "   *****\n",
            "    ***\n",
            "     *\n"
          ]
        }
      ]
    },
    {
      "cell_type": "code",
      "source": [
        "#50\n",
        "# heart pattern \n",
        "n = 6\n",
        "\n",
        "# upper part of the heart\n",
        "for i in range(n//2, n, 2):\n",
        "    # print first spaces\n",
        "    for j in range(1, n-i ,2):\n",
        "        print(\" \", end=\"\")\n",
        "    # print first stars\n",
        "    for j in range(1, i+1, 1):\n",
        "        print(\"*\", end=\"\")\n",
        "    # print second spaces\n",
        "    for j in range(1, n-i+1, 1):\n",
        "        print(\" \", end=\"\")\n",
        "    # print second stars\n",
        "    for j in range(1, i+1, 1):\n",
        "        print(\"*\", end=\"\")\n",
        "    print()\n",
        "\n",
        "# lower part\n",
        "for i in range(n,0,-1):\n",
        "    for j in range(i, n, 1):\n",
        "        print(\" \", end=\"\")\n",
        "    for j in range(1, i*2, 1):\n",
        "        print(\"*\", end=\"\")\n",
        "    print()\n"
      ],
      "metadata": {
        "colab": {
          "base_uri": "https://localhost:8080/"
        },
        "id": "SM5ethUekwqj",
        "outputId": "2f9dc902-ccb6-4b77-bb35-40a77a62c23e"
      },
      "execution_count": 106,
      "outputs": [
        {
          "output_type": "stream",
          "name": "stdout",
          "text": [
            " ***   ***\n",
            "***** *****\n",
            "***********\n",
            " *********\n",
            "  *******\n",
            "   *****\n",
            "    ***\n",
            "     *\n"
          ]
        }
      ]
    },
    {
      "cell_type": "code",
      "source": [
        "#50\n",
        "# heart pattern \n",
        "n = 6\n",
        "\n",
        "# upper part of the heart\n",
        "for i in range(n//2, n, 2):\n",
        "    # print first spaces\n",
        "    for j in range(1, n-i ,2):\n",
        "        print(\" \", end=\"\")\n",
        "    # print first stars\n",
        "    for j in range(1, i+1, 1):\n",
        "        print(\"*\", end=\"\")\n",
        "    # print second spaces\n",
        "    for j in range(1, n-i+1, 1):\n",
        "        print(\" \", end=\"\")\n",
        "    # print second stars\n",
        "    for j in range(1, i+1, 1):\n",
        "        print(\"*\", end=\"\")\n",
        "    print()\n",
        "\n",
        "# lower part\n",
        "for i in range(n,0,-1):\n",
        "    for j in range(i, n, 1):\n",
        "        print(\" \", end=\"\")\n",
        "    for j in range(1, i*2, 1):\n",
        "        print(\"*\", end=\"\")\n",
        "    print()\n"
      ],
      "metadata": {
        "colab": {
          "base_uri": "https://localhost:8080/"
        },
        "id": "V8PYRXppkw9h",
        "outputId": "8edec4b7-1de2-473f-8357-55ff213181ad"
      },
      "execution_count": 107,
      "outputs": [
        {
          "output_type": "stream",
          "name": "stdout",
          "text": [
            " ***   ***\n",
            "***** *****\n",
            "***********\n",
            " *********\n",
            "  *******\n",
            "   *****\n",
            "    ***\n",
            "     *\n"
          ]
        }
      ]
    },
    {
      "cell_type": "code",
      "source": [
        "#50\n",
        "# heart pattern \n",
        "n = 6\n",
        "\n",
        "# upper part of the heart\n",
        "for i in range(n//2, n, 2):\n",
        "    # print first spaces\n",
        "    for j in range(1, n-i ,2):\n",
        "        print(\" \", end=\"\")\n",
        "    # print first stars\n",
        "    for j in range(1, i+1, 1):\n",
        "        print(\"*\", end=\"\")\n",
        "    # print second spaces\n",
        "    for j in range(1, n-i+1, 1):\n",
        "        print(\" \", end=\"\")\n",
        "    # print second stars\n",
        "    for j in range(1, i+1, 1):\n",
        "        print(\"*\", end=\"\")\n",
        "    print()\n",
        "\n",
        "# lower part\n",
        "for i in range(n,0,-1):\n",
        "    for j in range(i, n, 1):\n",
        "        print(\" \", end=\"\")\n",
        "    for j in range(1, i*2, 1):\n",
        "        print(\"*\", end=\"\")\n",
        "    print()\n"
      ],
      "metadata": {
        "colab": {
          "base_uri": "https://localhost:8080/"
        },
        "id": "HTDrEnjBkxNw",
        "outputId": "846439a1-6eaf-4dd5-cc22-2683366a73cc"
      },
      "execution_count": 108,
      "outputs": [
        {
          "output_type": "stream",
          "name": "stdout",
          "text": [
            " ***   ***\n",
            "***** *****\n",
            "***********\n",
            " *********\n",
            "  *******\n",
            "   *****\n",
            "    ***\n",
            "     *\n"
          ]
        }
      ]
    },
    {
      "cell_type": "code",
      "source": [
        "#50\n",
        "# heart pattern \n",
        "n = 6\n",
        "\n",
        "# upper part of the heart\n",
        "for i in range(n//2, n, 2):\n",
        "    # print first spaces\n",
        "    for j in range(1, n-i ,2):\n",
        "        print(\" \", end=\"\")\n",
        "    # print first stars\n",
        "    for j in range(1, i+1, 1):\n",
        "        print(\"*\", end=\"\")\n",
        "    # print second spaces\n",
        "    for j in range(1, n-i+1, 1):\n",
        "        print(\" \", end=\"\")\n",
        "    # print second stars\n",
        "    for j in range(1, i+1, 1):\n",
        "        print(\"*\", end=\"\")\n",
        "    print()\n",
        "\n",
        "# lower part\n",
        "for i in range(n,0,-1):\n",
        "    for j in range(i, n, 1):\n",
        "        print(\" \", end=\"\")\n",
        "    for j in range(1, i*2, 1):\n",
        "        print(\"*\", end=\"\")\n",
        "    print()\n"
      ],
      "metadata": {
        "colab": {
          "base_uri": "https://localhost:8080/"
        },
        "id": "L3yoM1c5kyLT",
        "outputId": "0b0b88ae-8930-4f5f-c532-ba5928a78649"
      },
      "execution_count": 109,
      "outputs": [
        {
          "output_type": "stream",
          "name": "stdout",
          "text": [
            " ***   ***\n",
            "***** *****\n",
            "***********\n",
            " *********\n",
            "  *******\n",
            "   *****\n",
            "    ***\n",
            "     *\n"
          ]
        }
      ]
    },
    {
      "cell_type": "code",
      "source": [
        "#50\n",
        "# heart pattern \n",
        "n = 6\n",
        "\n",
        "# upper part of the heart\n",
        "for i in range(n//2, n, 2):\n",
        "    # print first spaces\n",
        "    for j in range(1, n-i ,2):\n",
        "        print(\" \", end=\"\")\n",
        "    # print first stars\n",
        "    for j in range(1, i+1, 1):\n",
        "        print(\"*\", end=\"\")\n",
        "    # print second spaces\n",
        "    for j in range(1, n-i+1, 1):\n",
        "        print(\" \", end=\"\")\n",
        "    # print second stars\n",
        "    for j in range(1, i+1, 1):\n",
        "        print(\"*\", end=\"\")\n",
        "    print()\n",
        "\n",
        "# lower part\n",
        "for i in range(n,0,-1):\n",
        "    for j in range(i, n, 1):\n",
        "        print(\" \", end=\"\")\n",
        "    for j in range(1, i*2, 1):\n",
        "        print(\"*\", end=\"\")\n",
        "    print()\n"
      ],
      "metadata": {
        "colab": {
          "base_uri": "https://localhost:8080/"
        },
        "id": "hOFEBKTLkya-",
        "outputId": "eb2d1ff7-47b7-4bf8-9d43-d52950914352"
      },
      "execution_count": 110,
      "outputs": [
        {
          "output_type": "stream",
          "name": "stdout",
          "text": [
            " ***   ***\n",
            "***** *****\n",
            "***********\n",
            " *********\n",
            "  *******\n",
            "   *****\n",
            "    ***\n",
            "     *\n"
          ]
        }
      ]
    },
    {
      "cell_type": "code",
      "source": [
        "#50\n",
        "# heart pattern \n",
        "n = 6\n",
        "\n",
        "# upper part of the heart\n",
        "for i in range(n//2, n, 2):\n",
        "    # print first spaces\n",
        "    for j in range(1, n-i ,2):\n",
        "        print(\" \", end=\"\")\n",
        "    # print first stars\n",
        "    for j in range(1, i+1, 1):\n",
        "        print(\"*\", end=\"\")\n",
        "    # print second spaces\n",
        "    for j in range(1, n-i+1, 1):\n",
        "        print(\" \", end=\"\")\n",
        "    # print second stars\n",
        "    for j in range(1, i+1, 1):\n",
        "        print(\"*\", end=\"\")\n",
        "    print()\n",
        "\n",
        "# lower part\n",
        "for i in range(n,0,-1):\n",
        "    for j in range(i, n, 1):\n",
        "        print(\" \", end=\"\")\n",
        "    for j in range(1, i*2, 1):\n",
        "        print(\"*\", end=\"\")\n",
        "    print()\n"
      ],
      "metadata": {
        "colab": {
          "base_uri": "https://localhost:8080/"
        },
        "id": "BS65aBrXkypV",
        "outputId": "cecf2724-4010-4c8e-dee5-a9df78582758"
      },
      "execution_count": 111,
      "outputs": [
        {
          "output_type": "stream",
          "name": "stdout",
          "text": [
            " ***   ***\n",
            "***** *****\n",
            "***********\n",
            " *********\n",
            "  *******\n",
            "   *****\n",
            "    ***\n",
            "     *\n"
          ]
        }
      ]
    },
    {
      "cell_type": "code",
      "source": [
        "#50\n",
        "# heart pattern \n",
        "n = 6\n",
        "\n",
        "# upper part of the heart\n",
        "for i in range(n//2, n, 2):\n",
        "    # print first spaces\n",
        "    for j in range(1, n-i ,2):\n",
        "        print(\" \", end=\"\")\n",
        "    # print first stars\n",
        "    for j in range(1, i+1, 1):\n",
        "        print(\"*\", end=\"\")\n",
        "    # print second spaces\n",
        "    for j in range(1, n-i+1, 1):\n",
        "        print(\" \", end=\"\")\n",
        "    # print second stars\n",
        "    for j in range(1, i+1, 1):\n",
        "        print(\"*\", end=\"\")\n",
        "    print()\n",
        "\n",
        "# lower part\n",
        "for i in range(n,0,-1):\n",
        "    for j in range(i, n, 1):\n",
        "        print(\" \", end=\"\")\n",
        "    for j in range(1, i*2, 1):\n",
        "        print(\"*\", end=\"\")\n",
        "    print()\n"
      ],
      "metadata": {
        "colab": {
          "base_uri": "https://localhost:8080/"
        },
        "id": "0gyYiXbHky5m",
        "outputId": "c99f38fc-24ca-451e-bf02-0f2e657c07c5"
      },
      "execution_count": 112,
      "outputs": [
        {
          "output_type": "stream",
          "name": "stdout",
          "text": [
            " ***   ***\n",
            "***** *****\n",
            "***********\n",
            " *********\n",
            "  *******\n",
            "   *****\n",
            "    ***\n",
            "     *\n"
          ]
        }
      ]
    },
    {
      "cell_type": "code",
      "source": [
        "#50\n",
        "# heart pattern \n",
        "n = 6\n",
        "\n",
        "# upper part of the heart\n",
        "for i in range(n//2, n, 2):\n",
        "    # print first spaces\n",
        "    for j in range(1, n-i ,2):\n",
        "        print(\" \", end=\"\")\n",
        "    # print first stars\n",
        "    for j in range(1, i+1, 1):\n",
        "        print(\"*\", end=\"\")\n",
        "    # print second spaces\n",
        "    for j in range(1, n-i+1, 1):\n",
        "        print(\" \", end=\"\")\n",
        "    # print second stars\n",
        "    for j in range(1, i+1, 1):\n",
        "        print(\"*\", end=\"\")\n",
        "    print()\n",
        "\n",
        "# lower part\n",
        "for i in range(n,0,-1):\n",
        "    for j in range(i, n, 1):\n",
        "        print(\" \", end=\"\")\n",
        "    for j in range(1, i*2, 1):\n",
        "        print(\"*\", end=\"\")\n",
        "    print()\n"
      ],
      "metadata": {
        "colab": {
          "base_uri": "https://localhost:8080/"
        },
        "id": "d7jPawbhkzLS",
        "outputId": "b6fd1a41-dfa0-4105-b3bb-2ab9e4059fc7"
      },
      "execution_count": 113,
      "outputs": [
        {
          "output_type": "stream",
          "name": "stdout",
          "text": [
            " ***   ***\n",
            "***** *****\n",
            "***********\n",
            " *********\n",
            "  *******\n",
            "   *****\n",
            "    ***\n",
            "     *\n"
          ]
        }
      ]
    },
    {
      "cell_type": "code",
      "source": [
        "#50\n",
        "# heart pattern \n",
        "n = 6\n",
        "\n",
        "# upper part of the heart\n",
        "for i in range(n//2, n, 2):\n",
        "    # print first spaces\n",
        "    for j in range(1, n-i ,2):\n",
        "        print(\" \", end=\"\")\n",
        "    # print first stars\n",
        "    for j in range(1, i+1, 1):\n",
        "        print(\"*\", end=\"\")\n",
        "    # print second spaces\n",
        "    for j in range(1, n-i+1, 1):\n",
        "        print(\" \", end=\"\")\n",
        "    # print second stars\n",
        "    for j in range(1, i+1, 1):\n",
        "        print(\"*\", end=\"\")\n",
        "    print()\n",
        "\n",
        "# lower part\n",
        "for i in range(n,0,-1):\n",
        "    for j in range(i, n, 1):\n",
        "        print(\" \", end=\"\")\n",
        "    for j in range(1, i*2, 1):\n",
        "        print(\"*\", end=\"\")\n",
        "    print()\n"
      ],
      "metadata": {
        "colab": {
          "base_uri": "https://localhost:8080/"
        },
        "id": "PCa5WHH_k0cs",
        "outputId": "979e30f6-7705-4e6f-b7cc-d211b2cce304"
      },
      "execution_count": 114,
      "outputs": [
        {
          "output_type": "stream",
          "name": "stdout",
          "text": [
            " ***   ***\n",
            "***** *****\n",
            "***********\n",
            " *********\n",
            "  *******\n",
            "   *****\n",
            "    ***\n",
            "     *\n"
          ]
        }
      ]
    },
    {
      "cell_type": "code",
      "source": [
        "#50\n",
        "# heart pattern \n",
        "n = 6\n",
        "\n",
        "# upper part of the heart\n",
        "for i in range(n//2, n, 2):\n",
        "    # print first spaces\n",
        "    for j in range(1, n-i ,2):\n",
        "        print(\" \", end=\"\")\n",
        "    # print first stars\n",
        "    for j in range(1, i+1, 1):\n",
        "        print(\"*\", end=\"\")\n",
        "    # print second spaces\n",
        "    for j in range(1, n-i+1, 1):\n",
        "        print(\" \", end=\"\")\n",
        "    # print second stars\n",
        "    for j in range(1, i+1, 1):\n",
        "        print(\"*\", end=\"\")\n",
        "    print()\n",
        "\n",
        "# lower part\n",
        "for i in range(n,0,-1):\n",
        "    for j in range(i, n, 1):\n",
        "        print(\" \", end=\"\")\n",
        "    for j in range(1, i*2, 1):\n",
        "        print(\"*\", end=\"\")\n",
        "    print()\n"
      ],
      "metadata": {
        "colab": {
          "base_uri": "https://localhost:8080/"
        },
        "id": "BKfo1C_1k1Vv",
        "outputId": "a5637b0f-acc9-4653-f4c4-bd3451379550"
      },
      "execution_count": 115,
      "outputs": [
        {
          "output_type": "stream",
          "name": "stdout",
          "text": [
            " ***   ***\n",
            "***** *****\n",
            "***********\n",
            " *********\n",
            "  *******\n",
            "   *****\n",
            "    ***\n",
            "     *\n"
          ]
        }
      ]
    },
    {
      "cell_type": "code",
      "source": [
        "#50\n",
        "# heart pattern \n",
        "n = 6\n",
        "\n",
        "# upper part of the heart\n",
        "for i in range(n//2, n, 2):\n",
        "    # print first spaces\n",
        "    for j in range(1, n-i ,2):\n",
        "        print(\" \", end=\"\")\n",
        "    # print first stars\n",
        "    for j in range(1, i+1, 1):\n",
        "        print(\"*\", end=\"\")\n",
        "    # print second spaces\n",
        "    for j in range(1, n-i+1, 1):\n",
        "        print(\" \", end=\"\")\n",
        "    # print second stars\n",
        "    for j in range(1, i+1, 1):\n",
        "        print(\"*\", end=\"\")\n",
        "    print()\n",
        "\n",
        "# lower part\n",
        "for i in range(n,0,-1):\n",
        "    for j in range(i, n, 1):\n",
        "        print(\" \", end=\"\")\n",
        "    for j in range(1, i*2, 1):\n",
        "        print(\"*\", end=\"\")\n",
        "    print()\n"
      ],
      "metadata": {
        "colab": {
          "base_uri": "https://localhost:8080/"
        },
        "id": "0pVy_bVQk1vB",
        "outputId": "369e9e1c-7c58-45f4-b2b3-255531284d28"
      },
      "execution_count": 116,
      "outputs": [
        {
          "output_type": "stream",
          "name": "stdout",
          "text": [
            " ***   ***\n",
            "***** *****\n",
            "***********\n",
            " *********\n",
            "  *******\n",
            "   *****\n",
            "    ***\n",
            "     *\n"
          ]
        }
      ]
    },
    {
      "cell_type": "code",
      "source": [
        "#50\n",
        "# heart pattern \n",
        "n = 6\n",
        "\n",
        "# upper part of the heart\n",
        "for i in range(n//2, n, 2):\n",
        "    # print first spaces\n",
        "    for j in range(1, n-i ,2):\n",
        "        print(\" \", end=\"\")\n",
        "    # print first stars\n",
        "    for j in range(1, i+1, 1):\n",
        "        print(\"*\", end=\"\")\n",
        "    # print second spaces\n",
        "    for j in range(1, n-i+1, 1):\n",
        "        print(\" \", end=\"\")\n",
        "    # print second stars\n",
        "    for j in range(1, i+1, 1):\n",
        "        print(\"*\", end=\"\")\n",
        "    print()\n",
        "\n",
        "# lower part\n",
        "for i in range(n,0,-1):\n",
        "    for j in range(i, n, 1):\n",
        "        print(\" \", end=\"\")\n",
        "    for j in range(1, i*2, 1):\n",
        "        print(\"*\", end=\"\")\n",
        "    print()\n"
      ],
      "metadata": {
        "colab": {
          "base_uri": "https://localhost:8080/"
        },
        "id": "7T9TW2dok1_8",
        "outputId": "d3998b32-2702-4823-9ecd-7157b41ad6ca"
      },
      "execution_count": 117,
      "outputs": [
        {
          "output_type": "stream",
          "name": "stdout",
          "text": [
            " ***   ***\n",
            "***** *****\n",
            "***********\n",
            " *********\n",
            "  *******\n",
            "   *****\n",
            "    ***\n",
            "     *\n"
          ]
        }
      ]
    },
    {
      "cell_type": "code",
      "source": [
        "#50\n",
        "# heart pattern \n",
        "n = 6\n",
        "\n",
        "# upper part of the heart\n",
        "for i in range(n//2, n, 2):\n",
        "    # print first spaces\n",
        "    for j in range(1, n-i ,2):\n",
        "        print(\" \", end=\"\")\n",
        "    # print first stars\n",
        "    for j in range(1, i+1, 1):\n",
        "        print(\"*\", end=\"\")\n",
        "    # print second spaces\n",
        "    for j in range(1, n-i+1, 1):\n",
        "        print(\" \", end=\"\")\n",
        "    # print second stars\n",
        "    for j in range(1, i+1, 1):\n",
        "        print(\"*\", end=\"\")\n",
        "    print()\n",
        "\n",
        "# lower part\n",
        "for i in range(n,0,-1):\n",
        "    for j in range(i, n, 1):\n",
        "        print(\" \", end=\"\")\n",
        "    for j in range(1, i*2, 1):\n",
        "        print(\"*\", end=\"\")\n",
        "    print()\n"
      ],
      "metadata": {
        "colab": {
          "base_uri": "https://localhost:8080/"
        },
        "id": "KU3ZK8ozk2QQ",
        "outputId": "b4b43692-be68-427e-ed44-65cad8db72e0"
      },
      "execution_count": 118,
      "outputs": [
        {
          "output_type": "stream",
          "name": "stdout",
          "text": [
            " ***   ***\n",
            "***** *****\n",
            "***********\n",
            " *********\n",
            "  *******\n",
            "   *****\n",
            "    ***\n",
            "     *\n"
          ]
        }
      ]
    },
    {
      "cell_type": "code",
      "source": [
        "#50\n",
        "# heart pattern \n",
        "n = 6\n",
        "\n",
        "# upper part of the heart\n",
        "for i in range(n//2, n, 2):\n",
        "    # print first spaces\n",
        "    for j in range(1, n-i ,2):\n",
        "        print(\" \", end=\"\")\n",
        "    # print first stars\n",
        "    for j in range(1, i+1, 1):\n",
        "        print(\"*\", end=\"\")\n",
        "    # print second spaces\n",
        "    for j in range(1, n-i+1, 1):\n",
        "        print(\" \", end=\"\")\n",
        "    # print second stars\n",
        "    for j in range(1, i+1, 1):\n",
        "        print(\"*\", end=\"\")\n",
        "    print()\n",
        "\n",
        "# lower part\n",
        "for i in range(n,0,-1):\n",
        "    for j in range(i, n, 1):\n",
        "        print(\" \", end=\"\")\n",
        "    for j in range(1, i*2, 1):\n",
        "        print(\"*\", end=\"\")\n",
        "    print()\n"
      ],
      "metadata": {
        "colab": {
          "base_uri": "https://localhost:8080/"
        },
        "id": "X2ubw_BKk2gM",
        "outputId": "f1549842-1cc4-4b87-a77b-04b30b9169bf"
      },
      "execution_count": 119,
      "outputs": [
        {
          "output_type": "stream",
          "name": "stdout",
          "text": [
            " ***   ***\n",
            "***** *****\n",
            "***********\n",
            " *********\n",
            "  *******\n",
            "   *****\n",
            "    ***\n",
            "     *\n"
          ]
        }
      ]
    },
    {
      "cell_type": "code",
      "source": [
        "#50\n",
        "# heart pattern \n",
        "n = 6\n",
        "\n",
        "# upper part of the heart\n",
        "for i in range(n//2, n, 2):\n",
        "    # print first spaces\n",
        "    for j in range(1, n-i ,2):\n",
        "        print(\" \", end=\"\")\n",
        "    # print first stars\n",
        "    for j in range(1, i+1, 1):\n",
        "        print(\"*\", end=\"\")\n",
        "    # print second spaces\n",
        "    for j in range(1, n-i+1, 1):\n",
        "        print(\" \", end=\"\")\n",
        "    # print second stars\n",
        "    for j in range(1, i+1, 1):\n",
        "        print(\"*\", end=\"\")\n",
        "    print()\n",
        "\n",
        "# lower part\n",
        "for i in range(n,0,-1):\n",
        "    for j in range(i, n, 1):\n",
        "        print(\" \", end=\"\")\n",
        "    for j in range(1, i*2, 1):\n",
        "        print(\"*\", end=\"\")\n",
        "    print()\n"
      ],
      "metadata": {
        "colab": {
          "base_uri": "https://localhost:8080/"
        },
        "id": "KX7kcSK6k2w6",
        "outputId": "443c9c01-4560-4e81-c155-bf9e6e0ad257"
      },
      "execution_count": 120,
      "outputs": [
        {
          "output_type": "stream",
          "name": "stdout",
          "text": [
            " ***   ***\n",
            "***** *****\n",
            "***********\n",
            " *********\n",
            "  *******\n",
            "   *****\n",
            "    ***\n",
            "     *\n"
          ]
        }
      ]
    },
    {
      "cell_type": "code",
      "source": [
        "#50\n",
        "# heart pattern \n",
        "n = 6\n",
        "\n",
        "# upper part of the heart\n",
        "for i in range(n//2, n, 2):\n",
        "    # print first spaces\n",
        "    for j in range(1, n-i ,2):\n",
        "        print(\" \", end=\"\")\n",
        "    # print first stars\n",
        "    for j in range(1, i+1, 1):\n",
        "        print(\"*\", end=\"\")\n",
        "    # print second spaces\n",
        "    for j in range(1, n-i+1, 1):\n",
        "        print(\" \", end=\"\")\n",
        "    # print second stars\n",
        "    for j in range(1, i+1, 1):\n",
        "        print(\"*\", end=\"\")\n",
        "    print()\n",
        "\n",
        "# lower part\n",
        "for i in range(n,0,-1):\n",
        "    for j in range(i, n, 1):\n",
        "        print(\" \", end=\"\")\n",
        "    for j in range(1, i*2, 1):\n",
        "        print(\"*\", end=\"\")\n",
        "    print()\n"
      ],
      "metadata": {
        "colab": {
          "base_uri": "https://localhost:8080/"
        },
        "id": "skKG76Q9k3AZ",
        "outputId": "66a40103-036d-43e0-bbe4-3c312b18b03f"
      },
      "execution_count": 121,
      "outputs": [
        {
          "output_type": "stream",
          "name": "stdout",
          "text": [
            " ***   ***\n",
            "***** *****\n",
            "***********\n",
            " *********\n",
            "  *******\n",
            "   *****\n",
            "    ***\n",
            "     *\n"
          ]
        }
      ]
    },
    {
      "cell_type": "code",
      "source": [
        "#50\n",
        "# heart pattern \n",
        "n = 6\n",
        "\n",
        "# upper part of the heart\n",
        "for i in range(n//2, n, 2):\n",
        "    # print first spaces\n",
        "    for j in range(1, n-i ,2):\n",
        "        print(\" \", end=\"\")\n",
        "    # print first stars\n",
        "    for j in range(1, i+1, 1):\n",
        "        print(\"*\", end=\"\")\n",
        "    # print second spaces\n",
        "    for j in range(1, n-i+1, 1):\n",
        "        print(\" \", end=\"\")\n",
        "    # print second stars\n",
        "    for j in range(1, i+1, 1):\n",
        "        print(\"*\", end=\"\")\n",
        "    print()\n",
        "\n",
        "# lower part\n",
        "for i in range(n,0,-1):\n",
        "    for j in range(i, n, 1):\n",
        "        print(\" \", end=\"\")\n",
        "    for j in range(1, i*2, 1):\n",
        "        print(\"*\", end=\"\")\n",
        "    print()\n"
      ],
      "metadata": {
        "colab": {
          "base_uri": "https://localhost:8080/"
        },
        "id": "-rE7Ijwwk3RB",
        "outputId": "d99afdd3-78a2-47be-ec8f-d59184cbe91f"
      },
      "execution_count": 122,
      "outputs": [
        {
          "output_type": "stream",
          "name": "stdout",
          "text": [
            " ***   ***\n",
            "***** *****\n",
            "***********\n",
            " *********\n",
            "  *******\n",
            "   *****\n",
            "    ***\n",
            "     *\n"
          ]
        }
      ]
    },
    {
      "cell_type": "code",
      "source": [
        "#50\n",
        "# heart pattern \n",
        "n = 6\n",
        "\n",
        "# upper part of the heart\n",
        "for i in range(n//2, n, 2):\n",
        "    # print first spaces\n",
        "    for j in range(1, n-i ,2):\n",
        "        print(\" \", end=\"\")\n",
        "    # print first stars\n",
        "    for j in range(1, i+1, 1):\n",
        "        print(\"*\", end=\"\")\n",
        "    # print second spaces\n",
        "    for j in range(1, n-i+1, 1):\n",
        "        print(\" \", end=\"\")\n",
        "    # print second stars\n",
        "    for j in range(1, i+1, 1):\n",
        "        print(\"*\", end=\"\")\n",
        "    print()\n",
        "\n",
        "# lower part\n",
        "for i in range(n,0,-1):\n",
        "    for j in range(i, n, 1):\n",
        "        print(\" \", end=\"\")\n",
        "    for j in range(1, i*2, 1):\n",
        "        print(\"*\", end=\"\")\n",
        "    print()\n"
      ],
      "metadata": {
        "colab": {
          "base_uri": "https://localhost:8080/"
        },
        "id": "DDZ5PEL0k3hS",
        "outputId": "9e397d5a-911f-4b70-d257-0dc0557835fa"
      },
      "execution_count": 123,
      "outputs": [
        {
          "output_type": "stream",
          "name": "stdout",
          "text": [
            " ***   ***\n",
            "***** *****\n",
            "***********\n",
            " *********\n",
            "  *******\n",
            "   *****\n",
            "    ***\n",
            "     *\n"
          ]
        }
      ]
    },
    {
      "cell_type": "code",
      "source": [
        "#50\n",
        "# heart pattern \n",
        "n = 6\n",
        "\n",
        "# upper part of the heart\n",
        "for i in range(n//2, n, 2):\n",
        "    # print first spaces\n",
        "    for j in range(1, n-i ,2):\n",
        "        print(\" \", end=\"\")\n",
        "    # print first stars\n",
        "    for j in range(1, i+1, 1):\n",
        "        print(\"*\", end=\"\")\n",
        "    # print second spaces\n",
        "    for j in range(1, n-i+1, 1):\n",
        "        print(\" \", end=\"\")\n",
        "    # print second stars\n",
        "    for j in range(1, i+1, 1):\n",
        "        print(\"*\", end=\"\")\n",
        "    print()\n",
        "\n",
        "# lower part\n",
        "for i in range(n,0,-1):\n",
        "    for j in range(i, n, 1):\n",
        "        print(\" \", end=\"\")\n",
        "    for j in range(1, i*2, 1):\n",
        "        print(\"*\", end=\"\")\n",
        "    print()\n"
      ],
      "metadata": {
        "colab": {
          "base_uri": "https://localhost:8080/"
        },
        "id": "cozsH6Ftk3xn",
        "outputId": "52f42fad-7146-43b3-e280-0102bdbf8537"
      },
      "execution_count": 124,
      "outputs": [
        {
          "output_type": "stream",
          "name": "stdout",
          "text": [
            " ***   ***\n",
            "***** *****\n",
            "***********\n",
            " *********\n",
            "  *******\n",
            "   *****\n",
            "    ***\n",
            "     *\n"
          ]
        }
      ]
    },
    {
      "cell_type": "code",
      "source": [
        "#50\n",
        "# heart pattern \n",
        "n = 6\n",
        "\n",
        "# upper part of the heart\n",
        "for i in range(n//2, n, 2):\n",
        "    # print first spaces\n",
        "    for j in range(1, n-i ,2):\n",
        "        print(\" \", end=\"\")\n",
        "    # print first stars\n",
        "    for j in range(1, i+1, 1):\n",
        "        print(\"*\", end=\"\")\n",
        "    # print second spaces\n",
        "    for j in range(1, n-i+1, 1):\n",
        "        print(\" \", end=\"\")\n",
        "    # print second stars\n",
        "    for j in range(1, i+1, 1):\n",
        "        print(\"*\", end=\"\")\n",
        "    print()\n",
        "\n",
        "# lower part\n",
        "for i in range(n,0,-1):\n",
        "    for j in range(i, n, 1):\n",
        "        print(\" \", end=\"\")\n",
        "    for j in range(1, i*2, 1):\n",
        "        print(\"*\", end=\"\")\n",
        "    print()\n"
      ],
      "metadata": {
        "colab": {
          "base_uri": "https://localhost:8080/"
        },
        "id": "PyQAsEHDk4A-",
        "outputId": "bbe1e420-1e2a-4900-d1ad-36a44eba2b9b"
      },
      "execution_count": 125,
      "outputs": [
        {
          "output_type": "stream",
          "name": "stdout",
          "text": [
            " ***   ***\n",
            "***** *****\n",
            "***********\n",
            " *********\n",
            "  *******\n",
            "   *****\n",
            "    ***\n",
            "     *\n"
          ]
        }
      ]
    },
    {
      "cell_type": "code",
      "source": [
        "#50\n",
        "# heart pattern \n",
        "n = 6\n",
        "\n",
        "# upper part of the heart\n",
        "for i in range(n//2, n, 2):\n",
        "    # print first spaces\n",
        "    for j in range(1, n-i ,2):\n",
        "        print(\" \", end=\"\")\n",
        "    # print first stars\n",
        "    for j in range(1, i+1, 1):\n",
        "        print(\"*\", end=\"\")\n",
        "    # print second spaces\n",
        "    for j in range(1, n-i+1, 1):\n",
        "        print(\" \", end=\"\")\n",
        "    # print second stars\n",
        "    for j in range(1, i+1, 1):\n",
        "        print(\"*\", end=\"\")\n",
        "    print()\n",
        "\n",
        "# lower part\n",
        "for i in range(n,0,-1):\n",
        "    for j in range(i, n, 1):\n",
        "        print(\" \", end=\"\")\n",
        "    for j in range(1, i*2, 1):\n",
        "        print(\"*\", end=\"\")\n",
        "    print()\n"
      ],
      "metadata": {
        "colab": {
          "base_uri": "https://localhost:8080/"
        },
        "id": "Fwv-ZX1Bk4QT",
        "outputId": "b4fcceb5-b4dd-405c-f130-c122d4b95f3f"
      },
      "execution_count": 126,
      "outputs": [
        {
          "output_type": "stream",
          "name": "stdout",
          "text": [
            " ***   ***\n",
            "***** *****\n",
            "***********\n",
            " *********\n",
            "  *******\n",
            "   *****\n",
            "    ***\n",
            "     *\n"
          ]
        }
      ]
    },
    {
      "cell_type": "code",
      "source": [
        "#50\n",
        "# heart pattern \n",
        "n = 6\n",
        "\n",
        "# upper part of the heart\n",
        "for i in range(n//2, n, 2):\n",
        "    # print first spaces\n",
        "    for j in range(1, n-i ,2):\n",
        "        print(\" \", end=\"\")\n",
        "    # print first stars\n",
        "    for j in range(1, i+1, 1):\n",
        "        print(\"*\", end=\"\")\n",
        "    # print second spaces\n",
        "    for j in range(1, n-i+1, 1):\n",
        "        print(\" \", end=\"\")\n",
        "    # print second stars\n",
        "    for j in range(1, i+1, 1):\n",
        "        print(\"*\", end=\"\")\n",
        "    print()\n",
        "\n",
        "# lower part\n",
        "for i in range(n,0,-1):\n",
        "    for j in range(i, n, 1):\n",
        "        print(\" \", end=\"\")\n",
        "    for j in range(1, i*2, 1):\n",
        "        print(\"*\", end=\"\")\n",
        "    print()\n"
      ],
      "metadata": {
        "colab": {
          "base_uri": "https://localhost:8080/"
        },
        "id": "saSNFUzSk4le",
        "outputId": "aceebeed-2344-4dcf-d1e0-d71711d98d02"
      },
      "execution_count": 127,
      "outputs": [
        {
          "output_type": "stream",
          "name": "stdout",
          "text": [
            " ***   ***\n",
            "***** *****\n",
            "***********\n",
            " *********\n",
            "  *******\n",
            "   *****\n",
            "    ***\n",
            "     *\n"
          ]
        }
      ]
    },
    {
      "cell_type": "code",
      "source": [
        "#50\n",
        "# heart pattern \n",
        "n = 6\n",
        "\n",
        "# upper part of the heart\n",
        "for i in range(n//2, n, 2):\n",
        "    # print first spaces\n",
        "    for j in range(1, n-i ,2):\n",
        "        print(\" \", end=\"\")\n",
        "    # print first stars\n",
        "    for j in range(1, i+1, 1):\n",
        "        print(\"*\", end=\"\")\n",
        "    # print second spaces\n",
        "    for j in range(1, n-i+1, 1):\n",
        "        print(\" \", end=\"\")\n",
        "    # print second stars\n",
        "    for j in range(1, i+1, 1):\n",
        "        print(\"*\", end=\"\")\n",
        "    print()\n",
        "\n",
        "# lower part\n",
        "for i in range(n,0,-1):\n",
        "    for j in range(i, n, 1):\n",
        "        print(\" \", end=\"\")\n",
        "    for j in range(1, i*2, 1):\n",
        "        print(\"*\", end=\"\")\n",
        "    print()\n"
      ],
      "metadata": {
        "colab": {
          "base_uri": "https://localhost:8080/"
        },
        "id": "fJGzgQX6k42Y",
        "outputId": "b75ac1f6-4f71-4c41-81f4-2ed9a5b68629"
      },
      "execution_count": 128,
      "outputs": [
        {
          "output_type": "stream",
          "name": "stdout",
          "text": [
            " ***   ***\n",
            "***** *****\n",
            "***********\n",
            " *********\n",
            "  *******\n",
            "   *****\n",
            "    ***\n",
            "     *\n"
          ]
        }
      ]
    },
    {
      "cell_type": "code",
      "source": [
        "#50\n",
        "# heart pattern \n",
        "n = 6\n",
        "\n",
        "# upper part of the heart\n",
        "for i in range(n//2, n, 2):\n",
        "    # print first spaces\n",
        "    for j in range(1, n-i ,2):\n",
        "        print(\" \", end=\"\")\n",
        "    # print first stars\n",
        "    for j in range(1, i+1, 1):\n",
        "        print(\"*\", end=\"\")\n",
        "    # print second spaces\n",
        "    for j in range(1, n-i+1, 1):\n",
        "        print(\" \", end=\"\")\n",
        "    # print second stars\n",
        "    for j in range(1, i+1, 1):\n",
        "        print(\"*\", end=\"\")\n",
        "    print()\n",
        "\n",
        "# lower part\n",
        "for i in range(n,0,-1):\n",
        "    for j in range(i, n, 1):\n",
        "        print(\" \", end=\"\")\n",
        "    for j in range(1, i*2, 1):\n",
        "        print(\"*\", end=\"\")\n",
        "    print()\n"
      ],
      "metadata": {
        "colab": {
          "base_uri": "https://localhost:8080/"
        },
        "id": "d9inih4Dk5ji",
        "outputId": "e2b67ae6-000d-48a0-bd3c-abce164dfae6"
      },
      "execution_count": 129,
      "outputs": [
        {
          "output_type": "stream",
          "name": "stdout",
          "text": [
            " ***   ***\n",
            "***** *****\n",
            "***********\n",
            " *********\n",
            "  *******\n",
            "   *****\n",
            "    ***\n",
            "     *\n"
          ]
        }
      ]
    },
    {
      "cell_type": "code",
      "source": [
        "#50\n",
        "# heart pattern \n",
        "n = 6\n",
        "\n",
        "# upper part of the heart\n",
        "for i in range(n//2, n, 2):\n",
        "    # print first spaces\n",
        "    for j in range(1, n-i ,2):\n",
        "        print(\" \", end=\"\")\n",
        "    # print first stars\n",
        "    for j in range(1, i+1, 1):\n",
        "        print(\"*\", end=\"\")\n",
        "    # print second spaces\n",
        "    for j in range(1, n-i+1, 1):\n",
        "        print(\" \", end=\"\")\n",
        "    # print second stars\n",
        "    for j in range(1, i+1, 1):\n",
        "        print(\"*\", end=\"\")\n",
        "    print()\n",
        "\n",
        "# lower part\n",
        "for i in range(n,0,-1):\n",
        "    for j in range(i, n, 1):\n",
        "        print(\" \", end=\"\")\n",
        "    for j in range(1, i*2, 1):\n",
        "        print(\"*\", end=\"\")\n",
        "    print()\n"
      ],
      "metadata": {
        "colab": {
          "base_uri": "https://localhost:8080/"
        },
        "id": "eWPeuc3tk5zp",
        "outputId": "b7a99055-194f-45a9-f190-4327d2e8ea43"
      },
      "execution_count": 130,
      "outputs": [
        {
          "output_type": "stream",
          "name": "stdout",
          "text": [
            " ***   ***\n",
            "***** *****\n",
            "***********\n",
            " *********\n",
            "  *******\n",
            "   *****\n",
            "    ***\n",
            "     *\n"
          ]
        }
      ]
    },
    {
      "cell_type": "code",
      "source": [
        "#50\n",
        "# heart pattern \n",
        "n = 6\n",
        "\n",
        "# upper part of the heart\n",
        "for i in range(n//2, n, 2):\n",
        "    # print first spaces\n",
        "    for j in range(1, n-i ,2):\n",
        "        print(\" \", end=\"\")\n",
        "    # print first stars\n",
        "    for j in range(1, i+1, 1):\n",
        "        print(\"*\", end=\"\")\n",
        "    # print second spaces\n",
        "    for j in range(1, n-i+1, 1):\n",
        "        print(\" \", end=\"\")\n",
        "    # print second stars\n",
        "    for j in range(1, i+1, 1):\n",
        "        print(\"*\", end=\"\")\n",
        "    print()\n",
        "\n",
        "# lower part\n",
        "for i in range(n,0,-1):\n",
        "    for j in range(i, n, 1):\n",
        "        print(\" \", end=\"\")\n",
        "    for j in range(1, i*2, 1):\n",
        "        print(\"*\", end=\"\")\n",
        "    print()\n"
      ],
      "metadata": {
        "colab": {
          "base_uri": "https://localhost:8080/"
        },
        "id": "aeD4dJCpk6EE",
        "outputId": "b530f6b3-0077-434e-ce42-7ea62cf1dbf8"
      },
      "execution_count": 131,
      "outputs": [
        {
          "output_type": "stream",
          "name": "stdout",
          "text": [
            " ***   ***\n",
            "***** *****\n",
            "***********\n",
            " *********\n",
            "  *******\n",
            "   *****\n",
            "    ***\n",
            "     *\n"
          ]
        }
      ]
    },
    {
      "cell_type": "code",
      "source": [
        "#50\n",
        "# heart pattern \n",
        "n = 6\n",
        "\n",
        "# upper part of the heart\n",
        "for i in range(n//2, n, 2):\n",
        "    # print first spaces\n",
        "    for j in range(1, n-i ,2):\n",
        "        print(\" \", end=\"\")\n",
        "    # print first stars\n",
        "    for j in range(1, i+1, 1):\n",
        "        print(\"*\", end=\"\")\n",
        "    # print second spaces\n",
        "    for j in range(1, n-i+1, 1):\n",
        "        print(\" \", end=\"\")\n",
        "    # print second stars\n",
        "    for j in range(1, i+1, 1):\n",
        "        print(\"*\", end=\"\")\n",
        "    print()\n",
        "\n",
        "# lower part\n",
        "for i in range(n,0,-1):\n",
        "    for j in range(i, n, 1):\n",
        "        print(\" \", end=\"\")\n",
        "    for j in range(1, i*2, 1):\n",
        "        print(\"*\", end=\"\")\n",
        "    print()\n"
      ],
      "metadata": {
        "colab": {
          "base_uri": "https://localhost:8080/"
        },
        "id": "0m6B1Ygxk6UM",
        "outputId": "9e53c097-7e4c-4ce4-e22e-5874063e50e5"
      },
      "execution_count": 132,
      "outputs": [
        {
          "output_type": "stream",
          "name": "stdout",
          "text": [
            " ***   ***\n",
            "***** *****\n",
            "***********\n",
            " *********\n",
            "  *******\n",
            "   *****\n",
            "    ***\n",
            "     *\n"
          ]
        }
      ]
    },
    {
      "cell_type": "code",
      "source": [
        "#50\n",
        "# heart pattern \n",
        "n = 6\n",
        "\n",
        "# upper part of the heart\n",
        "for i in range(n//2, n, 2):\n",
        "    # print first spaces\n",
        "    for j in range(1, n-i ,2):\n",
        "        print(\" \", end=\"\")\n",
        "    # print first stars\n",
        "    for j in range(1, i+1, 1):\n",
        "        print(\"*\", end=\"\")\n",
        "    # print second spaces\n",
        "    for j in range(1, n-i+1, 1):\n",
        "        print(\" \", end=\"\")\n",
        "    # print second stars\n",
        "    for j in range(1, i+1, 1):\n",
        "        print(\"*\", end=\"\")\n",
        "    print()\n",
        "\n",
        "# lower part\n",
        "for i in range(n,0,-1):\n",
        "    for j in range(i, n, 1):\n",
        "        print(\" \", end=\"\")\n",
        "    for j in range(1, i*2, 1):\n",
        "        print(\"*\", end=\"\")\n",
        "    print()\n"
      ],
      "metadata": {
        "colab": {
          "base_uri": "https://localhost:8080/"
        },
        "id": "GrALKdVxk6j3",
        "outputId": "7b56a917-9bab-44e3-97d8-0b198e1917dc"
      },
      "execution_count": 133,
      "outputs": [
        {
          "output_type": "stream",
          "name": "stdout",
          "text": [
            " ***   ***\n",
            "***** *****\n",
            "***********\n",
            " *********\n",
            "  *******\n",
            "   *****\n",
            "    ***\n",
            "     *\n"
          ]
        }
      ]
    },
    {
      "cell_type": "code",
      "source": [
        "#50\n",
        "# heart pattern \n",
        "n = 6\n",
        "\n",
        "# upper part of the heart\n",
        "for i in range(n//2, n, 2):\n",
        "    # print first spaces\n",
        "    for j in range(1, n-i ,2):\n",
        "        print(\" \", end=\"\")\n",
        "    # print first stars\n",
        "    for j in range(1, i+1, 1):\n",
        "        print(\"*\", end=\"\")\n",
        "    # print second spaces\n",
        "    for j in range(1, n-i+1, 1):\n",
        "        print(\" \", end=\"\")\n",
        "    # print second stars\n",
        "    for j in range(1, i+1, 1):\n",
        "        print(\"*\", end=\"\")\n",
        "    print()\n",
        "\n",
        "# lower part\n",
        "for i in range(n,0,-1):\n",
        "    for j in range(i, n, 1):\n",
        "        print(\" \", end=\"\")\n",
        "    for j in range(1, i*2, 1):\n",
        "        print(\"*\", end=\"\")\n",
        "    print()\n"
      ],
      "metadata": {
        "colab": {
          "base_uri": "https://localhost:8080/"
        },
        "id": "MEbLRrRImB8e",
        "outputId": "15b9386e-2967-406f-abb5-d06b4ba52cd1"
      },
      "execution_count": 134,
      "outputs": [
        {
          "output_type": "stream",
          "name": "stdout",
          "text": [
            " ***   ***\n",
            "***** *****\n",
            "***********\n",
            " *********\n",
            "  *******\n",
            "   *****\n",
            "    ***\n",
            "     *\n"
          ]
        }
      ]
    },
    {
      "cell_type": "code",
      "source": [
        "#50\n",
        "# heart pattern \n",
        "n = 6\n",
        "\n",
        "# upper part of the heart\n",
        "for i in range(n//2, n, 2):\n",
        "    # print first spaces\n",
        "    for j in range(1, n-i ,2):\n",
        "        print(\" \", end=\"\")\n",
        "    # print first stars\n",
        "    for j in range(1, i+1, 1):\n",
        "        print(\"*\", end=\"\")\n",
        "    # print second spaces\n",
        "    for j in range(1, n-i+1, 1):\n",
        "        print(\" \", end=\"\")\n",
        "    # print second stars\n",
        "    for j in range(1, i+1, 1):\n",
        "        print(\"*\", end=\"\")\n",
        "    print()\n",
        "\n",
        "# lower part\n",
        "for i in range(n,0,-1):\n",
        "    for j in range(i, n, 1):\n",
        "        print(\" \", end=\"\")\n",
        "    for j in range(1, i*2, 1):\n",
        "        print(\"*\", end=\"\")\n",
        "    print()\n"
      ],
      "metadata": {
        "colab": {
          "base_uri": "https://localhost:8080/"
        },
        "id": "WM9cREucmCLy",
        "outputId": "2d379915-4c0b-4e51-ff17-b8d7775fe90f"
      },
      "execution_count": 135,
      "outputs": [
        {
          "output_type": "stream",
          "name": "stdout",
          "text": [
            " ***   ***\n",
            "***** *****\n",
            "***********\n",
            " *********\n",
            "  *******\n",
            "   *****\n",
            "    ***\n",
            "     *\n"
          ]
        }
      ]
    },
    {
      "cell_type": "code",
      "source": [
        "#50\n",
        "# heart pattern \n",
        "n = 6\n",
        "\n",
        "# upper part of the heart\n",
        "for i in range(n//2, n, 2):\n",
        "    # print first spaces\n",
        "    for j in range(1, n-i ,2):\n",
        "        print(\" \", end=\"\")\n",
        "    # print first stars\n",
        "    for j in range(1, i+1, 1):\n",
        "        print(\"*\", end=\"\")\n",
        "    # print second spaces\n",
        "    for j in range(1, n-i+1, 1):\n",
        "        print(\" \", end=\"\")\n",
        "    # print second stars\n",
        "    for j in range(1, i+1, 1):\n",
        "        print(\"*\", end=\"\")\n",
        "    print()\n",
        "\n",
        "# lower part\n",
        "for i in range(n,0,-1):\n",
        "    for j in range(i, n, 1):\n",
        "        print(\" \", end=\"\")\n",
        "    for j in range(1, i*2, 1):\n",
        "        print(\"*\", end=\"\")\n",
        "    print()\n"
      ],
      "metadata": {
        "colab": {
          "base_uri": "https://localhost:8080/"
        },
        "id": "CgSkjwhDmGY9",
        "outputId": "563bc23e-9070-430b-9fa4-0764a23be871"
      },
      "execution_count": 136,
      "outputs": [
        {
          "output_type": "stream",
          "name": "stdout",
          "text": [
            " ***   ***\n",
            "***** *****\n",
            "***********\n",
            " *********\n",
            "  *******\n",
            "   *****\n",
            "    ***\n",
            "     *\n"
          ]
        }
      ]
    },
    {
      "cell_type": "code",
      "source": [
        "#50\n",
        "# heart pattern \n",
        "n = 6\n",
        "\n",
        "# upper part of the heart\n",
        "for i in range(n//2, n, 2):\n",
        "    # print first spaces\n",
        "    for j in range(1, n-i ,2):\n",
        "        print(\" \", end=\"\")\n",
        "    # print first stars\n",
        "    for j in range(1, i+1, 1):\n",
        "        print(\"*\", end=\"\")\n",
        "    # print second spaces\n",
        "    for j in range(1, n-i+1, 1):\n",
        "        print(\" \", end=\"\")\n",
        "    # print second stars\n",
        "    for j in range(1, i+1, 1):\n",
        "        print(\"*\", end=\"\")\n",
        "    print()\n",
        "\n",
        "# lower part\n",
        "for i in range(n,0,-1):\n",
        "    for j in range(i, n, 1):\n",
        "        print(\" \", end=\"\")\n",
        "    for j in range(1, i*2, 1):\n",
        "        print(\"*\", end=\"\")\n",
        "    print()\n"
      ],
      "metadata": {
        "colab": {
          "base_uri": "https://localhost:8080/"
        },
        "id": "DFabQeh7mGti",
        "outputId": "52c15e56-f6a9-4258-b8a4-bfa17bbf93e0"
      },
      "execution_count": 137,
      "outputs": [
        {
          "output_type": "stream",
          "name": "stdout",
          "text": [
            " ***   ***\n",
            "***** *****\n",
            "***********\n",
            " *********\n",
            "  *******\n",
            "   *****\n",
            "    ***\n",
            "     *\n"
          ]
        }
      ]
    },
    {
      "cell_type": "code",
      "source": [
        "#50\n",
        "# heart pattern \n",
        "n = 6\n",
        "\n",
        "# upper part of the heart\n",
        "for i in range(n//2, n, 2):\n",
        "    # print first spaces\n",
        "    for j in range(1, n-i ,2):\n",
        "        print(\" \", end=\"\")\n",
        "    # print first stars\n",
        "    for j in range(1, i+1, 1):\n",
        "        print(\"*\", end=\"\")\n",
        "    # print second spaces\n",
        "    for j in range(1, n-i+1, 1):\n",
        "        print(\" \", end=\"\")\n",
        "    # print second stars\n",
        "    for j in range(1, i+1, 1):\n",
        "        print(\"*\", end=\"\")\n",
        "    print()\n",
        "\n",
        "# lower part\n",
        "for i in range(n,0,-1):\n",
        "    for j in range(i, n, 1):\n",
        "        print(\" \", end=\"\")\n",
        "    for j in range(1, i*2, 1):\n",
        "        print(\"*\", end=\"\")\n",
        "    print()\n"
      ],
      "metadata": {
        "colab": {
          "base_uri": "https://localhost:8080/"
        },
        "id": "35VyecCDmLEC",
        "outputId": "87c23a8d-b282-40c2-cb5d-d6f667652558"
      },
      "execution_count": 138,
      "outputs": [
        {
          "output_type": "stream",
          "name": "stdout",
          "text": [
            " ***   ***\n",
            "***** *****\n",
            "***********\n",
            " *********\n",
            "  *******\n",
            "   *****\n",
            "    ***\n",
            "     *\n"
          ]
        }
      ]
    },
    {
      "cell_type": "code",
      "source": [
        "#50\n",
        "# heart pattern \n",
        "n = 6\n",
        "\n",
        "# upper part of the heart\n",
        "for i in range(n//2, n, 2):\n",
        "    # print first spaces\n",
        "    for j in range(1, n-i ,2):\n",
        "        print(\" \", end=\"\")\n",
        "    # print first stars\n",
        "    for j in range(1, i+1, 1):\n",
        "        print(\"*\", end=\"\")\n",
        "    # print second spaces\n",
        "    for j in range(1, n-i+1, 1):\n",
        "        print(\" \", end=\"\")\n",
        "    # print second stars\n",
        "    for j in range(1, i+1, 1):\n",
        "        print(\"*\", end=\"\")\n",
        "    print()\n",
        "\n",
        "# lower part\n",
        "for i in range(n,0,-1):\n",
        "    for j in range(i, n, 1):\n",
        "        print(\" \", end=\"\")\n",
        "    for j in range(1, i*2, 1):\n",
        "        print(\"*\", end=\"\")\n",
        "    print()\n"
      ],
      "metadata": {
        "colab": {
          "base_uri": "https://localhost:8080/"
        },
        "id": "WVV_ieqMmLRf",
        "outputId": "bdd80432-59dd-423e-db68-468612447fba"
      },
      "execution_count": 139,
      "outputs": [
        {
          "output_type": "stream",
          "name": "stdout",
          "text": [
            " ***   ***\n",
            "***** *****\n",
            "***********\n",
            " *********\n",
            "  *******\n",
            "   *****\n",
            "    ***\n",
            "     *\n"
          ]
        }
      ]
    },
    {
      "cell_type": "code",
      "source": [
        "#50\n",
        "# heart pattern \n",
        "n = 6\n",
        "\n",
        "# upper part of the heart\n",
        "for i in range(n//2, n, 2):\n",
        "    # print first spaces\n",
        "    for j in range(1, n-i ,2):\n",
        "        print(\" \", end=\"\")\n",
        "    # print first stars\n",
        "    for j in range(1, i+1, 1):\n",
        "        print(\"*\", end=\"\")\n",
        "    # print second spaces\n",
        "    for j in range(1, n-i+1, 1):\n",
        "        print(\" \", end=\"\")\n",
        "    # print second stars\n",
        "    for j in range(1, i+1, 1):\n",
        "        print(\"*\", end=\"\")\n",
        "    print()\n",
        "\n",
        "# lower part\n",
        "for i in range(n,0,-1):\n",
        "    for j in range(i, n, 1):\n",
        "        print(\" \", end=\"\")\n",
        "    for j in range(1, i*2, 1):\n",
        "        print(\"*\", end=\"\")\n",
        "    print()\n"
      ],
      "metadata": {
        "colab": {
          "base_uri": "https://localhost:8080/"
        },
        "id": "lAZdxF13mLfm",
        "outputId": "feb4d5b7-9255-43a8-a971-9ea5caf92fdd"
      },
      "execution_count": 140,
      "outputs": [
        {
          "output_type": "stream",
          "name": "stdout",
          "text": [
            " ***   ***\n",
            "***** *****\n",
            "***********\n",
            " *********\n",
            "  *******\n",
            "   *****\n",
            "    ***\n",
            "     *\n"
          ]
        }
      ]
    },
    {
      "cell_type": "code",
      "source": [
        "#50\n",
        "# heart pattern \n",
        "n = 6\n",
        "\n",
        "# upper part of the heart\n",
        "for i in range(n//2, n, 2):\n",
        "    # print first spaces\n",
        "    for j in range(1, n-i ,2):\n",
        "        print(\" \", end=\"\")\n",
        "    # print first stars\n",
        "    for j in range(1, i+1, 1):\n",
        "        print(\"*\", end=\"\")\n",
        "    # print second spaces\n",
        "    for j in range(1, n-i+1, 1):\n",
        "        print(\" \", end=\"\")\n",
        "    # print second stars\n",
        "    for j in range(1, i+1, 1):\n",
        "        print(\"*\", end=\"\")\n",
        "    print()\n",
        "\n",
        "# lower part\n",
        "for i in range(n,0,-1):\n",
        "    for j in range(i, n, 1):\n",
        "        print(\" \", end=\"\")\n",
        "    for j in range(1, i*2, 1):\n",
        "        print(\"*\", end=\"\")\n",
        "    print()\n"
      ],
      "metadata": {
        "colab": {
          "base_uri": "https://localhost:8080/"
        },
        "id": "7jnPat9ImLvP",
        "outputId": "81622971-976b-4387-e0e8-d4463766a031"
      },
      "execution_count": 141,
      "outputs": [
        {
          "output_type": "stream",
          "name": "stdout",
          "text": [
            " ***   ***\n",
            "***** *****\n",
            "***********\n",
            " *********\n",
            "  *******\n",
            "   *****\n",
            "    ***\n",
            "     *\n"
          ]
        }
      ]
    },
    {
      "cell_type": "code",
      "source": [
        "#50\n",
        "# heart pattern \n",
        "n = 6\n",
        "\n",
        "# upper part of the heart\n",
        "for i in range(n//2, n, 2):\n",
        "    # print first spaces\n",
        "    for j in range(1, n-i ,2):\n",
        "        print(\" \", end=\"\")\n",
        "    # print first stars\n",
        "    for j in range(1, i+1, 1):\n",
        "        print(\"*\", end=\"\")\n",
        "    # print second spaces\n",
        "    for j in range(1, n-i+1, 1):\n",
        "        print(\" \", end=\"\")\n",
        "    # print second stars\n",
        "    for j in range(1, i+1, 1):\n",
        "        print(\"*\", end=\"\")\n",
        "    print()\n",
        "\n",
        "# lower part\n",
        "for i in range(n,0,-1):\n",
        "    for j in range(i, n, 1):\n",
        "        print(\" \", end=\"\")\n",
        "    for j in range(1, i*2, 1):\n",
        "        print(\"*\", end=\"\")\n",
        "    print()\n"
      ],
      "metadata": {
        "colab": {
          "base_uri": "https://localhost:8080/"
        },
        "id": "h8sRz6qkmPrC",
        "outputId": "c5e6dee6-748f-450b-b663-5a031431c5e3"
      },
      "execution_count": 142,
      "outputs": [
        {
          "output_type": "stream",
          "name": "stdout",
          "text": [
            " ***   ***\n",
            "***** *****\n",
            "***********\n",
            " *********\n",
            "  *******\n",
            "   *****\n",
            "    ***\n",
            "     *\n"
          ]
        }
      ]
    },
    {
      "cell_type": "code",
      "source": [
        "#50\n",
        "# heart pattern \n",
        "n = 6\n",
        "\n",
        "# upper part of the heart\n",
        "for i in range(n//2, n, 2):\n",
        "    # print first spaces\n",
        "    for j in range(1, n-i ,2):\n",
        "        print(\" \", end=\"\")\n",
        "    # print first stars\n",
        "    for j in range(1, i+1, 1):\n",
        "        print(\"*\", end=\"\")\n",
        "    # print second spaces\n",
        "    for j in range(1, n-i+1, 1):\n",
        "        print(\" \", end=\"\")\n",
        "    # print second stars\n",
        "    for j in range(1, i+1, 1):\n",
        "        print(\"*\", end=\"\")\n",
        "    print()\n",
        "\n",
        "# lower part\n",
        "for i in range(n,0,-1):\n",
        "    for j in range(i, n, 1):\n",
        "        print(\" \", end=\"\")\n",
        "    for j in range(1, i*2, 1):\n",
        "        print(\"*\", end=\"\")\n",
        "    print()\n"
      ],
      "metadata": {
        "colab": {
          "base_uri": "https://localhost:8080/"
        },
        "id": "NeAt2Y28mP4U",
        "outputId": "b6c1497f-574d-47f8-b8d7-6d385d834f79"
      },
      "execution_count": 143,
      "outputs": [
        {
          "output_type": "stream",
          "name": "stdout",
          "text": [
            " ***   ***\n",
            "***** *****\n",
            "***********\n",
            " *********\n",
            "  *******\n",
            "   *****\n",
            "    ***\n",
            "     *\n"
          ]
        }
      ]
    },
    {
      "cell_type": "code",
      "source": [
        "#50\n",
        "# heart pattern \n",
        "n = 6\n",
        "\n",
        "# upper part of the heart\n",
        "for i in range(n//2, n, 2):\n",
        "    # print first spaces\n",
        "    for j in range(1, n-i ,2):\n",
        "        print(\" \", end=\"\")\n",
        "    # print first stars\n",
        "    for j in range(1, i+1, 1):\n",
        "        print(\"*\", end=\"\")\n",
        "    # print second spaces\n",
        "    for j in range(1, n-i+1, 1):\n",
        "        print(\" \", end=\"\")\n",
        "    # print second stars\n",
        "    for j in range(1, i+1, 1):\n",
        "        print(\"*\", end=\"\")\n",
        "    print()\n",
        "\n",
        "# lower part\n",
        "for i in range(n,0,-1):\n",
        "    for j in range(i, n, 1):\n",
        "        print(\" \", end=\"\")\n",
        "    for j in range(1, i*2, 1):\n",
        "        print(\"*\", end=\"\")\n",
        "    print()\n"
      ],
      "metadata": {
        "colab": {
          "base_uri": "https://localhost:8080/"
        },
        "id": "7OnaCyYQmQFc",
        "outputId": "194cde42-b189-48ea-9363-e3b59697c0f4"
      },
      "execution_count": 144,
      "outputs": [
        {
          "output_type": "stream",
          "name": "stdout",
          "text": [
            " ***   ***\n",
            "***** *****\n",
            "***********\n",
            " *********\n",
            "  *******\n",
            "   *****\n",
            "    ***\n",
            "     *\n"
          ]
        }
      ]
    },
    {
      "cell_type": "code",
      "source": [
        "#50\n",
        "# heart pattern \n",
        "n = 6\n",
        "\n",
        "# upper part of the heart\n",
        "for i in range(n//2, n, 2):\n",
        "    # print first spaces\n",
        "    for j in range(1, n-i ,2):\n",
        "        print(\" \", end=\"\")\n",
        "    # print first stars\n",
        "    for j in range(1, i+1, 1):\n",
        "        print(\"*\", end=\"\")\n",
        "    # print second spaces\n",
        "    for j in range(1, n-i+1, 1):\n",
        "        print(\" \", end=\"\")\n",
        "    # print second stars\n",
        "    for j in range(1, i+1, 1):\n",
        "        print(\"*\", end=\"\")\n",
        "    print()\n",
        "\n",
        "# lower part\n",
        "for i in range(n,0,-1):\n",
        "    for j in range(i, n, 1):\n",
        "        print(\" \", end=\"\")\n",
        "    for j in range(1, i*2, 1):\n",
        "        print(\"*\", end=\"\")\n",
        "    print()\n"
      ],
      "metadata": {
        "colab": {
          "base_uri": "https://localhost:8080/"
        },
        "id": "-xjaM9IUmQTb",
        "outputId": "5ce83c32-d612-46ca-bbcb-bce5843da911"
      },
      "execution_count": 145,
      "outputs": [
        {
          "output_type": "stream",
          "name": "stdout",
          "text": [
            " ***   ***\n",
            "***** *****\n",
            "***********\n",
            " *********\n",
            "  *******\n",
            "   *****\n",
            "    ***\n",
            "     *\n"
          ]
        }
      ]
    },
    {
      "cell_type": "code",
      "source": [
        "#50\n",
        "# heart pattern \n",
        "n = 6\n",
        "\n",
        "# upper part of the heart\n",
        "for i in range(n//2, n, 2):\n",
        "    # print first spaces\n",
        "    for j in range(1, n-i ,2):\n",
        "        print(\" \", end=\"\")\n",
        "    # print first stars\n",
        "    for j in range(1, i+1, 1):\n",
        "        print(\"*\", end=\"\")\n",
        "    # print second spaces\n",
        "    for j in range(1, n-i+1, 1):\n",
        "        print(\" \", end=\"\")\n",
        "    # print second stars\n",
        "    for j in range(1, i+1, 1):\n",
        "        print(\"*\", end=\"\")\n",
        "    print()\n",
        "\n",
        "# lower part\n",
        "for i in range(n,0,-1):\n",
        "    for j in range(i, n, 1):\n",
        "        print(\" \", end=\"\")\n",
        "    for j in range(1, i*2, 1):\n",
        "        print(\"*\", end=\"\")\n",
        "    print()\n"
      ],
      "metadata": {
        "colab": {
          "base_uri": "https://localhost:8080/"
        },
        "id": "KZmazM7smQni",
        "outputId": "bcf63164-013b-453f-8fa9-3c652b0a4153"
      },
      "execution_count": 146,
      "outputs": [
        {
          "output_type": "stream",
          "name": "stdout",
          "text": [
            " ***   ***\n",
            "***** *****\n",
            "***********\n",
            " *********\n",
            "  *******\n",
            "   *****\n",
            "    ***\n",
            "     *\n"
          ]
        }
      ]
    },
    {
      "cell_type": "code",
      "source": [
        "#50\n",
        "# heart pattern \n",
        "n = 6\n",
        "\n",
        "# upper part of the heart\n",
        "for i in range(n//2, n, 2):\n",
        "    # print first spaces\n",
        "    for j in range(1, n-i ,2):\n",
        "        print(\" \", end=\"\")\n",
        "    # print first stars\n",
        "    for j in range(1, i+1, 1):\n",
        "        print(\"*\", end=\"\")\n",
        "    # print second spaces\n",
        "    for j in range(1, n-i+1, 1):\n",
        "        print(\" \", end=\"\")\n",
        "    # print second stars\n",
        "    for j in range(1, i+1, 1):\n",
        "        print(\"*\", end=\"\")\n",
        "    print()\n",
        "\n",
        "# lower part\n",
        "for i in range(n,0,-1):\n",
        "    for j in range(i, n, 1):\n",
        "        print(\" \", end=\"\")\n",
        "    for j in range(1, i*2, 1):\n",
        "        print(\"*\", end=\"\")\n",
        "    print()\n"
      ],
      "metadata": {
        "colab": {
          "base_uri": "https://localhost:8080/"
        },
        "id": "isx7Dn86mQ44",
        "outputId": "0230c396-66c9-48f5-9528-02275359d26b"
      },
      "execution_count": 147,
      "outputs": [
        {
          "output_type": "stream",
          "name": "stdout",
          "text": [
            " ***   ***\n",
            "***** *****\n",
            "***********\n",
            " *********\n",
            "  *******\n",
            "   *****\n",
            "    ***\n",
            "     *\n"
          ]
        }
      ]
    },
    {
      "cell_type": "code",
      "source": [
        "#50\n",
        "# heart pattern \n",
        "n = 6\n",
        "\n",
        "# upper part of the heart\n",
        "for i in range(n//2, n, 2):\n",
        "    # print first spaces\n",
        "    for j in range(1, n-i ,2):\n",
        "        print(\" \", end=\"\")\n",
        "    # print first stars\n",
        "    for j in range(1, i+1, 1):\n",
        "        print(\"*\", end=\"\")\n",
        "    # print second spaces\n",
        "    for j in range(1, n-i+1, 1):\n",
        "        print(\" \", end=\"\")\n",
        "    # print second stars\n",
        "    for j in range(1, i+1, 1):\n",
        "        print(\"*\", end=\"\")\n",
        "    print()\n",
        "\n",
        "# lower part\n",
        "for i in range(n,0,-1):\n",
        "    for j in range(i, n, 1):\n",
        "        print(\" \", end=\"\")\n",
        "    for j in range(1, i*2, 1):\n",
        "        print(\"*\", end=\"\")\n",
        "    print()\n"
      ],
      "metadata": {
        "colab": {
          "base_uri": "https://localhost:8080/"
        },
        "id": "evouzidmmYTa",
        "outputId": "46c24da7-7204-4a88-c537-ad2571249e6a"
      },
      "execution_count": 148,
      "outputs": [
        {
          "output_type": "stream",
          "name": "stdout",
          "text": [
            " ***   ***\n",
            "***** *****\n",
            "***********\n",
            " *********\n",
            "  *******\n",
            "   *****\n",
            "    ***\n",
            "     *\n"
          ]
        }
      ]
    },
    {
      "cell_type": "code",
      "source": [
        "#50\n",
        "# heart pattern \n",
        "n = 6\n",
        "\n",
        "# upper part of the heart\n",
        "for i in range(n//2, n, 2):\n",
        "    # print first spaces\n",
        "    for j in range(1, n-i ,2):\n",
        "        print(\" \", end=\"\")\n",
        "    # print first stars\n",
        "    for j in range(1, i+1, 1):\n",
        "        print(\"*\", end=\"\")\n",
        "    # print second spaces\n",
        "    for j in range(1, n-i+1, 1):\n",
        "        print(\" \", end=\"\")\n",
        "    # print second stars\n",
        "    for j in range(1, i+1, 1):\n",
        "        print(\"*\", end=\"\")\n",
        "    print()\n",
        "\n",
        "# lower part\n",
        "for i in range(n,0,-1):\n",
        "    for j in range(i, n, 1):\n",
        "        print(\" \", end=\"\")\n",
        "    for j in range(1, i*2, 1):\n",
        "        print(\"*\", end=\"\")\n",
        "    print()\n"
      ],
      "metadata": {
        "colab": {
          "base_uri": "https://localhost:8080/"
        },
        "id": "ycArSqe2mYg3",
        "outputId": "46e64d2d-e695-4876-e1a1-fe5900f285f4"
      },
      "execution_count": 149,
      "outputs": [
        {
          "output_type": "stream",
          "name": "stdout",
          "text": [
            " ***   ***\n",
            "***** *****\n",
            "***********\n",
            " *********\n",
            "  *******\n",
            "   *****\n",
            "    ***\n",
            "     *\n"
          ]
        }
      ]
    },
    {
      "cell_type": "code",
      "source": [
        "#50\n",
        "# heart pattern \n",
        "n = 6\n",
        "\n",
        "# upper part of the heart\n",
        "for i in range(n//2, n, 2):\n",
        "    # print first spaces\n",
        "    for j in range(1, n-i ,2):\n",
        "        print(\" \", end=\"\")\n",
        "    # print first stars\n",
        "    for j in range(1, i+1, 1):\n",
        "        print(\"*\", end=\"\")\n",
        "    # print second spaces\n",
        "    for j in range(1, n-i+1, 1):\n",
        "        print(\" \", end=\"\")\n",
        "    # print second stars\n",
        "    for j in range(1, i+1, 1):\n",
        "        print(\"*\", end=\"\")\n",
        "    print()\n",
        "\n",
        "# lower part\n",
        "for i in range(n,0,-1):\n",
        "    for j in range(i, n, 1):\n",
        "        print(\" \", end=\"\")\n",
        "    for j in range(1, i*2, 1):\n",
        "        print(\"*\", end=\"\")\n",
        "    print()\n"
      ],
      "metadata": {
        "colab": {
          "base_uri": "https://localhost:8080/"
        },
        "id": "VEpJbOnHmYt_",
        "outputId": "7c3a7e09-8af1-4d21-9f24-33a2943c70c9"
      },
      "execution_count": 150,
      "outputs": [
        {
          "output_type": "stream",
          "name": "stdout",
          "text": [
            " ***   ***\n",
            "***** *****\n",
            "***********\n",
            " *********\n",
            "  *******\n",
            "   *****\n",
            "    ***\n",
            "     *\n"
          ]
        }
      ]
    },
    {
      "cell_type": "code",
      "source": [
        "#50\n",
        "# heart pattern \n",
        "n = 6\n",
        "\n",
        "# upper part of the heart\n",
        "for i in range(n//2, n, 2):\n",
        "    # print first spaces\n",
        "    for j in range(1, n-i ,2):\n",
        "        print(\" \", end=\"\")\n",
        "    # print first stars\n",
        "    for j in range(1, i+1, 1):\n",
        "        print(\"*\", end=\"\")\n",
        "    # print second spaces\n",
        "    for j in range(1, n-i+1, 1):\n",
        "        print(\" \", end=\"\")\n",
        "    # print second stars\n",
        "    for j in range(1, i+1, 1):\n",
        "        print(\"*\", end=\"\")\n",
        "    print()\n",
        "\n",
        "# lower part\n",
        "for i in range(n,0,-1):\n",
        "    for j in range(i, n, 1):\n",
        "        print(\" \", end=\"\")\n",
        "    for j in range(1, i*2, 1):\n",
        "        print(\"*\", end=\"\")\n",
        "    print()\n"
      ],
      "metadata": {
        "colab": {
          "base_uri": "https://localhost:8080/"
        },
        "id": "RNrucVpqmY73",
        "outputId": "ef7bb84f-f6bf-4ba7-afcc-7af354d8c0ed"
      },
      "execution_count": 151,
      "outputs": [
        {
          "output_type": "stream",
          "name": "stdout",
          "text": [
            " ***   ***\n",
            "***** *****\n",
            "***********\n",
            " *********\n",
            "  *******\n",
            "   *****\n",
            "    ***\n",
            "     *\n"
          ]
        }
      ]
    },
    {
      "cell_type": "code",
      "source": [
        "#50\n",
        "# heart pattern \n",
        "n = 6\n",
        "\n",
        "# upper part of the heart\n",
        "for i in range(n//2, n, 2):\n",
        "    # print first spaces\n",
        "    for j in range(1, n-i ,2):\n",
        "        print(\" \", end=\"\")\n",
        "    # print first stars\n",
        "    for j in range(1, i+1, 1):\n",
        "        print(\"*\", end=\"\")\n",
        "    # print second spaces\n",
        "    for j in range(1, n-i+1, 1):\n",
        "        print(\" \", end=\"\")\n",
        "    # print second stars\n",
        "    for j in range(1, i+1, 1):\n",
        "        print(\"*\", end=\"\")\n",
        "    print()\n",
        "\n",
        "# lower part\n",
        "for i in range(n,0,-1):\n",
        "    for j in range(i, n, 1):\n",
        "        print(\" \", end=\"\")\n",
        "    for j in range(1, i*2, 1):\n",
        "        print(\"*\", end=\"\")\n",
        "    print()\n"
      ],
      "metadata": {
        "colab": {
          "base_uri": "https://localhost:8080/"
        },
        "id": "j2Ciz5ZLmZI2",
        "outputId": "080d001e-067f-4247-d37f-7283a58e2df6"
      },
      "execution_count": 152,
      "outputs": [
        {
          "output_type": "stream",
          "name": "stdout",
          "text": [
            " ***   ***\n",
            "***** *****\n",
            "***********\n",
            " *********\n",
            "  *******\n",
            "   *****\n",
            "    ***\n",
            "     *\n"
          ]
        }
      ]
    },
    {
      "cell_type": "code",
      "source": [
        "#50\n",
        "# heart pattern \n",
        "n = 6\n",
        "\n",
        "# upper part of the heart\n",
        "for i in range(n//2, n, 2):\n",
        "    # print first spaces\n",
        "    for j in range(1, n-i ,2):\n",
        "        print(\" \", end=\"\")\n",
        "    # print first stars\n",
        "    for j in range(1, i+1, 1):\n",
        "        print(\"*\", end=\"\")\n",
        "    # print second spaces\n",
        "    for j in range(1, n-i+1, 1):\n",
        "        print(\" \", end=\"\")\n",
        "    # print second stars\n",
        "    for j in range(1, i+1, 1):\n",
        "        print(\"*\", end=\"\")\n",
        "    print()\n",
        "\n",
        "# lower part\n",
        "for i in range(n,0,-1):\n",
        "    for j in range(i, n, 1):\n",
        "        print(\" \", end=\"\")\n",
        "    for j in range(1, i*2, 1):\n",
        "        print(\"*\", end=\"\")\n",
        "    print()\n"
      ],
      "metadata": {
        "colab": {
          "base_uri": "https://localhost:8080/"
        },
        "id": "IfpapE9kmaCv",
        "outputId": "2f153164-2412-4201-ae5d-95a948baec1d"
      },
      "execution_count": 153,
      "outputs": [
        {
          "output_type": "stream",
          "name": "stdout",
          "text": [
            " ***   ***\n",
            "***** *****\n",
            "***********\n",
            " *********\n",
            "  *******\n",
            "   *****\n",
            "    ***\n",
            "     *\n"
          ]
        }
      ]
    },
    {
      "cell_type": "code",
      "source": [
        "#50\n",
        "# heart pattern \n",
        "n = 6\n",
        "\n",
        "# upper part of the heart\n",
        "for i in range(n//2, n, 2):\n",
        "    # print first spaces\n",
        "    for j in range(1, n-i ,2):\n",
        "        print(\" \", end=\"\")\n",
        "    # print first stars\n",
        "    for j in range(1, i+1, 1):\n",
        "        print(\"*\", end=\"\")\n",
        "    # print second spaces\n",
        "    for j in range(1, n-i+1, 1):\n",
        "        print(\" \", end=\"\")\n",
        "    # print second stars\n",
        "    for j in range(1, i+1, 1):\n",
        "        print(\"*\", end=\"\")\n",
        "    print()\n",
        "\n",
        "# lower part\n",
        "for i in range(n,0,-1):\n",
        "    for j in range(i, n, 1):\n",
        "        print(\" \", end=\"\")\n",
        "    for j in range(1, i*2, 1):\n",
        "        print(\"*\", end=\"\")\n",
        "    print()\n"
      ],
      "metadata": {
        "colab": {
          "base_uri": "https://localhost:8080/"
        },
        "id": "glMcTBInmaQo",
        "outputId": "b01bca24-8da4-4474-d672-f3cf13e06fd8"
      },
      "execution_count": 154,
      "outputs": [
        {
          "output_type": "stream",
          "name": "stdout",
          "text": [
            " ***   ***\n",
            "***** *****\n",
            "***********\n",
            " *********\n",
            "  *******\n",
            "   *****\n",
            "    ***\n",
            "     *\n"
          ]
        }
      ]
    },
    {
      "cell_type": "code",
      "source": [
        "#50\n",
        "# heart pattern \n",
        "n = 6\n",
        "\n",
        "# upper part of the heart\n",
        "for i in range(n//2, n, 2):\n",
        "    # print first spaces\n",
        "    for j in range(1, n-i ,2):\n",
        "        print(\" \", end=\"\")\n",
        "    # print first stars\n",
        "    for j in range(1, i+1, 1):\n",
        "        print(\"*\", end=\"\")\n",
        "    # print second spaces\n",
        "    for j in range(1, n-i+1, 1):\n",
        "        print(\" \", end=\"\")\n",
        "    # print second stars\n",
        "    for j in range(1, i+1, 1):\n",
        "        print(\"*\", end=\"\")\n",
        "    print()\n",
        "\n",
        "# lower part\n",
        "for i in range(n,0,-1):\n",
        "    for j in range(i, n, 1):\n",
        "        print(\" \", end=\"\")\n",
        "    for j in range(1, i*2, 1):\n",
        "        print(\"*\", end=\"\")\n",
        "    print()\n"
      ],
      "metadata": {
        "colab": {
          "base_uri": "https://localhost:8080/"
        },
        "id": "4Mcd0aVdmafB",
        "outputId": "96f572ea-dd55-4249-ed92-22b7eb217bcb"
      },
      "execution_count": 155,
      "outputs": [
        {
          "output_type": "stream",
          "name": "stdout",
          "text": [
            " ***   ***\n",
            "***** *****\n",
            "***********\n",
            " *********\n",
            "  *******\n",
            "   *****\n",
            "    ***\n",
            "     *\n"
          ]
        }
      ]
    },
    {
      "cell_type": "code",
      "source": [
        "#50\n",
        "# heart pattern \n",
        "n = 6\n",
        "\n",
        "# upper part of the heart\n",
        "for i in range(n//2, n, 2):\n",
        "    # print first spaces\n",
        "    for j in range(1, n-i ,2):\n",
        "        print(\" \", end=\"\")\n",
        "    # print first stars\n",
        "    for j in range(1, i+1, 1):\n",
        "        print(\"*\", end=\"\")\n",
        "    # print second spaces\n",
        "    for j in range(1, n-i+1, 1):\n",
        "        print(\" \", end=\"\")\n",
        "    # print second stars\n",
        "    for j in range(1, i+1, 1):\n",
        "        print(\"*\", end=\"\")\n",
        "    print()\n",
        "\n",
        "# lower part\n",
        "for i in range(n,0,-1):\n",
        "    for j in range(i, n, 1):\n",
        "        print(\" \", end=\"\")\n",
        "    for j in range(1, i*2, 1):\n",
        "        print(\"*\", end=\"\")\n",
        "    print()\n"
      ],
      "metadata": {
        "colab": {
          "base_uri": "https://localhost:8080/"
        },
        "id": "i2YpFSU8mbt3",
        "outputId": "07483cf8-4775-4b1c-8a53-f26e065f4e9d"
      },
      "execution_count": 156,
      "outputs": [
        {
          "output_type": "stream",
          "name": "stdout",
          "text": [
            " ***   ***\n",
            "***** *****\n",
            "***********\n",
            " *********\n",
            "  *******\n",
            "   *****\n",
            "    ***\n",
            "     *\n"
          ]
        }
      ]
    },
    {
      "cell_type": "code",
      "source": [
        "#50\n",
        "# heart pattern \n",
        "n = 6\n",
        "\n",
        "# upper part of the heart\n",
        "for i in range(n//2, n, 2):\n",
        "    # print first spaces\n",
        "    for j in range(1, n-i ,2):\n",
        "        print(\" \", end=\"\")\n",
        "    # print first stars\n",
        "    for j in range(1, i+1, 1):\n",
        "        print(\"*\", end=\"\")\n",
        "    # print second spaces\n",
        "    for j in range(1, n-i+1, 1):\n",
        "        print(\" \", end=\"\")\n",
        "    # print second stars\n",
        "    for j in range(1, i+1, 1):\n",
        "        print(\"*\", end=\"\")\n",
        "    print()\n",
        "\n",
        "# lower part\n",
        "for i in range(n,0,-1):\n",
        "    for j in range(i, n, 1):\n",
        "        print(\" \", end=\"\")\n",
        "    for j in range(1, i*2, 1):\n",
        "        print(\"*\", end=\"\")\n",
        "    print()\n"
      ],
      "metadata": {
        "colab": {
          "base_uri": "https://localhost:8080/"
        },
        "id": "rvuTn11xmb-H",
        "outputId": "a834fc15-bb21-4a93-94ff-8624ef692bf4"
      },
      "execution_count": 157,
      "outputs": [
        {
          "output_type": "stream",
          "name": "stdout",
          "text": [
            " ***   ***\n",
            "***** *****\n",
            "***********\n",
            " *********\n",
            "  *******\n",
            "   *****\n",
            "    ***\n",
            "     *\n"
          ]
        }
      ]
    },
    {
      "cell_type": "code",
      "source": [
        "#50\n",
        "# heart pattern \n",
        "n = 6\n",
        "\n",
        "# upper part of the heart\n",
        "for i in range(n//2, n, 2):\n",
        "    # print first spaces\n",
        "    for j in range(1, n-i ,2):\n",
        "        print(\" \", end=\"\")\n",
        "    # print first stars\n",
        "    for j in range(1, i+1, 1):\n",
        "        print(\"*\", end=\"\")\n",
        "    # print second spaces\n",
        "    for j in range(1, n-i+1, 1):\n",
        "        print(\" \", end=\"\")\n",
        "    # print second stars\n",
        "    for j in range(1, i+1, 1):\n",
        "        print(\"*\", end=\"\")\n",
        "    print()\n",
        "\n",
        "# lower part\n",
        "for i in range(n,0,-1):\n",
        "    for j in range(i, n, 1):\n",
        "        print(\" \", end=\"\")\n",
        "    for j in range(1, i*2, 1):\n",
        "        print(\"*\", end=\"\")\n",
        "    print()\n"
      ],
      "metadata": {
        "id": "PH0PIHcXmgKj",
        "outputId": "62a5ebb5-9ed6-4af4-b8e5-d99390b52637",
        "colab": {
          "base_uri": "https://localhost:8080/"
        }
      },
      "execution_count": 158,
      "outputs": [
        {
          "output_type": "stream",
          "name": "stdout",
          "text": [
            " ***   ***\n",
            "***** *****\n",
            "***********\n",
            " *********\n",
            "  *******\n",
            "   *****\n",
            "    ***\n",
            "     *\n"
          ]
        }
      ]
    },
    {
      "cell_type": "code",
      "source": [
        "#50\n",
        "# heart pattern \n",
        "n = 6\n",
        "\n",
        "# upper part of the heart\n",
        "for i in range(n//2, n, 2):\n",
        "    # print first spaces\n",
        "    for j in range(1, n-i ,2):\n",
        "        print(\" \", end=\"\")\n",
        "    # print first stars\n",
        "    for j in range(1, i+1, 1):\n",
        "        print(\"*\", end=\"\")\n",
        "    # print second spaces\n",
        "    for j in range(1, n-i+1, 1):\n",
        "        print(\" \", end=\"\")\n",
        "    # print second stars\n",
        "    for j in range(1, i+1, 1):\n",
        "        print(\"*\", end=\"\")\n",
        "    print()\n",
        "\n",
        "# lower part\n",
        "for i in range(n,0,-1):\n",
        "    for j in range(i, n, 1):\n",
        "        print(\" \", end=\"\")\n",
        "    for j in range(1, i*2, 1):\n",
        "        print(\"*\", end=\"\")\n",
        "    print()\n"
      ],
      "metadata": {
        "id": "seu1va7TmgYy",
        "outputId": "d8ec3324-3c8a-4679-a46e-ea9ce8c2e34a",
        "colab": {
          "base_uri": "https://localhost:8080/"
        }
      },
      "execution_count": 159,
      "outputs": [
        {
          "output_type": "stream",
          "name": "stdout",
          "text": [
            " ***   ***\n",
            "***** *****\n",
            "***********\n",
            " *********\n",
            "  *******\n",
            "   *****\n",
            "    ***\n",
            "     *\n"
          ]
        }
      ]
    },
    {
      "cell_type": "code",
      "source": [
        "#50\n",
        "# heart pattern \n",
        "n = 6\n",
        "\n",
        "# upper part of the heart\n",
        "for i in range(n//2, n, 2):\n",
        "    # print first spaces\n",
        "    for j in range(1, n-i ,2):\n",
        "        print(\" \", end=\"\")\n",
        "    # print first stars\n",
        "    for j in range(1, i+1, 1):\n",
        "        print(\"*\", end=\"\")\n",
        "    # print second spaces\n",
        "    for j in range(1, n-i+1, 1):\n",
        "        print(\" \", end=\"\")\n",
        "    # print second stars\n",
        "    for j in range(1, i+1, 1):\n",
        "        print(\"*\", end=\"\")\n",
        "    print()\n",
        "\n",
        "# lower part\n",
        "for i in range(n,0,-1):\n",
        "    for j in range(i, n, 1):\n",
        "        print(\" \", end=\"\")\n",
        "    for j in range(1, i*2, 1):\n",
        "        print(\"*\", end=\"\")\n",
        "    print()\n"
      ],
      "metadata": {
        "id": "ODsz5dM9mgnr",
        "outputId": "518212ed-ffde-4d46-fa6b-1c81a05925c6",
        "colab": {
          "base_uri": "https://localhost:8080/"
        }
      },
      "execution_count": 160,
      "outputs": [
        {
          "output_type": "stream",
          "name": "stdout",
          "text": [
            " ***   ***\n",
            "***** *****\n",
            "***********\n",
            " *********\n",
            "  *******\n",
            "   *****\n",
            "    ***\n",
            "     *\n"
          ]
        }
      ]
    },
    {
      "cell_type": "code",
      "source": [
        "#50\n",
        "# heart pattern \n",
        "n = 6\n",
        "\n",
        "# upper part of the heart\n",
        "for i in range(n//2, n, 2):\n",
        "    # print first spaces\n",
        "    for j in range(1, n-i ,2):\n",
        "        print(\" \", end=\"\")\n",
        "    # print first stars\n",
        "    for j in range(1, i+1, 1):\n",
        "        print(\"*\", end=\"\")\n",
        "    # print second spaces\n",
        "    for j in range(1, n-i+1, 1):\n",
        "        print(\" \", end=\"\")\n",
        "    # print second stars\n",
        "    for j in range(1, i+1, 1):\n",
        "        print(\"*\", end=\"\")\n",
        "    print()\n",
        "\n",
        "# lower part\n",
        "for i in range(n,0,-1):\n",
        "    for j in range(i, n, 1):\n",
        "        print(\" \", end=\"\")\n",
        "    for j in range(1, i*2, 1):\n",
        "        print(\"*\", end=\"\")\n",
        "    print()\n"
      ],
      "metadata": {
        "id": "g0VGGqLLmg3U",
        "outputId": "ee9928a7-2a9d-485a-b2ec-1296f4934cbf",
        "colab": {
          "base_uri": "https://localhost:8080/"
        }
      },
      "execution_count": 161,
      "outputs": [
        {
          "output_type": "stream",
          "name": "stdout",
          "text": [
            " ***   ***\n",
            "***** *****\n",
            "***********\n",
            " *********\n",
            "  *******\n",
            "   *****\n",
            "    ***\n",
            "     *\n"
          ]
        }
      ]
    },
    {
      "cell_type": "code",
      "source": [
        "#50\n",
        "# heart pattern \n",
        "n = 6\n",
        "\n",
        "# upper part of the heart\n",
        "for i in range(n//2, n, 2):\n",
        "    # print first spaces\n",
        "    for j in range(1, n-i ,2):\n",
        "        print(\" \", end=\"\")\n",
        "    # print first stars\n",
        "    for j in range(1, i+1, 1):\n",
        "        print(\"*\", end=\"\")\n",
        "    # print second spaces\n",
        "    for j in range(1, n-i+1, 1):\n",
        "        print(\" \", end=\"\")\n",
        "    # print second stars\n",
        "    for j in range(1, i+1, 1):\n",
        "        print(\"*\", end=\"\")\n",
        "    print()\n",
        "\n",
        "# lower part\n",
        "for i in range(n,0,-1):\n",
        "    for j in range(i, n, 1):\n",
        "        print(\" \", end=\"\")\n",
        "    for j in range(1, i*2, 1):\n",
        "        print(\"*\", end=\"\")\n",
        "    print()\n"
      ],
      "metadata": {
        "id": "041l9sAImhHb",
        "outputId": "48510709-ebcd-4949-f47b-0447b507206c",
        "colab": {
          "base_uri": "https://localhost:8080/"
        }
      },
      "execution_count": 162,
      "outputs": [
        {
          "output_type": "stream",
          "name": "stdout",
          "text": [
            " ***   ***\n",
            "***** *****\n",
            "***********\n",
            " *********\n",
            "  *******\n",
            "   *****\n",
            "    ***\n",
            "     *\n"
          ]
        }
      ]
    },
    {
      "cell_type": "code",
      "source": [
        "#50\n",
        "# heart pattern \n",
        "n = 6\n",
        "\n",
        "# upper part of the heart\n",
        "for i in range(n//2, n, 2):\n",
        "    # print first spaces\n",
        "    for j in range(1, n-i ,2):\n",
        "        print(\" \", end=\"\")\n",
        "    # print first stars\n",
        "    for j in range(1, i+1, 1):\n",
        "        print(\"*\", end=\"\")\n",
        "    # print second spaces\n",
        "    for j in range(1, n-i+1, 1):\n",
        "        print(\" \", end=\"\")\n",
        "    # print second stars\n",
        "    for j in range(1, i+1, 1):\n",
        "        print(\"*\", end=\"\")\n",
        "    print()\n",
        "\n",
        "# lower part\n",
        "for i in range(n,0,-1):\n",
        "    for j in range(i, n, 1):\n",
        "        print(\" \", end=\"\")\n",
        "    for j in range(1, i*2, 1):\n",
        "        print(\"*\", end=\"\")\n",
        "    print()\n"
      ],
      "metadata": {
        "id": "5BiQuUCxmhWI",
        "outputId": "f1d2398b-5d1e-4778-8115-9cf624e59bbd",
        "colab": {
          "base_uri": "https://localhost:8080/"
        }
      },
      "execution_count": 163,
      "outputs": [
        {
          "output_type": "stream",
          "name": "stdout",
          "text": [
            " ***   ***\n",
            "***** *****\n",
            "***********\n",
            " *********\n",
            "  *******\n",
            "   *****\n",
            "    ***\n",
            "     *\n"
          ]
        }
      ]
    },
    {
      "cell_type": "code",
      "source": [],
      "metadata": {
        "id": "mnk40NdFmhlT"
      },
      "execution_count": null,
      "outputs": []
    }
  ]
}